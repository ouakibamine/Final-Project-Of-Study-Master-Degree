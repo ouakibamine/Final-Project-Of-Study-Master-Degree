{
 "cells": [
  {
   "cell_type": "code",
   "execution_count": 1,
   "metadata": {
    "id": "ioTC26YKAGcS"
   },
   "outputs": [],
   "source": [
    "import os\n",
    "import pandas as pd\n",
    "import numpy as np\n",
    "import matplotlib.pyplot as plt\n",
    "import seaborn as sns\n",
    "from sklearn.impute import SimpleImputer\n",
    "from sklearn.neighbors import LocalOutlierFactor\n",
    "from scipy.stats import probplot\n",
    "from scipy.stats import zscore "
   ]
  },
  {
   "cell_type": "code",
   "execution_count": 2,
   "metadata": {
    "id": "oamhuFeMAQON"
   },
   "outputs": [],
   "source": [
    "df=pd.read_csv(\"water_quality_classifier_mean_state.csv\")"
   ]
  },
  {
   "cell_type": "code",
   "execution_count": 3,
   "metadata": {
    "id": "M8iudlVwATEI"
   },
   "outputs": [],
   "source": [
    "import pandas as pd\n",
    "import numpy as np\n",
    "import tensorflow as tf\n",
    "from sklearn.model_selection import train_test_split\n",
    "from sklearn.preprocessing import LabelEncoder\n",
    "from tensorflow.keras.models import Sequential\n",
    "from tensorflow.keras.layers import Dense, Conv1D, MaxPooling1D, Flatten,Dropout\n",
    "from tensorflow.keras.utils import to_categorical\n",
    "\n",
    "# Charger les données\n",
    "data = df"
   ]
  },
  {
   "cell_type": "code",
   "execution_count": 4,
   "metadata": {
    "id": "jMZgLCUpAYcv"
   },
   "outputs": [],
   "source": [
    "\n",
    "cols_to_drop=[\"WQI clf\"]\n",
    "# Diviser les données en caractéristiques et cibles\n",
    "X =  data.drop(cols_to_drop, axis=1)\n",
    "y = data[\"WQI clf\"].values"
   ]
  },
  {
   "cell_type": "code",
   "execution_count": 5,
   "metadata": {
    "id": "f2Q3xFFMAcPL"
   },
   "outputs": [],
   "source": [
    "# Encoder les labels catégoriels\n",
    "label_encoder = LabelEncoder()\n",
    "y = label_encoder.fit_transform(y)"
   ]
  },
  {
   "cell_type": "code",
   "execution_count": 6,
   "metadata": {
    "colab": {
     "base_uri": "https://localhost:8080/"
    },
    "id": "sMmq3udRA7bP",
    "outputId": "4624b478-eb82-4fbc-c601-17af5154e585"
   },
   "outputs": [
    {
     "name": "stdout",
     "output_type": "stream",
     "text": [
      "Balancing the data by SMOTE - Oversampling of Minority level\n",
      "\n",
      "Before SMOTE Counter({2: 593, 0: 479, 1: 308, 3: 284, 4: 15})\n",
      "\n",
      "After SMOTE Counter({0: 593, 1: 593, 2: 593, 3: 593, 4: 593})\n"
     ]
    }
   ],
   "source": [
    "from imblearn.over_sampling import SMOTE\n",
    "from collections import Counter\n",
    "print('Balancing the data by SMOTE - Oversampling of Minority level\\n')\n",
    "smt = SMOTE()\n",
    "counter = Counter(y)\n",
    "print('Before SMOTE', counter)\n",
    "X,y = smt.fit_resample(X,y)\n",
    "counter = Counter(y)\n",
    "print('\\nAfter SMOTE', counter)"
   ]
  },
  {
   "cell_type": "code",
   "execution_count": 7,
   "metadata": {
    "id": "S8LGa3hJAfRs"
   },
   "outputs": [],
   "source": [
    "# Diviser les données en ensembles d'entraînement et de test\n",
    "X_train, X_test, y_train, y_test = train_test_split(X, y, test_size=0.2, random_state=42)"
   ]
  },
  {
   "cell_type": "code",
   "execution_count": 8,
   "metadata": {
    "id": "YUOyqx93AicJ"
   },
   "outputs": [],
   "source": [
    "# Redimensionner les données pour les convolutions 1D\n",
    "X_train = X_train.values.reshape(X_train.shape[0], X_train.shape[1], 1)\n",
    "X_test = X_test.values.reshape(X_test.shape[0], X_test.shape[1], 1)"
   ]
  },
  {
   "cell_type": "code",
   "execution_count": 9,
   "metadata": {
    "id": "-k5nTj77Amrg"
   },
   "outputs": [],
   "source": [
    "# Convertir les labels en one-hot encoding\n",
    "y_train = to_categorical(y_train)\n",
    "y_test = to_categorical(y_test)\n",
    "\n",
    "# Créer le modèle CNN\n",
    "model = Sequential()\n",
    "model.add(Conv1D(filters=32, kernel_size=2, activation='relu', input_shape=(X_train.shape[1], 1)))\n",
    "model.add(MaxPooling1D(pool_size=1))\n",
    "model.add(Conv1D(filters=64, kernel_size=2, activation='relu'))\n",
    "model.add(MaxPooling1D(pool_size=1))\n",
    "model.add(Conv1D(filters=128, kernel_size=2, activation='relu'))\n",
    "model.add(MaxPooling1D(pool_size=1))\n",
    "model.add(Conv1D(filters=256, kernel_size=2, activation='relu'))\n",
    "model.add(MaxPooling1D(pool_size=1))\n",
    "model.add(Flatten())\n",
    "model.add(Dense(units=256, activation='relu'))\n",
    "model.add(Dropout(0.1))\n",
    "model.add(Dense(y_train.shape[1], activation=\"softmax\"))\n",
    "\n",
    "# Compiler le modèle\n",
    "model.compile(loss=\"categorical_crossentropy\", optimizer=\"adam\", metrics=[\"accuracy\"])"
   ]
  },
  {
   "cell_type": "code",
   "execution_count": 13,
   "metadata": {
    "colab": {
     "base_uri": "https://localhost:8080/"
    },
    "id": "WfOC2OtDAslL",
    "outputId": "5638fd01-41ec-4662-895c-f391d04bee71"
   },
   "outputs": [
    {
     "name": "stdout",
     "output_type": "stream",
     "text": [
      "Epoch 1/150\n",
      "75/75 [==============================] - 2s 28ms/step - loss: 0.7536 - accuracy: 0.7846 - val_loss: 0.6083 - val_accuracy: 0.7808\n",
      "Epoch 2/150\n",
      "75/75 [==============================] - 2s 23ms/step - loss: 0.4627 - accuracy: 0.8196 - val_loss: 0.5318 - val_accuracy: 0.7943\n",
      "Epoch 3/150\n",
      "75/75 [==============================] - 1s 14ms/step - loss: 0.3600 - accuracy: 0.8453 - val_loss: 0.4741 - val_accuracy: 0.8347\n",
      "Epoch 4/150\n",
      "75/75 [==============================] - 1s 11ms/step - loss: 0.4171 - accuracy: 0.8326 - val_loss: 0.5008 - val_accuracy: 0.8212\n",
      "Epoch 5/150\n",
      "75/75 [==============================] - 1s 11ms/step - loss: 0.4659 - accuracy: 0.8217 - val_loss: 0.7340 - val_accuracy: 0.7437\n",
      "Epoch 6/150\n",
      "75/75 [==============================] - 1s 12ms/step - loss: 0.4055 - accuracy: 0.8314 - val_loss: 0.6391 - val_accuracy: 0.7622\n",
      "Epoch 7/150\n",
      "75/75 [==============================] - 1s 11ms/step - loss: 0.3994 - accuracy: 0.8339 - val_loss: 0.4814 - val_accuracy: 0.8229\n",
      "Epoch 8/150\n",
      "75/75 [==============================] - 1s 11ms/step - loss: 0.5579 - accuracy: 0.8128 - val_loss: 0.6108 - val_accuracy: 0.7572\n",
      "Epoch 9/150\n",
      "75/75 [==============================] - 1s 11ms/step - loss: 0.4172 - accuracy: 0.8259 - val_loss: 0.5941 - val_accuracy: 0.7875\n",
      "Epoch 10/150\n",
      "75/75 [==============================] - 1s 11ms/step - loss: 0.9077 - accuracy: 0.7774 - val_loss: 1.2296 - val_accuracy: 0.7454\n",
      "Epoch 11/150\n",
      "75/75 [==============================] - 1s 15ms/step - loss: 0.6437 - accuracy: 0.7677 - val_loss: 0.5953 - val_accuracy: 0.7943\n",
      "Epoch 12/150\n",
      "75/75 [==============================] - 1s 18ms/step - loss: 0.4378 - accuracy: 0.8234 - val_loss: 0.5113 - val_accuracy: 0.8314\n",
      "Epoch 13/150\n",
      "75/75 [==============================] - 1s 16ms/step - loss: 0.4036 - accuracy: 0.8398 - val_loss: 0.4968 - val_accuracy: 0.8128\n",
      "Epoch 14/150\n",
      "75/75 [==============================] - 1s 11ms/step - loss: 0.3779 - accuracy: 0.8457 - val_loss: 0.6248 - val_accuracy: 0.8061\n",
      "Epoch 15/150\n",
      "75/75 [==============================] - 1s 11ms/step - loss: 0.3455 - accuracy: 0.8558 - val_loss: 0.4512 - val_accuracy: 0.8196\n",
      "Epoch 16/150\n",
      "75/75 [==============================] - 1s 11ms/step - loss: 0.3553 - accuracy: 0.8495 - val_loss: 0.4546 - val_accuracy: 0.8246\n",
      "Epoch 17/150\n",
      "75/75 [==============================] - 1s 11ms/step - loss: 0.4148 - accuracy: 0.8288 - val_loss: 0.4944 - val_accuracy: 0.8145\n",
      "Epoch 18/150\n",
      "75/75 [==============================] - 1s 11ms/step - loss: 0.3440 - accuracy: 0.8537 - val_loss: 0.4137 - val_accuracy: 0.8550\n",
      "Epoch 19/150\n",
      "75/75 [==============================] - 1s 12ms/step - loss: 0.3000 - accuracy: 0.8735 - val_loss: 0.4102 - val_accuracy: 0.8533\n",
      "Epoch 20/150\n",
      "75/75 [==============================] - 1s 12ms/step - loss: 0.3162 - accuracy: 0.8672 - val_loss: 0.3803 - val_accuracy: 0.8668\n",
      "Epoch 21/150\n",
      "75/75 [==============================] - 1s 11ms/step - loss: 0.3928 - accuracy: 0.8444 - val_loss: 0.4545 - val_accuracy: 0.8432\n",
      "Epoch 22/150\n",
      "75/75 [==============================] - 1s 12ms/step - loss: 0.3117 - accuracy: 0.8706 - val_loss: 0.4734 - val_accuracy: 0.8280\n",
      "Epoch 23/150\n",
      "75/75 [==============================] - 1s 11ms/step - loss: 0.2836 - accuracy: 0.8824 - val_loss: 0.4302 - val_accuracy: 0.8398\n",
      "Epoch 24/150\n",
      "75/75 [==============================] - 1s 11ms/step - loss: 0.4405 - accuracy: 0.8305 - val_loss: 0.8158 - val_accuracy: 0.7302\n",
      "Epoch 25/150\n",
      "75/75 [==============================] - 1s 15ms/step - loss: 0.6444 - accuracy: 0.7475 - val_loss: 0.6501 - val_accuracy: 0.7572\n",
      "Epoch 26/150\n",
      "75/75 [==============================] - 1s 18ms/step - loss: 0.5108 - accuracy: 0.8019 - val_loss: 0.4555 - val_accuracy: 0.8229\n",
      "Epoch 27/150\n",
      "75/75 [==============================] - 1s 16ms/step - loss: 0.3497 - accuracy: 0.8520 - val_loss: 0.4592 - val_accuracy: 0.8347\n",
      "Epoch 28/150\n",
      "75/75 [==============================] - 1s 11ms/step - loss: 0.3411 - accuracy: 0.8546 - val_loss: 0.3955 - val_accuracy: 0.8718\n",
      "Epoch 29/150\n",
      "75/75 [==============================] - 1s 12ms/step - loss: 0.3329 - accuracy: 0.8583 - val_loss: 0.4676 - val_accuracy: 0.8280\n",
      "Epoch 30/150\n",
      "75/75 [==============================] - 1s 12ms/step - loss: 0.3707 - accuracy: 0.8482 - val_loss: 0.4364 - val_accuracy: 0.8145\n",
      "Epoch 31/150\n",
      "75/75 [==============================] - 1s 13ms/step - loss: 0.3676 - accuracy: 0.8516 - val_loss: 0.4070 - val_accuracy: 0.8600\n",
      "Epoch 32/150\n",
      "75/75 [==============================] - 1s 12ms/step - loss: 0.2916 - accuracy: 0.8765 - val_loss: 0.4049 - val_accuracy: 0.8415\n",
      "Epoch 33/150\n",
      "75/75 [==============================] - 1s 11ms/step - loss: 0.2977 - accuracy: 0.8765 - val_loss: 0.4833 - val_accuracy: 0.8331\n",
      "Epoch 34/150\n",
      "75/75 [==============================] - 1s 12ms/step - loss: 0.2784 - accuracy: 0.8782 - val_loss: 0.4159 - val_accuracy: 0.8533\n",
      "Epoch 35/150\n",
      "75/75 [==============================] - 1s 12ms/step - loss: 0.3191 - accuracy: 0.8706 - val_loss: 0.4200 - val_accuracy: 0.8415\n",
      "Epoch 36/150\n",
      "75/75 [==============================] - 1s 12ms/step - loss: 0.3103 - accuracy: 0.8832 - val_loss: 1.5426 - val_accuracy: 0.6880\n",
      "Epoch 37/150\n",
      "75/75 [==============================] - 1s 12ms/step - loss: 0.5457 - accuracy: 0.8183 - val_loss: 0.5030 - val_accuracy: 0.8078\n",
      "Epoch 38/150\n",
      "75/75 [==============================] - 1s 12ms/step - loss: 0.3813 - accuracy: 0.8356 - val_loss: 0.4164 - val_accuracy: 0.8364\n",
      "Epoch 39/150\n",
      "75/75 [==============================] - 1s 19ms/step - loss: 0.3383 - accuracy: 0.8605 - val_loss: 0.4272 - val_accuracy: 0.8347\n",
      "Epoch 40/150\n",
      "75/75 [==============================] - 1s 18ms/step - loss: 0.2853 - accuracy: 0.8845 - val_loss: 0.4748 - val_accuracy: 0.8381\n",
      "Epoch 41/150\n",
      "75/75 [==============================] - 1s 11ms/step - loss: 0.2975 - accuracy: 0.8828 - val_loss: 0.3802 - val_accuracy: 0.8499\n",
      "Epoch 42/150\n",
      "75/75 [==============================] - 1s 12ms/step - loss: 0.2751 - accuracy: 0.8900 - val_loss: 0.3943 - val_accuracy: 0.8415\n",
      "Epoch 43/150\n",
      "75/75 [==============================] - 1s 12ms/step - loss: 0.3291 - accuracy: 0.8630 - val_loss: 0.4387 - val_accuracy: 0.8297\n",
      "Epoch 44/150\n",
      "75/75 [==============================] - 1s 11ms/step - loss: 0.3314 - accuracy: 0.8655 - val_loss: 0.4706 - val_accuracy: 0.8145\n",
      "Epoch 45/150\n",
      "75/75 [==============================] - 1s 11ms/step - loss: 0.3053 - accuracy: 0.8765 - val_loss: 0.3749 - val_accuracy: 0.8617\n",
      "Epoch 46/150\n",
      "75/75 [==============================] - 1s 12ms/step - loss: 0.2753 - accuracy: 0.8870 - val_loss: 0.4229 - val_accuracy: 0.8347\n",
      "Epoch 47/150\n",
      "75/75 [==============================] - 1s 12ms/step - loss: 0.3604 - accuracy: 0.8605 - val_loss: 0.4513 - val_accuracy: 0.8465\n",
      "Epoch 48/150\n",
      "75/75 [==============================] - 1s 12ms/step - loss: 0.2909 - accuracy: 0.8752 - val_loss: 0.3598 - val_accuracy: 0.8786\n",
      "Epoch 49/150\n",
      "75/75 [==============================] - 1s 12ms/step - loss: 0.2488 - accuracy: 0.8967 - val_loss: 0.4463 - val_accuracy: 0.8347\n",
      "Epoch 50/150\n",
      "75/75 [==============================] - 1s 12ms/step - loss: 0.3440 - accuracy: 0.8596 - val_loss: 0.3890 - val_accuracy: 0.8617\n",
      "Epoch 51/150\n",
      "75/75 [==============================] - 1s 12ms/step - loss: 0.2357 - accuracy: 0.9047 - val_loss: 0.6042 - val_accuracy: 0.8094\n",
      "Epoch 52/150\n",
      "75/75 [==============================] - 1s 17ms/step - loss: 0.2512 - accuracy: 0.8900 - val_loss: 0.3936 - val_accuracy: 0.8651\n",
      "Epoch 53/150\n",
      "75/75 [==============================] - 1s 19ms/step - loss: 0.2837 - accuracy: 0.8866 - val_loss: 0.4683 - val_accuracy: 0.8347\n",
      "Epoch 54/150\n",
      "75/75 [==============================] - 1s 14ms/step - loss: 0.2760 - accuracy: 0.8849 - val_loss: 0.4683 - val_accuracy: 0.8347\n",
      "Epoch 55/150\n",
      "75/75 [==============================] - 1s 12ms/step - loss: 0.2830 - accuracy: 0.8790 - val_loss: 0.3913 - val_accuracy: 0.8651\n",
      "Epoch 56/150\n",
      "75/75 [==============================] - 1s 12ms/step - loss: 0.2426 - accuracy: 0.8997 - val_loss: 0.3502 - val_accuracy: 0.8769\n",
      "Epoch 57/150\n",
      "75/75 [==============================] - 1s 12ms/step - loss: 0.2564 - accuracy: 0.8976 - val_loss: 0.4594 - val_accuracy: 0.8516\n",
      "Epoch 58/150\n",
      "75/75 [==============================] - 1s 11ms/step - loss: 0.2459 - accuracy: 0.9009 - val_loss: 0.3942 - val_accuracy: 0.8668\n",
      "Epoch 59/150\n",
      "75/75 [==============================] - 1s 11ms/step - loss: 0.2074 - accuracy: 0.9106 - val_loss: 0.4085 - val_accuracy: 0.8617\n",
      "Epoch 60/150\n",
      "75/75 [==============================] - 1s 12ms/step - loss: 0.3313 - accuracy: 0.8685 - val_loss: 0.4891 - val_accuracy: 0.8196\n",
      "Epoch 61/150\n",
      "75/75 [==============================] - 1s 12ms/step - loss: 0.3053 - accuracy: 0.8731 - val_loss: 0.3918 - val_accuracy: 0.8583\n",
      "Epoch 62/150\n",
      "75/75 [==============================] - 1s 12ms/step - loss: 0.2533 - accuracy: 0.8921 - val_loss: 0.3995 - val_accuracy: 0.8600\n",
      "Epoch 63/150\n",
      "75/75 [==============================] - 1s 11ms/step - loss: 0.2589 - accuracy: 0.8836 - val_loss: 0.4231 - val_accuracy: 0.8465\n",
      "Epoch 64/150\n",
      "75/75 [==============================] - 1s 12ms/step - loss: 0.2085 - accuracy: 0.9089 - val_loss: 0.4267 - val_accuracy: 0.8533\n",
      "Epoch 65/150\n",
      "75/75 [==============================] - 1s 15ms/step - loss: 0.2567 - accuracy: 0.8933 - val_loss: 0.3599 - val_accuracy: 0.8820\n",
      "Epoch 66/150\n",
      "75/75 [==============================] - 1s 19ms/step - loss: 0.2796 - accuracy: 0.8879 - val_loss: 0.3810 - val_accuracy: 0.8617\n",
      "Epoch 67/150\n",
      "75/75 [==============================] - 1s 16ms/step - loss: 0.2723 - accuracy: 0.8841 - val_loss: 0.3998 - val_accuracy: 0.8533\n",
      "Epoch 68/150\n",
      "75/75 [==============================] - 1s 12ms/step - loss: 0.2591 - accuracy: 0.8925 - val_loss: 0.4428 - val_accuracy: 0.8381\n",
      "Epoch 69/150\n",
      "75/75 [==============================] - 1s 11ms/step - loss: 0.2776 - accuracy: 0.8895 - val_loss: 0.4363 - val_accuracy: 0.8347\n",
      "Epoch 70/150\n",
      "75/75 [==============================] - 1s 11ms/step - loss: 0.2112 - accuracy: 0.9081 - val_loss: 0.4075 - val_accuracy: 0.8651\n",
      "Epoch 71/150\n",
      "75/75 [==============================] - 1s 12ms/step - loss: 0.2144 - accuracy: 0.9169 - val_loss: 0.4172 - val_accuracy: 0.8651\n",
      "Epoch 72/150\n",
      "75/75 [==============================] - 1s 12ms/step - loss: 0.2090 - accuracy: 0.9157 - val_loss: 0.3976 - val_accuracy: 0.8651\n",
      "Epoch 73/150\n",
      "75/75 [==============================] - 1s 12ms/step - loss: 0.2200 - accuracy: 0.9064 - val_loss: 0.4204 - val_accuracy: 0.8381\n",
      "Epoch 74/150\n",
      "75/75 [==============================] - 1s 12ms/step - loss: 0.2488 - accuracy: 0.8980 - val_loss: 0.4448 - val_accuracy: 0.8533\n",
      "Epoch 75/150\n",
      "75/75 [==============================] - 1s 12ms/step - loss: 0.2221 - accuracy: 0.9085 - val_loss: 0.5093 - val_accuracy: 0.8263\n",
      "Epoch 76/150\n",
      "75/75 [==============================] - 1s 11ms/step - loss: 0.3314 - accuracy: 0.8866 - val_loss: 0.7945 - val_accuracy: 0.7268\n",
      "Epoch 77/150\n",
      "75/75 [==============================] - 1s 11ms/step - loss: 0.3480 - accuracy: 0.8642 - val_loss: 0.3787 - val_accuracy: 0.8550\n",
      "Epoch 78/150\n",
      "75/75 [==============================] - 1s 11ms/step - loss: 0.2567 - accuracy: 0.8887 - val_loss: 0.3972 - val_accuracy: 0.8651\n",
      "Epoch 79/150\n",
      "75/75 [==============================] - 1s 17ms/step - loss: 0.2181 - accuracy: 0.9056 - val_loss: 0.3944 - val_accuracy: 0.8668\n",
      "Epoch 80/150\n",
      "75/75 [==============================] - 1s 18ms/step - loss: 0.2013 - accuracy: 0.9132 - val_loss: 0.3743 - val_accuracy: 0.8651\n",
      "Epoch 81/150\n",
      "75/75 [==============================] - 1s 13ms/step - loss: 0.2494 - accuracy: 0.8963 - val_loss: 0.3707 - val_accuracy: 0.8836\n",
      "Epoch 82/150\n",
      "75/75 [==============================] - 1s 12ms/step - loss: 0.2017 - accuracy: 0.9081 - val_loss: 0.4557 - val_accuracy: 0.8634\n",
      "Epoch 83/150\n",
      "75/75 [==============================] - 1s 12ms/step - loss: 0.1986 - accuracy: 0.9144 - val_loss: 0.3801 - val_accuracy: 0.8769\n",
      "Epoch 84/150\n",
      "75/75 [==============================] - 1s 12ms/step - loss: 0.2665 - accuracy: 0.8929 - val_loss: 0.4027 - val_accuracy: 0.8600\n",
      "Epoch 85/150\n",
      "75/75 [==============================] - 1s 11ms/step - loss: 0.2033 - accuracy: 0.9153 - val_loss: 0.3688 - val_accuracy: 0.8735\n",
      "Epoch 86/150\n",
      "75/75 [==============================] - 1s 12ms/step - loss: 0.2396 - accuracy: 0.8963 - val_loss: 0.3600 - val_accuracy: 0.8752\n",
      "Epoch 87/150\n",
      "75/75 [==============================] - 1s 12ms/step - loss: 0.2146 - accuracy: 0.9085 - val_loss: 0.3982 - val_accuracy: 0.8583\n",
      "Epoch 88/150\n",
      "75/75 [==============================] - 1s 12ms/step - loss: 0.1859 - accuracy: 0.9186 - val_loss: 0.5727 - val_accuracy: 0.8280\n",
      "Epoch 89/150\n",
      "75/75 [==============================] - 1s 12ms/step - loss: 0.3409 - accuracy: 0.8583 - val_loss: 0.3846 - val_accuracy: 0.8718\n",
      "Epoch 90/150\n",
      "75/75 [==============================] - 1s 11ms/step - loss: 0.2567 - accuracy: 0.8954 - val_loss: 0.3602 - val_accuracy: 0.8921\n",
      "Epoch 91/150\n",
      "75/75 [==============================] - 1s 12ms/step - loss: 0.2057 - accuracy: 0.9098 - val_loss: 0.4108 - val_accuracy: 0.8668\n",
      "Epoch 92/150\n",
      "75/75 [==============================] - 1s 15ms/step - loss: 0.2222 - accuracy: 0.9073 - val_loss: 0.4155 - val_accuracy: 0.8600\n",
      "Epoch 93/150\n",
      "75/75 [==============================] - 1s 17ms/step - loss: 0.2418 - accuracy: 0.9030 - val_loss: 0.5324 - val_accuracy: 0.8162\n",
      "Epoch 94/150\n",
      "75/75 [==============================] - 1s 17ms/step - loss: 0.2503 - accuracy: 0.8942 - val_loss: 0.5832 - val_accuracy: 0.8246\n",
      "Epoch 95/150\n",
      "75/75 [==============================] - 1s 12ms/step - loss: 0.1931 - accuracy: 0.9144 - val_loss: 0.4009 - val_accuracy: 0.8634\n",
      "Epoch 96/150\n",
      "75/75 [==============================] - 1s 12ms/step - loss: 0.2111 - accuracy: 0.9089 - val_loss: 0.4545 - val_accuracy: 0.8567\n",
      "Epoch 97/150\n",
      "75/75 [==============================] - 1s 12ms/step - loss: 0.1934 - accuracy: 0.9127 - val_loss: 0.4381 - val_accuracy: 0.8600\n",
      "Epoch 98/150\n",
      "75/75 [==============================] - 1s 12ms/step - loss: 0.1538 - accuracy: 0.9372 - val_loss: 0.4370 - val_accuracy: 0.8533\n",
      "Epoch 99/150\n",
      "75/75 [==============================] - 1s 12ms/step - loss: 0.2599 - accuracy: 0.8904 - val_loss: 0.5752 - val_accuracy: 0.7976\n",
      "Epoch 100/150\n",
      "75/75 [==============================] - 1s 12ms/step - loss: 0.3112 - accuracy: 0.8769 - val_loss: 0.5051 - val_accuracy: 0.8314\n",
      "Epoch 101/150\n",
      "75/75 [==============================] - 1s 13ms/step - loss: 0.2135 - accuracy: 0.9110 - val_loss: 0.4388 - val_accuracy: 0.8567\n",
      "Epoch 102/150\n",
      "75/75 [==============================] - 1s 12ms/step - loss: 0.1897 - accuracy: 0.9199 - val_loss: 0.6796 - val_accuracy: 0.8314\n",
      "Epoch 103/150\n",
      "75/75 [==============================] - 1s 12ms/step - loss: 0.2104 - accuracy: 0.9123 - val_loss: 0.4476 - val_accuracy: 0.8651\n",
      "Epoch 104/150\n",
      "75/75 [==============================] - 1s 14ms/step - loss: 0.1902 - accuracy: 0.9182 - val_loss: 0.4116 - val_accuracy: 0.8600\n",
      "Epoch 105/150\n",
      "75/75 [==============================] - 2s 23ms/step - loss: 0.3083 - accuracy: 0.8845 - val_loss: 0.4076 - val_accuracy: 0.8567\n",
      "Epoch 106/150\n",
      "75/75 [==============================] - 1s 19ms/step - loss: 0.1958 - accuracy: 0.9174 - val_loss: 0.3997 - val_accuracy: 0.8752\n",
      "Epoch 107/150\n",
      "75/75 [==============================] - 1s 14ms/step - loss: 0.2718 - accuracy: 0.8984 - val_loss: 0.4135 - val_accuracy: 0.8786\n",
      "Epoch 108/150\n",
      "75/75 [==============================] - 1s 12ms/step - loss: 0.1696 - accuracy: 0.9292 - val_loss: 0.3695 - val_accuracy: 0.8921\n",
      "Epoch 109/150\n",
      "75/75 [==============================] - 1s 12ms/step - loss: 0.1545 - accuracy: 0.9334 - val_loss: 0.4458 - val_accuracy: 0.8735\n",
      "Epoch 110/150\n",
      "75/75 [==============================] - 1s 11ms/step - loss: 0.1603 - accuracy: 0.9296 - val_loss: 0.3966 - val_accuracy: 0.8887\n",
      "Epoch 111/150\n",
      "75/75 [==============================] - 1s 12ms/step - loss: 0.1610 - accuracy: 0.9288 - val_loss: 0.4179 - val_accuracy: 0.8752\n",
      "Epoch 112/150\n",
      "75/75 [==============================] - 1s 12ms/step - loss: 0.1922 - accuracy: 0.9165 - val_loss: 0.3946 - val_accuracy: 0.8836\n",
      "Epoch 113/150\n",
      "75/75 [==============================] - 1s 12ms/step - loss: 0.1722 - accuracy: 0.9228 - val_loss: 0.3863 - val_accuracy: 0.8752\n",
      "Epoch 114/150\n",
      "75/75 [==============================] - 1s 12ms/step - loss: 0.1917 - accuracy: 0.9174 - val_loss: 0.3892 - val_accuracy: 0.8735\n",
      "Epoch 115/150\n",
      "75/75 [==============================] - 1s 12ms/step - loss: 0.1935 - accuracy: 0.9140 - val_loss: 0.4303 - val_accuracy: 0.8735\n",
      "Epoch 116/150\n",
      "75/75 [==============================] - 1s 12ms/step - loss: 0.1663 - accuracy: 0.9262 - val_loss: 0.3613 - val_accuracy: 0.8887\n",
      "Epoch 117/150\n",
      "75/75 [==============================] - 1s 12ms/step - loss: 0.1837 - accuracy: 0.9216 - val_loss: 0.4050 - val_accuracy: 0.8887\n",
      "Epoch 118/150\n",
      "75/75 [==============================] - 1s 16ms/step - loss: 0.1635 - accuracy: 0.9296 - val_loss: 0.5537 - val_accuracy: 0.8482\n",
      "Epoch 119/150\n",
      "75/75 [==============================] - 1s 19ms/step - loss: 0.1706 - accuracy: 0.9279 - val_loss: 0.4363 - val_accuracy: 0.8786\n",
      "Epoch 120/150\n",
      "75/75 [==============================] - 1s 16ms/step - loss: 0.1538 - accuracy: 0.9342 - val_loss: 0.5239 - val_accuracy: 0.8583\n",
      "Epoch 121/150\n",
      "75/75 [==============================] - 1s 13ms/step - loss: 0.1906 - accuracy: 0.9191 - val_loss: 0.4176 - val_accuracy: 0.8752\n",
      "Epoch 122/150\n",
      "75/75 [==============================] - 1s 12ms/step - loss: 0.1451 - accuracy: 0.9321 - val_loss: 0.5106 - val_accuracy: 0.8634\n",
      "Epoch 123/150\n",
      "75/75 [==============================] - 1s 11ms/step - loss: 0.1830 - accuracy: 0.9271 - val_loss: 0.4793 - val_accuracy: 0.8600\n",
      "Epoch 124/150\n",
      "75/75 [==============================] - 1s 12ms/step - loss: 0.3495 - accuracy: 0.8693 - val_loss: 0.4888 - val_accuracy: 0.8499\n",
      "Epoch 125/150\n",
      "75/75 [==============================] - 1s 11ms/step - loss: 0.2061 - accuracy: 0.9127 - val_loss: 0.4692 - val_accuracy: 0.8600\n",
      "Epoch 126/150\n",
      "75/75 [==============================] - 1s 12ms/step - loss: 0.1772 - accuracy: 0.9224 - val_loss: 0.4230 - val_accuracy: 0.8617\n",
      "Epoch 127/150\n",
      "75/75 [==============================] - 1s 12ms/step - loss: 0.2987 - accuracy: 0.8925 - val_loss: 0.4726 - val_accuracy: 0.8583\n",
      "Epoch 128/150\n",
      "75/75 [==============================] - 1s 11ms/step - loss: 0.1819 - accuracy: 0.9216 - val_loss: 0.4129 - val_accuracy: 0.8634\n",
      "Epoch 129/150\n",
      "75/75 [==============================] - 1s 12ms/step - loss: 0.1642 - accuracy: 0.9271 - val_loss: 0.3957 - val_accuracy: 0.8752\n",
      "Epoch 130/150\n",
      "75/75 [==============================] - 1s 12ms/step - loss: 0.1422 - accuracy: 0.9347 - val_loss: 0.3532 - val_accuracy: 0.8938\n",
      "Epoch 131/150\n",
      "75/75 [==============================] - 1s 11ms/step - loss: 0.2756 - accuracy: 0.8942 - val_loss: 0.4532 - val_accuracy: 0.8634\n",
      "Epoch 132/150\n",
      "75/75 [==============================] - 1s 18ms/step - loss: 0.1901 - accuracy: 0.9153 - val_loss: 0.4523 - val_accuracy: 0.8583\n",
      "Epoch 133/150\n",
      "75/75 [==============================] - 1s 17ms/step - loss: 0.1921 - accuracy: 0.9174 - val_loss: 0.3630 - val_accuracy: 0.8921\n",
      "Epoch 134/150\n",
      "75/75 [==============================] - 1s 14ms/step - loss: 0.1404 - accuracy: 0.9389 - val_loss: 0.4945 - val_accuracy: 0.8617\n",
      "Epoch 135/150\n",
      "75/75 [==============================] - 1s 11ms/step - loss: 0.1415 - accuracy: 0.9351 - val_loss: 0.4113 - val_accuracy: 0.8702\n",
      "Epoch 136/150\n",
      "75/75 [==============================] - 1s 12ms/step - loss: 0.1790 - accuracy: 0.9203 - val_loss: 0.3748 - val_accuracy: 0.8954\n",
      "Epoch 137/150\n",
      "75/75 [==============================] - 1s 12ms/step - loss: 0.1660 - accuracy: 0.9304 - val_loss: 0.4353 - val_accuracy: 0.8718\n",
      "Epoch 138/150\n",
      "75/75 [==============================] - 1s 11ms/step - loss: 0.1394 - accuracy: 0.9376 - val_loss: 0.4507 - val_accuracy: 0.8853\n",
      "Epoch 139/150\n",
      "75/75 [==============================] - 1s 11ms/step - loss: 0.1799 - accuracy: 0.9216 - val_loss: 0.4489 - val_accuracy: 0.8735\n",
      "Epoch 140/150\n",
      "75/75 [==============================] - 1s 12ms/step - loss: 0.1357 - accuracy: 0.9452 - val_loss: 0.5118 - val_accuracy: 0.8516\n",
      "Epoch 141/150\n",
      "75/75 [==============================] - 1s 12ms/step - loss: 0.2476 - accuracy: 0.9026 - val_loss: 0.4844 - val_accuracy: 0.8651\n",
      "Epoch 142/150\n",
      "75/75 [==============================] - 1s 12ms/step - loss: 0.1729 - accuracy: 0.9203 - val_loss: 0.4134 - val_accuracy: 0.8786\n",
      "Epoch 143/150\n",
      "75/75 [==============================] - 1s 11ms/step - loss: 0.1576 - accuracy: 0.9262 - val_loss: 0.4777 - val_accuracy: 0.8583\n",
      "Epoch 144/150\n",
      "75/75 [==============================] - 1s 12ms/step - loss: 0.3882 - accuracy: 0.8815 - val_loss: 1.1779 - val_accuracy: 0.7858\n",
      "Epoch 145/150\n",
      "75/75 [==============================] - 1s 14ms/step - loss: 0.4593 - accuracy: 0.8482 - val_loss: 0.4327 - val_accuracy: 0.8550\n",
      "Epoch 146/150\n",
      "75/75 [==============================] - 1s 19ms/step - loss: 0.2424 - accuracy: 0.9165 - val_loss: 0.4149 - val_accuracy: 0.8634\n",
      "Epoch 147/150\n",
      "75/75 [==============================] - 1s 18ms/step - loss: 0.1734 - accuracy: 0.9304 - val_loss: 0.4098 - val_accuracy: 0.8786\n",
      "Epoch 148/150\n",
      "75/75 [==============================] - 1s 12ms/step - loss: 0.2138 - accuracy: 0.9140 - val_loss: 0.3852 - val_accuracy: 0.8820\n",
      "Epoch 149/150\n",
      "75/75 [==============================] - 1s 12ms/step - loss: 0.1981 - accuracy: 0.9169 - val_loss: 0.3709 - val_accuracy: 0.8786\n",
      "Epoch 150/150\n",
      "75/75 [==============================] - 1s 12ms/step - loss: 0.1630 - accuracy: 0.9304 - val_loss: 0.4322 - val_accuracy: 0.8786\n",
      "[0.7845699787139893, 0.8195615410804749, 0.845278263092041, 0.8326306939125061, 0.8216694593429565, 0.8313659429550171, 0.8338954448699951, 0.8128162026405334, 0.8258853554725647, 0.7774030566215515, 0.767706573009491, 0.8233557939529419, 0.8397976160049438, 0.8456998467445374, 0.8558178544044495, 0.8494940996170044, 0.8288364410400391, 0.8537099361419678, 0.8735244274139404, 0.8672006726264954, 0.8444350957870483, 0.8705733418464661, 0.8823777437210083, 0.8305227756500244, 0.747470498085022, 0.8018549680709839, 0.8520236015319824, 0.8545531034469604, 0.8583474159240723, 0.8482293486595154, 0.8516020178794861, 0.8764755725860596, 0.8764755725860596, 0.8781619071960449, 0.8705733418464661, 0.883220911026001, 0.8182967901229858, 0.8355817794799805, 0.860455334186554, 0.88448566198349, 0.8827993273735046, 0.8899662494659424, 0.862984836101532, 0.86551433801651, 0.8764755725860596, 0.887015163898468, 0.860455334186554, 0.8752108216285706, 0.8967116475105286, 0.8596121668815613, 0.904721736907959, 0.8899662494659424, 0.8865935802459717, 0.8849072456359863, 0.8790050745010376, 0.8996627330780029, 0.8975548148155212, 0.9009274840354919, 0.9106239676475525, 0.8684654235839844, 0.8731028437614441, 0.8920742273330688, 0.8836424946784973, 0.9089376330375671, 0.8933389782905579, 0.8878583312034607, 0.8840640783309937, 0.8924958109855652, 0.889544665813446, 0.9080944061279297, 0.9169477224349976, 0.9156829714775085, 0.9064080715179443, 0.8979763984680176, 0.9085160493850708, 0.8865935802459717, 0.864249587059021, 0.8887014985084534, 0.9055649042129517, 0.9131534695625305, 0.8962900638580322, 0.9080944061279297, 0.9144182205200195, 0.8929173946380615, 0.9152613878250122, 0.8962900638580322, 0.9085160493850708, 0.9186340570449829, 0.8583474159240723, 0.8954468965530396, 0.9097808003425598, 0.907251238822937, 0.9030354022979736, 0.8941821455955505, 0.9144182205200195, 0.9089376330375671, 0.9127318859100342, 0.9371837973594666, 0.8903878331184387, 0.8768971562385559, 0.9110455513000488, 0.9198988080024719, 0.9123103022575378, 0.9182124733924866, 0.88448566198349, 0.9173693060874939, 0.8983979821205139, 0.9291737079620361, 0.9333895444869995, 0.9295952916145325, 0.9287521243095398, 0.9165261387825012, 0.9228498935699463, 0.9173693060874939, 0.9139966368675232, 0.9262226223945618, 0.9215851426124573, 0.9295952916145325, 0.9279089570045471, 0.9342327117919922, 0.9190556406974792, 0.9321247935295105, 0.9270657896995544, 0.869308590888977, 0.9127318859100342, 0.92242830991745, 0.8924958109855652, 0.9215851426124573, 0.9270657896995544, 0.9346542954444885, 0.8941821455955505, 0.9152613878250122, 0.9173693060874939, 0.9388701319694519, 0.9350758790969849, 0.9203203916549683, 0.9304384589195251, 0.9376053810119629, 0.9215851426124573, 0.9451939463615417, 0.9026138186454773, 0.9203203916549683, 0.9262226223945618, 0.8815345764160156, 0.8482293486595154, 0.9165261387825012, 0.9304384589195251, 0.9139966368675232, 0.9169477224349976, 0.9304384589195251]\n",
      "[0.7535908222198486, 0.4627319574356079, 0.360037237405777, 0.4170518219470978, 0.46590620279312134, 0.4054856300354004, 0.39940589666366577, 0.5579065680503845, 0.41719719767570496, 0.9077444672584534, 0.6436774730682373, 0.4378335177898407, 0.4035617411136627, 0.37788599729537964, 0.34546035528182983, 0.3552511930465698, 0.4147621691226959, 0.3439878225326538, 0.2999644875526428, 0.3161778450012207, 0.39279547333717346, 0.3116714060306549, 0.2836276888847351, 0.4404788315296173, 0.6444204449653625, 0.5108025670051575, 0.34969499707221985, 0.34112024307250977, 0.3328666687011719, 0.3707340359687805, 0.3675523102283478, 0.29160770773887634, 0.2976638376712799, 0.27839720249176025, 0.31909698247909546, 0.3102562427520752, 0.5457488894462585, 0.38133078813552856, 0.3382898271083832, 0.2853391468524933, 0.297461599111557, 0.2751410901546478, 0.32914453744888306, 0.33139264583587646, 0.3053329288959503, 0.27533209323883057, 0.3603772819042206, 0.2909091114997864, 0.24880684912204742, 0.3440284729003906, 0.23572205007076263, 0.2512187659740448, 0.2837288975715637, 0.27601805329322815, 0.28300559520721436, 0.2426416128873825, 0.2564447820186615, 0.24594728648662567, 0.20737048983573914, 0.3313373029232025, 0.3053283095359802, 0.25327226519584656, 0.25888320803642273, 0.208536297082901, 0.2566676139831543, 0.2796373665332794, 0.27229228615760803, 0.259086549282074, 0.2775645852088928, 0.21120041608810425, 0.21444405615329742, 0.209023579955101, 0.21998709440231323, 0.2487800419330597, 0.22205311059951782, 0.33142250776290894, 0.3480140268802643, 0.256708562374115, 0.21809327602386475, 0.2013171762228012, 0.24938084185123444, 0.20167236030101776, 0.19856959581375122, 0.2665117681026459, 0.2032623589038849, 0.23960766196250916, 0.21458518505096436, 0.18593646585941315, 0.3408602476119995, 0.25673168897628784, 0.20574530959129333, 0.22221268713474274, 0.24175569415092468, 0.250283807516098, 0.19305364787578583, 0.21112550795078278, 0.19344009459018707, 0.15381349623203278, 0.25987890362739563, 0.3112116754055023, 0.21351955831050873, 0.18970021605491638, 0.21037472784519196, 0.1901542693376541, 0.30830901861190796, 0.19582852721214294, 0.2717619836330414, 0.16960346698760986, 0.15452498197555542, 0.16029730439186096, 0.1610146462917328, 0.19224892556667328, 0.17223069071769714, 0.19169186055660248, 0.19345812499523163, 0.16630733013153076, 0.18365146219730377, 0.1634577065706253, 0.17057469487190247, 0.15379153192043304, 0.190599724650383, 0.14509524405002594, 0.18301090598106384, 0.34953826665878296, 0.20614497363567352, 0.17722460627555847, 0.2986534833908081, 0.18192875385284424, 0.16419453918933868, 0.14221546053886414, 0.27558600902557373, 0.19006633758544922, 0.19205521047115326, 0.14042159914970398, 0.14150477945804596, 0.1790003925561905, 0.16601784527301788, 0.1394239217042923, 0.1799035519361496, 0.1356504112482071, 0.2475760132074356, 0.17291976511478424, 0.15758100152015686, 0.38815900683403015, 0.4592744708061218, 0.24236568808555603, 0.1733841896057129, 0.21377238631248474, 0.19813260436058044, 0.16298332810401917]\n"
     ]
    }
   ],
   "source": [
    "# Entraîner le modèle\n",
    "history = model.fit(X_train, y_train, validation_data=(X_test, y_test), epochs=150, batch_size=32)\n",
    "print(history.history['accuracy'])\n",
    "print(history.history['loss'])"
   ]
  },
  {
   "cell_type": "code",
   "execution_count": 14,
   "metadata": {
    "colab": {
     "base_uri": "https://localhost:8080/"
    },
    "id": "UB23EaszAsoh",
    "outputId": "9eef09eb-7b57-4c45-8dd9-5ee5a7ab52bd"
   },
   "outputs": [
    {
     "name": "stdout",
     "output_type": "stream",
     "text": [
      "19/19 [==============================] - 0s 3ms/step - loss: 0.4322 - accuracy: 0.8786\n",
      "Test loss: 0.43218475580215454\n",
      "Test accuracy: 0.8785834908485413\n"
     ]
    }
   ],
   "source": [
    "# Évaluer le modèle sur les données de test\n",
    "score = model.evaluate(X_test, y_test)\n",
    "print(\"Test loss:\", score[0])\n",
    "print(\"Test accuracy:\", score[1])"
   ]
  },
  {
   "cell_type": "code",
   "execution_count": 15,
   "metadata": {
    "colab": {
     "base_uri": "https://localhost:8080/",
     "height": 573
    },
    "id": "OLB7MP09Asr1",
    "outputId": "c7f15a05-ce85-4ea7-eec3-2eac298dd5a4"
   },
   "outputs": [
    {
     "data": {
      "image/png": "[encoded data removed]",
      "text/plain": [
       "<Figure size 432x288 with 1 Axes>"
      ]
     },
     "metadata": {
      "needs_background": "light"
     },
     "output_type": "display_data"
    },
    {
     "data": {
      "image/png": "[encoded data removed]",
      "text/plain": [
       "<Figure size 432x288 with 1 Axes>"
      ]
     },
     "metadata": {
      "needs_background": "light"
     },
     "output_type": "display_data"
    }
   ],
   "source": [
    "# Afficher les graphes d'accuracy et loss selon l'epoch\n",
    "import matplotlib.pyplot as plt\n",
    "\n",
    "plt.plot(history.history['accuracy'], label='train')\n",
    "plt.plot(history.history['val_accuracy'], label='validation')\n",
    "plt.title('Accuracy')\n",
    "plt.xlabel('Epoch')\n",
    "plt.ylabel('Accuracy')\n",
    "plt.legend()\n",
    "plt.show()\n",
    "\n",
    "plt.plot(history.history['loss'], label='train')\n",
    "plt.plot(history.history['val_loss'], label='validation')\n",
    "plt.title('Loss')\n",
    "plt.xlabel('Epoch')\n",
    "plt.ylabel('Loss')\n",
    "plt.legend()\n",
    "plt.show()"
   ]
  },
  {
   "cell_type": "code",
   "execution_count": null,
   "metadata": {
    "id": "5672DeVuAsvF"
   },
   "outputs": [],
   "source": []
  }
 ],
 "metadata": {
  "colab": {
   "provenance": []
  },
  "kernelspec": {
   "display_name": "Python 3",
   "language": "python",
   "name": "python3"
  },
  "language_info": {
   "codemirror_mode": {
    "name": "ipython",
    "version": 3
   },
   "file_extension": ".py",
   "mimetype": "text/x-python",
   "name": "python",
   "nbconvert_exporter": "python",
   "pygments_lexer": "ipython3",
   "version": "3.8.8"
  }
 },
 "nbformat": 4,
 "nbformat_minor": 1
}
