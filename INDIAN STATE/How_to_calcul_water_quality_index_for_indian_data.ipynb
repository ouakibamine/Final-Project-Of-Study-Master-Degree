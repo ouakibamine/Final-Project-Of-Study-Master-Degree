{
 "cells": [
  {
   "cell_type": "markdown",
   "id": "eda77f26",
   "metadata": {},
   "source": [
    "# Importing libraries"
   ]
  },
  {
   "cell_type": "code",
   "execution_count": 2,
   "id": "8339f7da",
   "metadata": {},
   "outputs": [],
   "source": [
    "import os\n",
    "import pandas as pd\n",
    "import numpy as np\n",
    "import matplotlib.pyplot as plt\n",
    "import seaborn as sns\n",
    "import geopandas as gpd"
   ]
  },
  {
   "cell_type": "markdown",
   "id": "db991fe5",
   "metadata": {},
   "source": [
    "# Uploading the data"
   ]
  },
  {
   "cell_type": "code",
   "execution_count": 3,
   "id": "1b2471de",
   "metadata": {},
   "outputs": [],
   "source": [
    "df=pd.read_csv(\"Data/waterquality.csv\")\n",
    "gdf = gpd.read_file('Data/india-states/Igismap/Indian_States.shp')"
   ]
  },
  {
   "cell_type": "code",
   "execution_count": 4,
   "id": "68c29234",
   "metadata": {},
   "outputs": [
    {
     "data": {
      "text/html": [
       "<div>\n",
       "<style scoped>\n",
       "    .dataframe tbody tr th:only-of-type {\n",
       "        vertical-align: middle;\n",
       "    }\n",
       "\n",
       "    .dataframe tbody tr th {\n",
       "        vertical-align: top;\n",
       "    }\n",
       "\n",
       "    .dataframe thead th {\n",
       "        text-align: right;\n",
       "    }\n",
       "</style>\n",
       "<table border=\"1\" class=\"dataframe\">\n",
       "  <thead>\n",
       "    <tr style=\"text-align: right;\">\n",
       "      <th></th>\n",
       "      <th>STATION CODE</th>\n",
       "      <th>LOCATIONS</th>\n",
       "      <th>STATE</th>\n",
       "      <th>TEMP</th>\n",
       "      <th>DO</th>\n",
       "      <th>pH</th>\n",
       "      <th>CONDUCTIVITY</th>\n",
       "      <th>BOD</th>\n",
       "      <th>NITRATE_N_NITRITE_N</th>\n",
       "      <th>FECAL_COLIFORM</th>\n",
       "      <th>TOTAL_COLIFORM</th>\n",
       "    </tr>\n",
       "  </thead>\n",
       "  <tbody>\n",
       "    <tr>\n",
       "      <th>0</th>\n",
       "      <td>1312</td>\n",
       "      <td>GODAVARI AT JAYAKWADI DAM, AURNAGABAD,MAHARASHTRA</td>\n",
       "      <td>MAHARASHTRA</td>\n",
       "      <td>29.2</td>\n",
       "      <td>6.4</td>\n",
       "      <td>8.1</td>\n",
       "      <td>735.0</td>\n",
       "      <td>3.4</td>\n",
       "      <td>2.00</td>\n",
       "      <td>3.0</td>\n",
       "      <td>73.0</td>\n",
       "    </tr>\n",
       "    <tr>\n",
       "      <th>1</th>\n",
       "      <td>2177</td>\n",
       "      <td>GODAVARI RIVER NEAR SOMESHWAR TEMPLE.</td>\n",
       "      <td>MAHARASHTRA</td>\n",
       "      <td>24.5</td>\n",
       "      <td>6.0</td>\n",
       "      <td>8.0</td>\n",
       "      <td>270.0</td>\n",
       "      <td>3.1</td>\n",
       "      <td>2.00</td>\n",
       "      <td>72.0</td>\n",
       "      <td>182.0</td>\n",
       "    </tr>\n",
       "    <tr>\n",
       "      <th>2</th>\n",
       "      <td>2182</td>\n",
       "      <td>GODAVARI RIVER AT SAIKHEDA.</td>\n",
       "      <td>MAHARASHTRA</td>\n",
       "      <td>25.8</td>\n",
       "      <td>5.5</td>\n",
       "      <td>7.8</td>\n",
       "      <td>355.0</td>\n",
       "      <td>4.2</td>\n",
       "      <td>9.00</td>\n",
       "      <td>59.0</td>\n",
       "      <td>133.0</td>\n",
       "    </tr>\n",
       "    <tr>\n",
       "      <th>3</th>\n",
       "      <td>2179</td>\n",
       "      <td>GODAVARI RIVER AT HANUMAN GHAT, NASHIK CITY.</td>\n",
       "      <td>MAHARASHTRA</td>\n",
       "      <td>24.8</td>\n",
       "      <td>5.5</td>\n",
       "      <td>7.8</td>\n",
       "      <td>371.0</td>\n",
       "      <td>5.6</td>\n",
       "      <td>3.55</td>\n",
       "      <td>90.0</td>\n",
       "      <td>283.0</td>\n",
       "    </tr>\n",
       "    <tr>\n",
       "      <th>4</th>\n",
       "      <td>2183</td>\n",
       "      <td>GODAVARI RIVER AT NANDUR- MADMESHWAR DAM.</td>\n",
       "      <td>MAHARASHTRA</td>\n",
       "      <td>25.7</td>\n",
       "      <td>5.7</td>\n",
       "      <td>7.9</td>\n",
       "      <td>294.0</td>\n",
       "      <td>3.2</td>\n",
       "      <td>2.69</td>\n",
       "      <td>45.0</td>\n",
       "      <td>132.0</td>\n",
       "    </tr>\n",
       "  </tbody>\n",
       "</table>\n",
       "</div>"
      ],
      "text/plain": [
       "   STATION CODE                                          LOCATIONS  \\\n",
       "0          1312  GODAVARI AT JAYAKWADI DAM, AURNAGABAD,MAHARASHTRA   \n",
       "1          2177              GODAVARI RIVER NEAR SOMESHWAR TEMPLE.   \n",
       "2          2182                        GODAVARI RIVER AT SAIKHEDA.   \n",
       "3          2179       GODAVARI RIVER AT HANUMAN GHAT, NASHIK CITY.   \n",
       "4          2183          GODAVARI RIVER AT NANDUR- MADMESHWAR DAM.   \n",
       "\n",
       "         STATE  TEMP   DO   pH  CONDUCTIVITY  BOD  NITRATE_N_NITRITE_N  \\\n",
       "0  MAHARASHTRA  29.2  6.4  8.1         735.0  3.4                 2.00   \n",
       "1  MAHARASHTRA  24.5  6.0  8.0         270.0  3.1                 2.00   \n",
       "2  MAHARASHTRA  25.8  5.5  7.8         355.0  4.2                 9.00   \n",
       "3  MAHARASHTRA  24.8  5.5  7.8         371.0  5.6                 3.55   \n",
       "4  MAHARASHTRA  25.7  5.7  7.9         294.0  3.2                 2.69   \n",
       "\n",
       "   FECAL_COLIFORM  TOTAL_COLIFORM  \n",
       "0             3.0            73.0  \n",
       "1            72.0           182.0  \n",
       "2            59.0           133.0  \n",
       "3            90.0           283.0  \n",
       "4            45.0           132.0  "
      ]
     },
     "execution_count": 4,
     "metadata": {},
     "output_type": "execute_result"
    }
   ],
   "source": [
    "df.head(5)"
   ]
  },
  {
   "cell_type": "code",
   "execution_count": 5,
   "id": "9ce30714",
   "metadata": {},
   "outputs": [
    {
     "data": {
      "text/plain": [
       "<AxesSubplot:title={'center':'Missing Values Per Feature'}>"
      ]
     },
     "execution_count": 5,
     "metadata": {},
     "output_type": "execute_result"
    },
    {
     "data": {
      "image/png": "[encoded data removed]",
      "text/plain": [
       "<Figure size 432x288 with 2 Axes>"
      ]
     },
     "metadata": {
      "needs_background": "light"
     },
     "output_type": "display_data"
    }
   ],
   "source": [
    "plt.title('Missing Values Per Feature')\n",
    "nans = df.isna().sum().sort_values(ascending=False).to_frame()\n",
    "sns.heatmap(nans,annot=True,fmt='d',cmap='vlag')"
   ]
  },
  {
   "cell_type": "code",
   "execution_count": 7,
   "id": "6c8b22ff",
   "metadata": {},
   "outputs": [],
   "source": [
    "df_clean = df.loc[df['DO'].notnull() & df['pH'].notnull() & df['CONDUCTIVITY'].notnull() & df['BOD'].notnull()& df['NITRATE_N_NITRITE_N'].notnull() & df['FECAL_COLIFORM'].notnull() & df['TOTAL_COLIFORM'].notnull() ]"
   ]
  },
  {
   "cell_type": "code",
   "execution_count": 8,
   "id": "e041ff53",
   "metadata": {},
   "outputs": [
    {
     "data": {
      "text/html": [
       "<div>\n",
       "<style scoped>\n",
       "    .dataframe tbody tr th:only-of-type {\n",
       "        vertical-align: middle;\n",
       "    }\n",
       "\n",
       "    .dataframe tbody tr th {\n",
       "        vertical-align: top;\n",
       "    }\n",
       "\n",
       "    .dataframe thead th {\n",
       "        text-align: right;\n",
       "    }\n",
       "</style>\n",
       "<table border=\"1\" class=\"dataframe\">\n",
       "  <thead>\n",
       "    <tr style=\"text-align: right;\">\n",
       "      <th></th>\n",
       "      <th>STATION CODE</th>\n",
       "      <th>LOCATIONS</th>\n",
       "      <th>STATE</th>\n",
       "      <th>TEMP</th>\n",
       "      <th>DO</th>\n",
       "      <th>pH</th>\n",
       "      <th>CONDUCTIVITY</th>\n",
       "      <th>BOD</th>\n",
       "      <th>NITRATE_N_NITRITE_N</th>\n",
       "      <th>FECAL_COLIFORM</th>\n",
       "      <th>TOTAL_COLIFORM</th>\n",
       "    </tr>\n",
       "  </thead>\n",
       "  <tbody>\n",
       "    <tr>\n",
       "      <th>0</th>\n",
       "      <td>1312</td>\n",
       "      <td>GODAVARI AT JAYAKWADI DAM, AURNAGABAD,MAHARASHTRA</td>\n",
       "      <td>MAHARASHTRA</td>\n",
       "      <td>29.2</td>\n",
       "      <td>6.4</td>\n",
       "      <td>8.1</td>\n",
       "      <td>735.0</td>\n",
       "      <td>3.4</td>\n",
       "      <td>2.00</td>\n",
       "      <td>3.0</td>\n",
       "      <td>73.0</td>\n",
       "    </tr>\n",
       "    <tr>\n",
       "      <th>1</th>\n",
       "      <td>2177</td>\n",
       "      <td>GODAVARI RIVER NEAR SOMESHWAR TEMPLE.</td>\n",
       "      <td>MAHARASHTRA</td>\n",
       "      <td>24.5</td>\n",
       "      <td>6.0</td>\n",
       "      <td>8.0</td>\n",
       "      <td>270.0</td>\n",
       "      <td>3.1</td>\n",
       "      <td>2.00</td>\n",
       "      <td>72.0</td>\n",
       "      <td>182.0</td>\n",
       "    </tr>\n",
       "    <tr>\n",
       "      <th>2</th>\n",
       "      <td>2182</td>\n",
       "      <td>GODAVARI RIVER AT SAIKHEDA.</td>\n",
       "      <td>MAHARASHTRA</td>\n",
       "      <td>25.8</td>\n",
       "      <td>5.5</td>\n",
       "      <td>7.8</td>\n",
       "      <td>355.0</td>\n",
       "      <td>4.2</td>\n",
       "      <td>9.00</td>\n",
       "      <td>59.0</td>\n",
       "      <td>133.0</td>\n",
       "    </tr>\n",
       "    <tr>\n",
       "      <th>3</th>\n",
       "      <td>2179</td>\n",
       "      <td>GODAVARI RIVER AT HANUMAN GHAT, NASHIK CITY.</td>\n",
       "      <td>MAHARASHTRA</td>\n",
       "      <td>24.8</td>\n",
       "      <td>5.5</td>\n",
       "      <td>7.8</td>\n",
       "      <td>371.0</td>\n",
       "      <td>5.6</td>\n",
       "      <td>3.55</td>\n",
       "      <td>90.0</td>\n",
       "      <td>283.0</td>\n",
       "    </tr>\n",
       "    <tr>\n",
       "      <th>4</th>\n",
       "      <td>2183</td>\n",
       "      <td>GODAVARI RIVER AT NANDUR- MADMESHWAR DAM.</td>\n",
       "      <td>MAHARASHTRA</td>\n",
       "      <td>25.7</td>\n",
       "      <td>5.7</td>\n",
       "      <td>7.9</td>\n",
       "      <td>294.0</td>\n",
       "      <td>3.2</td>\n",
       "      <td>2.69</td>\n",
       "      <td>45.0</td>\n",
       "      <td>132.0</td>\n",
       "    </tr>\n",
       "  </tbody>\n",
       "</table>\n",
       "</div>"
      ],
      "text/plain": [
       "   STATION CODE                                          LOCATIONS  \\\n",
       "0          1312  GODAVARI AT JAYAKWADI DAM, AURNAGABAD,MAHARASHTRA   \n",
       "1          2177              GODAVARI RIVER NEAR SOMESHWAR TEMPLE.   \n",
       "2          2182                        GODAVARI RIVER AT SAIKHEDA.   \n",
       "3          2179       GODAVARI RIVER AT HANUMAN GHAT, NASHIK CITY.   \n",
       "4          2183          GODAVARI RIVER AT NANDUR- MADMESHWAR DAM.   \n",
       "\n",
       "         STATE  TEMP   DO   pH  CONDUCTIVITY  BOD  NITRATE_N_NITRITE_N  \\\n",
       "0  MAHARASHTRA  29.2  6.4  8.1         735.0  3.4                 2.00   \n",
       "1  MAHARASHTRA  24.5  6.0  8.0         270.0  3.1                 2.00   \n",
       "2  MAHARASHTRA  25.8  5.5  7.8         355.0  4.2                 9.00   \n",
       "3  MAHARASHTRA  24.8  5.5  7.8         371.0  5.6                 3.55   \n",
       "4  MAHARASHTRA  25.7  5.7  7.9         294.0  3.2                 2.69   \n",
       "\n",
       "   FECAL_COLIFORM  TOTAL_COLIFORM  \n",
       "0             3.0            73.0  \n",
       "1            72.0           182.0  \n",
       "2            59.0           133.0  \n",
       "3            90.0           283.0  \n",
       "4            45.0           132.0  "
      ]
     },
     "execution_count": 8,
     "metadata": {},
     "output_type": "execute_result"
    }
   ],
   "source": [
    "df_clean.head(5)"
   ]
  },
  {
   "cell_type": "code",
   "execution_count": 25,
   "id": "e28cfe20",
   "metadata": {},
   "outputs": [
    {
     "name": "stdout",
     "output_type": "stream",
     "text": [
      "            Paramètres      Si  V_ideal\n",
      "0                   DO    10.0     14.6\n",
      "1                   PH     8.5      7.0\n",
      "2         CONDUCTIVITY  1000.0      0.0\n",
      "3                  BOD     5.0      0.0\n",
      "4  NITRATE_N_NITRITE_N    45.0      0.0\n",
      "5       FECAL_COLIFORM   100.0      0.0\n",
      "6       TOTAL_COLIFORM  1000.0      0.0\n"
     ]
    }
   ],
   "source": [
    "import pandas as pd\n",
    "\n"
   ]
  },
  {
   "cell_type": "markdown",
   "id": "eff60f42",
   "metadata": {},
   "source": [
    "k : constante de proportionnalité et peut également être calculée à l'aide de\n",
    "l'équation suivante:\n",
    "k =1/∑ (1/Si)"
   ]
  },
  {
   "cell_type": "code",
   "execution_count": 26,
   "id": "abeb059e",
   "metadata": {},
   "outputs": [
    {
     "name": "stdout",
     "output_type": "stream",
     "text": [
      "2.213029391344596\n"
     ]
    }
   ],
   "source": [
    "Somme_Si=0.0\n",
    "for i in Permissible_limits['Si']:\n",
    "    Somme_Si+=1/i\n",
    "    \n",
    "k=1/Somme_Si "
   ]
  },
  {
   "cell_type": "markdown",
   "id": "9a442070",
   "metadata": {},
   "source": [
    " Dans cette approche,\n",
    "une valeur numérique appelée poids relatif (Wi), spécifique à chaque\n",
    "paramètre physico-chimique, est calculée (Tab.1) selon la formule suivante :\n",
    "Wi =k/Si"
   ]
  },
  {
   "cell_type": "code",
   "execution_count": 32,
   "id": "524ec68c",
   "metadata": {},
   "outputs": [],
   "source": [
    "#Parameter_unit_weights\n",
    "Wi=list()\n",
    "for i in Permissible_limits['Si']:\n",
    "    Wi.append(round(k/i,4))"
   ]
  },
  {
   "cell_type": "code",
   "execution_count": 35,
   "id": "2a1df792",
   "metadata": {},
   "outputs": [
    {
     "data": {
      "text/html": [
       "<div>\n",
       "<style scoped>\n",
       "    .dataframe tbody tr th:only-of-type {\n",
       "        vertical-align: middle;\n",
       "    }\n",
       "\n",
       "    .dataframe tbody tr th {\n",
       "        vertical-align: top;\n",
       "    }\n",
       "\n",
       "    .dataframe thead th {\n",
       "        text-align: right;\n",
       "    }\n",
       "</style>\n",
       "<table border=\"1\" class=\"dataframe\">\n",
       "  <thead>\n",
       "    <tr style=\"text-align: right;\">\n",
       "      <th></th>\n",
       "      <th>Paramètres</th>\n",
       "      <th>Si</th>\n",
       "      <th>V_ideal</th>\n",
       "      <th>Parameter_unit_weights</th>\n",
       "    </tr>\n",
       "  </thead>\n",
       "  <tbody>\n",
       "    <tr>\n",
       "      <th>0</th>\n",
       "      <td>DO</td>\n",
       "      <td>10.0</td>\n",
       "      <td>14.6</td>\n",
       "      <td>0.2213</td>\n",
       "    </tr>\n",
       "    <tr>\n",
       "      <th>1</th>\n",
       "      <td>PH</td>\n",
       "      <td>8.5</td>\n",
       "      <td>7.0</td>\n",
       "      <td>0.2604</td>\n",
       "    </tr>\n",
       "    <tr>\n",
       "      <th>2</th>\n",
       "      <td>CONDUCTIVITY</td>\n",
       "      <td>1000.0</td>\n",
       "      <td>0.0</td>\n",
       "      <td>0.0022</td>\n",
       "    </tr>\n",
       "    <tr>\n",
       "      <th>3</th>\n",
       "      <td>BOD</td>\n",
       "      <td>5.0</td>\n",
       "      <td>0.0</td>\n",
       "      <td>0.4426</td>\n",
       "    </tr>\n",
       "    <tr>\n",
       "      <th>4</th>\n",
       "      <td>NITRATE_N_NITRITE_N</td>\n",
       "      <td>45.0</td>\n",
       "      <td>0.0</td>\n",
       "      <td>0.0492</td>\n",
       "    </tr>\n",
       "    <tr>\n",
       "      <th>5</th>\n",
       "      <td>FECAL_COLIFORM</td>\n",
       "      <td>100.0</td>\n",
       "      <td>0.0</td>\n",
       "      <td>0.0221</td>\n",
       "    </tr>\n",
       "    <tr>\n",
       "      <th>6</th>\n",
       "      <td>TOTAL_COLIFORM</td>\n",
       "      <td>1000.0</td>\n",
       "      <td>0.0</td>\n",
       "      <td>0.0022</td>\n",
       "    </tr>\n",
       "  </tbody>\n",
       "</table>\n",
       "</div>"
      ],
      "text/plain": [
       "            Paramètres      Si  V_ideal  Parameter_unit_weights\n",
       "0                   DO    10.0     14.6                  0.2213\n",
       "1                   PH     8.5      7.0                  0.2604\n",
       "2         CONDUCTIVITY  1000.0      0.0                  0.0022\n",
       "3                  BOD     5.0      0.0                  0.4426\n",
       "4  NITRATE_N_NITRITE_N    45.0      0.0                  0.0492\n",
       "5       FECAL_COLIFORM   100.0      0.0                  0.0221\n",
       "6       TOTAL_COLIFORM  1000.0      0.0                  0.0022"
      ]
     },
     "execution_count": 35,
     "metadata": {},
     "output_type": "execute_result"
    }
   ],
   "source": [
    "Permissible_limits['Parameter_unit_weights']=Wi\n",
    "Permissible_limits"
   ]
  },
  {
   "cell_type": "markdown",
   "id": "2e6c3f47",
   "metadata": {},
   "source": [
    "qi = 100 ×(Vi − VIdeal)/(Si − VIdeal)\n",
    "où :Vi est la valeur mesurée du paramètre i dans le test\n",
    "échantillonnesVIdeal est la valeur idéale du paramètre i en pur\n",
    "eau (0 pour tous les paramètres sauf DO = 14:6 mg/l et\n",
    "pH = 7:0), et Si est la valeur standard recommandée de\n",
    "paramètre i"
   ]
  },
  {
   "cell_type": "code",
   "execution_count": 37,
   "id": "35586d30",
   "metadata": {},
   "outputs": [],
   "source": [
    "df=df_clean\n",
    "start=0\n",
    "end=447\n",
    "station=df.iloc [start:end ,0]\n",
    "location=df.iloc [start:end ,1]\n",
    "state=df.iloc [start:end ,2]\n",
    "do= df.iloc [start:end ,4].astype(np.float64)\n",
    "value=0\n",
    "ph = df.iloc[ start:end,5]  \n",
    "co = df.iloc [start:end ,6].astype(np.float64)\n",
    "bod = df.iloc [start:end ,7].astype(np.float64)\n",
    "na= df.iloc [start:end ,8].astype(np.float64)\n",
    "fc=df.iloc [start:end ,9].astype(np.float64)"
   ]
  },
  {
   "cell_type": "code",
   "execution_count": 38,
   "id": "cbaed8da",
   "metadata": {},
   "outputs": [],
   "source": [
    "qna=na.apply(lambda x:100*x/45)"
   ]
  },
  {
   "cell_type": "code",
   "execution_count": 39,
   "id": "c8eff405",
   "metadata": {},
   "outputs": [
    {
     "data": {
      "text/plain": [
       "0       4.444444\n",
       "1       4.444444\n",
       "2      20.000000\n",
       "3       7.888889\n",
       "4       5.977778\n",
       "         ...    \n",
       "529     2.222222\n",
       "530     6.666667\n",
       "531     6.666667\n",
       "532     4.444444\n",
       "533     2.222222\n",
       "Name: NITRATE_N_NITRITE_N, Length: 447, dtype: float64"
      ]
     },
     "execution_count": 39,
     "metadata": {},
     "output_type": "execute_result"
    }
   ],
   "source": [
    "qna"
   ]
  },
  {
   "cell_type": "code",
   "execution_count": null,
   "id": "5a2a71d2",
   "metadata": {},
   "outputs": [],
   "source": [
    "df['wph']=df.npH * 0.2604\n",
    "df['wdo']=df.ndo * 0.2213\n",
    "df['wbdo']=df.nbdo * 0.4426\n",
    "df['wec']=df.nec* 0.0221\n",
    "df['wna']=df.nna * 0.0492\n",
    "df['wco']=df.nco * 0.0022\n",
    "df['wqi']=df.wph+df.wdo+df.wbdo+df.wec+df.wna+df.wco \n",
    "df"
   ]
  },
  {
   "cell_type": "code",
   "execution_count": null,
   "id": "22311254",
   "metadata": {},
   "outputs": [],
   "source": [
    "import numpy as np\n",
    "import pandas as pd\n",
    "from sklearn.preprocessing import MinMaxScaler\n",
    "from keras.models import Sequential\n",
    "from keras.layers import Dense, LSTM\n",
    "\n",
    "# Charger les données\n",
    "data = pd.read_csv('votre_fichier.csv')\n",
    "\n",
    "# Prétraitement des données\n",
    "scaler = MinMaxScaler(feature_range=(0, 1))\n",
    "data_scaled = scaler.fit_transform(data)\n",
    "\n",
    "# Diviser les données en ensembles d'entraînement et de test\n",
    "train_size = int(len(data_scaled) * 0.8)\n",
    "test_size = len(data_scaled) - train_size\n",
    "train, test = data_scaled[0:train_size,:], data_scaled[train_size:len(data_scaled),:]\n",
    "\n",
    "# Créer des séries temporelles de longueur définie (time_steps)\n",
    "def create_dataset(dataset, time_steps=1):\n",
    "    X, y = [], []\n",
    "    for i in range(len(dataset)-time_steps-1):\n",
    "        a = dataset[i:(i+time_steps), 0]\n",
    "        X.append(a)\n",
    "        y.append(dataset[i + time_steps, 0])\n",
    "    return np.array(X), np.array(y)\n",
    "\n",
    "time_steps = 12\n",
    "X_train, y_train = create_dataset(train, time_steps)\n",
    "X_test, y_test = create_dataset(test, time_steps)\n",
    "\n",
    "# Reshape des données d'entrée pour la modélisation en réseau LSTM\n",
    "X_train = np.reshape(X_train, (X_train.shape[0], 1, X_train.shape[1]))\n",
    "X_test = np.reshape(X_test, (X_test.shape[0], 1, X_test.shape[1]))\n",
    "\n",
    "# Créer le modèle LSTM\n",
    "model = Sequential()\n",
    "model.add(LSTM(50, input_shape=(1, time_steps)))\n",
    "model.add(Dense(1))\n",
    "model.compile(loss='mean_squared_error', optimizer='adam')\n",
    "model.fit(X_train, y_train, epochs=100, batch_size=1, verbose=2)\n",
    "\n",
    "# Faire des prévisions sur l'ensemble de test\n",
    "testPredict = model.predict(X_test)\n",
    "testPredict = scaler.inverse_transform(testPredict)\n",
    "\n",
    "# Faire des prévisions pour les années futures\n",
    "last_inputs = data_scaled[-time_steps:, 0]\n",
    "last_inputs = np.reshape(last_inputs, (1, 1, time_steps))\n",
    "futurePredict = model.predict(last_inputs)\n",
    "futurePredict = scaler.inverse_transform(futurePredict)\n",
    "\n",
    "# Imprimer les résultats\n",
    "print(\"Prévisions pour les années futures:\")\n",
    "print(futurePredict)\n"
   ]
  },
  {
   "cell_type": "code",
   "execution_count": null,
   "id": "5ea74b72",
   "metadata": {},
   "outputs": [],
   "source": [
    "import pandas as pd\n",
    "import numpy as np\n",
    "from keras.models import Sequential\n",
    "from keras.layers import Dense, LSTM\n",
    "from sklearn.preprocessing import MinMaxScaler\n",
    "\n",
    "# Importer les données historiques\n",
    "data = pd.read_csv('time_series.csv', parse_dates=['Date'], index_col='Date')\n",
    "\n",
    "# Normaliser les données\n",
    "scaler = MinMaxScaler(feature_range=(0, 1))\n",
    "scaled_data = scaler.fit_transform(data)\n",
    "\n",
    "# Définir la taille de la fenêtre temporelle\n",
    "window_size = 12\n",
    "\n",
    "# Préparer les ensembles d'entraînement et de test\n",
    "train_size = int(len(data) * 0.8)\n",
    "train_data = scaled_data[0:train_size, :]\n",
    "test_data = scaled_data[train_size-window_size:len(data), :]\n",
    "\n",
    "# Diviser les données en entrées et sorties\n",
    "def create_dataset(dataset, window_size):\n",
    "    X, y = [], []\n",
    "    for i in range(len(dataset)-window_size-1):\n",
    "        X.append(dataset[i:(i+window_size), 0])\n",
    "        y.append(dataset[i + window_size, 0])\n",
    "    return np.array(X), np.array(y)\n",
    "\n",
    "X_train, y_train = create_dataset(train_data, window_size)\n",
    "X_test, y_test = create_dataset(test_data, window_size)\n",
    "\n",
    "# Créer le modèle LSTM\n",
    "model = Sequential()\n",
    "model.add(LSTM(50, input_shape=(window_size, 1)))\n",
    "model.add(Dense(1))\n",
    "model.compile(loss='mse', optimizer='adam')\n",
    "\n",
    "# Entraîner le modèle\n",
    "model.fit(X_train, y_train, epochs=50, batch_size=64, verbose=1)\n",
    "\n",
    "# Prédire les valeurs futures\n",
    "predictions = model.predict(X_test)\n",
    "predictions = scaler.inverse_transform(predictions)\n",
    "\n",
    "# Visualiser les prévisions\n",
    "import matplotlib.pyplot as plt\n",
    "\n",
    "plt.plot(data.index[train_size:], data[train_size:])\n",
    "plt.plot(data.index[train_size:], predictions)\n",
    "plt.show()\n"
   ]
  }
 ],
 "metadata": {
  "kernelspec": {
   "display_name": "Python 3",
   "language": "python",
   "name": "python3"
  },
  "language_info": {
   "codemirror_mode": {
    "name": "ipython",
    "version": 3
   },
   "file_extension": ".py",
   "mimetype": "text/x-python",
   "name": "python",
   "nbconvert_exporter": "python",
   "pygments_lexer": "ipython3",
   "version": "3.8.8"
  }
 },
 "nbformat": 4,
 "nbformat_minor": 5
}
