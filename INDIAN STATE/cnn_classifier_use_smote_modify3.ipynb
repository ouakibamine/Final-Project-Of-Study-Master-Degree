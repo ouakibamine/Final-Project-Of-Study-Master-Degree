{
 "cells": [
  {
   "cell_type": "code",
   "execution_count": 1,
   "metadata": {
    "id": "ioTC26YKAGcS"
   },
   "outputs": [],
   "source": [
    "import os\n",
    "import pandas as pd\n",
    "import numpy as np\n",
    "import matplotlib.pyplot as plt\n",
    "import seaborn as sns\n",
    "from sklearn.impute import SimpleImputer\n",
    "from sklearn.neighbors import LocalOutlierFactor\n",
    "from scipy.stats import probplot\n",
    "from scipy.stats import zscore "
   ]
  },
  {
   "cell_type": "code",
   "execution_count": 2,
   "metadata": {
    "id": "oamhuFeMAQON"
   },
   "outputs": [],
   "source": [
    "df=pd.read_csv(\"water_quality_classifier_mean_state.csv\")"
   ]
  },
  {
   "cell_type": "code",
   "execution_count": 13,
   "metadata": {
    "id": "M8iudlVwATEI"
   },
   "outputs": [],
   "source": [
    "import pandas as pd\n",
    "import numpy as np\n",
    "import tensorflow as tf\n",
    "from sklearn.model_selection import train_test_split\n",
    "from sklearn.preprocessing import LabelEncoder\n",
    "from tensorflow.keras.models import Sequential\n",
    "from tensorflow.keras.layers import Dense, Conv1D, MaxPooling1D, Flatten,Dropout\n",
    "from tensorflow.keras.utils import to_categorical\n",
    "\n",
    "# Charger les données\n",
    "data = df"
   ]
  },
  {
   "cell_type": "code",
   "execution_count": 14,
   "metadata": {
    "id": "jMZgLCUpAYcv"
   },
   "outputs": [],
   "source": [
    "\n",
    "cols_to_drop=[\"WQI clf\"]\n",
    "# Diviser les données en caractéristiques et cibles\n",
    "X =  data.drop(cols_to_drop, axis=1)\n",
    "y = data[\"WQI clf\"].values"
   ]
  },
  {
   "cell_type": "code",
   "execution_count": 15,
   "metadata": {
    "id": "f2Q3xFFMAcPL"
   },
   "outputs": [],
   "source": [
    "# Encoder les labels catégoriels\n",
    "label_encoder = LabelEncoder()\n",
    "y = label_encoder.fit_transform(y)"
   ]
  },
  {
   "cell_type": "code",
   "execution_count": 16,
   "metadata": {
    "colab": {
     "base_uri": "https://localhost:8080/"
    },
    "id": "sMmq3udRA7bP",
    "outputId": "179aeb15-26f7-481c-e32a-d5dfd4865f72"
   },
   "outputs": [
    {
     "name": "stdout",
     "output_type": "stream",
     "text": [
      "Balancing the data by SMOTE - Oversampling of Minority level\n",
      "\n",
      "Before SMOTE Counter({2: 593, 0: 479, 1: 308, 3: 284, 4: 15})\n",
      "\n",
      "After SMOTE Counter({0: 593, 1: 593, 2: 593, 3: 593, 4: 593})\n"
     ]
    }
   ],
   "source": [
    "from imblearn.over_sampling import SMOTE\n",
    "from collections import Counter\n",
    "print('Balancing the data by SMOTE - Oversampling of Minority level\\n')\n",
    "smt = SMOTE()\n",
    "counter = Counter(y)\n",
    "print('Before SMOTE', counter)\n",
    "X,y = smt.fit_resample(X,y)\n",
    "counter = Counter(y)\n",
    "print('\\nAfter SMOTE', counter)"
   ]
  },
  {
   "cell_type": "code",
   "execution_count": 17,
   "metadata": {
    "id": "S8LGa3hJAfRs"
   },
   "outputs": [],
   "source": [
    "# Diviser les données en ensembles d'entraînement et de test\n",
    "X_train, X_test, y_train, y_test = train_test_split(X, y, test_size=0.2, random_state=42)"
   ]
  },
  {
   "cell_type": "code",
   "execution_count": 18,
   "metadata": {
    "id": "YUOyqx93AicJ"
   },
   "outputs": [],
   "source": [
    "# Redimensionner les données pour les convolutions 1D\n",
    "X_train = X_train.values.reshape(X_train.shape[0], X_train.shape[1], 1)\n",
    "X_test = X_test.values.reshape(X_test.shape[0], X_test.shape[1], 1)"
   ]
  },
  {
   "cell_type": "code",
   "execution_count": 19,
   "metadata": {
    "id": "-k5nTj77Amrg"
   },
   "outputs": [],
   "source": [
    "# Convertir les labels en one-hot encoding\n",
    "y_train = to_categorical(y_train)\n",
    "y_test = to_categorical(y_test)\n",
    "\n",
    "# Créer le modèle CNN\n",
    "model = Sequential()\n",
    "model.add(Conv1D(filters=32, kernel_size=2, activation='relu', input_shape=(X_train.shape[1], 1)))\n",
    "model.add(MaxPooling1D(pool_size=1))\n",
    "model.add(Conv1D(filters=64, kernel_size=2, activation='relu'))\n",
    "model.add(MaxPooling1D(pool_size=1))\n",
    "model.add(Conv1D(filters=128, kernel_size=2, activation='relu'))\n",
    "model.add(MaxPooling1D(pool_size=1))\n",
    "model.add(Conv1D(filters=256, kernel_size=2, activation='relu'))\n",
    "model.add(MaxPooling1D(pool_size=1))\n",
    "model.add(Flatten())\n",
    "model.add(Dense(units=256, activation='relu'))\n",
    "model.add(Dropout(0.1))\n",
    "model.add(Dense(y_train.shape[1], activation=\"softmax\"))\n",
    "\n",
    "# Compiler le modèle\n",
    "model.compile(loss=\"categorical_crossentropy\", optimizer=\"adam\", metrics=[\"accuracy\"])"
   ]
  },
  {
   "cell_type": "code",
   "execution_count": 20,
   "metadata": {
    "colab": {
     "base_uri": "https://localhost:8080/"
    },
    "id": "WfOC2OtDAslL",
    "outputId": "fdeb82b5-2902-4807-dc96-cc5fd88e2806"
   },
   "outputs": [
    {
     "name": "stdout",
     "output_type": "stream",
     "text": [
      "Epoch 1/150\n",
      "38/38 [==============================] - 6s 46ms/step - loss: 18.1359 - accuracy: 0.2551 - val_loss: 5.8615 - val_accuracy: 0.2108\n",
      "Epoch 2/150\n",
      "38/38 [==============================] - 2s 42ms/step - loss: 3.3469 - accuracy: 0.2905 - val_loss: 2.8762 - val_accuracy: 0.3238\n",
      "Epoch 3/150\n",
      "38/38 [==============================] - 2s 58ms/step - loss: 2.6761 - accuracy: 0.3204 - val_loss: 2.5111 - val_accuracy: 0.3575\n",
      "Epoch 4/150\n",
      "38/38 [==============================] - 1s 22ms/step - loss: 2.0676 - accuracy: 0.3571 - val_loss: 1.6379 - val_accuracy: 0.3474\n",
      "Epoch 5/150\n",
      "38/38 [==============================] - 1s 18ms/step - loss: 1.5965 - accuracy: 0.3824 - val_loss: 1.4125 - val_accuracy: 0.3373\n",
      "Epoch 6/150\n",
      "38/38 [==============================] - 1s 21ms/step - loss: 1.3335 - accuracy: 0.4359 - val_loss: 1.2485 - val_accuracy: 0.4250\n",
      "Epoch 7/150\n",
      "38/38 [==============================] - 1s 20ms/step - loss: 1.2227 - accuracy: 0.4578 - val_loss: 1.2491 - val_accuracy: 0.4435\n",
      "Epoch 8/150\n",
      "38/38 [==============================] - 1s 17ms/step - loss: 1.1360 - accuracy: 0.4962 - val_loss: 1.1093 - val_accuracy: 0.4907\n",
      "Epoch 9/150\n",
      "38/38 [==============================] - 1s 18ms/step - loss: 1.0568 - accuracy: 0.5274 - val_loss: 1.0760 - val_accuracy: 0.6121\n",
      "Epoch 10/150\n",
      "38/38 [==============================] - 1s 17ms/step - loss: 0.9880 - accuracy: 0.5831 - val_loss: 1.0457 - val_accuracy: 0.5076\n",
      "Epoch 11/150\n",
      "38/38 [==============================] - 1s 18ms/step - loss: 0.9654 - accuracy: 0.5936 - val_loss: 1.0552 - val_accuracy: 0.4907\n",
      "Epoch 12/150\n",
      "38/38 [==============================] - 1s 18ms/step - loss: 0.9755 - accuracy: 0.5987 - val_loss: 1.1519 - val_accuracy: 0.5025\n",
      "Epoch 13/150\n",
      "38/38 [==============================] - 1s 18ms/step - loss: 2.0377 - accuracy: 0.4865 - val_loss: 1.3336 - val_accuracy: 0.4924\n",
      "Epoch 14/150\n",
      "38/38 [==============================] - 1s 18ms/step - loss: 1.0991 - accuracy: 0.5712 - val_loss: 1.0058 - val_accuracy: 0.6037\n",
      "Epoch 15/150\n",
      "38/38 [==============================] - 1s 19ms/step - loss: 0.8911 - accuracy: 0.6594 - val_loss: 0.9973 - val_accuracy: 0.6509\n",
      "Epoch 16/150\n",
      "38/38 [==============================] - 1s 18ms/step - loss: 1.2921 - accuracy: 0.5843 - val_loss: 3.6719 - val_accuracy: 0.4806\n",
      "Epoch 17/150\n",
      "38/38 [==============================] - 1s 17ms/step - loss: 1.3823 - accuracy: 0.5253 - val_loss: 1.0935 - val_accuracy: 0.5143\n",
      "Epoch 18/150\n",
      "38/38 [==============================] - 1s 21ms/step - loss: 0.9691 - accuracy: 0.6345 - val_loss: 0.9832 - val_accuracy: 0.6948\n",
      "Epoch 19/150\n",
      "38/38 [==============================] - 1s 26ms/step - loss: 0.8531 - accuracy: 0.6893 - val_loss: 1.0068 - val_accuracy: 0.6796\n",
      "Epoch 20/150\n",
      "38/38 [==============================] - 1s 29ms/step - loss: 1.4737 - accuracy: 0.5624 - val_loss: 2.1055 - val_accuracy: 0.5481\n",
      "Epoch 21/150\n",
      "38/38 [==============================] - 1s 22ms/step - loss: 1.2589 - accuracy: 0.5818 - val_loss: 1.0736 - val_accuracy: 0.5885\n",
      "Epoch 22/150\n",
      "38/38 [==============================] - 1s 17ms/step - loss: 1.1502 - accuracy: 0.5485 - val_loss: 1.0489 - val_accuracy: 0.5548\n",
      "Epoch 23/150\n",
      "38/38 [==============================] - 1s 18ms/step - loss: 1.5106 - accuracy: 0.6370 - val_loss: 1.1127 - val_accuracy: 0.5801\n",
      "Epoch 24/150\n",
      "38/38 [==============================] - 1s 18ms/step - loss: 0.9050 - accuracy: 0.6724 - val_loss: 1.0232 - val_accuracy: 0.6358\n",
      "Epoch 25/150\n",
      "38/38 [==============================] - 1s 18ms/step - loss: 0.8569 - accuracy: 0.6623 - val_loss: 0.9538 - val_accuracy: 0.6358\n",
      "Epoch 26/150\n",
      "38/38 [==============================] - 1s 18ms/step - loss: 0.8085 - accuracy: 0.6986 - val_loss: 0.8688 - val_accuracy: 0.6577\n",
      "Epoch 27/150\n",
      "38/38 [==============================] - 1s 18ms/step - loss: 0.8323 - accuracy: 0.6745 - val_loss: 0.8547 - val_accuracy: 0.6914\n",
      "Epoch 28/150\n",
      "38/38 [==============================] - 1s 18ms/step - loss: 0.7976 - accuracy: 0.7053 - val_loss: 1.2620 - val_accuracy: 0.5177\n",
      "Epoch 29/150\n",
      "38/38 [==============================] - 1s 18ms/step - loss: 0.9752 - accuracy: 0.6075 - val_loss: 0.8806 - val_accuracy: 0.6779\n",
      "Epoch 30/150\n",
      "38/38 [==============================] - 1s 18ms/step - loss: 0.7672 - accuracy: 0.7159 - val_loss: 0.8984 - val_accuracy: 0.6054\n",
      "Epoch 31/150\n",
      "38/38 [==============================] - 1s 18ms/step - loss: 0.7274 - accuracy: 0.7319 - val_loss: 1.0260 - val_accuracy: 0.6358\n",
      "Epoch 32/150\n",
      "38/38 [==============================] - 1s 17ms/step - loss: 0.9527 - accuracy: 0.6134 - val_loss: 0.9991 - val_accuracy: 0.6509\n",
      "Epoch 33/150\n",
      "38/38 [==============================] - 1s 18ms/step - loss: 0.7785 - accuracy: 0.7057 - val_loss: 0.8518 - val_accuracy: 0.6712\n",
      "Epoch 34/150\n",
      "38/38 [==============================] - 1s 18ms/step - loss: 0.7737 - accuracy: 0.6969 - val_loss: 0.8167 - val_accuracy: 0.7167\n",
      "Epoch 35/150\n",
      "38/38 [==============================] - 1s 18ms/step - loss: 0.6736 - accuracy: 0.7500 - val_loss: 0.7561 - val_accuracy: 0.7504\n",
      "Epoch 36/150\n",
      "38/38 [==============================] - 1s 29ms/step - loss: 0.6397 - accuracy: 0.7787 - val_loss: 0.8108 - val_accuracy: 0.7184\n",
      "Epoch 37/150\n",
      "38/38 [==============================] - 1s 29ms/step - loss: 0.6745 - accuracy: 0.7517 - val_loss: 0.7261 - val_accuracy: 0.7740\n",
      "Epoch 38/150\n",
      "38/38 [==============================] - 1s 26ms/step - loss: 0.6209 - accuracy: 0.7858 - val_loss: 0.6786 - val_accuracy: 0.7909\n",
      "Epoch 39/150\n",
      "38/38 [==============================] - 1s 18ms/step - loss: 0.7025 - accuracy: 0.7445 - val_loss: 0.7083 - val_accuracy: 0.7470\n",
      "Epoch 40/150\n",
      "38/38 [==============================] - 1s 17ms/step - loss: 0.5997 - accuracy: 0.7854 - val_loss: 0.7266 - val_accuracy: 0.7555\n",
      "Epoch 41/150\n",
      "38/38 [==============================] - 1s 19ms/step - loss: 0.5929 - accuracy: 0.7888 - val_loss: 0.6578 - val_accuracy: 0.7555\n",
      "Epoch 42/150\n",
      "38/38 [==============================] - 1s 18ms/step - loss: 0.5755 - accuracy: 0.8023 - val_loss: 0.7788 - val_accuracy: 0.7319\n",
      "Epoch 43/150\n",
      "38/38 [==============================] - 1s 19ms/step - loss: 0.6056 - accuracy: 0.7850 - val_loss: 0.6391 - val_accuracy: 0.7926\n",
      "Epoch 44/150\n",
      "38/38 [==============================] - 1s 17ms/step - loss: 0.6199 - accuracy: 0.7715 - val_loss: 0.7304 - val_accuracy: 0.7825\n",
      "Epoch 45/150\n",
      "38/38 [==============================] - 1s 18ms/step - loss: 0.5823 - accuracy: 0.7985 - val_loss: 1.0339 - val_accuracy: 0.7066\n",
      "Epoch 46/150\n",
      "38/38 [==============================] - 1s 17ms/step - loss: 0.6643 - accuracy: 0.7492 - val_loss: 0.7273 - val_accuracy: 0.7740\n",
      "Epoch 47/150\n",
      "38/38 [==============================] - 1s 18ms/step - loss: 0.5637 - accuracy: 0.7892 - val_loss: 0.5952 - val_accuracy: 0.8094\n",
      "Epoch 48/150\n",
      "38/38 [==============================] - 1s 19ms/step - loss: 0.5285 - accuracy: 0.8162 - val_loss: 0.5875 - val_accuracy: 0.8094\n",
      "Epoch 49/150\n",
      "38/38 [==============================] - 1s 17ms/step - loss: 0.5702 - accuracy: 0.7968 - val_loss: 0.6658 - val_accuracy: 0.7622\n",
      "Epoch 50/150\n",
      "38/38 [==============================] - 1s 18ms/step - loss: 0.5235 - accuracy: 0.8120 - val_loss: 0.6109 - val_accuracy: 0.8010\n",
      "Epoch 51/150\n",
      "38/38 [==============================] - 1s 17ms/step - loss: 0.5022 - accuracy: 0.8255 - val_loss: 0.5793 - val_accuracy: 0.8246\n",
      "Epoch 52/150\n",
      "38/38 [==============================] - 1s 18ms/step - loss: 0.4765 - accuracy: 0.8385 - val_loss: 0.6570 - val_accuracy: 0.7774\n",
      "Epoch 53/150\n",
      "38/38 [==============================] - 1s 24ms/step - loss: 0.5091 - accuracy: 0.8170 - val_loss: 0.8603 - val_accuracy: 0.7319\n",
      "Epoch 54/150\n",
      "38/38 [==============================] - 1s 27ms/step - loss: 0.5661 - accuracy: 0.7951 - val_loss: 0.7293 - val_accuracy: 0.7622\n",
      "Epoch 55/150\n",
      "38/38 [==============================] - 1s 30ms/step - loss: 0.5157 - accuracy: 0.8208 - val_loss: 0.7261 - val_accuracy: 0.7774\n",
      "Epoch 56/150\n",
      "38/38 [==============================] - 1s 21ms/step - loss: 0.4942 - accuracy: 0.8204 - val_loss: 0.5611 - val_accuracy: 0.8061\n",
      "Epoch 57/150\n",
      "38/38 [==============================] - 1s 18ms/step - loss: 0.4357 - accuracy: 0.8465 - val_loss: 0.6063 - val_accuracy: 0.7791\n",
      "Epoch 58/150\n",
      "38/38 [==============================] - 1s 18ms/step - loss: 0.4400 - accuracy: 0.8352 - val_loss: 0.5712 - val_accuracy: 0.7909\n",
      "Epoch 59/150\n",
      "38/38 [==============================] - 1s 18ms/step - loss: 0.6264 - accuracy: 0.7652 - val_loss: 0.5907 - val_accuracy: 0.8128\n",
      "Epoch 60/150\n",
      "38/38 [==============================] - 1s 17ms/step - loss: 0.5104 - accuracy: 0.8158 - val_loss: 0.5821 - val_accuracy: 0.7909\n",
      "Epoch 61/150\n",
      "38/38 [==============================] - 1s 18ms/step - loss: 0.4533 - accuracy: 0.8368 - val_loss: 0.5373 - val_accuracy: 0.8364\n",
      "Epoch 62/150\n",
      "38/38 [==============================] - 1s 18ms/step - loss: 0.4820 - accuracy: 0.8297 - val_loss: 0.5659 - val_accuracy: 0.8027\n",
      "Epoch 63/150\n",
      "38/38 [==============================] - 1s 18ms/step - loss: 0.4485 - accuracy: 0.8267 - val_loss: 0.5378 - val_accuracy: 0.8364\n",
      "Epoch 64/150\n",
      "38/38 [==============================] - 1s 17ms/step - loss: 0.4373 - accuracy: 0.8402 - val_loss: 0.5736 - val_accuracy: 0.8162\n",
      "Epoch 65/150\n",
      "38/38 [==============================] - 1s 18ms/step - loss: 0.4252 - accuracy: 0.8457 - val_loss: 0.5057 - val_accuracy: 0.8229\n",
      "Epoch 66/150\n",
      "38/38 [==============================] - 1s 19ms/step - loss: 0.4354 - accuracy: 0.8427 - val_loss: 0.7473 - val_accuracy: 0.7808\n",
      "Epoch 67/150\n",
      "38/38 [==============================] - 1s 17ms/step - loss: 0.4676 - accuracy: 0.8225 - val_loss: 0.5373 - val_accuracy: 0.8212\n",
      "Epoch 68/150\n",
      "38/38 [==============================] - 1s 17ms/step - loss: 0.3837 - accuracy: 0.8588 - val_loss: 0.6753 - val_accuracy: 0.7589\n",
      "Epoch 69/150\n",
      "38/38 [==============================] - 1s 18ms/step - loss: 0.5455 - accuracy: 0.7989 - val_loss: 0.5351 - val_accuracy: 0.8314\n",
      "Epoch 70/150\n",
      "38/38 [==============================] - 1s 18ms/step - loss: 0.4140 - accuracy: 0.8482 - val_loss: 0.7700 - val_accuracy: 0.7116\n",
      "Epoch 71/150\n",
      "38/38 [==============================] - 1s 30ms/step - loss: 0.6143 - accuracy: 0.7639 - val_loss: 0.6101 - val_accuracy: 0.8196\n",
      "Epoch 72/150\n",
      "38/38 [==============================] - 1s 29ms/step - loss: 0.4567 - accuracy: 0.8436 - val_loss: 0.5574 - val_accuracy: 0.8229\n",
      "Epoch 73/150\n",
      "38/38 [==============================] - 1s 25ms/step - loss: 0.4147 - accuracy: 0.8398 - val_loss: 0.6016 - val_accuracy: 0.7841\n",
      "Epoch 74/150\n",
      "38/38 [==============================] - 1s 18ms/step - loss: 0.4399 - accuracy: 0.8280 - val_loss: 0.5705 - val_accuracy: 0.7858\n",
      "Epoch 75/150\n",
      "38/38 [==============================] - 1s 19ms/step - loss: 0.4460 - accuracy: 0.8339 - val_loss: 0.4947 - val_accuracy: 0.8212\n",
      "Epoch 76/150\n",
      "38/38 [==============================] - 1s 17ms/step - loss: 0.3759 - accuracy: 0.8562 - val_loss: 0.5137 - val_accuracy: 0.8128\n",
      "Epoch 77/150\n",
      "38/38 [==============================] - 1s 18ms/step - loss: 0.4077 - accuracy: 0.8335 - val_loss: 0.4993 - val_accuracy: 0.8196\n",
      "Epoch 78/150\n",
      "38/38 [==============================] - 1s 18ms/step - loss: 0.3511 - accuracy: 0.8583 - val_loss: 1.1364 - val_accuracy: 0.6998\n",
      "Epoch 79/150\n",
      "38/38 [==============================] - 1s 18ms/step - loss: 0.4744 - accuracy: 0.8094 - val_loss: 0.5020 - val_accuracy: 0.8196\n",
      "Epoch 80/150\n",
      "38/38 [==============================] - 1s 17ms/step - loss: 0.3694 - accuracy: 0.8474 - val_loss: 0.4953 - val_accuracy: 0.8145\n",
      "Epoch 81/150\n",
      "38/38 [==============================] - 1s 18ms/step - loss: 0.3278 - accuracy: 0.8697 - val_loss: 0.4434 - val_accuracy: 0.8499\n",
      "Epoch 82/150\n",
      "38/38 [==============================] - 1s 18ms/step - loss: 0.9012 - accuracy: 0.7955 - val_loss: 2.0462 - val_accuracy: 0.6138\n",
      "Epoch 83/150\n",
      "38/38 [==============================] - 1s 19ms/step - loss: 1.3065 - accuracy: 0.6581 - val_loss: 1.0095 - val_accuracy: 0.7032\n",
      "Epoch 84/150\n",
      "38/38 [==============================] - 1s 18ms/step - loss: 0.9243 - accuracy: 0.6488 - val_loss: 0.9421 - val_accuracy: 0.6256\n",
      "Epoch 85/150\n",
      "38/38 [==============================] - 1s 17ms/step - loss: 0.6491 - accuracy: 0.7513 - val_loss: 0.6250 - val_accuracy: 0.7723\n",
      "Epoch 86/150\n",
      "38/38 [==============================] - 1s 18ms/step - loss: 0.4808 - accuracy: 0.8200 - val_loss: 0.5960 - val_accuracy: 0.7960\n",
      "Epoch 87/150\n",
      "38/38 [==============================] - 1s 19ms/step - loss: 0.4997 - accuracy: 0.8086 - val_loss: 0.5274 - val_accuracy: 0.8347\n",
      "Epoch 88/150\n",
      "38/38 [==============================] - 1s 27ms/step - loss: 0.4547 - accuracy: 0.8293 - val_loss: 0.6369 - val_accuracy: 0.7740\n",
      "Epoch 89/150\n",
      "38/38 [==============================] - 1s 30ms/step - loss: 0.4794 - accuracy: 0.8175 - val_loss: 0.6613 - val_accuracy: 0.7403\n",
      "Epoch 90/150\n",
      "38/38 [==============================] - 1s 29ms/step - loss: 0.4734 - accuracy: 0.8187 - val_loss: 0.6053 - val_accuracy: 0.7960\n",
      "Epoch 91/150\n",
      "38/38 [==============================] - 1s 18ms/step - loss: 0.4445 - accuracy: 0.8242 - val_loss: 0.5435 - val_accuracy: 0.7976\n",
      "Epoch 92/150\n",
      "38/38 [==============================] - 1s 19ms/step - loss: 0.4084 - accuracy: 0.8385 - val_loss: 0.5553 - val_accuracy: 0.8111\n",
      "Epoch 93/150\n",
      "38/38 [==============================] - 1s 19ms/step - loss: 0.4168 - accuracy: 0.8390 - val_loss: 0.4924 - val_accuracy: 0.7976\n",
      "Epoch 94/150\n",
      "38/38 [==============================] - 1s 19ms/step - loss: 0.4203 - accuracy: 0.8326 - val_loss: 0.6326 - val_accuracy: 0.7740\n",
      "Epoch 95/150\n",
      "38/38 [==============================] - 1s 17ms/step - loss: 0.4443 - accuracy: 0.8250 - val_loss: 0.5358 - val_accuracy: 0.7993\n",
      "Epoch 96/150\n",
      "38/38 [==============================] - 1s 19ms/step - loss: 0.4304 - accuracy: 0.8309 - val_loss: 0.5750 - val_accuracy: 0.8094\n",
      "Epoch 97/150\n",
      "38/38 [==============================] - 1s 18ms/step - loss: 0.3681 - accuracy: 0.8554 - val_loss: 0.4855 - val_accuracy: 0.8044\n",
      "Epoch 98/150\n",
      "38/38 [==============================] - 1s 18ms/step - loss: 0.3679 - accuracy: 0.8550 - val_loss: 0.4985 - val_accuracy: 0.8145\n",
      "Epoch 99/150\n",
      "38/38 [==============================] - 1s 18ms/step - loss: 0.3942 - accuracy: 0.8533 - val_loss: 0.5013 - val_accuracy: 0.8263\n",
      "Epoch 100/150\n",
      "38/38 [==============================] - 1s 19ms/step - loss: 0.3679 - accuracy: 0.8613 - val_loss: 0.5221 - val_accuracy: 0.8331\n",
      "Epoch 101/150\n",
      "38/38 [==============================] - 1s 18ms/step - loss: 0.3690 - accuracy: 0.8571 - val_loss: 0.5748 - val_accuracy: 0.8044\n",
      "Epoch 102/150\n",
      "38/38 [==============================] - 1s 18ms/step - loss: 0.5092 - accuracy: 0.8107 - val_loss: 0.6798 - val_accuracy: 0.7841\n",
      "Epoch 103/150\n",
      "38/38 [==============================] - 1s 18ms/step - loss: 0.4380 - accuracy: 0.8339 - val_loss: 0.5493 - val_accuracy: 0.8280\n",
      "Epoch 104/150\n",
      "38/38 [==============================] - 1s 17ms/step - loss: 0.3963 - accuracy: 0.8499 - val_loss: 0.5297 - val_accuracy: 0.8212\n",
      "Epoch 105/150\n",
      "38/38 [==============================] - 1s 28ms/step - loss: 0.3991 - accuracy: 0.8579 - val_loss: 0.5894 - val_accuracy: 0.7943\n",
      "Epoch 106/150\n",
      "38/38 [==============================] - 1s 28ms/step - loss: 0.3618 - accuracy: 0.8642 - val_loss: 0.4662 - val_accuracy: 0.8567\n",
      "Epoch 107/150\n",
      "38/38 [==============================] - 1s 27ms/step - loss: 0.3386 - accuracy: 0.8735 - val_loss: 0.4582 - val_accuracy: 0.8229\n",
      "Epoch 108/150\n",
      "38/38 [==============================] - 1s 19ms/step - loss: 0.3206 - accuracy: 0.8710 - val_loss: 0.5802 - val_accuracy: 0.8044\n",
      "Epoch 109/150\n",
      "38/38 [==============================] - 1s 19ms/step - loss: 0.3279 - accuracy: 0.8642 - val_loss: 0.4910 - val_accuracy: 0.8297\n",
      "Epoch 110/150\n",
      "38/38 [==============================] - 1s 19ms/step - loss: 0.2804 - accuracy: 0.8879 - val_loss: 0.4299 - val_accuracy: 0.8415\n",
      "Epoch 111/150\n",
      "38/38 [==============================] - 1s 19ms/step - loss: 0.2968 - accuracy: 0.8866 - val_loss: 0.4221 - val_accuracy: 0.8533\n",
      "Epoch 112/150\n",
      "38/38 [==============================] - 1s 19ms/step - loss: 0.3294 - accuracy: 0.8651 - val_loss: 0.4799 - val_accuracy: 0.8212\n",
      "Epoch 113/150\n",
      "38/38 [==============================] - 1s 18ms/step - loss: 0.3152 - accuracy: 0.8786 - val_loss: 0.4561 - val_accuracy: 0.8246\n",
      "Epoch 114/150\n",
      "38/38 [==============================] - 1s 17ms/step - loss: 0.3183 - accuracy: 0.8723 - val_loss: 0.4743 - val_accuracy: 0.8381\n",
      "Epoch 115/150\n",
      "38/38 [==============================] - 1s 18ms/step - loss: 0.3192 - accuracy: 0.8659 - val_loss: 0.5562 - val_accuracy: 0.8331\n",
      "Epoch 116/150\n",
      "38/38 [==============================] - 1s 18ms/step - loss: 0.3949 - accuracy: 0.8554 - val_loss: 0.5223 - val_accuracy: 0.7960\n",
      "Epoch 117/150\n",
      "38/38 [==============================] - 1s 18ms/step - loss: 0.3857 - accuracy: 0.8377 - val_loss: 0.5851 - val_accuracy: 0.8179\n",
      "Epoch 118/150\n",
      "38/38 [==============================] - 1s 18ms/step - loss: 0.3106 - accuracy: 0.8689 - val_loss: 0.4192 - val_accuracy: 0.8634\n",
      "Epoch 119/150\n",
      "38/38 [==============================] - 1s 18ms/step - loss: 0.3165 - accuracy: 0.8672 - val_loss: 0.4384 - val_accuracy: 0.8449\n",
      "Epoch 120/150\n",
      "38/38 [==============================] - 1s 18ms/step - loss: 0.3326 - accuracy: 0.8723 - val_loss: 0.4088 - val_accuracy: 0.8617\n",
      "Epoch 121/150\n",
      "38/38 [==============================] - 1s 18ms/step - loss: 0.2814 - accuracy: 0.8904 - val_loss: 0.7899 - val_accuracy: 0.7454\n",
      "Epoch 122/150\n",
      "38/38 [==============================] - 1s 27ms/step - loss: 0.2976 - accuracy: 0.8824 - val_loss: 0.6024 - val_accuracy: 0.7791\n",
      "Epoch 123/150\n",
      "38/38 [==============================] - 1s 26ms/step - loss: 0.3343 - accuracy: 0.8748 - val_loss: 0.4269 - val_accuracy: 0.8617\n",
      "Epoch 124/150\n",
      "38/38 [==============================] - 1s 27ms/step - loss: 0.3045 - accuracy: 0.8710 - val_loss: 0.6033 - val_accuracy: 0.8212\n",
      "Epoch 125/150\n",
      "38/38 [==============================] - 1s 20ms/step - loss: 0.3099 - accuracy: 0.8735 - val_loss: 0.4375 - val_accuracy: 0.8432\n",
      "Epoch 126/150\n",
      "38/38 [==============================] - 1s 17ms/step - loss: 0.2749 - accuracy: 0.8921 - val_loss: 0.4193 - val_accuracy: 0.8482\n",
      "Epoch 127/150\n",
      "38/38 [==============================] - 1s 20ms/step - loss: 0.2603 - accuracy: 0.8917 - val_loss: 0.3965 - val_accuracy: 0.8550\n",
      "Epoch 128/150\n",
      "38/38 [==============================] - 1s 18ms/step - loss: 0.2842 - accuracy: 0.8853 - val_loss: 0.4235 - val_accuracy: 0.8482\n",
      "Epoch 129/150\n",
      "38/38 [==============================] - 1s 17ms/step - loss: 0.2318 - accuracy: 0.9089 - val_loss: 0.5189 - val_accuracy: 0.8246\n",
      "Epoch 130/150\n",
      "38/38 [==============================] - 1s 18ms/step - loss: 0.2940 - accuracy: 0.8853 - val_loss: 0.4130 - val_accuracy: 0.8718\n",
      "Epoch 131/150\n",
      "38/38 [==============================] - 1s 17ms/step - loss: 0.2367 - accuracy: 0.9089 - val_loss: 0.4320 - val_accuracy: 0.8449\n",
      "Epoch 132/150\n",
      "38/38 [==============================] - 1s 17ms/step - loss: 0.2448 - accuracy: 0.8954 - val_loss: 0.3821 - val_accuracy: 0.8718\n",
      "Epoch 133/150\n",
      "38/38 [==============================] - 1s 18ms/step - loss: 0.3567 - accuracy: 0.8596 - val_loss: 0.5500 - val_accuracy: 0.8263\n",
      "Epoch 134/150\n",
      "38/38 [==============================] - 1s 25ms/step - loss: 0.3487 - accuracy: 0.8617 - val_loss: 0.4761 - val_accuracy: 0.8415\n",
      "Epoch 135/150\n",
      "38/38 [==============================] - 1s 18ms/step - loss: 0.2459 - accuracy: 0.8954 - val_loss: 0.4324 - val_accuracy: 0.8718\n",
      "Epoch 136/150\n",
      "38/38 [==============================] - 1s 17ms/step - loss: 0.2767 - accuracy: 0.8862 - val_loss: 0.4434 - val_accuracy: 0.8432\n",
      "Epoch 137/150\n",
      "38/38 [==============================] - 1s 20ms/step - loss: 0.2382 - accuracy: 0.8976 - val_loss: 0.4549 - val_accuracy: 0.8567\n",
      "Epoch 138/150\n",
      "38/38 [==============================] - 1s 17ms/step - loss: 0.3218 - accuracy: 0.8782 - val_loss: 0.4365 - val_accuracy: 0.8331\n",
      "Epoch 139/150\n",
      "38/38 [==============================] - 1s 24ms/step - loss: 0.2584 - accuracy: 0.8895 - val_loss: 0.4474 - val_accuracy: 0.8364\n",
      "Epoch 140/150\n",
      "38/38 [==============================] - 1s 27ms/step - loss: 0.2495 - accuracy: 0.8992 - val_loss: 0.6324 - val_accuracy: 0.7926\n",
      "Epoch 141/150\n",
      "38/38 [==============================] - 1s 28ms/step - loss: 0.2763 - accuracy: 0.8832 - val_loss: 0.4197 - val_accuracy: 0.8600\n",
      "Epoch 142/150\n",
      "38/38 [==============================] - 1s 21ms/step - loss: 0.2372 - accuracy: 0.9013 - val_loss: 0.4016 - val_accuracy: 0.8651\n",
      "Epoch 143/150\n",
      "38/38 [==============================] - 1s 18ms/step - loss: 0.2576 - accuracy: 0.8984 - val_loss: 1.0781 - val_accuracy: 0.6998\n",
      "Epoch 144/150\n",
      "38/38 [==============================] - 1s 17ms/step - loss: 0.6200 - accuracy: 0.7715 - val_loss: 0.5427 - val_accuracy: 0.8162\n",
      "Epoch 145/150\n",
      "38/38 [==============================] - 1s 18ms/step - loss: 0.3511 - accuracy: 0.8588 - val_loss: 0.4146 - val_accuracy: 0.8600\n",
      "Epoch 146/150\n",
      "38/38 [==============================] - 1s 18ms/step - loss: 0.3011 - accuracy: 0.8769 - val_loss: 0.4432 - val_accuracy: 0.8482\n",
      "Epoch 147/150\n",
      "38/38 [==============================] - 1s 17ms/step - loss: 0.2983 - accuracy: 0.8777 - val_loss: 0.4052 - val_accuracy: 0.8617\n",
      "Epoch 148/150\n",
      "38/38 [==============================] - 1s 18ms/step - loss: 0.2686 - accuracy: 0.8874 - val_loss: 0.4544 - val_accuracy: 0.8263\n",
      "Epoch 149/150\n",
      "38/38 [==============================] - 1s 17ms/step - loss: 0.2545 - accuracy: 0.8963 - val_loss: 0.4218 - val_accuracy: 0.8600\n",
      "Epoch 150/150\n",
      "38/38 [==============================] - 1s 18ms/step - loss: 0.2520 - accuracy: 0.8992 - val_loss: 0.4091 - val_accuracy: 0.8567\n",
      "[0.25505903363227844, 0.2904721796512604, 0.32040470838546753, 0.35708263516426086, 0.3823777437210083, 0.43591904640197754, 0.4578414857387543, 0.49620574712753296, 0.5274030566215515, 0.5830522775650024, 0.5935919284820557, 0.5986509323120117, 0.4865092635154724, 0.5712478756904602, 0.6593592166900635, 0.5843170285224915, 0.5252951383590698, 0.63448566198349, 0.6892917156219482, 0.5623946189880371, 0.5817875266075134, 0.5484822988510132, 0.637015163898468, 0.67242830991745, 0.6623103022575378, 0.6985666155815125, 0.6745362281799316, 0.7053119540214539, 0.6075041890144348, 0.7158516049385071, 0.7318718433380127, 0.6134064197540283, 0.7057335376739502, 0.6968802809715271, 0.75, 0.7786678075790405, 0.7516863346099854, 0.7858347296714783, 0.7445194125175476, 0.7854131460189819, 0.7887858152389526, 0.8022765517234802, 0.7849915623664856, 0.771500825881958, 0.7984822988510132, 0.7491568326950073, 0.789207398891449, 0.8161888718605042, 0.7967959642410278, 0.8119730353355408, 0.8254637718200684, 0.8385328650474548, 0.8170320391654968, 0.7951096296310425, 0.8208262920379639, 0.8204047083854675, 0.84654301404953, 0.8351601958274841, 0.7651770710945129, 0.8157672882080078, 0.8368465304374695, 0.8296796083450317, 0.8267285227775574, 0.8402191996574402, 0.8456998467445374, 0.842748761177063, 0.8225126266479492, 0.8587689995765686, 0.7989038825035095, 0.8482293486595154, 0.7639123201370239, 0.8435919284820557, 0.8397976160049438, 0.8279932737350464, 0.8338954448699951, 0.8562394380569458, 0.8334738612174988, 0.8583474159240723, 0.8094435334205627, 0.8473861813545227, 0.8697301745414734, 0.7955312132835388, 0.6580944061279297, 0.6488195657730103, 0.751264750957489, 0.8199831247329712, 0.8086003661155701, 0.8292580246925354, 0.8174536228179932, 0.8187183737754822, 0.8241989612579346, 0.8385328650474548, 0.8389544486999512, 0.8326306939125061, 0.825042188167572, 0.8309443593025208, 0.8553962707519531, 0.8549746870994568, 0.8532883524894714, 0.8612985014915466, 0.8570826053619385, 0.8107082843780518, 0.8338954448699951, 0.8499156832695007, 0.8579257726669312, 0.864249587059021, 0.8735244274139404, 0.8709949254989624, 0.864249587059021, 0.8878583312034607, 0.8865935802459717, 0.8650927543640137, 0.8785834908485413, 0.8722596764564514, 0.8659359216690063, 0.8553962707519531, 0.8376896977424622, 0.8688870072364807, 0.8672006726264954, 0.8722596764564514, 0.8903878331184387, 0.8823777437210083, 0.8747891783714294, 0.8709949254989624, 0.8735244274139404, 0.8920742273330688, 0.8916525840759277, 0.8853288292884827, 0.9089376330375671, 0.8853288292884827, 0.9089376330375671, 0.8954468965530396, 0.8596121668815613, 0.861720085144043, 0.8954468965530396, 0.8861719965934753, 0.8975548148155212, 0.8781619071960449, 0.889544665813446, 0.8992411494255066, 0.883220911026001, 0.9013490676879883, 0.8983979821205139, 0.771500825881958, 0.8587689995765686, 0.8768971562385559, 0.8777403235435486, 0.8874367475509644, 0.8962900638580322, 0.8992411494255066]\n",
      "[18.135892868041992, 3.346930503845215, 2.6760592460632324, 2.067574977874756, 1.596510410308838, 1.3335371017456055, 1.2226626873016357, 1.136034607887268, 1.0568478107452393, 0.9879838824272156, 0.9653672575950623, 0.9755334258079529, 2.0377421379089355, 1.0990710258483887, 0.8911035060882568, 1.292128086090088, 1.3823199272155762, 0.9691435694694519, 0.8530520796775818, 1.4737135171890259, 1.2589360475540161, 1.1501619815826416, 1.5106393098831177, 0.9050314426422119, 0.8568937182426453, 0.8085331320762634, 0.8322681784629822, 0.7976261973381042, 0.975188672542572, 0.7672382593154907, 0.7274028658866882, 0.9527251124382019, 0.778535783290863, 0.7736659646034241, 0.6735681295394897, 0.6396697759628296, 0.6744646430015564, 0.620894193649292, 0.7024528384208679, 0.5996752381324768, 0.5929160118103027, 0.5755371451377869, 0.6056017279624939, 0.6199131608009338, 0.5822601318359375, 0.6642733812332153, 0.5637015104293823, 0.5285115242004395, 0.5702491998672485, 0.523525059223175, 0.5021985769271851, 0.47645819187164307, 0.5091254115104675, 0.5660883188247681, 0.5156647562980652, 0.4942260682582855, 0.4357433021068573, 0.4400233328342438, 0.6264071464538574, 0.510426938533783, 0.4533461332321167, 0.48195499181747437, 0.44847372174263, 0.437308132648468, 0.42523276805877686, 0.43539074063301086, 0.4675576984882355, 0.3836750090122223, 0.5455161929130554, 0.4140411913394928, 0.6143291592597961, 0.4566526412963867, 0.4147292673587799, 0.43989020586013794, 0.4459758996963501, 0.375924289226532, 0.40771520137786865, 0.3510541617870331, 0.47436049580574036, 0.3693823218345642, 0.3277907371520996, 0.9012183547019958, 1.3065377473831177, 0.9242509603500366, 0.6490909457206726, 0.48084941506385803, 0.4997497797012329, 0.4546884596347809, 0.47941336035728455, 0.47344914078712463, 0.4444744884967804, 0.4083591401576996, 0.4168384075164795, 0.42034897208213806, 0.444254994392395, 0.4303915500640869, 0.3680976629257202, 0.36792001128196716, 0.39418843388557434, 0.3679184019565582, 0.36902761459350586, 0.5092295408248901, 0.43800264596939087, 0.3963189721107483, 0.39912110567092896, 0.3617723882198334, 0.3385572135448456, 0.3206309974193573, 0.3279147744178772, 0.28040507435798645, 0.2968079745769501, 0.3293703496456146, 0.3151649832725525, 0.31829404830932617, 0.31915780901908875, 0.39487797021865845, 0.3856857717037201, 0.31057092547416687, 0.3165455460548401, 0.33263519406318665, 0.28139856457710266, 0.2976231575012207, 0.33434006571769714, 0.3044765591621399, 0.3099392056465149, 0.2748826742172241, 0.2602786719799042, 0.2842182219028473, 0.23183071613311768, 0.29404276609420776, 0.23674893379211426, 0.24483555555343628, 0.3567102253437042, 0.3487239480018616, 0.24590438604354858, 0.27674102783203125, 0.23815220594406128, 0.3217596411705017, 0.25844866037368774, 0.2495473027229309, 0.2763439416885376, 0.23719121515750885, 0.2576293349266052, 0.6200295090675354, 0.3511466383934021, 0.30106157064437866, 0.29832905530929565, 0.2686348557472229, 0.2545335292816162, 0.25204578042030334]\n"
     ]
    }
   ],
   "source": [
    "# Entraîner le modèle\n",
    "history = model.fit(X_train, y_train, validation_data=(X_test, y_test), epochs=150, batch_size=64)\n",
    "print(history.history['accuracy'])\n",
    "print(history.history['loss'])"
   ]
  },
  {
   "cell_type": "code",
   "execution_count": 21,
   "metadata": {
    "colab": {
     "base_uri": "https://localhost:8080/"
    },
    "id": "UB23EaszAsoh",
    "outputId": "cb42215a-1593-4810-8def-9ca04bd8b237"
   },
   "outputs": [
    {
     "name": "stdout",
     "output_type": "stream",
     "text": [
      "19/19 [==============================] - 0s 4ms/step - loss: 0.4091 - accuracy: 0.8567\n",
      "Test loss: 0.4091041684150696\n",
      "Test accuracy: 0.8566610217094421\n"
     ]
    }
   ],
   "source": [
    "# Évaluer le modèle sur les données de test\n",
    "score = model.evaluate(X_test, y_test)\n",
    "print(\"Test loss:\", score[0])\n",
    "print(\"Test accuracy:\", score[1])"
   ]
  },
  {
   "cell_type": "code",
   "execution_count": 22,
   "metadata": {
    "colab": {
     "base_uri": "https://localhost:8080/",
     "height": 573
    },
    "id": "OLB7MP09Asr1",
    "outputId": "d4dda634-b754-4a2b-fba9-2d6d66edd707"
   },
   "outputs": [
    {
     "data": {
      "image/png": "[encoded data removed]",
      "text/plain": [
       "<Figure size 432x288 with 1 Axes>"
      ]
     },
     "metadata": {
      "needs_background": "light"
     },
     "output_type": "display_data"
    },
    {
     "data": {
      "image/png": "[encoded data removed]",
      "text/plain": [
       "<Figure size 432x288 with 1 Axes>"
      ]
     },
     "metadata": {
      "needs_background": "light"
     },
     "output_type": "display_data"
    }
   ],
   "source": [
    "# Afficher les graphes d'accuracy et loss selon l'epoch\n",
    "import matplotlib.pyplot as plt\n",
    "\n",
    "plt.plot(history.history['accuracy'], label='train')\n",
    "plt.plot(history.history['val_accuracy'], label='validation')\n",
    "plt.title('Accuracy')\n",
    "plt.xlabel('Epoch')\n",
    "plt.ylabel('Accuracy')\n",
    "plt.legend()\n",
    "plt.show()\n",
    "\n",
    "plt.plot(history.history['loss'], label='train')\n",
    "plt.plot(history.history['val_loss'], label='validation')\n",
    "plt.title('Loss')\n",
    "plt.xlabel('Epoch')\n",
    "plt.ylabel('Loss')\n",
    "plt.legend()\n",
    "plt.show()"
   ]
  },
  {
   "cell_type": "code",
   "execution_count": null,
   "metadata": {
    "id": "5672DeVuAsvF"
   },
   "outputs": [],
   "source": []
  }
 ],
 "metadata": {
  "colab": {
   "provenance": []
  },
  "kernelspec": {
   "display_name": "Python 3",
   "language": "python",
   "name": "python3"
  },
  "language_info": {
   "codemirror_mode": {
    "name": "ipython",
    "version": 3
   },
   "file_extension": ".py",
   "mimetype": "text/x-python",
   "name": "python",
   "nbconvert_exporter": "python",
   "pygments_lexer": "ipython3",
   "version": "3.8.8"
  }
 },
 "nbformat": 4,
 "nbformat_minor": 1
}
