{
  "nbformat": 4,
  "nbformat_minor": 0,
  "metadata": {
    "colab": {
      "provenance": []
    },
    "kernelspec": {
      "name": "python3",
      "display_name": "Python 3"
    },
    "language_info": {
      "name": "python"
    }
  },
  "cells": [
    {
      "cell_type": "code",
      "execution_count": 1,
      "metadata": {
        "id": "ioTC26YKAGcS"
      },
      "outputs": [],
      "source": [
        "import os\n",
        "import pandas as pd\n",
        "import numpy as np\n",
        "import matplotlib.pyplot as plt\n",
        "import seaborn as sns\n",
        "from sklearn.impute import SimpleImputer\n",
        "from sklearn.neighbors import LocalOutlierFactor\n",
        "from scipy.stats import probplot\n",
        "from scipy.stats import zscore "
      ]
    },
    {
      "cell_type": "code",
      "source": [
        "df=pd.read_csv(\"water_quality_classifier_mean_state.csv\")"
      ],
      "metadata": {
        "id": "oamhuFeMAQON"
      },
      "execution_count": 143,
      "outputs": []
    },
    {
      "cell_type": "code",
      "source": [
        "import pandas as pd\n",
        "import numpy as np\n",
        "import tensorflow as tf\n",
        "from sklearn.model_selection import train_test_split\n",
        "from sklearn.preprocessing import LabelEncoder\n",
        "from tensorflow.keras.models import Sequential\n",
        "from tensorflow.keras.layers import Dense, Conv1D, MaxPooling1D, Flatten,Dropout\n",
        "from tensorflow.keras.utils import to_categorical\n",
        "\n",
        "# Charger les données\n",
        "data = df"
      ],
      "metadata": {
        "id": "M8iudlVwATEI"
      },
      "execution_count": 144,
      "outputs": []
    },
    {
      "cell_type": "code",
      "source": [
        "cols_to_drop=[\"WQI clf\"]\n",
        "# Diviser les données en caractéristiques et cibles\n",
        "X =  data.drop(cols_to_drop, axis=1)\n",
        "y = data[\"WQI clf\"].values"
      ],
      "metadata": {
        "id": "jMZgLCUpAYcv"
      },
      "execution_count": 145,
      "outputs": []
    },
    {
      "cell_type": "code",
      "source": [
        "# Encoder les labels catégoriels\n",
        "label_encoder = LabelEncoder()\n",
        "y = label_encoder.fit_transform(y)"
      ],
      "metadata": {
        "id": "f2Q3xFFMAcPL"
      },
      "execution_count": 146,
      "outputs": []
    },
    {
      "cell_type": "code",
      "source": [
        "from imblearn.over_sampling import SMOTE\n",
        "from collections import Counter\n",
        "print('Balancing the data by SMOTE - Oversampling of Minority level\\n')\n",
        "smt = SMOTE()\n",
        "counter = Counter(y)\n",
        "print('Before SMOTE', counter)\n",
        "X,y = smt.fit_resample(X,y)\n",
        "counter = Counter(y)\n",
        "print('\\nAfter SMOTE', counter)"
      ],
      "metadata": {
        "colab": {
          "base_uri": "https://localhost:8080/"
        },
        "id": "sMmq3udRA7bP",
        "outputId": "fbb22823-e510-428c-f134-e5da5e974837"
      },
      "execution_count": 147,
      "outputs": [
        {
          "output_type": "stream",
          "name": "stdout",
          "text": [
            "Balancing the data by SMOTE - Oversampling of Minority level\n",
            "\n",
            "Before SMOTE Counter({2: 593, 0: 479, 1: 308, 3: 284, 4: 15})\n",
            "\n",
            "After SMOTE Counter({0: 593, 1: 593, 2: 593, 3: 593, 4: 593})\n"
          ]
        }
      ]
    },
    {
      "cell_type": "code",
      "source": [
        "# Diviser les données en ensembles d'entraînement et de test\n",
        "X_train, X_test, y_train, y_test = train_test_split(X, y, test_size=0.2, random_state=42)"
      ],
      "metadata": {
        "id": "S8LGa3hJAfRs"
      },
      "execution_count": 231,
      "outputs": []
    },
    {
      "cell_type": "code",
      "source": [
        "# Redimensionner les données pour les convolutions 1D\n",
        "X_train = X_train.values.reshape(X_train.shape[0], X_train.shape[1], 1)\n",
        "X_test = X_test.values.reshape(X_test.shape[0], X_test.shape[1], 1)"
      ],
      "metadata": {
        "id": "YUOyqx93AicJ"
      },
      "execution_count": 232,
      "outputs": []
    },
    {
      "cell_type": "code",
      "source": [
        "# Convertir les labels en one-hot encoding\n",
        "y_train = to_categorical(y_train)\n",
        "y_test = to_categorical(y_test)\n",
        "\n",
        "# Créer le modèle CNN\n",
        "model = Sequential()\n",
        "model.add(Conv1D(filters=32, kernel_size=2, activation='relu', input_shape=(X_train.shape[1], 1)))\n",
        "model.add(MaxPooling1D(pool_size=1))\n",
        "model.add(Conv1D(filters=64, kernel_size=2, activation='relu'))\n",
        "model.add(MaxPooling1D(pool_size=1))\n",
        "model.add(Conv1D(filters=128, kernel_size=2, activation='relu'))\n",
        "model.add(MaxPooling1D(pool_size=1))\n",
        "model.add(Conv1D(filters=256, kernel_size=2, activation='relu'))\n",
        "model.add(MaxPooling1D(pool_size=1))\n",
        "model.add(Flatten())\n",
        "model.add(Dense(units=256, activation='relu'))\n",
        "model.add(Dropout(0.5))\n",
        "model.add(Dense(y_train.shape[1], activation=\"softmax\"))\n",
        "\n",
        "# Compiler le modèle\n",
        "model.compile(loss=\"categorical_crossentropy\", optimizer=\"adam\", metrics=[\"accuracy\"])"
      ],
      "metadata": {
        "id": "-k5nTj77Amrg"
      },
      "execution_count": 233,
      "outputs": []
    },
    {
      "cell_type": "code",
      "source": [
        "# Entraîner le modèle\n",
        "history = model.fit(X_train, y_train, validation_data=(X_test, y_test), epochs=250, batch_size=32)\n",
        "print(history.history['accuracy'])\n",
        "print(history.history['loss'])"
      ],
      "metadata": {
        "colab": {
          "base_uri": "https://localhost:8080/"
        },
        "id": "WfOC2OtDAslL",
        "outputId": "8e2bc994-ce4f-4bd6-c059-522c268660a8"
      },
      "execution_count": 234,
      "outputs": [
        {
          "output_type": "stream",
          "name": "stdout",
          "text": [
            "Epoch 1/250\n",
            "75/75 [==============================] - 2s 12ms/step - loss: 16.6822 - accuracy: 0.2454 - val_loss: 4.5506 - val_accuracy: 0.2513\n",
            "Epoch 2/250\n",
            "75/75 [==============================] - 1s 9ms/step - loss: 3.4109 - accuracy: 0.3099 - val_loss: 2.0754 - val_accuracy: 0.2648\n",
            "Epoch 3/250\n",
            "75/75 [==============================] - 1s 9ms/step - loss: 2.6191 - accuracy: 0.3061 - val_loss: 1.8829 - val_accuracy: 0.2968\n",
            "Epoch 4/250\n",
            "75/75 [==============================] - 1s 9ms/step - loss: 1.5424 - accuracy: 0.3571 - val_loss: 1.4321 - val_accuracy: 0.3828\n",
            "Epoch 5/250\n",
            "75/75 [==============================] - 1s 9ms/step - loss: 1.2578 - accuracy: 0.4153 - val_loss: 1.2705 - val_accuracy: 0.4806\n",
            "Epoch 6/250\n",
            "75/75 [==============================] - 1s 10ms/step - loss: 1.2040 - accuracy: 0.4713 - val_loss: 1.3029 - val_accuracy: 0.4503\n",
            "Epoch 7/250\n",
            "75/75 [==============================] - 1s 9ms/step - loss: 1.1401 - accuracy: 0.4878 - val_loss: 1.3779 - val_accuracy: 0.4351\n",
            "Epoch 8/250\n",
            "75/75 [==============================] - 1s 9ms/step - loss: 1.1802 - accuracy: 0.4709 - val_loss: 1.1730 - val_accuracy: 0.5093\n",
            "Epoch 9/250\n",
            "75/75 [==============================] - 1s 9ms/step - loss: 1.0691 - accuracy: 0.5135 - val_loss: 1.1363 - val_accuracy: 0.5211\n",
            "Epoch 10/250\n",
            "75/75 [==============================] - 1s 10ms/step - loss: 1.0904 - accuracy: 0.5143 - val_loss: 1.1314 - val_accuracy: 0.4941\n",
            "Epoch 11/250\n",
            "75/75 [==============================] - 1s 9ms/step - loss: 1.0399 - accuracy: 0.5295 - val_loss: 1.0614 - val_accuracy: 0.5514\n",
            "Epoch 12/250\n",
            "75/75 [==============================] - 1s 9ms/step - loss: 0.9994 - accuracy: 0.5460 - val_loss: 1.0401 - val_accuracy: 0.5565\n",
            "Epoch 13/250\n",
            "75/75 [==============================] - 1s 9ms/step - loss: 0.9645 - accuracy: 0.5793 - val_loss: 1.1084 - val_accuracy: 0.5582\n",
            "Epoch 14/250\n",
            "75/75 [==============================] - 1s 11ms/step - loss: 1.0805 - accuracy: 0.5278 - val_loss: 1.0667 - val_accuracy: 0.5599\n",
            "Epoch 15/250\n",
            "75/75 [==============================] - 1s 13ms/step - loss: 0.9436 - accuracy: 0.5666 - val_loss: 0.9761 - val_accuracy: 0.5953\n",
            "Epoch 16/250\n",
            "75/75 [==============================] - 1s 12ms/step - loss: 0.9264 - accuracy: 0.5999 - val_loss: 1.1058 - val_accuracy: 0.4823\n",
            "Epoch 17/250\n",
            "75/75 [==============================] - 1s 9ms/step - loss: 0.9205 - accuracy: 0.5957 - val_loss: 0.9883 - val_accuracy: 0.5902\n",
            "Epoch 18/250\n",
            "75/75 [==============================] - 1s 10ms/step - loss: 0.8810 - accuracy: 0.6062 - val_loss: 0.9162 - val_accuracy: 0.5970\n",
            "Epoch 19/250\n",
            "75/75 [==============================] - 1s 9ms/step - loss: 0.8215 - accuracy: 0.6505 - val_loss: 0.8619 - val_accuracy: 0.7116\n",
            "Epoch 20/250\n",
            "75/75 [==============================] - 1s 9ms/step - loss: 0.8130 - accuracy: 0.6872 - val_loss: 0.8346 - val_accuracy: 0.7302\n",
            "Epoch 21/250\n",
            "75/75 [==============================] - 1s 11ms/step - loss: 0.7509 - accuracy: 0.7099 - val_loss: 0.8413 - val_accuracy: 0.6509\n",
            "Epoch 22/250\n",
            "75/75 [==============================] - 1s 9ms/step - loss: 1.5854 - accuracy: 0.4827 - val_loss: 2.2584 - val_accuracy: 0.4755\n",
            "Epoch 23/250\n",
            "75/75 [==============================] - 1s 9ms/step - loss: 2.2409 - accuracy: 0.3988 - val_loss: 1.3388 - val_accuracy: 0.3575\n",
            "Epoch 24/250\n",
            "75/75 [==============================] - 1s 9ms/step - loss: 1.1190 - accuracy: 0.5409 - val_loss: 1.0875 - val_accuracy: 0.6105\n",
            "Epoch 25/250\n",
            "75/75 [==============================] - 1s 9ms/step - loss: 0.9274 - accuracy: 0.6315 - val_loss: 0.9317 - val_accuracy: 0.5734\n",
            "Epoch 26/250\n",
            "75/75 [==============================] - 1s 9ms/step - loss: 0.9105 - accuracy: 0.6214 - val_loss: 0.8649 - val_accuracy: 0.7201\n",
            "Epoch 27/250\n",
            "75/75 [==============================] - 1s 9ms/step - loss: 1.0828 - accuracy: 0.5316 - val_loss: 0.9678 - val_accuracy: 0.6358\n",
            "Epoch 28/250\n",
            "75/75 [==============================] - 1s 9ms/step - loss: 0.8975 - accuracy: 0.6446 - val_loss: 0.9029 - val_accuracy: 0.6577\n",
            "Epoch 29/250\n",
            "75/75 [==============================] - 1s 9ms/step - loss: 0.9354 - accuracy: 0.6256 - val_loss: 1.0423 - val_accuracy: 0.4857\n",
            "Epoch 30/250\n",
            "75/75 [==============================] - 1s 10ms/step - loss: 0.9054 - accuracy: 0.6581 - val_loss: 0.9363 - val_accuracy: 0.6020\n",
            "Epoch 31/250\n",
            "75/75 [==============================] - 1s 13ms/step - loss: 0.7965 - accuracy: 0.7015 - val_loss: 0.8229 - val_accuracy: 0.6965\n",
            "Epoch 32/250\n",
            "75/75 [==============================] - 1s 11ms/step - loss: 0.8115 - accuracy: 0.6910 - val_loss: 0.8275 - val_accuracy: 0.7251\n",
            "Epoch 33/250\n",
            "75/75 [==============================] - 1s 10ms/step - loss: 0.7419 - accuracy: 0.7230 - val_loss: 0.7481 - val_accuracy: 0.7454\n",
            "Epoch 34/250\n",
            "75/75 [==============================] - 1s 9ms/step - loss: 0.6990 - accuracy: 0.7445 - val_loss: 0.7219 - val_accuracy: 0.7605\n",
            "Epoch 35/250\n",
            "75/75 [==============================] - 1s 10ms/step - loss: 0.8220 - accuracy: 0.6813 - val_loss: 0.7515 - val_accuracy: 0.7656\n",
            "Epoch 36/250\n",
            "75/75 [==============================] - 1s 9ms/step - loss: 0.7276 - accuracy: 0.7196 - val_loss: 0.7439 - val_accuracy: 0.7504\n",
            "Epoch 37/250\n",
            "75/75 [==============================] - 1s 8ms/step - loss: 0.7037 - accuracy: 0.7386 - val_loss: 0.6863 - val_accuracy: 0.7841\n",
            "Epoch 38/250\n",
            "75/75 [==============================] - 1s 9ms/step - loss: 0.6823 - accuracy: 0.7441 - val_loss: 0.9059 - val_accuracy: 0.6492\n",
            "Epoch 39/250\n",
            "75/75 [==============================] - 1s 9ms/step - loss: 0.7310 - accuracy: 0.7137 - val_loss: 0.6863 - val_accuracy: 0.7723\n",
            "Epoch 40/250\n",
            "75/75 [==============================] - 1s 9ms/step - loss: 0.6907 - accuracy: 0.7395 - val_loss: 0.6789 - val_accuracy: 0.7774\n",
            "Epoch 41/250\n",
            "75/75 [==============================] - 1s 9ms/step - loss: 0.6533 - accuracy: 0.7580 - val_loss: 0.7178 - val_accuracy: 0.7403\n",
            "Epoch 42/250\n",
            "75/75 [==============================] - 1s 10ms/step - loss: 0.6544 - accuracy: 0.7513 - val_loss: 0.6464 - val_accuracy: 0.7875\n",
            "Epoch 43/250\n",
            "75/75 [==============================] - 1s 9ms/step - loss: 0.6216 - accuracy: 0.7745 - val_loss: 0.6445 - val_accuracy: 0.8078\n",
            "Epoch 44/250\n",
            "75/75 [==============================] - 1s 9ms/step - loss: 0.6621 - accuracy: 0.7479 - val_loss: 0.6607 - val_accuracy: 0.7808\n",
            "Epoch 45/250\n",
            "75/75 [==============================] - 1s 9ms/step - loss: 0.6131 - accuracy: 0.7825 - val_loss: 0.5925 - val_accuracy: 0.8212\n",
            "Epoch 46/250\n",
            "75/75 [==============================] - 1s 9ms/step - loss: 0.6599 - accuracy: 0.7648 - val_loss: 0.6578 - val_accuracy: 0.7926\n",
            "Epoch 47/250\n",
            "75/75 [==============================] - 1s 13ms/step - loss: 0.6547 - accuracy: 0.7715 - val_loss: 0.6868 - val_accuracy: 0.7875\n",
            "Epoch 48/250\n",
            "75/75 [==============================] - 1s 13ms/step - loss: 0.6452 - accuracy: 0.7639 - val_loss: 0.8780 - val_accuracy: 0.7808\n",
            "Epoch 49/250\n",
            "75/75 [==============================] - 1s 9ms/step - loss: 0.6160 - accuracy: 0.7770 - val_loss: 0.6414 - val_accuracy: 0.7976\n",
            "Epoch 50/250\n",
            "75/75 [==============================] - 1s 10ms/step - loss: 0.7126 - accuracy: 0.7470 - val_loss: 0.8728 - val_accuracy: 0.6577\n",
            "Epoch 51/250\n",
            "75/75 [==============================] - 1s 9ms/step - loss: 0.7002 - accuracy: 0.7378 - val_loss: 0.7162 - val_accuracy: 0.6914\n",
            "Epoch 52/250\n",
            "75/75 [==============================] - 1s 9ms/step - loss: 0.6126 - accuracy: 0.7736 - val_loss: 0.6997 - val_accuracy: 0.7723\n",
            "Epoch 53/250\n",
            "75/75 [==============================] - 1s 9ms/step - loss: 0.5867 - accuracy: 0.7816 - val_loss: 0.5937 - val_accuracy: 0.7960\n",
            "Epoch 54/250\n",
            "75/75 [==============================] - 1s 9ms/step - loss: 0.6002 - accuracy: 0.7740 - val_loss: 0.7764 - val_accuracy: 0.7757\n",
            "Epoch 55/250\n",
            "75/75 [==============================] - 1s 9ms/step - loss: 0.6044 - accuracy: 0.7888 - val_loss: 0.5289 - val_accuracy: 0.7825\n",
            "Epoch 56/250\n",
            "75/75 [==============================] - 1s 9ms/step - loss: 0.5064 - accuracy: 0.8221 - val_loss: 0.5084 - val_accuracy: 0.8179\n",
            "Epoch 57/250\n",
            "75/75 [==============================] - 1s 9ms/step - loss: 0.5296 - accuracy: 0.7926 - val_loss: 0.5495 - val_accuracy: 0.7791\n",
            "Epoch 58/250\n",
            "75/75 [==============================] - 1s 9ms/step - loss: 0.5526 - accuracy: 0.7934 - val_loss: 0.5108 - val_accuracy: 0.8263\n",
            "Epoch 59/250\n",
            "75/75 [==============================] - 1s 9ms/step - loss: 0.4776 - accuracy: 0.8259 - val_loss: 0.6970 - val_accuracy: 0.7622\n",
            "Epoch 60/250\n",
            "75/75 [==============================] - 1s 9ms/step - loss: 0.4901 - accuracy: 0.8132 - val_loss: 0.7054 - val_accuracy: 0.7150\n",
            "Epoch 61/250\n",
            "75/75 [==============================] - 1s 9ms/step - loss: 0.4804 - accuracy: 0.8132 - val_loss: 0.4098 - val_accuracy: 0.8499\n",
            "Epoch 62/250\n",
            "75/75 [==============================] - 1s 10ms/step - loss: 0.4367 - accuracy: 0.8339 - val_loss: 0.5729 - val_accuracy: 0.7875\n",
            "Epoch 63/250\n",
            "75/75 [==============================] - 1s 13ms/step - loss: 0.4129 - accuracy: 0.8360 - val_loss: 0.5321 - val_accuracy: 0.7892\n",
            "Epoch 64/250\n",
            "75/75 [==============================] - 1s 14ms/step - loss: 0.4634 - accuracy: 0.8229 - val_loss: 0.4701 - val_accuracy: 0.8145\n",
            "Epoch 65/250\n",
            "75/75 [==============================] - 1s 10ms/step - loss: 0.5203 - accuracy: 0.8128 - val_loss: 0.6356 - val_accuracy: 0.7858\n",
            "Epoch 66/250\n",
            "75/75 [==============================] - 1s 9ms/step - loss: 0.5456 - accuracy: 0.8023 - val_loss: 0.6228 - val_accuracy: 0.7622\n",
            "Epoch 67/250\n",
            "75/75 [==============================] - 1s 9ms/step - loss: 0.4565 - accuracy: 0.8187 - val_loss: 0.4397 - val_accuracy: 0.8415\n",
            "Epoch 68/250\n",
            "75/75 [==============================] - 1s 9ms/step - loss: 0.4511 - accuracy: 0.8377 - val_loss: 0.4598 - val_accuracy: 0.8314\n",
            "Epoch 69/250\n",
            "75/75 [==============================] - 1s 9ms/step - loss: 0.4619 - accuracy: 0.8238 - val_loss: 0.4796 - val_accuracy: 0.8229\n",
            "Epoch 70/250\n",
            "75/75 [==============================] - 1s 9ms/step - loss: 0.3884 - accuracy: 0.8520 - val_loss: 0.4527 - val_accuracy: 0.8314\n",
            "Epoch 71/250\n",
            "75/75 [==============================] - 1s 10ms/step - loss: 0.3987 - accuracy: 0.8470 - val_loss: 0.3686 - val_accuracy: 0.8567\n",
            "Epoch 72/250\n",
            "75/75 [==============================] - 1s 9ms/step - loss: 0.4062 - accuracy: 0.8449 - val_loss: 0.4212 - val_accuracy: 0.8364\n",
            "Epoch 73/250\n",
            "75/75 [==============================] - 1s 9ms/step - loss: 0.3780 - accuracy: 0.8449 - val_loss: 0.5169 - val_accuracy: 0.8027\n",
            "Epoch 74/250\n",
            "75/75 [==============================] - 1s 9ms/step - loss: 0.3826 - accuracy: 0.8499 - val_loss: 0.4262 - val_accuracy: 0.8432\n",
            "Epoch 75/250\n",
            "75/75 [==============================] - 1s 9ms/step - loss: 0.3437 - accuracy: 0.8672 - val_loss: 0.4398 - val_accuracy: 0.8280\n",
            "Epoch 76/250\n",
            "75/75 [==============================] - 1s 9ms/step - loss: 0.3674 - accuracy: 0.8558 - val_loss: 0.5314 - val_accuracy: 0.7943\n",
            "Epoch 77/250\n",
            "75/75 [==============================] - 1s 10ms/step - loss: 0.4601 - accuracy: 0.8276 - val_loss: 0.7209 - val_accuracy: 0.7420\n",
            "Epoch 78/250\n",
            "75/75 [==============================] - 1s 9ms/step - loss: 0.4723 - accuracy: 0.8166 - val_loss: 0.4889 - val_accuracy: 0.8078\n",
            "Epoch 79/250\n",
            "75/75 [==============================] - 1s 12ms/step - loss: 0.5145 - accuracy: 0.8090 - val_loss: 0.6410 - val_accuracy: 0.7757\n",
            "Epoch 80/250\n",
            "75/75 [==============================] - 1s 13ms/step - loss: 0.5024 - accuracy: 0.8179 - val_loss: 0.4461 - val_accuracy: 0.8314\n",
            "Epoch 81/250\n",
            "75/75 [==============================] - 1s 10ms/step - loss: 0.4146 - accuracy: 0.8444 - val_loss: 0.3724 - val_accuracy: 0.8516\n",
            "Epoch 82/250\n",
            "75/75 [==============================] - 1s 10ms/step - loss: 0.3993 - accuracy: 0.8575 - val_loss: 0.5671 - val_accuracy: 0.7960\n",
            "Epoch 83/250\n",
            "75/75 [==============================] - 1s 9ms/step - loss: 0.4144 - accuracy: 0.8419 - val_loss: 0.4392 - val_accuracy: 0.8364\n",
            "Epoch 84/250\n",
            "75/75 [==============================] - 1s 9ms/step - loss: 0.3699 - accuracy: 0.8550 - val_loss: 0.5634 - val_accuracy: 0.7825\n",
            "Epoch 85/250\n",
            "75/75 [==============================] - 1s 9ms/step - loss: 0.3665 - accuracy: 0.8491 - val_loss: 0.4829 - val_accuracy: 0.8027\n",
            "Epoch 86/250\n",
            "75/75 [==============================] - 1s 10ms/step - loss: 0.4477 - accuracy: 0.8331 - val_loss: 0.4494 - val_accuracy: 0.8347\n",
            "Epoch 87/250\n",
            "75/75 [==============================] - 1s 9ms/step - loss: 0.3646 - accuracy: 0.8533 - val_loss: 0.4257 - val_accuracy: 0.8482\n",
            "Epoch 88/250\n",
            "75/75 [==============================] - 1s 9ms/step - loss: 0.3531 - accuracy: 0.8634 - val_loss: 0.4076 - val_accuracy: 0.8482\n",
            "Epoch 89/250\n",
            "75/75 [==============================] - 1s 9ms/step - loss: 0.3264 - accuracy: 0.8744 - val_loss: 0.3454 - val_accuracy: 0.8583\n",
            "Epoch 90/250\n",
            "75/75 [==============================] - 1s 8ms/step - loss: 0.3892 - accuracy: 0.8423 - val_loss: 0.3514 - val_accuracy: 0.8550\n",
            "Epoch 91/250\n",
            "75/75 [==============================] - 1s 9ms/step - loss: 0.3507 - accuracy: 0.8680 - val_loss: 0.3734 - val_accuracy: 0.8331\n",
            "Epoch 92/250\n",
            "75/75 [==============================] - 1s 10ms/step - loss: 0.3733 - accuracy: 0.8474 - val_loss: 0.3947 - val_accuracy: 0.8381\n",
            "Epoch 93/250\n",
            "75/75 [==============================] - 1s 9ms/step - loss: 0.3696 - accuracy: 0.8508 - val_loss: 0.3514 - val_accuracy: 0.8634\n",
            "Epoch 94/250\n",
            "75/75 [==============================] - 1s 10ms/step - loss: 0.3209 - accuracy: 0.8735 - val_loss: 0.3720 - val_accuracy: 0.8567\n",
            "Epoch 95/250\n",
            "75/75 [==============================] - 1s 12ms/step - loss: 0.3379 - accuracy: 0.8685 - val_loss: 0.3871 - val_accuracy: 0.8465\n",
            "Epoch 96/250\n",
            "75/75 [==============================] - 1s 14ms/step - loss: 0.2945 - accuracy: 0.8887 - val_loss: 0.4416 - val_accuracy: 0.8280\n",
            "Epoch 97/250\n",
            "75/75 [==============================] - 1s 10ms/step - loss: 0.3200 - accuracy: 0.8744 - val_loss: 0.3425 - val_accuracy: 0.8718\n",
            "Epoch 98/250\n",
            "75/75 [==============================] - 1s 9ms/step - loss: 0.3461 - accuracy: 0.8697 - val_loss: 0.4873 - val_accuracy: 0.8027\n",
            "Epoch 99/250\n",
            "75/75 [==============================] - 1s 9ms/step - loss: 0.3486 - accuracy: 0.8609 - val_loss: 0.3660 - val_accuracy: 0.8685\n",
            "Epoch 100/250\n",
            "75/75 [==============================] - 1s 9ms/step - loss: 0.4893 - accuracy: 0.8495 - val_loss: 0.7065 - val_accuracy: 0.7943\n",
            "Epoch 101/250\n",
            "75/75 [==============================] - 1s 9ms/step - loss: 0.4995 - accuracy: 0.8259 - val_loss: 0.4193 - val_accuracy: 0.8482\n",
            "Epoch 102/250\n",
            "75/75 [==============================] - 1s 9ms/step - loss: 0.3842 - accuracy: 0.8605 - val_loss: 0.5352 - val_accuracy: 0.8010\n",
            "Epoch 103/250\n",
            "75/75 [==============================] - 1s 9ms/step - loss: 0.3942 - accuracy: 0.8478 - val_loss: 0.4537 - val_accuracy: 0.8179\n",
            "Epoch 104/250\n",
            "75/75 [==============================] - 1s 9ms/step - loss: 0.3431 - accuracy: 0.8676 - val_loss: 0.3579 - val_accuracy: 0.8617\n",
            "Epoch 105/250\n",
            "75/75 [==============================] - 1s 9ms/step - loss: 0.3920 - accuracy: 0.8520 - val_loss: 0.3567 - val_accuracy: 0.8685\n",
            "Epoch 106/250\n",
            "75/75 [==============================] - 1s 10ms/step - loss: 0.2894 - accuracy: 0.8836 - val_loss: 0.4782 - val_accuracy: 0.8297\n",
            "Epoch 107/250\n",
            "75/75 [==============================] - 1s 9ms/step - loss: 0.3003 - accuracy: 0.8798 - val_loss: 0.3560 - val_accuracy: 0.8735\n",
            "Epoch 108/250\n",
            "75/75 [==============================] - 1s 9ms/step - loss: 0.2916 - accuracy: 0.8853 - val_loss: 0.2922 - val_accuracy: 0.8988\n",
            "Epoch 109/250\n",
            "75/75 [==============================] - 1s 14ms/step - loss: 0.2812 - accuracy: 0.8832 - val_loss: 0.3010 - val_accuracy: 0.8887\n",
            "Epoch 110/250\n",
            "75/75 [==============================] - 1s 18ms/step - loss: 0.3365 - accuracy: 0.8668 - val_loss: 0.3967 - val_accuracy: 0.8617\n",
            "Epoch 111/250\n",
            "75/75 [==============================] - 2s 22ms/step - loss: 0.3385 - accuracy: 0.8617 - val_loss: 0.9153 - val_accuracy: 0.8415\n",
            "Epoch 112/250\n",
            "75/75 [==============================] - 1s 11ms/step - loss: 0.4478 - accuracy: 0.8529 - val_loss: 0.4477 - val_accuracy: 0.8331\n",
            "Epoch 113/250\n",
            "75/75 [==============================] - 1s 9ms/step - loss: 0.3972 - accuracy: 0.8655 - val_loss: 1.3885 - val_accuracy: 0.8314\n",
            "Epoch 114/250\n",
            "75/75 [==============================] - 1s 9ms/step - loss: 0.8594 - accuracy: 0.7677 - val_loss: 0.5019 - val_accuracy: 0.8297\n",
            "Epoch 115/250\n",
            "75/75 [==============================] - 1s 10ms/step - loss: 0.7582 - accuracy: 0.8208 - val_loss: 0.6141 - val_accuracy: 0.7943\n",
            "Epoch 116/250\n",
            "75/75 [==============================] - 1s 10ms/step - loss: 0.4070 - accuracy: 0.8478 - val_loss: 0.4145 - val_accuracy: 0.8668\n",
            "Epoch 117/250\n",
            "75/75 [==============================] - 1s 10ms/step - loss: 0.3547 - accuracy: 0.8571 - val_loss: 0.4906 - val_accuracy: 0.8179\n",
            "Epoch 118/250\n",
            "75/75 [==============================] - 1s 10ms/step - loss: 0.5125 - accuracy: 0.8128 - val_loss: 1.0801 - val_accuracy: 0.6273\n",
            "Epoch 119/250\n",
            "75/75 [==============================] - 1s 10ms/step - loss: 0.6223 - accuracy: 0.7875 - val_loss: 0.5092 - val_accuracy: 0.8229\n",
            "Epoch 120/250\n",
            "75/75 [==============================] - 1s 10ms/step - loss: 0.3977 - accuracy: 0.8465 - val_loss: 0.4205 - val_accuracy: 0.8482\n",
            "Epoch 121/250\n",
            "75/75 [==============================] - 1s 9ms/step - loss: 0.3427 - accuracy: 0.8664 - val_loss: 0.3573 - val_accuracy: 0.8702\n",
            "Epoch 122/250\n",
            "75/75 [==============================] - 1s 10ms/step - loss: 0.3166 - accuracy: 0.8727 - val_loss: 0.3497 - val_accuracy: 0.8786\n",
            "Epoch 123/250\n",
            "75/75 [==============================] - 1s 9ms/step - loss: 0.3220 - accuracy: 0.8744 - val_loss: 0.3795 - val_accuracy: 0.8617\n",
            "Epoch 124/250\n",
            "75/75 [==============================] - 1s 9ms/step - loss: 0.2691 - accuracy: 0.8938 - val_loss: 1.5360 - val_accuracy: 0.7470\n",
            "Epoch 125/250\n",
            "75/75 [==============================] - 1s 12ms/step - loss: 0.4777 - accuracy: 0.8170 - val_loss: 0.3480 - val_accuracy: 0.8735\n",
            "Epoch 126/250\n",
            "75/75 [==============================] - 1s 14ms/step - loss: 0.3028 - accuracy: 0.8874 - val_loss: 0.4073 - val_accuracy: 0.8449\n",
            "Epoch 127/250\n",
            "75/75 [==============================] - 1s 10ms/step - loss: 0.2878 - accuracy: 0.8866 - val_loss: 0.3987 - val_accuracy: 0.8735\n",
            "Epoch 128/250\n",
            "75/75 [==============================] - 1s 9ms/step - loss: 0.2671 - accuracy: 0.8967 - val_loss: 0.3155 - val_accuracy: 0.8988\n",
            "Epoch 129/250\n",
            "75/75 [==============================] - 1s 10ms/step - loss: 0.2595 - accuracy: 0.8976 - val_loss: 0.3674 - val_accuracy: 0.8634\n",
            "Epoch 130/250\n",
            "75/75 [==============================] - 1s 10ms/step - loss: 0.5431 - accuracy: 0.8056 - val_loss: 0.3772 - val_accuracy: 0.8516\n",
            "Epoch 131/250\n",
            "75/75 [==============================] - 1s 9ms/step - loss: 0.3036 - accuracy: 0.8798 - val_loss: 0.3524 - val_accuracy: 0.8685\n",
            "Epoch 132/250\n",
            "75/75 [==============================] - 1s 10ms/step - loss: 0.2849 - accuracy: 0.8836 - val_loss: 0.3323 - val_accuracy: 0.8769\n",
            "Epoch 133/250\n",
            "75/75 [==============================] - 1s 10ms/step - loss: 0.2928 - accuracy: 0.8849 - val_loss: 0.4237 - val_accuracy: 0.8482\n",
            "Epoch 134/250\n",
            "75/75 [==============================] - 1s 9ms/step - loss: 0.2742 - accuracy: 0.8950 - val_loss: 0.3557 - val_accuracy: 0.8600\n",
            "Epoch 135/250\n",
            "75/75 [==============================] - 1s 10ms/step - loss: 0.2892 - accuracy: 0.8858 - val_loss: 0.3440 - val_accuracy: 0.8668\n",
            "Epoch 136/250\n",
            "75/75 [==============================] - 1s 9ms/step - loss: 0.3015 - accuracy: 0.8777 - val_loss: 0.3286 - val_accuracy: 0.8769\n",
            "Epoch 137/250\n",
            "75/75 [==============================] - 1s 9ms/step - loss: 0.2772 - accuracy: 0.8895 - val_loss: 0.3322 - val_accuracy: 0.8752\n",
            "Epoch 138/250\n",
            "75/75 [==============================] - 1s 9ms/step - loss: 0.2692 - accuracy: 0.8959 - val_loss: 0.3644 - val_accuracy: 0.8634\n",
            "Epoch 139/250\n",
            "75/75 [==============================] - 1s 10ms/step - loss: 0.2346 - accuracy: 0.9085 - val_loss: 0.3078 - val_accuracy: 0.8820\n",
            "Epoch 140/250\n",
            "75/75 [==============================] - 1s 9ms/step - loss: 0.2932 - accuracy: 0.8887 - val_loss: 0.6877 - val_accuracy: 0.7774\n",
            "Epoch 141/250\n",
            "75/75 [==============================] - 1s 14ms/step - loss: 0.2962 - accuracy: 0.8790 - val_loss: 0.2986 - val_accuracy: 0.8921\n",
            "Epoch 142/250\n",
            "75/75 [==============================] - 1s 12ms/step - loss: 0.2323 - accuracy: 0.9064 - val_loss: 0.2762 - val_accuracy: 0.8954\n",
            "Epoch 143/250\n",
            "75/75 [==============================] - 1s 9ms/step - loss: 0.2646 - accuracy: 0.8992 - val_loss: 0.4298 - val_accuracy: 0.8617\n",
            "Epoch 144/250\n",
            "75/75 [==============================] - 1s 9ms/step - loss: 0.3615 - accuracy: 0.8659 - val_loss: 0.5260 - val_accuracy: 0.8162\n",
            "Epoch 145/250\n",
            "75/75 [==============================] - 1s 10ms/step - loss: 0.2981 - accuracy: 0.8786 - val_loss: 0.3320 - val_accuracy: 0.8702\n",
            "Epoch 146/250\n",
            "75/75 [==============================] - 1s 9ms/step - loss: 0.3656 - accuracy: 0.8596 - val_loss: 0.3613 - val_accuracy: 0.8583\n",
            "Epoch 147/250\n",
            "75/75 [==============================] - 1s 9ms/step - loss: 0.2616 - accuracy: 0.8921 - val_loss: 0.3162 - val_accuracy: 0.8735\n",
            "Epoch 148/250\n",
            "75/75 [==============================] - 1s 9ms/step - loss: 0.2416 - accuracy: 0.9051 - val_loss: 0.3555 - val_accuracy: 0.8617\n",
            "Epoch 149/250\n",
            "75/75 [==============================] - 1s 10ms/step - loss: 0.2447 - accuracy: 0.9043 - val_loss: 0.3256 - val_accuracy: 0.8870\n",
            "Epoch 150/250\n",
            "75/75 [==============================] - 1s 9ms/step - loss: 0.2466 - accuracy: 0.9051 - val_loss: 0.3172 - val_accuracy: 0.8836\n",
            "Epoch 151/250\n",
            "75/75 [==============================] - 1s 9ms/step - loss: 0.3007 - accuracy: 0.8824 - val_loss: 0.3335 - val_accuracy: 0.8752\n",
            "Epoch 152/250\n",
            "75/75 [==============================] - 1s 9ms/step - loss: 0.2400 - accuracy: 0.9001 - val_loss: 0.2818 - val_accuracy: 0.9022\n",
            "Epoch 153/250\n",
            "75/75 [==============================] - 1s 9ms/step - loss: 0.2567 - accuracy: 0.8988 - val_loss: 0.3910 - val_accuracy: 0.8634\n",
            "Epoch 154/250\n",
            "75/75 [==============================] - 1s 9ms/step - loss: 0.2118 - accuracy: 0.9136 - val_loss: 0.2726 - val_accuracy: 0.9140\n",
            "Epoch 155/250\n",
            "75/75 [==============================] - 1s 9ms/step - loss: 0.2310 - accuracy: 0.9110 - val_loss: 0.3598 - val_accuracy: 0.8718\n",
            "Epoch 156/250\n",
            "75/75 [==============================] - 1s 10ms/step - loss: 0.2622 - accuracy: 0.8980 - val_loss: 0.4785 - val_accuracy: 0.8465\n",
            "Epoch 157/250\n",
            "75/75 [==============================] - 1s 12ms/step - loss: 0.2343 - accuracy: 0.9068 - val_loss: 0.2944 - val_accuracy: 0.8938\n",
            "Epoch 158/250\n",
            "75/75 [==============================] - 1s 12ms/step - loss: 0.2360 - accuracy: 0.9094 - val_loss: 0.3345 - val_accuracy: 0.8786\n",
            "Epoch 159/250\n",
            "75/75 [==============================] - 1s 11ms/step - loss: 0.2454 - accuracy: 0.9073 - val_loss: 0.3794 - val_accuracy: 0.8702\n",
            "Epoch 160/250\n",
            "75/75 [==============================] - 1s 9ms/step - loss: 0.2842 - accuracy: 0.8832 - val_loss: 0.2797 - val_accuracy: 0.8988\n",
            "Epoch 161/250\n",
            "75/75 [==============================] - 1s 10ms/step - loss: 0.2174 - accuracy: 0.9161 - val_loss: 0.3091 - val_accuracy: 0.8820\n",
            "Epoch 162/250\n",
            "75/75 [==============================] - 1s 9ms/step - loss: 0.2485 - accuracy: 0.9068 - val_loss: 0.3080 - val_accuracy: 0.8887\n",
            "Epoch 163/250\n",
            "75/75 [==============================] - 1s 9ms/step - loss: 0.2480 - accuracy: 0.9043 - val_loss: 0.3417 - val_accuracy: 0.8651\n",
            "Epoch 164/250\n",
            "75/75 [==============================] - 1s 9ms/step - loss: 0.2411 - accuracy: 0.8984 - val_loss: 0.3981 - val_accuracy: 0.8600\n",
            "Epoch 165/250\n",
            "75/75 [==============================] - 1s 10ms/step - loss: 0.3699 - accuracy: 0.8672 - val_loss: 0.3974 - val_accuracy: 0.8533\n",
            "Epoch 166/250\n",
            "75/75 [==============================] - 1s 9ms/step - loss: 0.3427 - accuracy: 0.8680 - val_loss: 0.3510 - val_accuracy: 0.8516\n",
            "Epoch 167/250\n",
            "75/75 [==============================] - 1s 9ms/step - loss: 0.2422 - accuracy: 0.9013 - val_loss: 0.3552 - val_accuracy: 0.8702\n",
            "Epoch 168/250\n",
            "75/75 [==============================] - 1s 9ms/step - loss: 0.4648 - accuracy: 0.8427 - val_loss: 0.5479 - val_accuracy: 0.7892\n",
            "Epoch 169/250\n",
            "75/75 [==============================] - 1s 9ms/step - loss: 0.3773 - accuracy: 0.8520 - val_loss: 0.4596 - val_accuracy: 0.8314\n",
            "Epoch 170/250\n",
            "75/75 [==============================] - 1s 9ms/step - loss: 0.2944 - accuracy: 0.8836 - val_loss: 0.4159 - val_accuracy: 0.8449\n",
            "Epoch 171/250\n",
            "75/75 [==============================] - 1s 9ms/step - loss: 0.2855 - accuracy: 0.8925 - val_loss: 0.3426 - val_accuracy: 0.8702\n",
            "Epoch 172/250\n",
            "75/75 [==============================] - 1s 9ms/step - loss: 0.2507 - accuracy: 0.9009 - val_loss: 0.3234 - val_accuracy: 0.8870\n",
            "Epoch 173/250\n",
            "75/75 [==============================] - 1s 10ms/step - loss: 0.2622 - accuracy: 0.8988 - val_loss: 0.3057 - val_accuracy: 0.8887\n",
            "Epoch 174/250\n",
            "75/75 [==============================] - 1s 13ms/step - loss: 0.2377 - accuracy: 0.9043 - val_loss: 0.3372 - val_accuracy: 0.8803\n",
            "Epoch 175/250\n",
            "75/75 [==============================] - 1s 12ms/step - loss: 0.2403 - accuracy: 0.9064 - val_loss: 0.3776 - val_accuracy: 0.8533\n",
            "Epoch 176/250\n",
            "75/75 [==============================] - 1s 9ms/step - loss: 0.2346 - accuracy: 0.9060 - val_loss: 0.3146 - val_accuracy: 0.8820\n",
            "Epoch 177/250\n",
            "75/75 [==============================] - 1s 9ms/step - loss: 0.2166 - accuracy: 0.9132 - val_loss: 0.2826 - val_accuracy: 0.9022\n",
            "Epoch 178/250\n",
            "75/75 [==============================] - 1s 9ms/step - loss: 0.2331 - accuracy: 0.9140 - val_loss: 0.2909 - val_accuracy: 0.9056\n",
            "Epoch 179/250\n",
            "75/75 [==============================] - 1s 10ms/step - loss: 0.2411 - accuracy: 0.9026 - val_loss: 0.3442 - val_accuracy: 0.8735\n",
            "Epoch 180/250\n",
            "75/75 [==============================] - 1s 9ms/step - loss: 0.2265 - accuracy: 0.9161 - val_loss: 0.2872 - val_accuracy: 0.9039\n",
            "Epoch 181/250\n",
            "75/75 [==============================] - 1s 9ms/step - loss: 0.3640 - accuracy: 0.8689 - val_loss: 0.3527 - val_accuracy: 0.8786\n",
            "Epoch 182/250\n",
            "75/75 [==============================] - 1s 9ms/step - loss: 0.2247 - accuracy: 0.9110 - val_loss: 0.3286 - val_accuracy: 0.8836\n",
            "Epoch 183/250\n",
            "75/75 [==============================] - 1s 9ms/step - loss: 0.1929 - accuracy: 0.9241 - val_loss: 0.2585 - val_accuracy: 0.9089\n",
            "Epoch 184/250\n",
            "75/75 [==============================] - 1s 9ms/step - loss: 0.2218 - accuracy: 0.9148 - val_loss: 0.3407 - val_accuracy: 0.8853\n",
            "Epoch 185/250\n",
            "75/75 [==============================] - 1s 9ms/step - loss: 0.2784 - accuracy: 0.8929 - val_loss: 0.3376 - val_accuracy: 0.8938\n",
            "Epoch 186/250\n",
            "75/75 [==============================] - 1s 10ms/step - loss: 0.2011 - accuracy: 0.9161 - val_loss: 0.2765 - val_accuracy: 0.9039\n",
            "Epoch 187/250\n",
            "75/75 [==============================] - 1s 9ms/step - loss: 0.2581 - accuracy: 0.9013 - val_loss: 0.3573 - val_accuracy: 0.8769\n",
            "Epoch 188/250\n",
            "75/75 [==============================] - 1s 9ms/step - loss: 0.2160 - accuracy: 0.9119 - val_loss: 0.2950 - val_accuracy: 0.8971\n",
            "Epoch 189/250\n",
            "75/75 [==============================] - 1s 11ms/step - loss: 0.2250 - accuracy: 0.9148 - val_loss: 0.4094 - val_accuracy: 0.8600\n",
            "Epoch 190/250\n",
            "75/75 [==============================] - 1s 12ms/step - loss: 0.2682 - accuracy: 0.8917 - val_loss: 0.3421 - val_accuracy: 0.8988\n",
            "Epoch 191/250\n",
            "75/75 [==============================] - 1s 12ms/step - loss: 0.2213 - accuracy: 0.9094 - val_loss: 0.3990 - val_accuracy: 0.8550\n",
            "Epoch 192/250\n",
            "75/75 [==============================] - 1s 9ms/step - loss: 0.2514 - accuracy: 0.8980 - val_loss: 0.4406 - val_accuracy: 0.8550\n",
            "Epoch 193/250\n",
            "75/75 [==============================] - 1s 9ms/step - loss: 0.2236 - accuracy: 0.9030 - val_loss: 0.3208 - val_accuracy: 0.8870\n",
            "Epoch 194/250\n",
            "75/75 [==============================] - 1s 10ms/step - loss: 0.1718 - accuracy: 0.9313 - val_loss: 0.3123 - val_accuracy: 0.8887\n",
            "Epoch 195/250\n",
            "75/75 [==============================] - 1s 10ms/step - loss: 0.1856 - accuracy: 0.9186 - val_loss: 0.2896 - val_accuracy: 0.9089\n",
            "Epoch 196/250\n",
            "75/75 [==============================] - 1s 9ms/step - loss: 0.3189 - accuracy: 0.8786 - val_loss: 0.3671 - val_accuracy: 0.8685\n",
            "Epoch 197/250\n",
            "75/75 [==============================] - 1s 10ms/step - loss: 0.1912 - accuracy: 0.9157 - val_loss: 0.3052 - val_accuracy: 0.8887\n",
            "Epoch 198/250\n",
            "75/75 [==============================] - 1s 10ms/step - loss: 0.1781 - accuracy: 0.9245 - val_loss: 0.3637 - val_accuracy: 0.8735\n",
            "Epoch 199/250\n",
            "75/75 [==============================] - 1s 9ms/step - loss: 0.2245 - accuracy: 0.9077 - val_loss: 0.3323 - val_accuracy: 0.8870\n",
            "Epoch 200/250\n",
            "75/75 [==============================] - 1s 10ms/step - loss: 0.2104 - accuracy: 0.9140 - val_loss: 0.3082 - val_accuracy: 0.8971\n",
            "Epoch 201/250\n",
            "75/75 [==============================] - 1s 10ms/step - loss: 0.2223 - accuracy: 0.9081 - val_loss: 0.3085 - val_accuracy: 0.8988\n",
            "Epoch 202/250\n",
            "75/75 [==============================] - 1s 9ms/step - loss: 0.2160 - accuracy: 0.9089 - val_loss: 0.4200 - val_accuracy: 0.8415\n",
            "Epoch 203/250\n",
            "75/75 [==============================] - 1s 10ms/step - loss: 0.2043 - accuracy: 0.9174 - val_loss: 0.4488 - val_accuracy: 0.8634\n",
            "Epoch 204/250\n",
            "75/75 [==============================] - 1s 9ms/step - loss: 0.2144 - accuracy: 0.9195 - val_loss: 0.4629 - val_accuracy: 0.8415\n",
            "Epoch 205/250\n",
            "75/75 [==============================] - 1s 10ms/step - loss: 0.2344 - accuracy: 0.9056 - val_loss: 0.4375 - val_accuracy: 0.8685\n",
            "Epoch 206/250\n",
            "75/75 [==============================] - 1s 14ms/step - loss: 0.2335 - accuracy: 0.9098 - val_loss: 0.4596 - val_accuracy: 0.8651\n",
            "Epoch 207/250\n",
            "75/75 [==============================] - 1s 12ms/step - loss: 0.1892 - accuracy: 0.9262 - val_loss: 0.3191 - val_accuracy: 0.8870\n",
            "Epoch 208/250\n",
            "75/75 [==============================] - 1s 9ms/step - loss: 0.1812 - accuracy: 0.9325 - val_loss: 0.3075 - val_accuracy: 0.8988\n",
            "Epoch 209/250\n",
            "75/75 [==============================] - 1s 10ms/step - loss: 0.2262 - accuracy: 0.9144 - val_loss: 0.4524 - val_accuracy: 0.8583\n",
            "Epoch 210/250\n",
            "75/75 [==============================] - 1s 9ms/step - loss: 0.2525 - accuracy: 0.9039 - val_loss: 0.3285 - val_accuracy: 0.8954\n",
            "Epoch 211/250\n",
            "75/75 [==============================] - 1s 9ms/step - loss: 0.1853 - accuracy: 0.9216 - val_loss: 0.3071 - val_accuracy: 0.9174\n",
            "Epoch 212/250\n",
            "75/75 [==============================] - 1s 10ms/step - loss: 0.2238 - accuracy: 0.9085 - val_loss: 0.3812 - val_accuracy: 0.8735\n",
            "Epoch 213/250\n",
            "75/75 [==============================] - 1s 9ms/step - loss: 0.2707 - accuracy: 0.9089 - val_loss: 0.8064 - val_accuracy: 0.7858\n",
            "Epoch 214/250\n",
            "75/75 [==============================] - 1s 10ms/step - loss: 0.3068 - accuracy: 0.8727 - val_loss: 0.3215 - val_accuracy: 0.8887\n",
            "Epoch 215/250\n",
            "75/75 [==============================] - 1s 9ms/step - loss: 0.1913 - accuracy: 0.9228 - val_loss: 0.3314 - val_accuracy: 0.8904\n",
            "Epoch 216/250\n",
            "75/75 [==============================] - 1s 10ms/step - loss: 0.2010 - accuracy: 0.9123 - val_loss: 0.3204 - val_accuracy: 0.8820\n",
            "Epoch 217/250\n",
            "75/75 [==============================] - 1s 9ms/step - loss: 0.1875 - accuracy: 0.9237 - val_loss: 0.3083 - val_accuracy: 0.9056\n",
            "Epoch 218/250\n",
            "75/75 [==============================] - 1s 11ms/step - loss: 0.1582 - accuracy: 0.9330 - val_loss: 0.3182 - val_accuracy: 0.8853\n",
            "Epoch 219/250\n",
            "75/75 [==============================] - 1s 9ms/step - loss: 0.1576 - accuracy: 0.9372 - val_loss: 0.3301 - val_accuracy: 0.8954\n",
            "Epoch 220/250\n",
            "75/75 [==============================] - 1s 10ms/step - loss: 0.1592 - accuracy: 0.9338 - val_loss: 0.4155 - val_accuracy: 0.8769\n",
            "Epoch 221/250\n",
            "75/75 [==============================] - 1s 11ms/step - loss: 0.1595 - accuracy: 0.9351 - val_loss: 0.4531 - val_accuracy: 0.8617\n",
            "Epoch 222/250\n",
            "75/75 [==============================] - 1s 13ms/step - loss: 0.1822 - accuracy: 0.9292 - val_loss: 0.3614 - val_accuracy: 0.8921\n",
            "Epoch 223/250\n",
            "75/75 [==============================] - 1s 12ms/step - loss: 0.3105 - accuracy: 0.8803 - val_loss: 0.3491 - val_accuracy: 0.8668\n",
            "Epoch 224/250\n",
            "75/75 [==============================] - 1s 9ms/step - loss: 0.2335 - accuracy: 0.9030 - val_loss: 0.3027 - val_accuracy: 0.8954\n",
            "Epoch 225/250\n",
            "75/75 [==============================] - 1s 10ms/step - loss: 0.1577 - accuracy: 0.9389 - val_loss: 0.3070 - val_accuracy: 0.9039\n",
            "Epoch 226/250\n",
            "75/75 [==============================] - 1s 10ms/step - loss: 0.1640 - accuracy: 0.9334 - val_loss: 0.3707 - val_accuracy: 0.8786\n",
            "Epoch 227/250\n",
            "75/75 [==============================] - 1s 10ms/step - loss: 0.1838 - accuracy: 0.9207 - val_loss: 6.2553 - val_accuracy: 0.6880\n",
            "Epoch 228/250\n",
            "75/75 [==============================] - 1s 10ms/step - loss: 1.0577 - accuracy: 0.7475 - val_loss: 1.1499 - val_accuracy: 0.7032\n",
            "Epoch 229/250\n",
            "75/75 [==============================] - 1s 10ms/step - loss: 0.5440 - accuracy: 0.7964 - val_loss: 0.4615 - val_accuracy: 0.8314\n",
            "Epoch 230/250\n",
            "75/75 [==============================] - 1s 9ms/step - loss: 0.3755 - accuracy: 0.8449 - val_loss: 0.3646 - val_accuracy: 0.8668\n",
            "Epoch 231/250\n",
            "75/75 [==============================] - 1s 10ms/step - loss: 0.2835 - accuracy: 0.8862 - val_loss: 0.4655 - val_accuracy: 0.8938\n",
            "Epoch 232/250\n",
            "75/75 [==============================] - 1s 10ms/step - loss: 0.2606 - accuracy: 0.9140 - val_loss: 0.4308 - val_accuracy: 0.8803\n",
            "Epoch 233/250\n",
            "75/75 [==============================] - 1s 9ms/step - loss: 0.2816 - accuracy: 0.8963 - val_loss: 0.3609 - val_accuracy: 0.8803\n",
            "Epoch 234/250\n",
            "75/75 [==============================] - 1s 10ms/step - loss: 0.2274 - accuracy: 0.9136 - val_loss: 0.3115 - val_accuracy: 0.8836\n",
            "Epoch 235/250\n",
            "75/75 [==============================] - 1s 9ms/step - loss: 0.2320 - accuracy: 0.9035 - val_loss: 0.4068 - val_accuracy: 0.8465\n",
            "Epoch 236/250\n",
            "75/75 [==============================] - 1s 10ms/step - loss: 0.2474 - accuracy: 0.8988 - val_loss: 0.4490 - val_accuracy: 0.8516\n",
            "Epoch 237/250\n",
            "75/75 [==============================] - 1s 13ms/step - loss: 0.2034 - accuracy: 0.9178 - val_loss: 0.3412 - val_accuracy: 0.8887\n",
            "Epoch 238/250\n",
            "75/75 [==============================] - 1s 13ms/step - loss: 0.1854 - accuracy: 0.9262 - val_loss: 0.3508 - val_accuracy: 0.8938\n",
            "Epoch 239/250\n",
            "75/75 [==============================] - 1s 12ms/step - loss: 0.1794 - accuracy: 0.9296 - val_loss: 0.3431 - val_accuracy: 0.8887\n",
            "Epoch 240/250\n",
            "75/75 [==============================] - 1s 9ms/step - loss: 0.2371 - accuracy: 0.9068 - val_loss: 0.4089 - val_accuracy: 0.8567\n",
            "Epoch 241/250\n",
            "75/75 [==============================] - 1s 10ms/step - loss: 0.1624 - accuracy: 0.9317 - val_loss: 0.3494 - val_accuracy: 0.8870\n",
            "Epoch 242/250\n",
            "75/75 [==============================] - 1s 10ms/step - loss: 0.1767 - accuracy: 0.9271 - val_loss: 0.3422 - val_accuracy: 0.8870\n",
            "Epoch 243/250\n",
            "75/75 [==============================] - 1s 9ms/step - loss: 0.2012 - accuracy: 0.9161 - val_loss: 0.3514 - val_accuracy: 0.8921\n",
            "Epoch 244/250\n",
            "75/75 [==============================] - 1s 9ms/step - loss: 0.1604 - accuracy: 0.9317 - val_loss: 0.3075 - val_accuracy: 0.9022\n",
            "Epoch 245/250\n",
            "75/75 [==============================] - 1s 10ms/step - loss: 0.2000 - accuracy: 0.9182 - val_loss: 0.4173 - val_accuracy: 0.8685\n",
            "Epoch 246/250\n",
            "75/75 [==============================] - 1s 10ms/step - loss: 0.1702 - accuracy: 0.9317 - val_loss: 0.2722 - val_accuracy: 0.9191\n",
            "Epoch 247/250\n",
            "75/75 [==============================] - 1s 9ms/step - loss: 0.1594 - accuracy: 0.9334 - val_loss: 0.3041 - val_accuracy: 0.9056\n",
            "Epoch 248/250\n",
            "75/75 [==============================] - 1s 9ms/step - loss: 0.1254 - accuracy: 0.9486 - val_loss: 0.3603 - val_accuracy: 0.8938\n",
            "Epoch 249/250\n",
            "75/75 [==============================] - 1s 9ms/step - loss: 0.1489 - accuracy: 0.9380 - val_loss: 0.3425 - val_accuracy: 0.8988\n",
            "Epoch 250/250\n",
            "75/75 [==============================] - 1s 9ms/step - loss: 0.1755 - accuracy: 0.9271 - val_loss: 0.3498 - val_accuracy: 0.9022\n",
            "[0.2453625649213791, 0.3098650872707367, 0.30607083439826965, 0.35708263516426086, 0.4152613878250122, 0.47133222222328186, 0.4877740442752838, 0.4709106385707855, 0.5134907364845276, 0.5143339037895203, 0.5295109748840332, 0.5459527969360352, 0.5792580246925354, 0.5278246402740479, 0.5666104555130005, 0.5999156832695007, 0.5956998467445374, 0.6062394380569458, 0.6505059003829956, 0.6871837973594666, 0.7099494338035583, 0.48271501064300537, 0.39881956577301025, 0.5408937335014343, 0.6315345764160156, 0.6214165091514587, 0.5316188931465149, 0.6446037292480469, 0.6256324052810669, 0.6580944061279297, 0.7015177011489868, 0.6909780502319336, 0.7230185270309448, 0.7445194125175476, 0.6812816262245178, 0.7196458578109741, 0.7386171817779541, 0.7440978288650513, 0.7137436866760254, 0.7394603490829468, 0.7580100893974304, 0.751264750957489, 0.7744519114494324, 0.7478920817375183, 0.7824620604515076, 0.7647554874420166, 0.771500825881958, 0.7639123201370239, 0.7769814729690552, 0.7470489144325256, 0.7377740144729614, 0.7736087441444397, 0.7816188931465149, 0.774030327796936, 0.7887858152389526, 0.8220910429954529, 0.7925801277160645, 0.7934232950210571, 0.8258853554725647, 0.8132377862930298, 0.8132377862930298, 0.8338954448699951, 0.8360033631324768, 0.8229342103004456, 0.8128162026405334, 0.8022765517234802, 0.8187183737754822, 0.8376896977424622, 0.8237773776054382, 0.8520236015319824, 0.8469645977020264, 0.8448566794395447, 0.8448566794395447, 0.8499156832695007, 0.8672006726264954, 0.8558178544044495, 0.82757169008255, 0.8166104555130005, 0.8090219497680664, 0.8178752064704895, 0.8444350957870483, 0.8575041890144348, 0.8419055938720703, 0.8549746870994568, 0.8490725159645081, 0.8330522775650024, 0.8532883524894714, 0.8634064197540283, 0.8743675947189331, 0.8423271775245667, 0.868043839931488, 0.8473861813545227, 0.8507588505744934, 0.8735244274139404, 0.8684654235839844, 0.8887014985084534, 0.8743675947189331, 0.8697301745414734, 0.8608769178390503, 0.8494940996170044, 0.8258853554725647, 0.860455334186554, 0.847807765007019, 0.8676222562789917, 0.8520236015319824, 0.8836424946784973, 0.8798482418060303, 0.8853288292884827, 0.883220911026001, 0.866779088973999, 0.861720085144043, 0.8528667688369751, 0.86551433801651, 0.767706573009491, 0.8208262920379639, 0.847807765007019, 0.8570826053619385, 0.8128162026405334, 0.7875210642814636, 0.84654301404953, 0.8663575053215027, 0.8726812601089478, 0.8743675947189331, 0.8937605619430542, 0.8170320391654968, 0.8874367475509644, 0.8865935802459717, 0.8967116475105286, 0.8975548148155212, 0.8056492209434509, 0.8798482418060303, 0.8836424946784973, 0.8849072456359863, 0.8950253129005432, 0.885750412940979, 0.8777403235435486, 0.889544665813446, 0.8958684802055359, 0.9085160493850708, 0.8887014985084534, 0.8790050745010376, 0.9064080715179443, 0.8992411494255066, 0.8659359216690063, 0.8785834908485413, 0.8596121668815613, 0.8920742273330688, 0.9051433205604553, 0.9043001532554626, 0.9051433205604553, 0.8823777437210083, 0.9000843167304993, 0.8988195657730103, 0.9135750532150269, 0.9110455513000488, 0.8979763984680176, 0.9068296551704407, 0.9093592166900635, 0.907251238822937, 0.883220911026001, 0.9161045551300049, 0.9068296551704407, 0.9043001532554626, 0.8983979821205139, 0.8672006726264954, 0.868043839931488, 0.9013490676879883, 0.842748761177063, 0.8520236015319824, 0.8836424946784973, 0.8924958109855652, 0.9009274840354919, 0.8988195657730103, 0.9043001532554626, 0.9064080715179443, 0.905986487865448, 0.9131534695625305, 0.9139966368675232, 0.9026138186454773, 0.9161045551300049, 0.8688870072364807, 0.9110455513000488, 0.9241146445274353, 0.9148398041725159, 0.8929173946380615, 0.9161045551300049, 0.9013490676879883, 0.9118887186050415, 0.9148398041725159, 0.8916525840759277, 0.9093592166900635, 0.8979763984680176, 0.9030354022979736, 0.9312816262245178, 0.9186340570449829, 0.8785834908485413, 0.9156829714775085, 0.9245362281799316, 0.9076728224754333, 0.9139966368675232, 0.9080944061279297, 0.9089376330375671, 0.9173693060874939, 0.9194772243499756, 0.9055649042129517, 0.9097808003425598, 0.9262226223945618, 0.9325463771820068, 0.9144182205200195, 0.9038785696029663, 0.9215851426124573, 0.9085160493850708, 0.9089376330375671, 0.8726812601089478, 0.9228498935699463, 0.9123103022575378, 0.923693060874939, 0.9329679608345032, 0.9371837973594666, 0.9338111281394958, 0.9350758790969849, 0.9291737079620361, 0.8802698254585266, 0.9030354022979736, 0.9388701319694519, 0.9333895444869995, 0.9207419753074646, 0.747470498085022, 0.7963743805885315, 0.8448566794395447, 0.8861719965934753, 0.9139966368675232, 0.8962900638580322, 0.9135750532150269, 0.90345698595047, 0.8988195657730103, 0.9177908897399902, 0.9262226223945618, 0.9295952916145325, 0.9068296551704407, 0.9317032098770142, 0.9270657896995544, 0.9161045551300049, 0.9317032098770142, 0.9182124733924866, 0.9317032098770142, 0.9333895444869995, 0.9485666155815125, 0.9380269646644592, 0.9270657896995544]\n",
            "[16.68221092224121, 3.4108636379241943, 2.61905574798584, 1.5423967838287354, 1.2577720880508423, 1.203972339630127, 1.1400595903396606, 1.180235743522644, 1.0690842866897583, 1.0904247760772705, 1.0398563146591187, 0.9994128346443176, 0.964495062828064, 1.0804952383041382, 0.943630576133728, 0.9263699650764465, 0.9205463528633118, 0.8809556365013123, 0.8215404748916626, 0.8129563331604004, 0.7508711218833923, 1.5854103565216064, 2.2409186363220215, 1.119038462638855, 0.9273837208747864, 0.9104808568954468, 1.0828346014022827, 0.8974889516830444, 0.9353902339935303, 0.9054315090179443, 0.796496570110321, 0.8115250468254089, 0.7419107556343079, 0.6989665031433105, 0.8220016956329346, 0.727602481842041, 0.7036575675010681, 0.6822824478149414, 0.730976939201355, 0.6906806230545044, 0.6533077359199524, 0.6543837189674377, 0.6216496825218201, 0.6621489524841309, 0.6130983829498291, 0.6598590612411499, 0.6546542644500732, 0.6451912522315979, 0.6160212755203247, 0.712595522403717, 0.7002183794975281, 0.6126262545585632, 0.5867336392402649, 0.6002171635627747, 0.6044366359710693, 0.5064132213592529, 0.5296019315719604, 0.5525802969932556, 0.47764167189598083, 0.49012887477874756, 0.48037251830101013, 0.4366656243801117, 0.41285440325737, 0.46343833208084106, 0.5202711820602417, 0.5455787777900696, 0.456455796957016, 0.4510873854160309, 0.4618876576423645, 0.38840624690055847, 0.3986791670322418, 0.40617039799690247, 0.3779924809932709, 0.3825892210006714, 0.3437052369117737, 0.36737674474716187, 0.46014872193336487, 0.4722880721092224, 0.5144930481910706, 0.5023747682571411, 0.41460394859313965, 0.39934611320495605, 0.41439351439476013, 0.36988019943237305, 0.36649420857429504, 0.44766899943351746, 0.3646429181098938, 0.3530692160129547, 0.3263799548149109, 0.3891650140285492, 0.3507293462753296, 0.3733394742012024, 0.36955365538597107, 0.3208602964878082, 0.33788198232650757, 0.2944667339324951, 0.320034921169281, 0.34606480598449707, 0.3486344814300537, 0.4893082082271576, 0.49945032596588135, 0.38417842984199524, 0.3942112922668457, 0.3431176543235779, 0.39201897382736206, 0.28938961029052734, 0.3003249168395996, 0.2916339933872223, 0.28118395805358887, 0.3365195691585541, 0.3384997844696045, 0.44779467582702637, 0.39722684025764465, 0.8594034314155579, 0.7581551671028137, 0.4069859981536865, 0.35474085807800293, 0.5125414133071899, 0.6222651600837708, 0.3977130353450775, 0.34271201491355896, 0.3166419565677643, 0.322024941444397, 0.26906850934028625, 0.47769710421562195, 0.30279967188835144, 0.2877821624279022, 0.26712483167648315, 0.25954771041870117, 0.5431481599807739, 0.30357539653778076, 0.284858375787735, 0.292802095413208, 0.27424630522727966, 0.28924182057380676, 0.30154114961624146, 0.2772199511528015, 0.26922425627708435, 0.23463107645511627, 0.2931745946407318, 0.296188086271286, 0.23229347169399261, 0.2646375000476837, 0.36148759722709656, 0.29809993505477905, 0.36558961868286133, 0.26159000396728516, 0.2415776401758194, 0.24470025300979614, 0.24663372337818146, 0.300724595785141, 0.23999440670013428, 0.25670626759529114, 0.21179676055908203, 0.23101310431957245, 0.26223042607307434, 0.234270840883255, 0.23604698479175568, 0.24543945491313934, 0.284217894077301, 0.2174091339111328, 0.2484970986843109, 0.24804849922657013, 0.24106720089912415, 0.3698916435241699, 0.3426510989665985, 0.24215613305568695, 0.4648478627204895, 0.37729763984680176, 0.29437482357025146, 0.2854786515235901, 0.2507445812225342, 0.2621864080429077, 0.23766718804836273, 0.24029865860939026, 0.23463822901248932, 0.21663770079612732, 0.23313790559768677, 0.2410767525434494, 0.22646726667881012, 0.36397337913513184, 0.22473947703838348, 0.19285857677459717, 0.22183871269226074, 0.27837225794792175, 0.20113076269626617, 0.2580614387989044, 0.21600359678268433, 0.2249601185321808, 0.268189400434494, 0.2212710678577423, 0.251443475484848, 0.22360360622406006, 0.17179739475250244, 0.1856374889612198, 0.3189234137535095, 0.19115622341632843, 0.1781172901391983, 0.22449958324432373, 0.21041029691696167, 0.22233761847019196, 0.21600066125392914, 0.20431768894195557, 0.21436695754528046, 0.23444923758506775, 0.23345381021499634, 0.18919509649276733, 0.18117396533489227, 0.22616703808307648, 0.25252699851989746, 0.18533742427825928, 0.2237585037946701, 0.2706611454486847, 0.30675527453422546, 0.19129616022109985, 0.20095381140708923, 0.18754231929779053, 0.15822704136371613, 0.157558411359787, 0.1591603010892868, 0.15945486724376678, 0.1821765899658203, 0.3105194866657257, 0.2334909737110138, 0.15766675770282745, 0.16399258375167847, 0.1837666928768158, 1.0576651096343994, 0.5439767837524414, 0.3754989206790924, 0.28349635004997253, 0.260623037815094, 0.2816114127635956, 0.22736848890781403, 0.23196730017662048, 0.24743783473968506, 0.2034306526184082, 0.18537013232707977, 0.1793791651725769, 0.23708583414554596, 0.1624097377061844, 0.17673511803150177, 0.20116813480854034, 0.1603793352842331, 0.20000304281711578, 0.17022112011909485, 0.1593565046787262, 0.12543216347694397, 0.14892563223838806, 0.17547696828842163]\n"
          ]
        }
      ]
    },
    {
      "cell_type": "code",
      "source": [
        "# Évaluer le modèle sur les données de test\n",
        "score = model.evaluate(X_test, y_test)\n",
        "print(\"Test loss:\", score[0])\n",
        "print(\"Test accuracy:\", score[1])"
      ],
      "metadata": {
        "colab": {
          "base_uri": "https://localhost:8080/"
        },
        "id": "UB23EaszAsoh",
        "outputId": "495b0bb7-8d3b-42f2-9a28-655bd1b74276"
      },
      "execution_count": 235,
      "outputs": [
        {
          "output_type": "stream",
          "name": "stdout",
          "text": [
            "19/19 [==============================] - 0s 3ms/step - loss: 0.3498 - accuracy: 0.9022\n",
            "Test loss: 0.3497981131076813\n",
            "Test accuracy: 0.902192234992981\n"
          ]
        }
      ]
    },
    {
      "cell_type": "code",
      "source": [
        "# Afficher les graphes d'accuracy et loss selon l'epoch\n",
        "import matplotlib.pyplot as plt\n",
        "\n",
        "plt.plot(history.history['accuracy'], label='train')\n",
        "plt.plot(history.history['val_accuracy'], label='validation')\n",
        "plt.title('Accuracy')\n",
        "plt.xlabel('Epoch')\n",
        "plt.ylabel('Accuracy')\n",
        "plt.legend()\n",
        "plt.show()\n",
        "\n",
        "plt.plot(history.history['loss'], label='train')\n",
        "plt.plot(history.history['val_loss'], label='validation')\n",
        "plt.title('Loss')\n",
        "plt.xlabel('Epoch')\n",
        "plt.ylabel('Loss')\n",
        "plt.legend()\n",
        "plt.show()"
      ],
      "metadata": {
        "colab": {
          "base_uri": "https://localhost:8080/",
          "height": 573
        },
        "id": "OLB7MP09Asr1",
        "outputId": "68e28099-cf8b-46cb-a2e7-d825dbc844c7"
      },
      "execution_count": 236,
      "outputs": [
        {
          "output_type": "display_data",
          "data": {
            "text/plain": [
              "<Figure size 432x288 with 1 Axes>"
            ],
            "image/png": "[encoded data removed]"
          },
          "metadata": {
            "needs_background": "light"
          }
        },
        {
          "output_type": "display_data",
          "data": {
            "text/plain": [
              "<Figure size 432x288 with 1 Axes>"
            ],
            "image/png": "[encoded data removed]"
          },
          "metadata": {
            "needs_background": "light"
          }
        }
      ]
    },
    {
      "cell_type": "code",
      "source": [
        "from sklearn.metrics import classification_report, confusion_matrix"
      ],
      "metadata": {
        "id": "TNpVT4InOVua"
      },
      "execution_count": 237,
      "outputs": []
    },
    {
      "cell_type": "code",
      "source": [
        "model.save('classification_model_2.h5')"
      ],
      "metadata": {
        "id": "6vFRqlL5hoLE"
      },
      "execution_count": 243,
      "outputs": []
    },
    {
      "cell_type": "code",
      "source": [
        "from tensorflow.keras.models import load_model\n",
        "\n",
        "# Charger le modèle CNN entraîné\n",
        "model = load_model('classification_model_2.h5')"
      ],
      "metadata": {
        "id": "p_FOh9mwYq-k"
      },
      "execution_count": 223,
      "outputs": []
    },
    {
      "cell_type": "code",
      "source": [
        "y_pred = model.predict(X_test,batch_size=32, verbose=0)\n",
        "y_pred = np.argmax(y_pred, axis=1)\n",
        "y_true = np.argmax(y_test, axis=1)"
      ],
      "metadata": {
        "id": "igUADKfiYrCK"
      },
      "execution_count": 238,
      "outputs": []
    },
    {
      "cell_type": "code",
      "source": [
        "cm = confusion_matrix(y_true,y_pred)"
      ],
      "metadata": {
        "id": "BTKS0hgXcfrb"
      },
      "execution_count": 239,
      "outputs": []
    },
    {
      "cell_type": "code",
      "source": [
        "cm"
      ],
      "metadata": {
        "colab": {
          "base_uri": "https://localhost:8080/"
        },
        "id": "GBcKjfB-cSBu",
        "outputId": "f976ba20-6bd5-4927-9dda-2b66aed5e300"
      },
      "execution_count": 240,
      "outputs": [
        {
          "output_type": "execute_result",
          "data": {
            "text/plain": [
              "array([[101,   6,  10,   6,   0],\n",
              "       [  2,  94,  14,   0,   0],\n",
              "       [  2,   3, 120,   6,   0],\n",
              "       [  0,   0,   9,  99,   0],\n",
              "       [  0,   0,   0,   0, 121]])"
            ]
          },
          "metadata": {},
          "execution_count": 240
        }
      ]
    },
    {
      "cell_type": "code",
      "source": [
        "from sklearn.metrics import confusion_matrix, ConfusionMatrixDisplay\n",
        "disp = ConfusionMatrixDisplay(confusion_matrix=cm)\n",
        "disp.plot()\n",
        "plt.show()"
      ],
      "metadata": {
        "colab": {
          "base_uri": "https://localhost:8080/",
          "height": 282
        },
        "id": "mI4xQ5t-Z2xH",
        "outputId": "e6f449be-9c3f-430c-98d7-750804ce89b4"
      },
      "execution_count": 241,
      "outputs": [
        {
          "output_type": "display_data",
          "data": {
            "text/plain": [
              "<Figure size 432x288 with 2 Axes>"
            ],
            "image/png": "[encoded data removed]"
          },
          "metadata": {
            "needs_background": "light"
          }
        }
      ]
    },
    {
      "cell_type": "code",
      "source": [
        "print (\"Classification Report\")\n",
        "print(classification_report(y_true,y_pred))"
      ],
      "metadata": {
        "colab": {
          "base_uri": "https://localhost:8080/"
        },
        "id": "aqM6U9zoRo72",
        "outputId": "3eeec76c-6a2b-4286-e995-5b7bcf743d21"
      },
      "execution_count": 242,
      "outputs": [
        {
          "output_type": "stream",
          "name": "stdout",
          "text": [
            "Classification Report\n",
            "              precision    recall  f1-score   support\n",
            "\n",
            "           0       0.96      0.82      0.89       123\n",
            "           1       0.91      0.85      0.88       110\n",
            "           2       0.78      0.92      0.85       131\n",
            "           3       0.89      0.92      0.90       108\n",
            "           4       1.00      1.00      1.00       121\n",
            "\n",
            "    accuracy                           0.90       593\n",
            "   macro avg       0.91      0.90      0.90       593\n",
            "weighted avg       0.91      0.90      0.90       593\n",
            "\n"
          ]
        }
      ]
    },
    {
      "cell_type": "code",
      "source": [],
      "metadata": {
        "id": "T6WU5KyneCmN"
      },
      "execution_count": null,
      "outputs": []
    }
  ]
}