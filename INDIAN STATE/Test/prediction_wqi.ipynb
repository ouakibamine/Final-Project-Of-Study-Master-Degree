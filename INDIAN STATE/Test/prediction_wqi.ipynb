{
  "cells": [
    {
      "cell_type": "code",
      "source": [
        "import pandas as pd\n",
        "import numpy as np\n",
        "import tensorflow as tf\n",
        "from sklearn.model_selection import train_test_split\n",
        "from sklearn.preprocessing import StandardScaler\n",
        "from keras.models import Sequential\n",
        "from keras.layers import Conv1D, MaxPooling1D, Flatten, Dense ,Dropout\n",
        "from keras.optimizers import Adam\n",
        "import time"
      ],
      "metadata": {
        "id": "KrWDSBMjpNI0"
      },
      "id": "KrWDSBMjpNI0",
      "execution_count": 1,
      "outputs": []
    },
    {
      "cell_type": "code",
      "source": [
        "# Load the dataset\n",
        "df = pd.read_csv('water_quality_dataset_median.csv')"
      ],
      "metadata": {
        "id": "mDEFxTexpNMe"
      },
      "id": "mDEFxTexpNMe",
      "execution_count": 2,
      "outputs": []
    },
    {
      "cell_type": "code",
      "source": [
        "# Split the dataset into input (X) and output (y) variables\n",
        "X = df.iloc[:, :-1].values\n",
        "y = df.iloc[:, -1].values"
      ],
      "metadata": {
        "id": "OqspgCXvpNRV"
      },
      "id": "OqspgCXvpNRV",
      "execution_count": 3,
      "outputs": []
    },
    {
      "cell_type": "code",
      "source": [
        "X.shape"
      ],
      "metadata": {
        "colab": {
          "base_uri": "https://localhost:8080/"
        },
        "id": "cJ9SiSNPpfeV",
        "outputId": "c0571455-39eb-4616-954f-63d21c7057c5"
      },
      "id": "cJ9SiSNPpfeV",
      "execution_count": 4,
      "outputs": [
        {
          "output_type": "execute_result",
          "data": {
            "text/plain": [
              "(1781, 7)"
            ]
          },
          "metadata": {},
          "execution_count": 4
        }
      ]
    },
    {
      "cell_type": "code",
      "source": [
        "y.shape"
      ],
      "metadata": {
        "colab": {
          "base_uri": "https://localhost:8080/"
        },
        "id": "5hdGoJbWpgb_",
        "outputId": "30dc68c4-aab5-4ae6-828e-bd90c6af441a"
      },
      "id": "5hdGoJbWpgb_",
      "execution_count": 5,
      "outputs": [
        {
          "output_type": "execute_result",
          "data": {
            "text/plain": [
              "(1781,)"
            ]
          },
          "metadata": {},
          "execution_count": 5
        }
      ]
    },
    {
      "cell_type": "code",
      "source": [
        "# Split the dataset into training and testing sets\n",
        "X_train, X_test, y_train, y_test = train_test_split(X, y, test_size=0.2, random_state=42)"
      ],
      "metadata": {
        "id": "aDVS9_XfplRK"
      },
      "id": "aDVS9_XfplRK",
      "execution_count": 6,
      "outputs": []
    },
    {
      "cell_type": "code",
      "source": [
        "X_train.shape"
      ],
      "metadata": {
        "colab": {
          "base_uri": "https://localhost:8080/"
        },
        "id": "TSa-IiXmpn_i",
        "outputId": "6b70736d-8e4c-4af4-bb9a-a5418483aebe"
      },
      "id": "TSa-IiXmpn_i",
      "execution_count": 7,
      "outputs": [
        {
          "output_type": "execute_result",
          "data": {
            "text/plain": [
              "(1424, 7)"
            ]
          },
          "metadata": {},
          "execution_count": 7
        }
      ]
    },
    {
      "cell_type": "code",
      "source": [
        "X_test.shape"
      ],
      "metadata": {
        "colab": {
          "base_uri": "https://localhost:8080/"
        },
        "id": "gdQkXLQcpxFg",
        "outputId": "ee66d51f-85ce-427c-958a-11a54e086a41"
      },
      "id": "gdQkXLQcpxFg",
      "execution_count": 8,
      "outputs": [
        {
          "output_type": "execute_result",
          "data": {
            "text/plain": [
              "(357, 7)"
            ]
          },
          "metadata": {},
          "execution_count": 8
        }
      ]
    },
    {
      "cell_type": "code",
      "source": [
        "y_train.shape"
      ],
      "metadata": {
        "colab": {
          "base_uri": "https://localhost:8080/"
        },
        "id": "CR39lI74pz_f",
        "outputId": "291a6d1e-03f0-472f-dceb-d8750fd5da2d"
      },
      "id": "CR39lI74pz_f",
      "execution_count": 9,
      "outputs": [
        {
          "output_type": "execute_result",
          "data": {
            "text/plain": [
              "(1424,)"
            ]
          },
          "metadata": {},
          "execution_count": 9
        }
      ]
    },
    {
      "cell_type": "code",
      "source": [
        "y_test.shape"
      ],
      "metadata": {
        "colab": {
          "base_uri": "https://localhost:8080/"
        },
        "id": "6FqhCXSDp3RG",
        "outputId": "682fb3ae-9282-4be9-ada3-59111102915c"
      },
      "id": "6FqhCXSDp3RG",
      "execution_count": 10,
      "outputs": [
        {
          "output_type": "execute_result",
          "data": {
            "text/plain": [
              "(357,)"
            ]
          },
          "metadata": {},
          "execution_count": 10
        }
      ]
    },
    {
      "cell_type": "code",
      "source": [
        "# Standardize the input features\n",
        "scaler = StandardScaler()\n",
        "X_train = scaler.fit_transform(X_train)\n",
        "X_test = scaler.transform(X_test)"
      ],
      "metadata": {
        "id": "K9kOv9VAp5h6"
      },
      "id": "K9kOv9VAp5h6",
      "execution_count": 11,
      "outputs": []
    },
    {
      "cell_type": "code",
      "source": [
        "X_train.shape"
      ],
      "metadata": {
        "colab": {
          "base_uri": "https://localhost:8080/"
        },
        "id": "Rv8710Omp9pG",
        "outputId": "ccb9176c-c890-4141-a1b1-7de49330a724"
      },
      "id": "Rv8710Omp9pG",
      "execution_count": 12,
      "outputs": [
        {
          "output_type": "execute_result",
          "data": {
            "text/plain": [
              "(1424, 7)"
            ]
          },
          "metadata": {},
          "execution_count": 12
        }
      ]
    },
    {
      "cell_type": "code",
      "source": [
        "X_test.shape"
      ],
      "metadata": {
        "colab": {
          "base_uri": "https://localhost:8080/"
        },
        "id": "4aZki30mqBDv",
        "outputId": "d2a977a4-63b8-4e0c-ff6f-b54273fa17e8"
      },
      "id": "4aZki30mqBDv",
      "execution_count": 13,
      "outputs": [
        {
          "output_type": "execute_result",
          "data": {
            "text/plain": [
              "(357, 7)"
            ]
          },
          "metadata": {},
          "execution_count": 13
        }
      ]
    },
    {
      "cell_type": "code",
      "source": [
        "# Reshape the input features for use with CNN\n",
        "X_train = X_train.reshape((X_train.shape[0], X_train.shape[1], 1))\n",
        "X_test = X_test.reshape((X_test.shape[0], X_test.shape[1], 1))"
      ],
      "metadata": {
        "id": "DracldsIqFxR"
      },
      "id": "DracldsIqFxR",
      "execution_count": 14,
      "outputs": []
    },
    {
      "cell_type": "code",
      "source": [
        "X_train.shape"
      ],
      "metadata": {
        "colab": {
          "base_uri": "https://localhost:8080/"
        },
        "id": "6pM5PQdoqKBj",
        "outputId": "8bf6ef0a-f3b9-47be-c31f-03e612d2fb07"
      },
      "id": "6pM5PQdoqKBj",
      "execution_count": 15,
      "outputs": [
        {
          "output_type": "execute_result",
          "data": {
            "text/plain": [
              "(1424, 7, 1)"
            ]
          },
          "metadata": {},
          "execution_count": 15
        }
      ]
    },
    {
      "cell_type": "code",
      "source": [
        "X_test.shape"
      ],
      "metadata": {
        "colab": {
          "base_uri": "https://localhost:8080/"
        },
        "id": "G2XKcUukqMX8",
        "outputId": "a9a0af57-9b72-42e9-81ed-8378ea334280"
      },
      "id": "G2XKcUukqMX8",
      "execution_count": 16,
      "outputs": [
        {
          "output_type": "execute_result",
          "data": {
            "text/plain": [
              "(357, 7, 1)"
            ]
          },
          "metadata": {},
          "execution_count": 16
        }
      ]
    },
    {
      "cell_type": "code",
      "source": [
        "# Build the CNN model\n",
        "model = Sequential()\n",
        "model.add(Conv1D(filters=32, kernel_size=2, activation='relu', input_shape=(X_train.shape[1], 1)))\n",
        "model.add(MaxPooling1D(pool_size=1))\n",
        "model.add(Conv1D(filters=64, kernel_size=2, activation='relu'))\n",
        "model.add(MaxPooling1D(pool_size=1))\n",
        "model.add(Conv1D(filters=128, kernel_size=2, activation='relu'))\n",
        "model.add(MaxPooling1D(pool_size=1))\n",
        "model.add(Flatten())\n",
        "model.add(Dense(units=128, activation='relu'))\n",
        "model.add(Dense(units=1, activation='linear'))"
      ],
      "metadata": {
        "id": "s7ExyDQYqPrD"
      },
      "id": "s7ExyDQYqPrD",
      "execution_count": 17,
      "outputs": []
    },
    {
      "cell_type": "code",
      "source": [
        "# Compile the model\n",
        "optimizer = Adam(learning_rate=0.001)\n",
        "model.compile(optimizer=optimizer, loss='mean_squared_error')"
      ],
      "metadata": {
        "id": "F8ri2fYsq_cm"
      },
      "id": "F8ri2fYsq_cm",
      "execution_count": 18,
      "outputs": []
    },
    {
      "cell_type": "code",
      "source": [
        "model.summary()"
      ],
      "metadata": {
        "colab": {
          "base_uri": "https://localhost:8080/"
        },
        "id": "dJ3TeUv0xoSQ",
        "outputId": "e07e2eca-91bb-4692-a045-32f8f23eecdd"
      },
      "id": "dJ3TeUv0xoSQ",
      "execution_count": 19,
      "outputs": [
        {
          "output_type": "stream",
          "name": "stdout",
          "text": [
            "Model: \"sequential\"\n",
            "_________________________________________________________________\n",
            " Layer (type)                Output Shape              Param #   \n",
            "=================================================================\n",
            " conv1d (Conv1D)             (None, 6, 32)             96        \n",
            "                                                                 \n",
            " max_pooling1d (MaxPooling1D  (None, 6, 32)            0         \n",
            " )                                                               \n",
            "                                                                 \n",
            " conv1d_1 (Conv1D)           (None, 5, 64)             4160      \n",
            "                                                                 \n",
            " max_pooling1d_1 (MaxPooling  (None, 5, 64)            0         \n",
            " 1D)                                                             \n",
            "                                                                 \n",
            " conv1d_2 (Conv1D)           (None, 4, 128)            16512     \n",
            "                                                                 \n",
            " max_pooling1d_2 (MaxPooling  (None, 4, 128)           0         \n",
            " 1D)                                                             \n",
            "                                                                 \n",
            " flatten (Flatten)           (None, 512)               0         \n",
            "                                                                 \n",
            " dense (Dense)               (None, 128)               65664     \n",
            "                                                                 \n",
            " dense_1 (Dense)             (None, 1)                 129       \n",
            "                                                                 \n",
            "=================================================================\n",
            "Total params: 86,561\n",
            "Trainable params: 86,561\n",
            "Non-trainable params: 0\n",
            "_________________________________________________________________\n"
          ]
        }
      ]
    },
    {
      "cell_type": "code",
      "source": [
        "# Enregistrer les temps de départ\n",
        "step_times = []\n",
        "\n",
        "# Définir un callback pour mesurer les temps de chaque étape\n",
        "class TimingCallback(tf.keras.callbacks.Callback):\n",
        "    def on_train_batch_begin(self, batch, logs=None):\n",
        "        self.start_time = time.time()\n",
        "\n",
        "    def on_train_batch_end(self, batch, logs=None):\n",
        "        step_time = time.time() - self.start_time\n",
        "        step_times.append(step_time)\n",
        "# Train the model\n",
        "model.fit(X_train, y_train, epochs=100, batch_size=32, validation_data=(X_test, y_test),callbacks=[TimingCallback()])\n"
      ],
      "metadata": {
        "colab": {
          "base_uri": "https://localhost:8080/"
        },
        "id": "p6H6Wa7QszKN",
        "outputId": "641d648f-b89f-4d38-a555-3c90f2af456d"
      },
      "id": "p6H6Wa7QszKN",
      "execution_count": 20,
      "outputs": [
        {
          "output_type": "stream",
          "name": "stdout",
          "text": [
            "Epoch 1/100\n",
            "45/45 [==============================] - 2s 14ms/step - loss: 48371.2422 - val_loss: 38454.1094\n",
            "Epoch 2/100\n",
            "45/45 [==============================] - 0s 7ms/step - loss: 16723.4785 - val_loss: 15845.0547\n",
            "Epoch 3/100\n",
            "45/45 [==============================] - 0s 7ms/step - loss: 7803.6187 - val_loss: 9263.3535\n",
            "Epoch 4/100\n",
            "45/45 [==============================] - 0s 7ms/step - loss: 6134.9819 - val_loss: 6184.1255\n",
            "Epoch 5/100\n",
            "45/45 [==============================] - 0s 7ms/step - loss: 6128.8091 - val_loss: 6676.5698\n",
            "Epoch 6/100\n",
            "45/45 [==============================] - 0s 7ms/step - loss: 4866.8569 - val_loss: 5023.1333\n",
            "Epoch 7/100\n",
            "45/45 [==============================] - 0s 7ms/step - loss: 3896.6440 - val_loss: 3806.0239\n",
            "Epoch 8/100\n",
            "45/45 [==============================] - 0s 6ms/step - loss: 3330.4207 - val_loss: 2954.9229\n",
            "Epoch 9/100\n",
            "45/45 [==============================] - 0s 6ms/step - loss: 1789.4554 - val_loss: 2332.9277\n",
            "Epoch 10/100\n",
            "45/45 [==============================] - 0s 7ms/step - loss: 1330.8530 - val_loss: 1621.0939\n",
            "Epoch 11/100\n",
            "45/45 [==============================] - 0s 7ms/step - loss: 704.5286 - val_loss: 764.7093\n",
            "Epoch 12/100\n",
            "45/45 [==============================] - 0s 7ms/step - loss: 559.5258 - val_loss: 462.3044\n",
            "Epoch 13/100\n",
            "45/45 [==============================] - 0s 7ms/step - loss: 361.6282 - val_loss: 351.6422\n",
            "Epoch 14/100\n",
            "45/45 [==============================] - 0s 7ms/step - loss: 226.9127 - val_loss: 221.5418\n",
            "Epoch 15/100\n",
            "45/45 [==============================] - 0s 7ms/step - loss: 150.7376 - val_loss: 141.1897\n",
            "Epoch 16/100\n",
            "45/45 [==============================] - 0s 8ms/step - loss: 97.3260 - val_loss: 99.3012\n",
            "Epoch 17/100\n",
            "45/45 [==============================] - 0s 7ms/step - loss: 67.5237 - val_loss: 110.2024\n",
            "Epoch 18/100\n",
            "45/45 [==============================] - 0s 7ms/step - loss: 50.7780 - val_loss: 101.9698\n",
            "Epoch 19/100\n",
            "45/45 [==============================] - 0s 11ms/step - loss: 45.9665 - val_loss: 49.9685\n",
            "Epoch 20/100\n",
            "45/45 [==============================] - 0s 10ms/step - loss: 34.3961 - val_loss: 43.3820\n",
            "Epoch 21/100\n",
            "45/45 [==============================] - 0s 11ms/step - loss: 30.6962 - val_loss: 38.8121\n",
            "Epoch 22/100\n",
            "45/45 [==============================] - 0s 10ms/step - loss: 26.5412 - val_loss: 36.0836\n",
            "Epoch 23/100\n",
            "45/45 [==============================] - 1s 11ms/step - loss: 23.8246 - val_loss: 31.4027\n",
            "Epoch 24/100\n",
            "45/45 [==============================] - 0s 10ms/step - loss: 24.4055 - val_loss: 35.5364\n",
            "Epoch 25/100\n",
            "45/45 [==============================] - 0s 8ms/step - loss: 19.9342 - val_loss: 27.9560\n",
            "Epoch 26/100\n",
            "45/45 [==============================] - 0s 8ms/step - loss: 17.7536 - val_loss: 26.1243\n",
            "Epoch 27/100\n",
            "45/45 [==============================] - 0s 7ms/step - loss: 15.8355 - val_loss: 17.8025\n",
            "Epoch 28/100\n",
            "45/45 [==============================] - 0s 7ms/step - loss: 11.9043 - val_loss: 16.4507\n",
            "Epoch 29/100\n",
            "45/45 [==============================] - 0s 8ms/step - loss: 10.7312 - val_loss: 18.3096\n",
            "Epoch 30/100\n",
            "45/45 [==============================] - 0s 7ms/step - loss: 10.4845 - val_loss: 12.9824\n",
            "Epoch 31/100\n",
            "45/45 [==============================] - 0s 7ms/step - loss: 8.2932 - val_loss: 14.0483\n",
            "Epoch 32/100\n",
            "45/45 [==============================] - 0s 7ms/step - loss: 8.0404 - val_loss: 15.8195\n",
            "Epoch 33/100\n",
            "45/45 [==============================] - 0s 6ms/step - loss: 6.6882 - val_loss: 12.1737\n",
            "Epoch 34/100\n",
            "45/45 [==============================] - 0s 8ms/step - loss: 6.0937 - val_loss: 9.5696\n",
            "Epoch 35/100\n",
            "45/45 [==============================] - 0s 7ms/step - loss: 6.6890 - val_loss: 12.5142\n",
            "Epoch 36/100\n",
            "45/45 [==============================] - 0s 8ms/step - loss: 5.9399 - val_loss: 25.4171\n",
            "Epoch 37/100\n",
            "45/45 [==============================] - 0s 7ms/step - loss: 6.4026 - val_loss: 8.4111\n",
            "Epoch 38/100\n",
            "45/45 [==============================] - 0s 7ms/step - loss: 5.3640 - val_loss: 7.6909\n",
            "Epoch 39/100\n",
            "45/45 [==============================] - 0s 7ms/step - loss: 4.5930 - val_loss: 8.9186\n",
            "Epoch 40/100\n",
            "45/45 [==============================] - 0s 8ms/step - loss: 4.6072 - val_loss: 6.7199\n",
            "Epoch 41/100\n",
            "45/45 [==============================] - 0s 7ms/step - loss: 5.0647 - val_loss: 7.7822\n",
            "Epoch 42/100\n",
            "45/45 [==============================] - 0s 6ms/step - loss: 5.5268 - val_loss: 8.9644\n",
            "Epoch 43/100\n",
            "45/45 [==============================] - 0s 7ms/step - loss: 4.1222 - val_loss: 6.0306\n",
            "Epoch 44/100\n",
            "45/45 [==============================] - 0s 6ms/step - loss: 3.6016 - val_loss: 12.3201\n",
            "Epoch 45/100\n",
            "45/45 [==============================] - 0s 6ms/step - loss: 3.8824 - val_loss: 13.7028\n",
            "Epoch 46/100\n",
            "45/45 [==============================] - 0s 7ms/step - loss: 6.2900 - val_loss: 9.7249\n",
            "Epoch 47/100\n",
            "45/45 [==============================] - 0s 6ms/step - loss: 4.1138 - val_loss: 6.5354\n",
            "Epoch 48/100\n",
            "45/45 [==============================] - 0s 8ms/step - loss: 3.5592 - val_loss: 5.6539\n",
            "Epoch 49/100\n",
            "45/45 [==============================] - 0s 6ms/step - loss: 4.3309 - val_loss: 10.6000\n",
            "Epoch 50/100\n",
            "45/45 [==============================] - 0s 6ms/step - loss: 4.6543 - val_loss: 5.6033\n",
            "Epoch 51/100\n",
            "45/45 [==============================] - 0s 7ms/step - loss: 2.5530 - val_loss: 6.4436\n",
            "Epoch 52/100\n",
            "45/45 [==============================] - 0s 6ms/step - loss: 2.6250 - val_loss: 6.2751\n",
            "Epoch 53/100\n",
            "45/45 [==============================] - 0s 7ms/step - loss: 2.5421 - val_loss: 5.9100\n",
            "Epoch 54/100\n",
            "45/45 [==============================] - 0s 7ms/step - loss: 3.3285 - val_loss: 6.7157\n",
            "Epoch 55/100\n",
            "45/45 [==============================] - 0s 8ms/step - loss: 4.3521 - val_loss: 4.1999\n",
            "Epoch 56/100\n",
            "45/45 [==============================] - 0s 10ms/step - loss: 2.3079 - val_loss: 4.9930\n",
            "Epoch 57/100\n",
            "45/45 [==============================] - 0s 10ms/step - loss: 2.6053 - val_loss: 6.7922\n",
            "Epoch 58/100\n",
            "45/45 [==============================] - 0s 10ms/step - loss: 2.3688 - val_loss: 4.5088\n",
            "Epoch 59/100\n",
            "45/45 [==============================] - 0s 10ms/step - loss: 2.2291 - val_loss: 7.5946\n",
            "Epoch 60/100\n",
            "45/45 [==============================] - 1s 12ms/step - loss: 2.9501 - val_loss: 3.1959\n",
            "Epoch 61/100\n",
            "45/45 [==============================] - 0s 7ms/step - loss: 2.4644 - val_loss: 4.4478\n",
            "Epoch 62/100\n",
            "45/45 [==============================] - 0s 7ms/step - loss: 2.4956 - val_loss: 6.2270\n",
            "Epoch 63/100\n",
            "45/45 [==============================] - 0s 7ms/step - loss: 1.8892 - val_loss: 3.0311\n",
            "Epoch 64/100\n",
            "45/45 [==============================] - 0s 7ms/step - loss: 2.2517 - val_loss: 3.9505\n",
            "Epoch 65/100\n",
            "45/45 [==============================] - 0s 8ms/step - loss: 4.2892 - val_loss: 2.8366\n",
            "Epoch 66/100\n",
            "45/45 [==============================] - 0s 7ms/step - loss: 3.9924 - val_loss: 8.2100\n",
            "Epoch 67/100\n",
            "45/45 [==============================] - 0s 7ms/step - loss: 1.7769 - val_loss: 2.4278\n",
            "Epoch 68/100\n",
            "45/45 [==============================] - 0s 8ms/step - loss: 2.7135 - val_loss: 3.7626\n",
            "Epoch 69/100\n",
            "45/45 [==============================] - 0s 7ms/step - loss: 1.6661 - val_loss: 2.3583\n",
            "Epoch 70/100\n",
            "45/45 [==============================] - 0s 7ms/step - loss: 1.9530 - val_loss: 2.4918\n",
            "Epoch 71/100\n",
            "45/45 [==============================] - 0s 7ms/step - loss: 1.3291 - val_loss: 2.9110\n",
            "Epoch 72/100\n",
            "45/45 [==============================] - 0s 7ms/step - loss: 3.0990 - val_loss: 11.4224\n",
            "Epoch 73/100\n",
            "45/45 [==============================] - 0s 7ms/step - loss: 6.5533 - val_loss: 6.5489\n",
            "Epoch 74/100\n",
            "45/45 [==============================] - 0s 7ms/step - loss: 4.2509 - val_loss: 4.1246\n",
            "Epoch 75/100\n",
            "45/45 [==============================] - 0s 7ms/step - loss: 4.1250 - val_loss: 11.2304\n",
            "Epoch 76/100\n",
            "45/45 [==============================] - 0s 7ms/step - loss: 6.1115 - val_loss: 2.1443\n",
            "Epoch 77/100\n",
            "45/45 [==============================] - 0s 7ms/step - loss: 3.7595 - val_loss: 3.2932\n",
            "Epoch 78/100\n",
            "45/45 [==============================] - 0s 7ms/step - loss: 20.7739 - val_loss: 50.5558\n",
            "Epoch 79/100\n",
            "45/45 [==============================] - 0s 7ms/step - loss: 9.7390 - val_loss: 11.2206\n",
            "Epoch 80/100\n",
            "45/45 [==============================] - 0s 7ms/step - loss: 2.7654 - val_loss: 2.0730\n",
            "Epoch 81/100\n",
            "45/45 [==============================] - 0s 7ms/step - loss: 1.5777 - val_loss: 4.3630\n",
            "Epoch 82/100\n",
            "45/45 [==============================] - 0s 7ms/step - loss: 4.3062 - val_loss: 6.3802\n",
            "Epoch 83/100\n",
            "45/45 [==============================] - 0s 6ms/step - loss: 3.5838 - val_loss: 6.5266\n",
            "Epoch 84/100\n",
            "45/45 [==============================] - 0s 8ms/step - loss: 3.8480 - val_loss: 2.7341\n",
            "Epoch 85/100\n",
            "45/45 [==============================] - 0s 6ms/step - loss: 3.5510 - val_loss: 12.4712\n",
            "Epoch 86/100\n",
            "45/45 [==============================] - 0s 7ms/step - loss: 31.8634 - val_loss: 8.8200\n",
            "Epoch 87/100\n",
            "45/45 [==============================] - 0s 7ms/step - loss: 11.6764 - val_loss: 8.1993\n",
            "Epoch 88/100\n",
            "45/45 [==============================] - 0s 6ms/step - loss: 8.5514 - val_loss: 2.5164\n",
            "Epoch 89/100\n",
            "45/45 [==============================] - 0s 7ms/step - loss: 3.5649 - val_loss: 3.7009\n",
            "Epoch 90/100\n",
            "45/45 [==============================] - 0s 7ms/step - loss: 1.4402 - val_loss: 1.9168\n",
            "Epoch 91/100\n",
            "45/45 [==============================] - 0s 7ms/step - loss: 1.2991 - val_loss: 1.5142\n",
            "Epoch 92/100\n",
            "45/45 [==============================] - 0s 9ms/step - loss: 1.1493 - val_loss: 4.2231\n",
            "Epoch 93/100\n",
            "45/45 [==============================] - 0s 11ms/step - loss: 19.2979 - val_loss: 14.5871\n",
            "Epoch 94/100\n",
            "45/45 [==============================] - 0s 11ms/step - loss: 18.6182 - val_loss: 3.3983\n",
            "Epoch 95/100\n",
            "45/45 [==============================] - 0s 10ms/step - loss: 5.7312 - val_loss: 5.1157\n",
            "Epoch 96/100\n",
            "45/45 [==============================] - 0s 11ms/step - loss: 5.5747 - val_loss: 18.6270\n",
            "Epoch 97/100\n",
            "45/45 [==============================] - 0s 10ms/step - loss: 39.1935 - val_loss: 15.7283\n",
            "Epoch 98/100\n",
            "45/45 [==============================] - 0s 8ms/step - loss: 14.3289 - val_loss: 13.4303\n",
            "Epoch 99/100\n",
            "45/45 [==============================] - 0s 6ms/step - loss: 2.6299 - val_loss: 9.8370\n",
            "Epoch 100/100\n",
            "45/45 [==============================] - 0s 7ms/step - loss: 4.8174 - val_loss: 2.6312\n"
          ]
        },
        {
          "output_type": "execute_result",
          "data": {
            "text/plain": [
              "<keras.callbacks.History at 0x7fcbb0e730a0>"
            ]
          },
          "metadata": {},
          "execution_count": 20
        }
      ]
    },
    {
      "cell_type": "code",
      "source": [
        "# Evaluate the model\n",
        "mse = model.evaluate(X_test, y_test)\n",
        "print('Mean squared error:', mse)"
      ],
      "metadata": {
        "colab": {
          "base_uri": "https://localhost:8080/"
        },
        "id": "wTBwVggMs2gb",
        "outputId": "e86fbcbf-3d11-4b21-b34f-6c8c72fb4435"
      },
      "id": "wTBwVggMs2gb",
      "execution_count": 21,
      "outputs": [
        {
          "output_type": "stream",
          "name": "stdout",
          "text": [
            "12/12 [==============================] - 0s 3ms/step - loss: 2.6312\n",
            "Mean squared error: 2.6312289237976074\n"
          ]
        }
      ]
    },
    {
      "cell_type": "code",
      "source": [
        "# Predict the WQI for a new sample\n",
        "new_sample = np.array([[7.5, 8.0, 300, 2.0, 0.5, 100, 2005]])\n",
        "new_sample = scaler.transform(new_sample)\n",
        "new_sample = new_sample.reshape((new_sample.shape[0], new_sample.shape[1], 1))\n",
        "prediction = model.predict(new_sample)\n",
        "print('Predicted WQI:', prediction[0][0])"
      ],
      "metadata": {
        "colab": {
          "base_uri": "https://localhost:8080/"
        },
        "id": "YbDiKHzGtO4P",
        "outputId": "57779633-fa9e-4ef0-94d9-3b6816d76482"
      },
      "id": "YbDiKHzGtO4P",
      "execution_count": 22,
      "outputs": [
        {
          "output_type": "stream",
          "name": "stdout",
          "text": [
            "1/1 [==============================] - 0s 174ms/step\n",
            "Predicted WQI: 71.31369\n"
          ]
        }
      ]
    },
    {
      "cell_type": "code",
      "source": [
        "# Créer un graphe pour les temps CPU par epoch\n",
        "import matplotlib.pyplot as plt\n",
        "\n",
        "plt.plot(range(len(step_times)), step_times)\n",
        "plt.xlabel('Étape')\n",
        "plt.ylabel('Temps CPU (secondes)')\n",
        "plt.title('Temps CPU par étape')\n",
        "plt.show()"
      ],
      "metadata": {
        "colab": {
          "base_uri": "https://localhost:8080/",
          "height": 297
        },
        "id": "3dUVb4MFtXCH",
        "outputId": "3b60970e-355a-472b-b19e-c90f44638758"
      },
      "id": "3dUVb4MFtXCH",
      "execution_count": 23,
      "outputs": [
        {
          "output_type": "display_data",
          "data": {
            "text/plain": [
              "<Figure size 432x288 with 1 Axes>"
            ],
            "image/png": "[encoded data removed]"
          },
          "metadata": {
            "needs_background": "light"
          }
        }
      ]
    },
    {
      "cell_type": "markdown",
      "source": [
        "# remplacer les valeurs manquantes par le **moyenne**"
      ],
      "metadata": {
        "id": "awDpocWzhk6r"
      },
      "id": "awDpocWzhk6r"
    },
    {
      "cell_type": "code",
      "source": [
        "# Load the dataset\n",
        "df = pd.read_csv('water_quality_dataset_mean.csv')"
      ],
      "metadata": {
        "id": "XEVf-tIYhtXD"
      },
      "id": "XEVf-tIYhtXD",
      "execution_count": 25,
      "outputs": []
    },
    {
      "cell_type": "code",
      "source": [
        "# Split the dataset into input (X) and output (y) variables\n",
        "X = df.iloc[:, :-1].values\n",
        "y = df.iloc[:, -1].values"
      ],
      "metadata": {
        "id": "Nd1i8PhoyW6k"
      },
      "id": "Nd1i8PhoyW6k",
      "execution_count": 26,
      "outputs": []
    },
    {
      "cell_type": "code",
      "source": [
        "# Split the dataset into training and testing sets\n",
        "X_train, X_test, y_train, y_test = train_test_split(X, y, test_size=0.2, random_state=42)"
      ],
      "metadata": {
        "id": "AeUth9hUh36T"
      },
      "id": "AeUth9hUh36T",
      "execution_count": 27,
      "outputs": []
    },
    {
      "cell_type": "code",
      "source": [
        "# Standardize the input features\n",
        "scaler = StandardScaler()\n",
        "X_train = scaler.fit_transform(X_train)\n",
        "X_test = scaler.transform(X_test)"
      ],
      "metadata": {
        "id": "0X1VxGh9h7kF"
      },
      "id": "0X1VxGh9h7kF",
      "execution_count": 28,
      "outputs": []
    },
    {
      "cell_type": "code",
      "source": [
        "# Reshape the input features for use with CNN\n",
        "X_train = X_train.reshape((X_train.shape[0], X_train.shape[1], 1))\n",
        "X_test = X_test.reshape((X_test.shape[0], X_test.shape[1], 1))"
      ],
      "metadata": {
        "id": "lAuZyAoXh-x3"
      },
      "id": "lAuZyAoXh-x3",
      "execution_count": 29,
      "outputs": []
    },
    {
      "cell_type": "code",
      "source": [
        "# Build the CNN model\n",
        "model = Sequential()\n",
        "model.add(Conv1D(filters=32, kernel_size=2, activation='relu', input_shape=(X_train.shape[1], 1)))\n",
        "model.add(MaxPooling1D(pool_size=1))\n",
        "model.add(Conv1D(filters=64, kernel_size=2, activation='relu'))\n",
        "model.add(MaxPooling1D(pool_size=1))\n",
        "model.add(Conv1D(filters=128, kernel_size=2, activation='relu'))\n",
        "model.add(MaxPooling1D(pool_size=1))\n",
        "model.add(Flatten())\n",
        "model.add(Dense(units=128, activation='relu'))\n",
        "model.add(Dense(units=1, activation='linear'))"
      ],
      "metadata": {
        "id": "IXv41RpHiB5e"
      },
      "id": "IXv41RpHiB5e",
      "execution_count": 30,
      "outputs": []
    },
    {
      "cell_type": "code",
      "source": [
        "# Compile the model\n",
        "optimizer = Adam(learning_rate=0.001)\n",
        "model.compile(optimizer=optimizer, loss='mean_squared_error')"
      ],
      "metadata": {
        "id": "chbIGXNQiE_U"
      },
      "id": "chbIGXNQiE_U",
      "execution_count": 31,
      "outputs": []
    },
    {
      "cell_type": "code",
      "source": [
        "# Enregistrer les temps de départ\n",
        "step_times = []\n",
        "\n",
        "# Définir un callback pour mesurer les temps de chaque étape\n",
        "class TimingCallback(tf.keras.callbacks.Callback):\n",
        "    def on_train_batch_begin(self, batch, logs=None):\n",
        "        self.start_time = time.time()\n",
        "\n",
        "    def on_train_batch_end(self, batch, logs=None):\n",
        "        step_time = time.time() - self.start_time\n",
        "        step_times.append(step_time)\n",
        "# Train the model\n",
        "model.fit(X_train, y_train, epochs=100, batch_size=32, validation_data=(X_test, y_test),callbacks=[TimingCallback()])"
      ],
      "metadata": {
        "colab": {
          "base_uri": "https://localhost:8080/"
        },
        "id": "yHBZ1id0iHuj",
        "outputId": "b3b64941-a3c6-4a26-abad-115cb9e84c8c"
      },
      "id": "yHBZ1id0iHuj",
      "execution_count": 32,
      "outputs": [
        {
          "output_type": "stream",
          "name": "stdout",
          "text": [
            "Epoch 1/100\n",
            "45/45 [==============================] - 2s 19ms/step - loss: 9796445.0000 - val_loss: 7491755.5000\n",
            "Epoch 2/100\n",
            "45/45 [==============================] - 0s 8ms/step - loss: 6856612.5000 - val_loss: 4367387.5000\n",
            "Epoch 3/100\n",
            "45/45 [==============================] - 0s 8ms/step - loss: 2953125.2500 - val_loss: 1194084.2500\n",
            "Epoch 4/100\n",
            "45/45 [==============================] - 0s 7ms/step - loss: 986655.4375 - val_loss: 738643.0625\n",
            "Epoch 5/100\n",
            "45/45 [==============================] - 0s 8ms/step - loss: 790264.5625 - val_loss: 674111.9375\n",
            "Epoch 6/100\n",
            "45/45 [==============================] - 0s 7ms/step - loss: 652951.6875 - val_loss: 495349.7500\n",
            "Epoch 7/100\n",
            "45/45 [==============================] - 0s 7ms/step - loss: 487577.6875 - val_loss: 348545.2500\n",
            "Epoch 8/100\n",
            "45/45 [==============================] - 0s 7ms/step - loss: 328835.5000 - val_loss: 237826.3281\n",
            "Epoch 9/100\n",
            "45/45 [==============================] - 0s 7ms/step - loss: 205634.9219 - val_loss: 126917.5469\n",
            "Epoch 10/100\n",
            "45/45 [==============================] - 0s 6ms/step - loss: 114117.8516 - val_loss: 63218.6992\n",
            "Epoch 11/100\n",
            "45/45 [==============================] - 0s 7ms/step - loss: 69568.2656 - val_loss: 45521.8359\n",
            "Epoch 12/100\n",
            "45/45 [==============================] - 0s 7ms/step - loss: 55323.7070 - val_loss: 37222.3867\n",
            "Epoch 13/100\n",
            "45/45 [==============================] - 0s 7ms/step - loss: 48021.7656 - val_loss: 23998.5527\n",
            "Epoch 14/100\n",
            "45/45 [==============================] - 0s 8ms/step - loss: 43345.7305 - val_loss: 24743.6660\n",
            "Epoch 15/100\n",
            "45/45 [==============================] - 0s 8ms/step - loss: 37772.1797 - val_loss: 24365.9023\n",
            "Epoch 16/100\n",
            "45/45 [==============================] - 0s 7ms/step - loss: 30778.8750 - val_loss: 21112.2402\n",
            "Epoch 17/100\n",
            "45/45 [==============================] - 0s 6ms/step - loss: 28295.8281 - val_loss: 18197.4141\n",
            "Epoch 18/100\n",
            "45/45 [==============================] - 0s 8ms/step - loss: 24527.7559 - val_loss: 16847.6426\n",
            "Epoch 19/100\n",
            "45/45 [==============================] - 0s 6ms/step - loss: 21792.0898 - val_loss: 16296.1006\n",
            "Epoch 20/100\n",
            "45/45 [==============================] - 0s 8ms/step - loss: 20053.1016 - val_loss: 12958.3096\n",
            "Epoch 21/100\n",
            "45/45 [==============================] - 0s 10ms/step - loss: 17111.7090 - val_loss: 10920.6973\n",
            "Epoch 22/100\n",
            "45/45 [==============================] - 0s 11ms/step - loss: 15402.2090 - val_loss: 17617.1738\n",
            "Epoch 23/100\n",
            "45/45 [==============================] - 0s 10ms/step - loss: 14562.1807 - val_loss: 9981.3184\n",
            "Epoch 24/100\n",
            "45/45 [==============================] - 0s 11ms/step - loss: 13608.2627 - val_loss: 9010.7129\n",
            "Epoch 25/100\n",
            "45/45 [==============================] - 1s 11ms/step - loss: 11352.2510 - val_loss: 8098.2773\n",
            "Epoch 26/100\n",
            "45/45 [==============================] - 0s 8ms/step - loss: 10536.0898 - val_loss: 7190.0664\n",
            "Epoch 27/100\n",
            "45/45 [==============================] - 0s 7ms/step - loss: 9590.4902 - val_loss: 10200.7451\n",
            "Epoch 28/100\n",
            "45/45 [==============================] - 0s 7ms/step - loss: 9092.1035 - val_loss: 6992.5874\n",
            "Epoch 29/100\n",
            "45/45 [==============================] - 0s 7ms/step - loss: 8905.8867 - val_loss: 6122.4360\n",
            "Epoch 30/100\n",
            "45/45 [==============================] - 0s 7ms/step - loss: 7483.6387 - val_loss: 7071.1147\n",
            "Epoch 31/100\n",
            "45/45 [==============================] - 0s 8ms/step - loss: 6421.7485 - val_loss: 7574.3613\n",
            "Epoch 32/100\n",
            "45/45 [==============================] - 0s 7ms/step - loss: 6014.0420 - val_loss: 5140.1157\n",
            "Epoch 33/100\n",
            "45/45 [==============================] - 0s 7ms/step - loss: 5488.7612 - val_loss: 5215.9565\n",
            "Epoch 34/100\n",
            "45/45 [==============================] - 0s 8ms/step - loss: 4859.6514 - val_loss: 4847.4458\n",
            "Epoch 35/100\n",
            "45/45 [==============================] - 0s 7ms/step - loss: 4379.0762 - val_loss: 4763.5576\n",
            "Epoch 36/100\n",
            "45/45 [==============================] - 0s 7ms/step - loss: 3923.8882 - val_loss: 5462.0776\n",
            "Epoch 37/100\n",
            "45/45 [==============================] - 0s 7ms/step - loss: 3443.5864 - val_loss: 4028.0403\n",
            "Epoch 38/100\n",
            "45/45 [==============================] - 0s 7ms/step - loss: 3182.3347 - val_loss: 3907.2104\n",
            "Epoch 39/100\n",
            "45/45 [==============================] - 0s 7ms/step - loss: 2717.4817 - val_loss: 3690.1377\n",
            "Epoch 40/100\n",
            "45/45 [==============================] - 0s 7ms/step - loss: 2412.6282 - val_loss: 3478.7058\n",
            "Epoch 41/100\n",
            "45/45 [==============================] - 0s 7ms/step - loss: 2240.2070 - val_loss: 2581.0105\n",
            "Epoch 42/100\n",
            "45/45 [==============================] - 0s 7ms/step - loss: 2062.1638 - val_loss: 2885.3474\n",
            "Epoch 43/100\n",
            "45/45 [==============================] - 0s 8ms/step - loss: 1800.3640 - val_loss: 2430.8809\n",
            "Epoch 44/100\n",
            "45/45 [==============================] - 0s 6ms/step - loss: 1605.7672 - val_loss: 1930.3495\n",
            "Epoch 45/100\n",
            "45/45 [==============================] - 0s 7ms/step - loss: 1523.4984 - val_loss: 1736.3342\n",
            "Epoch 46/100\n",
            "45/45 [==============================] - 0s 8ms/step - loss: 1362.8907 - val_loss: 1723.2076\n",
            "Epoch 47/100\n",
            "45/45 [==============================] - 0s 7ms/step - loss: 1228.6344 - val_loss: 1477.7444\n",
            "Epoch 48/100\n",
            "45/45 [==============================] - 0s 8ms/step - loss: 1112.2112 - val_loss: 1347.4784\n",
            "Epoch 49/100\n",
            "45/45 [==============================] - 0s 7ms/step - loss: 1012.2961 - val_loss: 1405.6805\n",
            "Epoch 50/100\n",
            "45/45 [==============================] - 0s 7ms/step - loss: 899.6364 - val_loss: 1090.6460\n",
            "Epoch 51/100\n",
            "45/45 [==============================] - 0s 7ms/step - loss: 853.1844 - val_loss: 1198.8691\n",
            "Epoch 52/100\n",
            "45/45 [==============================] - 0s 7ms/step - loss: 846.6563 - val_loss: 990.5117\n",
            "Epoch 53/100\n",
            "45/45 [==============================] - 0s 7ms/step - loss: 748.3439 - val_loss: 912.9740\n",
            "Epoch 54/100\n",
            "45/45 [==============================] - 0s 7ms/step - loss: 758.4567 - val_loss: 1235.1561\n",
            "Epoch 55/100\n",
            "45/45 [==============================] - 0s 7ms/step - loss: 677.3285 - val_loss: 795.9573\n",
            "Epoch 56/100\n",
            "45/45 [==============================] - 0s 8ms/step - loss: 607.4854 - val_loss: 702.1894\n",
            "Epoch 57/100\n",
            "45/45 [==============================] - 0s 10ms/step - loss: 534.0203 - val_loss: 619.4849\n",
            "Epoch 58/100\n",
            "45/45 [==============================] - 0s 10ms/step - loss: 487.3275 - val_loss: 545.2551\n",
            "Epoch 59/100\n",
            "45/45 [==============================] - 0s 10ms/step - loss: 494.2740 - val_loss: 535.6815\n",
            "Epoch 60/100\n",
            "45/45 [==============================] - 1s 11ms/step - loss: 423.4539 - val_loss: 550.1591\n",
            "Epoch 61/100\n",
            "45/45 [==============================] - 0s 11ms/step - loss: 372.0686 - val_loss: 520.6880\n",
            "Epoch 62/100\n",
            "45/45 [==============================] - 0s 9ms/step - loss: 341.1466 - val_loss: 512.3958\n",
            "Epoch 63/100\n",
            "45/45 [==============================] - 0s 7ms/step - loss: 339.3310 - val_loss: 510.9875\n",
            "Epoch 64/100\n",
            "45/45 [==============================] - 0s 8ms/step - loss: 350.1201 - val_loss: 422.9026\n",
            "Epoch 65/100\n",
            "45/45 [==============================] - 0s 8ms/step - loss: 287.9157 - val_loss: 610.1845\n",
            "Epoch 66/100\n",
            "45/45 [==============================] - 0s 7ms/step - loss: 296.5026 - val_loss: 395.5522\n",
            "Epoch 67/100\n",
            "45/45 [==============================] - 0s 8ms/step - loss: 265.5971 - val_loss: 433.8544\n",
            "Epoch 68/100\n",
            "45/45 [==============================] - 0s 8ms/step - loss: 234.8796 - val_loss: 402.4727\n",
            "Epoch 69/100\n",
            "45/45 [==============================] - 0s 7ms/step - loss: 251.8893 - val_loss: 324.6380\n",
            "Epoch 70/100\n",
            "45/45 [==============================] - 0s 7ms/step - loss: 230.9206 - val_loss: 326.5825\n",
            "Epoch 71/100\n",
            "45/45 [==============================] - 0s 8ms/step - loss: 223.2527 - val_loss: 311.1128\n",
            "Epoch 72/100\n",
            "45/45 [==============================] - 0s 8ms/step - loss: 267.0919 - val_loss: 292.2116\n",
            "Epoch 73/100\n",
            "45/45 [==============================] - 0s 6ms/step - loss: 234.1477 - val_loss: 461.0650\n",
            "Epoch 74/100\n",
            "45/45 [==============================] - 0s 7ms/step - loss: 210.3483 - val_loss: 433.7829\n",
            "Epoch 75/100\n",
            "45/45 [==============================] - 0s 7ms/step - loss: 196.8192 - val_loss: 371.2796\n",
            "Epoch 76/100\n",
            "45/45 [==============================] - 0s 7ms/step - loss: 236.2162 - val_loss: 373.8365\n",
            "Epoch 77/100\n",
            "45/45 [==============================] - 0s 7ms/step - loss: 199.4678 - val_loss: 221.8318\n",
            "Epoch 78/100\n",
            "45/45 [==============================] - 0s 7ms/step - loss: 179.0666 - val_loss: 308.7058\n",
            "Epoch 79/100\n",
            "45/45 [==============================] - 0s 8ms/step - loss: 181.8506 - val_loss: 244.6453\n",
            "Epoch 80/100\n",
            "45/45 [==============================] - 0s 8ms/step - loss: 183.3646 - val_loss: 304.9126\n",
            "Epoch 81/100\n",
            "45/45 [==============================] - 0s 7ms/step - loss: 218.1354 - val_loss: 302.7603\n",
            "Epoch 82/100\n",
            "45/45 [==============================] - 0s 8ms/step - loss: 173.8662 - val_loss: 387.3495\n",
            "Epoch 83/100\n",
            "45/45 [==============================] - 0s 7ms/step - loss: 161.9826 - val_loss: 312.4872\n",
            "Epoch 84/100\n",
            "45/45 [==============================] - 0s 7ms/step - loss: 172.0757 - val_loss: 255.1906\n",
            "Epoch 85/100\n",
            "45/45 [==============================] - 0s 7ms/step - loss: 208.9492 - val_loss: 260.1146\n",
            "Epoch 86/100\n",
            "45/45 [==============================] - 0s 7ms/step - loss: 126.8308 - val_loss: 244.3484\n",
            "Epoch 87/100\n",
            "45/45 [==============================] - 0s 8ms/step - loss: 122.8456 - val_loss: 244.0622\n",
            "Epoch 88/100\n",
            "45/45 [==============================] - 0s 8ms/step - loss: 162.4442 - val_loss: 355.5727\n",
            "Epoch 89/100\n",
            "45/45 [==============================] - 0s 7ms/step - loss: 163.9227 - val_loss: 377.1871\n",
            "Epoch 90/100\n",
            "45/45 [==============================] - 0s 7ms/step - loss: 185.2751 - val_loss: 173.4294\n",
            "Epoch 91/100\n",
            "45/45 [==============================] - 0s 8ms/step - loss: 121.0051 - val_loss: 190.6921\n",
            "Epoch 92/100\n",
            "45/45 [==============================] - 0s 7ms/step - loss: 178.9969 - val_loss: 215.1770\n",
            "Epoch 93/100\n",
            "45/45 [==============================] - 0s 11ms/step - loss: 164.8186 - val_loss: 202.7334\n",
            "Epoch 94/100\n",
            "45/45 [==============================] - 0s 10ms/step - loss: 113.8641 - val_loss: 175.2687\n",
            "Epoch 95/100\n",
            "45/45 [==============================] - 0s 10ms/step - loss: 104.1915 - val_loss: 176.4499\n",
            "Epoch 96/100\n",
            "45/45 [==============================] - 0s 11ms/step - loss: 142.6714 - val_loss: 277.5792\n",
            "Epoch 97/100\n",
            "45/45 [==============================] - 0s 10ms/step - loss: 192.0950 - val_loss: 444.4906\n",
            "Epoch 98/100\n",
            "45/45 [==============================] - 0s 10ms/step - loss: 115.5414 - val_loss: 226.8942\n",
            "Epoch 99/100\n",
            "45/45 [==============================] - 0s 7ms/step - loss: 130.0966 - val_loss: 131.9433\n",
            "Epoch 100/100\n",
            "45/45 [==============================] - 0s 8ms/step - loss: 238.6322 - val_loss: 219.2521\n"
          ]
        },
        {
          "output_type": "execute_result",
          "data": {
            "text/plain": [
              "<keras.callbacks.History at 0x7fcbb16c8850>"
            ]
          },
          "metadata": {},
          "execution_count": 32
        }
      ]
    },
    {
      "cell_type": "code",
      "source": [
        "# Evaluate the model\n",
        "mse = model.evaluate(X_test, y_test)\n",
        "print('Mean squared error:', mse)"
      ],
      "metadata": {
        "colab": {
          "base_uri": "https://localhost:8080/"
        },
        "id": "ci3l8V0HiM66",
        "outputId": "82cf8a23-e595-443a-c293-76d9ca08470b"
      },
      "id": "ci3l8V0HiM66",
      "execution_count": 33,
      "outputs": [
        {
          "output_type": "stream",
          "name": "stdout",
          "text": [
            "12/12 [==============================] - 0s 3ms/step - loss: 219.2521\n",
            "Mean squared error: 219.2521209716797\n"
          ]
        }
      ]
    },
    {
      "cell_type": "code",
      "source": [
        "# Predict the WQI for a new sample\n",
        "new_sample = np.array([[7.5, 8.0, 300, 2.0, 0.5, 100, 2005]])\n",
        "new_sample = scaler.transform(new_sample)\n",
        "new_sample = new_sample.reshape((new_sample.shape[0], new_sample.shape[1], 1))\n",
        "prediction = model.predict(new_sample)\n",
        "print('Predicted WQI:', prediction[0][0])"
      ],
      "metadata": {
        "colab": {
          "base_uri": "https://localhost:8080/"
        },
        "id": "JlkBGQaViaqr",
        "outputId": "6ed919ce-1932-4d93-ec08-8c20790a39ab"
      },
      "id": "JlkBGQaViaqr",
      "execution_count": 34,
      "outputs": [
        {
          "output_type": "stream",
          "name": "stdout",
          "text": [
            "1/1 [==============================] - 0s 239ms/step\n",
            "Predicted WQI: 78.87249\n"
          ]
        }
      ]
    },
    {
      "cell_type": "code",
      "source": [
        "# Créer un graphe pour les temps CPU par epoch\n",
        "import matplotlib.pyplot as plt\n",
        "\n",
        "plt.plot(range(len(step_times)), step_times)\n",
        "plt.xlabel('Étape')\n",
        "plt.ylabel('Temps CPU (secondes)')\n",
        "plt.title('Temps CPU par étape')\n",
        "plt.show()"
      ],
      "metadata": {
        "colab": {
          "base_uri": "https://localhost:8080/",
          "height": 297
        },
        "id": "ZAZemPBfieM_",
        "outputId": "a4806012-3c47-41be-d2dc-8dff1ceb65ae"
      },
      "id": "ZAZemPBfieM_",
      "execution_count": 35,
      "outputs": [
        {
          "output_type": "display_data",
          "data": {
            "text/plain": [
              "<Figure size 432x288 with 1 Axes>"
            ],
            "image/png": "[encoded data removed]"
          },
          "metadata": {
            "needs_background": "light"
          }
        }
      ]
    },
    {
      "cell_type": "markdown",
      "source": [
        "# remplacer les valeurs manquantes par le plus **freuent**"
      ],
      "metadata": {
        "id": "42UhdrtsioKw"
      },
      "id": "42UhdrtsioKw"
    },
    {
      "cell_type": "code",
      "source": [
        "# Load the dataset\n",
        "df = pd.read_csv('water_quality_dataset_most_frequent.csv')"
      ],
      "metadata": {
        "id": "RES7iQ2GihyT"
      },
      "id": "RES7iQ2GihyT",
      "execution_count": 36,
      "outputs": []
    },
    {
      "cell_type": "code",
      "source": [
        "# Split the dataset into input (X) and output (y) variables\n",
        "X = df.iloc[:, :-1].values\n",
        "y = df.iloc[:, -1].values"
      ],
      "metadata": {
        "id": "SeoHbmLTiw47"
      },
      "id": "SeoHbmLTiw47",
      "execution_count": 37,
      "outputs": []
    },
    {
      "cell_type": "code",
      "source": [
        "# Split the dataset into training and testing sets\n",
        "X_train, X_test, y_train, y_test = train_test_split(X, y, test_size=0.2, random_state=42)"
      ],
      "metadata": {
        "id": "3eIJY1eqi9ul"
      },
      "id": "3eIJY1eqi9ul",
      "execution_count": 38,
      "outputs": []
    },
    {
      "cell_type": "code",
      "source": [
        "# Standardize the input features\n",
        "scaler = StandardScaler()\n",
        "X_train = scaler.fit_transform(X_train)\n",
        "X_test = scaler.transform(X_test)"
      ],
      "metadata": {
        "id": "YWjYtf8CjAOo"
      },
      "id": "YWjYtf8CjAOo",
      "execution_count": 39,
      "outputs": []
    },
    {
      "cell_type": "code",
      "source": [
        "# Reshape the input features for use with CNN\n",
        "X_train = X_train.reshape((X_train.shape[0], X_train.shape[1], 1))\n",
        "X_test = X_test.reshape((X_test.shape[0], X_test.shape[1], 1))"
      ],
      "metadata": {
        "id": "x740haSnjDuJ"
      },
      "id": "x740haSnjDuJ",
      "execution_count": 40,
      "outputs": []
    },
    {
      "cell_type": "code",
      "source": [
        "# Build the CNN model\n",
        "model = Sequential()\n",
        "model.add(Conv1D(filters=32, kernel_size=2, activation='relu', input_shape=(X_train.shape[1], 1)))\n",
        "model.add(MaxPooling1D(pool_size=1))\n",
        "model.add(Conv1D(filters=64, kernel_size=2, activation='relu'))\n",
        "model.add(MaxPooling1D(pool_size=1))\n",
        "model.add(Conv1D(filters=128, kernel_size=2, activation='relu'))\n",
        "model.add(MaxPooling1D(pool_size=1))\n",
        "model.add(Flatten())\n",
        "model.add(Dense(units=128, activation='relu'))\n",
        "model.add(Dense(units=1, activation='linear'))"
      ],
      "metadata": {
        "id": "cwwkgBxCjGwa"
      },
      "id": "cwwkgBxCjGwa",
      "execution_count": 41,
      "outputs": []
    },
    {
      "cell_type": "code",
      "source": [
        "# Compile the model\n",
        "optimizer = Adam(learning_rate=0.001)\n",
        "model.compile(optimizer=optimizer, loss='mean_squared_error')"
      ],
      "metadata": {
        "id": "mrmI7FaDjJv8"
      },
      "id": "mrmI7FaDjJv8",
      "execution_count": 42,
      "outputs": []
    },
    {
      "cell_type": "code",
      "source": [
        "# Enregistrer les temps de départ\n",
        "step_times = []\n",
        "\n",
        "# Définir un callback pour mesurer les temps de chaque étape\n",
        "class TimingCallback(tf.keras.callbacks.Callback):\n",
        "    def on_train_batch_begin(self, batch, logs=None):\n",
        "        self.start_time = time.time()\n",
        "\n",
        "    def on_train_batch_end(self, batch, logs=None):\n",
        "        step_time = time.time() - self.start_time\n",
        "        step_times.append(step_time)\n",
        "# Train the model\n",
        "model.fit(X_train, y_train, epochs=100, batch_size=32, validation_data=(X_test, y_test),callbacks=[TimingCallback()])\n"
      ],
      "metadata": {
        "colab": {
          "base_uri": "https://localhost:8080/"
        },
        "id": "hYOh59dVjM0j",
        "outputId": "a572a937-4c1e-4eed-8425-b1a0bffbb59b"
      },
      "id": "hYOh59dVjM0j",
      "execution_count": 43,
      "outputs": [
        {
          "output_type": "stream",
          "name": "stdout",
          "text": [
            "Epoch 1/100\n",
            "45/45 [==============================] - 4s 29ms/step - loss: 44910.3672 - val_loss: 36115.1836\n",
            "Epoch 2/100\n",
            "45/45 [==============================] - 0s 7ms/step - loss: 15583.7910 - val_loss: 15259.2959\n",
            "Epoch 3/100\n",
            "45/45 [==============================] - 0s 8ms/step - loss: 7828.9756 - val_loss: 7595.0728\n",
            "Epoch 4/100\n",
            "45/45 [==============================] - 0s 6ms/step - loss: 5785.8296 - val_loss: 6160.3511\n",
            "Epoch 5/100\n",
            "45/45 [==============================] - 0s 7ms/step - loss: 5922.7773 - val_loss: 6537.4116\n",
            "Epoch 6/100\n",
            "45/45 [==============================] - 0s 6ms/step - loss: 5088.1226 - val_loss: 4513.5898\n",
            "Epoch 7/100\n",
            "45/45 [==============================] - 0s 7ms/step - loss: 3553.2075 - val_loss: 3066.0942\n",
            "Epoch 8/100\n",
            "45/45 [==============================] - 0s 7ms/step - loss: 2111.5283 - val_loss: 1696.8173\n",
            "Epoch 9/100\n",
            "45/45 [==============================] - 0s 8ms/step - loss: 1072.4241 - val_loss: 870.4266\n",
            "Epoch 10/100\n",
            "45/45 [==============================] - 0s 7ms/step - loss: 566.7063 - val_loss: 422.7742\n",
            "Epoch 11/100\n",
            "45/45 [==============================] - 0s 8ms/step - loss: 375.2271 - val_loss: 283.8456\n",
            "Epoch 12/100\n",
            "45/45 [==============================] - 0s 7ms/step - loss: 195.8144 - val_loss: 311.1620\n",
            "Epoch 13/100\n",
            "45/45 [==============================] - 0s 7ms/step - loss: 129.7531 - val_loss: 73.4489\n",
            "Epoch 14/100\n",
            "45/45 [==============================] - 0s 8ms/step - loss: 59.8881 - val_loss: 62.9909\n",
            "Epoch 15/100\n",
            "45/45 [==============================] - 0s 7ms/step - loss: 43.6218 - val_loss: 49.3127\n",
            "Epoch 16/100\n",
            "45/45 [==============================] - 0s 7ms/step - loss: 30.1701 - val_loss: 44.4166\n",
            "Epoch 17/100\n",
            "45/45 [==============================] - 0s 7ms/step - loss: 23.8052 - val_loss: 34.5084\n",
            "Epoch 18/100\n",
            "45/45 [==============================] - 0s 7ms/step - loss: 21.2423 - val_loss: 25.2856\n",
            "Epoch 19/100\n",
            "45/45 [==============================] - 0s 7ms/step - loss: 18.6029 - val_loss: 22.0735\n",
            "Epoch 20/100\n",
            "45/45 [==============================] - 0s 7ms/step - loss: 18.8709 - val_loss: 22.9138\n",
            "Epoch 21/100\n",
            "45/45 [==============================] - 0s 7ms/step - loss: 14.7367 - val_loss: 20.1718\n",
            "Epoch 22/100\n",
            "45/45 [==============================] - 0s 6ms/step - loss: 12.6449 - val_loss: 24.0213\n",
            "Epoch 23/100\n",
            "45/45 [==============================] - 0s 7ms/step - loss: 12.6745 - val_loss: 16.5586\n",
            "Epoch 24/100\n",
            "45/45 [==============================] - 0s 7ms/step - loss: 13.8865 - val_loss: 18.5647\n",
            "Epoch 25/100\n",
            "45/45 [==============================] - 0s 7ms/step - loss: 14.5541 - val_loss: 21.8787\n",
            "Epoch 26/100\n",
            "45/45 [==============================] - 0s 7ms/step - loss: 10.6453 - val_loss: 19.2998\n",
            "Epoch 27/100\n",
            "45/45 [==============================] - 0s 6ms/step - loss: 9.3911 - val_loss: 15.9319\n",
            "Epoch 28/100\n",
            "45/45 [==============================] - 0s 8ms/step - loss: 8.6205 - val_loss: 15.8689\n",
            "Epoch 29/100\n",
            "45/45 [==============================] - 0s 7ms/step - loss: 9.2396 - val_loss: 21.2416\n",
            "Epoch 30/100\n",
            "45/45 [==============================] - 0s 7ms/step - loss: 7.6187 - val_loss: 17.7443\n",
            "Epoch 31/100\n",
            "45/45 [==============================] - 0s 7ms/step - loss: 11.9322 - val_loss: 17.3517\n",
            "Epoch 32/100\n",
            "45/45 [==============================] - 0s 9ms/step - loss: 7.3826 - val_loss: 16.7215\n",
            "Epoch 33/100\n",
            "45/45 [==============================] - 0s 10ms/step - loss: 5.9371 - val_loss: 15.3379\n",
            "Epoch 34/100\n",
            "45/45 [==============================] - 0s 10ms/step - loss: 6.3280 - val_loss: 12.8289\n",
            "Epoch 35/100\n",
            "45/45 [==============================] - 0s 10ms/step - loss: 5.8744 - val_loss: 9.0219\n",
            "Epoch 36/100\n",
            "45/45 [==============================] - 0s 10ms/step - loss: 5.1616 - val_loss: 9.0488\n",
            "Epoch 37/100\n",
            "45/45 [==============================] - 0s 10ms/step - loss: 4.9404 - val_loss: 20.9423\n",
            "Epoch 38/100\n",
            "45/45 [==============================] - 0s 9ms/step - loss: 5.0950 - val_loss: 11.9348\n",
            "Epoch 39/100\n",
            "45/45 [==============================] - 0s 7ms/step - loss: 4.2705 - val_loss: 9.2772\n",
            "Epoch 40/100\n",
            "45/45 [==============================] - 0s 8ms/step - loss: 4.3166 - val_loss: 18.2066\n",
            "Epoch 41/100\n",
            "45/45 [==============================] - 0s 7ms/step - loss: 5.4261 - val_loss: 16.3968\n",
            "Epoch 42/100\n",
            "45/45 [==============================] - 0s 8ms/step - loss: 4.5017 - val_loss: 7.4301\n",
            "Epoch 43/100\n",
            "45/45 [==============================] - 0s 7ms/step - loss: 3.7080 - val_loss: 7.4486\n",
            "Epoch 44/100\n",
            "45/45 [==============================] - 0s 8ms/step - loss: 3.7452 - val_loss: 7.4821\n",
            "Epoch 45/100\n",
            "45/45 [==============================] - 0s 8ms/step - loss: 3.2339 - val_loss: 7.6554\n",
            "Epoch 46/100\n",
            "45/45 [==============================] - 0s 8ms/step - loss: 3.2152 - val_loss: 7.0900\n",
            "Epoch 47/100\n",
            "45/45 [==============================] - 0s 7ms/step - loss: 3.1033 - val_loss: 9.5867\n",
            "Epoch 48/100\n",
            "45/45 [==============================] - 0s 7ms/step - loss: 4.8852 - val_loss: 10.2733\n",
            "Epoch 49/100\n",
            "45/45 [==============================] - 0s 7ms/step - loss: 3.4777 - val_loss: 4.5279\n",
            "Epoch 50/100\n",
            "45/45 [==============================] - 0s 7ms/step - loss: 3.6700 - val_loss: 3.9812\n",
            "Epoch 51/100\n",
            "45/45 [==============================] - 0s 7ms/step - loss: 3.5187 - val_loss: 5.6907\n",
            "Epoch 52/100\n",
            "45/45 [==============================] - 0s 7ms/step - loss: 4.0365 - val_loss: 8.3020\n",
            "Epoch 53/100\n",
            "45/45 [==============================] - 0s 8ms/step - loss: 3.8439 - val_loss: 6.7505\n",
            "Epoch 54/100\n",
            "45/45 [==============================] - 0s 8ms/step - loss: 3.6303 - val_loss: 7.9063\n",
            "Epoch 55/100\n",
            "45/45 [==============================] - 0s 7ms/step - loss: 4.6336 - val_loss: 7.2991\n",
            "Epoch 56/100\n",
            "45/45 [==============================] - 0s 7ms/step - loss: 6.2194 - val_loss: 5.7834\n",
            "Epoch 57/100\n",
            "45/45 [==============================] - 0s 7ms/step - loss: 3.8904 - val_loss: 5.3109\n",
            "Epoch 58/100\n",
            "45/45 [==============================] - 0s 7ms/step - loss: 2.9909 - val_loss: 6.3108\n",
            "Epoch 59/100\n",
            "45/45 [==============================] - 0s 8ms/step - loss: 3.3354 - val_loss: 4.1086\n",
            "Epoch 60/100\n",
            "45/45 [==============================] - 0s 8ms/step - loss: 3.1667 - val_loss: 6.2711\n",
            "Epoch 61/100\n",
            "45/45 [==============================] - 0s 8ms/step - loss: 3.5216 - val_loss: 11.5652\n",
            "Epoch 62/100\n",
            "45/45 [==============================] - 0s 7ms/step - loss: 5.1040 - val_loss: 4.1491\n",
            "Epoch 63/100\n",
            "45/45 [==============================] - 0s 8ms/step - loss: 3.2838 - val_loss: 7.8587\n",
            "Epoch 64/100\n",
            "45/45 [==============================] - 0s 8ms/step - loss: 5.2280 - val_loss: 8.4895\n",
            "Epoch 65/100\n",
            "45/45 [==============================] - 0s 8ms/step - loss: 4.6531 - val_loss: 7.8165\n",
            "Epoch 66/100\n",
            "45/45 [==============================] - 0s 8ms/step - loss: 2.9909 - val_loss: 3.0573\n",
            "Epoch 67/100\n",
            "45/45 [==============================] - 0s 7ms/step - loss: 6.4702 - val_loss: 44.3841\n",
            "Epoch 68/100\n",
            "45/45 [==============================] - 0s 10ms/step - loss: 12.2967 - val_loss: 44.8761\n",
            "Epoch 69/100\n",
            "45/45 [==============================] - 0s 11ms/step - loss: 48.1602 - val_loss: 63.9539\n",
            "Epoch 70/100\n",
            "45/45 [==============================] - 0s 11ms/step - loss: 17.9752 - val_loss: 12.7438\n",
            "Epoch 71/100\n",
            "45/45 [==============================] - 0s 10ms/step - loss: 8.6545 - val_loss: 4.9275\n",
            "Epoch 72/100\n",
            "45/45 [==============================] - 0s 10ms/step - loss: 5.2951 - val_loss: 6.2827\n",
            "Epoch 73/100\n",
            "45/45 [==============================] - 1s 11ms/step - loss: 8.1300 - val_loss: 6.6192\n",
            "Epoch 74/100\n",
            "45/45 [==============================] - 0s 7ms/step - loss: 12.7504 - val_loss: 21.7411\n",
            "Epoch 75/100\n",
            "45/45 [==============================] - 0s 6ms/step - loss: 7.5922 - val_loss: 7.9672\n",
            "Epoch 76/100\n",
            "45/45 [==============================] - 0s 8ms/step - loss: 5.4497 - val_loss: 5.0258\n",
            "Epoch 77/100\n",
            "45/45 [==============================] - 0s 6ms/step - loss: 2.5630 - val_loss: 5.3195\n",
            "Epoch 78/100\n",
            "45/45 [==============================] - 0s 6ms/step - loss: 3.2546 - val_loss: 7.2301\n",
            "Epoch 79/100\n",
            "45/45 [==============================] - 0s 7ms/step - loss: 7.5577 - val_loss: 3.3130\n",
            "Epoch 80/100\n",
            "45/45 [==============================] - 0s 8ms/step - loss: 2.2077 - val_loss: 4.8360\n",
            "Epoch 81/100\n",
            "45/45 [==============================] - 0s 7ms/step - loss: 2.7143 - val_loss: 9.3272\n",
            "Epoch 82/100\n",
            "45/45 [==============================] - 0s 8ms/step - loss: 2.6041 - val_loss: 4.8120\n",
            "Epoch 83/100\n",
            "45/45 [==============================] - 0s 6ms/step - loss: 3.5560 - val_loss: 6.6781\n",
            "Epoch 84/100\n",
            "45/45 [==============================] - 0s 8ms/step - loss: 6.0799 - val_loss: 10.4825\n",
            "Epoch 85/100\n",
            "45/45 [==============================] - 0s 7ms/step - loss: 8.7955 - val_loss: 23.3126\n",
            "Epoch 86/100\n",
            "45/45 [==============================] - 0s 7ms/step - loss: 9.7149 - val_loss: 23.8631\n",
            "Epoch 87/100\n",
            "45/45 [==============================] - 0s 7ms/step - loss: 5.7183 - val_loss: 3.7159\n",
            "Epoch 88/100\n",
            "45/45 [==============================] - 0s 8ms/step - loss: 8.7159 - val_loss: 7.6393\n",
            "Epoch 89/100\n",
            "45/45 [==============================] - 0s 6ms/step - loss: 2.9761 - val_loss: 9.9190\n",
            "Epoch 90/100\n",
            "45/45 [==============================] - 0s 6ms/step - loss: 4.9061 - val_loss: 23.0419\n",
            "Epoch 91/100\n",
            "45/45 [==============================] - 0s 7ms/step - loss: 4.9467 - val_loss: 5.6131\n",
            "Epoch 92/100\n",
            "45/45 [==============================] - 0s 6ms/step - loss: 7.1915 - val_loss: 26.0901\n",
            "Epoch 93/100\n",
            "45/45 [==============================] - 0s 7ms/step - loss: 10.5140 - val_loss: 5.2182\n",
            "Epoch 94/100\n",
            "45/45 [==============================] - 0s 7ms/step - loss: 3.6875 - val_loss: 5.7420\n",
            "Epoch 95/100\n",
            "45/45 [==============================] - 0s 8ms/step - loss: 2.7726 - val_loss: 5.9563\n",
            "Epoch 96/100\n",
            "45/45 [==============================] - 0s 7ms/step - loss: 13.5648 - val_loss: 33.9360\n",
            "Epoch 97/100\n",
            "45/45 [==============================] - 0s 8ms/step - loss: 4.9134 - val_loss: 3.2546\n",
            "Epoch 98/100\n",
            "45/45 [==============================] - 0s 8ms/step - loss: 2.6505 - val_loss: 10.7830\n",
            "Epoch 99/100\n",
            "45/45 [==============================] - 0s 8ms/step - loss: 35.2327 - val_loss: 8.6572\n",
            "Epoch 100/100\n",
            "45/45 [==============================] - 0s 7ms/step - loss: 7.6114 - val_loss: 6.7986\n"
          ]
        },
        {
          "output_type": "execute_result",
          "data": {
            "text/plain": [
              "<keras.callbacks.History at 0x7fcba8e64d30>"
            ]
          },
          "metadata": {},
          "execution_count": 43
        }
      ]
    },
    {
      "cell_type": "code",
      "source": [
        "# Evaluate the model\n",
        "mse = model.evaluate(X_test, y_test)\n",
        "print('Mean squared error:', mse)"
      ],
      "metadata": {
        "colab": {
          "base_uri": "https://localhost:8080/"
        },
        "id": "I2pXXYH9jP9I",
        "outputId": "28ffe413-ab0b-4763-e324-2a360a74b90e"
      },
      "id": "I2pXXYH9jP9I",
      "execution_count": 44,
      "outputs": [
        {
          "output_type": "stream",
          "name": "stdout",
          "text": [
            "12/12 [==============================] - 0s 3ms/step - loss: 6.7986\n",
            "Mean squared error: 6.798583984375\n"
          ]
        }
      ]
    },
    {
      "cell_type": "code",
      "source": [
        "# Predict the WQI for a new sample\n",
        "new_sample = np.array([[7.5, 8.0, 300, 2.0, 0.5, 100, 2005]])\n",
        "new_sample = scaler.transform(new_sample)\n",
        "new_sample = new_sample.reshape((new_sample.shape[0], new_sample.shape[1], 1))\n",
        "prediction = model.predict(new_sample)\n",
        "print('Predicted WQI:', prediction[0][0])"
      ],
      "metadata": {
        "colab": {
          "base_uri": "https://localhost:8080/"
        },
        "id": "FZaMKHFHjewN",
        "outputId": "45580e4d-ddf3-4fd5-e124-773a44070742"
      },
      "id": "FZaMKHFHjewN",
      "execution_count": 45,
      "outputs": [
        {
          "output_type": "stream",
          "name": "stdout",
          "text": [
            "1/1 [==============================] - 0s 229ms/step\n",
            "Predicted WQI: 71.40617\n"
          ]
        }
      ]
    },
    {
      "cell_type": "markdown",
      "source": [
        "# remplacer les valeurs manquantes par **le moyenne de chaque state**"
      ],
      "metadata": {
        "id": "aqeM7ehPjkdW"
      },
      "id": "aqeM7ehPjkdW"
    },
    {
      "cell_type": "code",
      "source": [
        "# Load the dataset\n",
        "df = pd.read_csv('water_quality_dataset_mean_state.csv')"
      ],
      "metadata": {
        "id": "AUwDbJkHjics"
      },
      "id": "AUwDbJkHjics",
      "execution_count": 47,
      "outputs": []
    },
    {
      "cell_type": "code",
      "source": [
        "# Split the dataset into input (X) and output (y) variables\n",
        "X = df.iloc[:, :-1].values\n",
        "y = df.iloc[:, -1].values"
      ],
      "metadata": {
        "id": "Fub3PRiYj3YM"
      },
      "id": "Fub3PRiYj3YM",
      "execution_count": 48,
      "outputs": []
    },
    {
      "cell_type": "code",
      "source": [
        "# Split the dataset into training and testing sets\n",
        "X_train, X_test, y_train, y_test = train_test_split(X, y, test_size=0.2, random_state=42)"
      ],
      "metadata": {
        "id": "oVp6i2fqj9dQ"
      },
      "id": "oVp6i2fqj9dQ",
      "execution_count": 49,
      "outputs": []
    },
    {
      "cell_type": "code",
      "source": [
        "# Standardize the input features\n",
        "scaler = StandardScaler()\n",
        "X_train = scaler.fit_transform(X_train)\n",
        "X_test = scaler.transform(X_test)"
      ],
      "metadata": {
        "id": "JYQfYsstkAa6"
      },
      "id": "JYQfYsstkAa6",
      "execution_count": 50,
      "outputs": []
    },
    {
      "cell_type": "code",
      "source": [
        "# Reshape the input features for use with CNN\n",
        "X_train = X_train.reshape((X_train.shape[0], X_train.shape[1], 1))\n",
        "X_test = X_test.reshape((X_test.shape[0], X_test.shape[1], 1))"
      ],
      "metadata": {
        "id": "Dd9hSTzykDX-"
      },
      "id": "Dd9hSTzykDX-",
      "execution_count": 51,
      "outputs": []
    },
    {
      "cell_type": "code",
      "source": [
        "# Build the CNN model\n",
        "model = Sequential()\n",
        "model.add(Conv1D(filters=32, kernel_size=2, activation='relu', input_shape=(X_train.shape[1], 1)))\n",
        "model.add(MaxPooling1D(pool_size=1))\n",
        "model.add(Conv1D(filters=64, kernel_size=2, activation='relu'))\n",
        "model.add(MaxPooling1D(pool_size=1))\n",
        "model.add(Conv1D(filters=128, kernel_size=2, activation='relu'))\n",
        "model.add(MaxPooling1D(pool_size=1))\n",
        "model.add(Flatten())\n",
        "model.add(Dense(units=128, activation='relu'))\n",
        "model.add(Dense(units=1, activation='linear'))"
      ],
      "metadata": {
        "id": "xofnfQmVkF6v"
      },
      "id": "xofnfQmVkF6v",
      "execution_count": 52,
      "outputs": []
    },
    {
      "cell_type": "code",
      "source": [
        "# Compile the model\n",
        "optimizer = Adam(learning_rate=0.001)\n",
        "model.compile(optimizer=optimizer, loss='mean_squared_error')"
      ],
      "metadata": {
        "id": "J5E0ASBUkKPC"
      },
      "id": "J5E0ASBUkKPC",
      "execution_count": 53,
      "outputs": []
    },
    {
      "cell_type": "code",
      "source": [
        "# Enregistrer les temps de départ\n",
        "step_times = []\n",
        "\n",
        "# Définir un callback pour mesurer les temps de chaque étape\n",
        "class TimingCallback(tf.keras.callbacks.Callback):\n",
        "    def on_train_batch_begin(self, batch, logs=None):\n",
        "        self.start_time = time.time()\n",
        "\n",
        "    def on_train_batch_end(self, batch, logs=None):\n",
        "        step_time = time.time() - self.start_time\n",
        "        step_times.append(step_time)\n",
        "# Train the model\n",
        "model.fit(X_train, y_train, epochs=100, batch_size=32, validation_data=(X_test, y_test),callbacks=[TimingCallback()])"
      ],
      "metadata": {
        "colab": {
          "base_uri": "https://localhost:8080/"
        },
        "id": "f4NLfpuXkMtL",
        "outputId": "41721e64-badd-4758-f1c7-e6d350b95e84"
      },
      "id": "f4NLfpuXkMtL",
      "execution_count": 54,
      "outputs": [
        {
          "output_type": "stream",
          "name": "stdout",
          "text": [
            "Epoch 1/100\n",
            "42/42 [==============================] - 3s 39ms/step - loss: 154841.0781 - val_loss: 83507.3984\n",
            "Epoch 2/100\n",
            "42/42 [==============================] - 1s 21ms/step - loss: 92307.7422 - val_loss: 42596.2812\n",
            "Epoch 3/100\n",
            "42/42 [==============================] - 1s 18ms/step - loss: 46691.8906 - val_loss: 18653.6406\n",
            "Epoch 4/100\n",
            "42/42 [==============================] - 1s 16ms/step - loss: 19496.6738 - val_loss: 8847.9541\n",
            "Epoch 5/100\n",
            "42/42 [==============================] - 1s 14ms/step - loss: 11498.9639 - val_loss: 8989.4746\n",
            "Epoch 6/100\n",
            "42/42 [==============================] - 1s 15ms/step - loss: 9274.5225 - val_loss: 8179.5381\n",
            "Epoch 7/100\n",
            "42/42 [==============================] - 1s 14ms/step - loss: 8802.1729 - val_loss: 6622.1851\n",
            "Epoch 8/100\n",
            "42/42 [==============================] - 0s 11ms/step - loss: 8026.4521 - val_loss: 6273.3271\n",
            "Epoch 9/100\n",
            "42/42 [==============================] - 0s 10ms/step - loss: 7367.2349 - val_loss: 5820.4912\n",
            "Epoch 10/100\n",
            "42/42 [==============================] - 0s 8ms/step - loss: 6598.2759 - val_loss: 4265.3579\n",
            "Epoch 11/100\n",
            "42/42 [==============================] - 0s 7ms/step - loss: 4822.6772 - val_loss: 3131.0232\n",
            "Epoch 12/100\n",
            "42/42 [==============================] - 0s 7ms/step - loss: 3704.8533 - val_loss: 2555.5002\n",
            "Epoch 13/100\n",
            "42/42 [==============================] - 0s 7ms/step - loss: 2835.1873 - val_loss: 1754.5945\n",
            "Epoch 14/100\n",
            "42/42 [==============================] - 0s 7ms/step - loss: 2163.9404 - val_loss: 1636.7773\n",
            "Epoch 15/100\n",
            "42/42 [==============================] - 0s 8ms/step - loss: 2073.1379 - val_loss: 1232.7643\n",
            "Epoch 16/100\n",
            "42/42 [==============================] - 0s 8ms/step - loss: 1510.1936 - val_loss: 1004.4266\n",
            "Epoch 17/100\n",
            "42/42 [==============================] - 0s 7ms/step - loss: 1269.7688 - val_loss: 1020.6224\n",
            "Epoch 18/100\n",
            "42/42 [==============================] - 0s 7ms/step - loss: 1145.0817 - val_loss: 729.4859\n",
            "Epoch 19/100\n",
            "42/42 [==============================] - 0s 7ms/step - loss: 915.6025 - val_loss: 606.5241\n",
            "Epoch 20/100\n",
            "42/42 [==============================] - 0s 7ms/step - loss: 845.5569 - val_loss: 388.6532\n",
            "Epoch 21/100\n",
            "42/42 [==============================] - 0s 8ms/step - loss: 618.5056 - val_loss: 376.7529\n",
            "Epoch 22/100\n",
            "42/42 [==============================] - 0s 8ms/step - loss: 490.8112 - val_loss: 268.2162\n",
            "Epoch 23/100\n",
            "42/42 [==============================] - 0s 7ms/step - loss: 450.0518 - val_loss: 254.3208\n",
            "Epoch 24/100\n",
            "42/42 [==============================] - 0s 7ms/step - loss: 353.0191 - val_loss: 160.0243\n",
            "Epoch 25/100\n",
            "42/42 [==============================] - 0s 8ms/step - loss: 268.1389 - val_loss: 144.1093\n",
            "Epoch 26/100\n",
            "42/42 [==============================] - 0s 7ms/step - loss: 220.4498 - val_loss: 127.4170\n",
            "Epoch 27/100\n",
            "42/42 [==============================] - 0s 7ms/step - loss: 221.4655 - val_loss: 80.7571\n",
            "Epoch 28/100\n",
            "42/42 [==============================] - 0s 8ms/step - loss: 163.4451 - val_loss: 62.2813\n",
            "Epoch 29/100\n",
            "42/42 [==============================] - 0s 6ms/step - loss: 130.5128 - val_loss: 55.9004\n",
            "Epoch 30/100\n",
            "42/42 [==============================] - 0s 7ms/step - loss: 137.4206 - val_loss: 54.5674\n",
            "Epoch 31/100\n",
            "42/42 [==============================] - 0s 7ms/step - loss: 90.3131 - val_loss: 42.1034\n",
            "Epoch 32/100\n",
            "42/42 [==============================] - 0s 8ms/step - loss: 82.9277 - val_loss: 33.4584\n",
            "Epoch 33/100\n",
            "42/42 [==============================] - 0s 7ms/step - loss: 81.1746 - val_loss: 27.0593\n",
            "Epoch 34/100\n",
            "42/42 [==============================] - 0s 10ms/step - loss: 59.5519 - val_loss: 31.4892\n",
            "Epoch 35/100\n",
            "42/42 [==============================] - 0s 11ms/step - loss: 51.3813 - val_loss: 22.9491\n",
            "Epoch 36/100\n",
            "42/42 [==============================] - 0s 10ms/step - loss: 47.0892 - val_loss: 21.0705\n",
            "Epoch 37/100\n",
            "42/42 [==============================] - 0s 11ms/step - loss: 51.2188 - val_loss: 19.4477\n",
            "Epoch 38/100\n",
            "42/42 [==============================] - 0s 11ms/step - loss: 38.1314 - val_loss: 18.8658\n",
            "Epoch 39/100\n",
            "42/42 [==============================] - 0s 11ms/step - loss: 34.9421 - val_loss: 20.6848\n",
            "Epoch 40/100\n",
            "42/42 [==============================] - 0s 7ms/step - loss: 32.8382 - val_loss: 18.8793\n",
            "Epoch 41/100\n",
            "42/42 [==============================] - 0s 7ms/step - loss: 28.7578 - val_loss: 17.5370\n",
            "Epoch 42/100\n",
            "42/42 [==============================] - 0s 7ms/step - loss: 26.1691 - val_loss: 14.6810\n",
            "Epoch 43/100\n",
            "42/42 [==============================] - 0s 8ms/step - loss: 23.0300 - val_loss: 13.9068\n",
            "Epoch 44/100\n",
            "42/42 [==============================] - 0s 8ms/step - loss: 22.9252 - val_loss: 16.6764\n",
            "Epoch 45/100\n",
            "42/42 [==============================] - 1s 16ms/step - loss: 22.3601 - val_loss: 19.6904\n",
            "Epoch 46/100\n",
            "42/42 [==============================] - 0s 10ms/step - loss: 21.6387 - val_loss: 14.8820\n",
            "Epoch 47/100\n",
            "42/42 [==============================] - 0s 8ms/step - loss: 18.9239 - val_loss: 12.5431\n",
            "Epoch 48/100\n",
            "42/42 [==============================] - 0s 8ms/step - loss: 23.6175 - val_loss: 23.6221\n",
            "Epoch 49/100\n",
            "42/42 [==============================] - 0s 8ms/step - loss: 24.5280 - val_loss: 13.5212\n",
            "Epoch 50/100\n",
            "42/42 [==============================] - 0s 8ms/step - loss: 16.0148 - val_loss: 13.5180\n",
            "Epoch 51/100\n",
            "42/42 [==============================] - 0s 7ms/step - loss: 16.7570 - val_loss: 11.5066\n",
            "Epoch 52/100\n",
            "42/42 [==============================] - 0s 8ms/step - loss: 15.9962 - val_loss: 13.1338\n",
            "Epoch 53/100\n",
            "42/42 [==============================] - 0s 7ms/step - loss: 13.1082 - val_loss: 10.4068\n",
            "Epoch 54/100\n",
            "42/42 [==============================] - 0s 7ms/step - loss: 13.2480 - val_loss: 12.0441\n",
            "Epoch 55/100\n",
            "42/42 [==============================] - 0s 8ms/step - loss: 12.8207 - val_loss: 10.1091\n",
            "Epoch 56/100\n",
            "42/42 [==============================] - 0s 7ms/step - loss: 12.7669 - val_loss: 10.1639\n",
            "Epoch 57/100\n",
            "42/42 [==============================] - 0s 8ms/step - loss: 12.9086 - val_loss: 8.8424\n",
            "Epoch 58/100\n",
            "42/42 [==============================] - 0s 7ms/step - loss: 10.3963 - val_loss: 8.8911\n",
            "Epoch 59/100\n",
            "42/42 [==============================] - 0s 6ms/step - loss: 10.5250 - val_loss: 10.8352\n",
            "Epoch 60/100\n",
            "42/42 [==============================] - 0s 8ms/step - loss: 10.2205 - val_loss: 9.4882\n",
            "Epoch 61/100\n",
            "42/42 [==============================] - 0s 6ms/step - loss: 11.3062 - val_loss: 8.2243\n",
            "Epoch 62/100\n",
            "42/42 [==============================] - 0s 7ms/step - loss: 10.1447 - val_loss: 16.0794\n",
            "Epoch 63/100\n",
            "42/42 [==============================] - 0s 8ms/step - loss: 19.5698 - val_loss: 11.2105\n",
            "Epoch 64/100\n",
            "42/42 [==============================] - 0s 8ms/step - loss: 9.7013 - val_loss: 8.1340\n",
            "Epoch 65/100\n",
            "42/42 [==============================] - 0s 7ms/step - loss: 8.0977 - val_loss: 6.7517\n",
            "Epoch 66/100\n",
            "42/42 [==============================] - 0s 7ms/step - loss: 8.0480 - val_loss: 10.4182\n",
            "Epoch 67/100\n",
            "42/42 [==============================] - 0s 7ms/step - loss: 8.4031 - val_loss: 7.9919\n",
            "Epoch 68/100\n",
            "42/42 [==============================] - 0s 7ms/step - loss: 7.9058 - val_loss: 7.1994\n",
            "Epoch 69/100\n",
            "42/42 [==============================] - 0s 7ms/step - loss: 9.7408 - val_loss: 9.2077\n",
            "Epoch 70/100\n",
            "42/42 [==============================] - 0s 10ms/step - loss: 7.5593 - val_loss: 6.8426\n",
            "Epoch 71/100\n",
            "42/42 [==============================] - 0s 10ms/step - loss: 7.8752 - val_loss: 6.8925\n",
            "Epoch 72/100\n",
            "42/42 [==============================] - 0s 11ms/step - loss: 6.4992 - val_loss: 5.5822\n",
            "Epoch 73/100\n",
            "42/42 [==============================] - 0s 10ms/step - loss: 8.0626 - val_loss: 8.3648\n",
            "Epoch 74/100\n",
            "42/42 [==============================] - 0s 11ms/step - loss: 7.7749 - val_loss: 9.1806\n",
            "Epoch 75/100\n",
            "42/42 [==============================] - 0s 11ms/step - loss: 9.2689 - val_loss: 6.0016\n",
            "Epoch 76/100\n",
            "42/42 [==============================] - 0s 10ms/step - loss: 5.7265 - val_loss: 6.0394\n",
            "Epoch 77/100\n",
            "42/42 [==============================] - 0s 8ms/step - loss: 7.7535 - val_loss: 7.7713\n",
            "Epoch 78/100\n",
            "42/42 [==============================] - 0s 7ms/step - loss: 6.4726 - val_loss: 6.4290\n",
            "Epoch 79/100\n",
            "42/42 [==============================] - 0s 8ms/step - loss: 7.5218 - val_loss: 6.6994\n",
            "Epoch 80/100\n",
            "42/42 [==============================] - 0s 7ms/step - loss: 5.9482 - val_loss: 5.3540\n",
            "Epoch 81/100\n",
            "42/42 [==============================] - 0s 7ms/step - loss: 5.4178 - val_loss: 4.2126\n",
            "Epoch 82/100\n",
            "42/42 [==============================] - 0s 8ms/step - loss: 8.6758 - val_loss: 14.0094\n",
            "Epoch 83/100\n",
            "42/42 [==============================] - 0s 7ms/step - loss: 11.1047 - val_loss: 9.1875\n",
            "Epoch 84/100\n",
            "42/42 [==============================] - 0s 8ms/step - loss: 5.5637 - val_loss: 4.6079\n",
            "Epoch 85/100\n",
            "42/42 [==============================] - 0s 8ms/step - loss: 4.9458 - val_loss: 4.3442\n",
            "Epoch 86/100\n",
            "42/42 [==============================] - 0s 8ms/step - loss: 34.4572 - val_loss: 55.2990\n",
            "Epoch 87/100\n",
            "42/42 [==============================] - 0s 8ms/step - loss: 18.5175 - val_loss: 15.4439\n",
            "Epoch 88/100\n",
            "42/42 [==============================] - 0s 7ms/step - loss: 66.2162 - val_loss: 20.2309\n",
            "Epoch 89/100\n",
            "42/42 [==============================] - 0s 8ms/step - loss: 17.3934 - val_loss: 5.2630\n",
            "Epoch 90/100\n",
            "42/42 [==============================] - 0s 7ms/step - loss: 9.1329 - val_loss: 5.1953\n",
            "Epoch 91/100\n",
            "42/42 [==============================] - 0s 7ms/step - loss: 12.3375 - val_loss: 13.8668\n",
            "Epoch 92/100\n",
            "42/42 [==============================] - 0s 8ms/step - loss: 25.9741 - val_loss: 12.9715\n",
            "Epoch 93/100\n",
            "42/42 [==============================] - 0s 8ms/step - loss: 8.7025 - val_loss: 27.7351\n",
            "Epoch 94/100\n",
            "42/42 [==============================] - 0s 8ms/step - loss: 27.5545 - val_loss: 10.8402\n",
            "Epoch 95/100\n",
            "42/42 [==============================] - 0s 8ms/step - loss: 45.3375 - val_loss: 29.5194\n",
            "Epoch 96/100\n",
            "42/42 [==============================] - 0s 8ms/step - loss: 14.8964 - val_loss: 18.7379\n",
            "Epoch 97/100\n",
            "42/42 [==============================] - 0s 7ms/step - loss: 10.9900 - val_loss: 9.7900\n",
            "Epoch 98/100\n",
            "42/42 [==============================] - 0s 7ms/step - loss: 16.9052 - val_loss: 23.5893\n",
            "Epoch 99/100\n",
            "42/42 [==============================] - 0s 8ms/step - loss: 11.3471 - val_loss: 5.0938\n",
            "Epoch 100/100\n",
            "42/42 [==============================] - 0s 8ms/step - loss: 4.1618 - val_loss: 9.5877\n"
          ]
        },
        {
          "output_type": "execute_result",
          "data": {
            "text/plain": [
              "<keras.callbacks.History at 0x7fcbb13f6c70>"
            ]
          },
          "metadata": {},
          "execution_count": 54
        }
      ]
    },
    {
      "cell_type": "code",
      "source": [
        "# Evaluate the model\n",
        "mse = model.evaluate(X_test, y_test)\n",
        "print('Mean squared error:', mse)"
      ],
      "metadata": {
        "colab": {
          "base_uri": "https://localhost:8080/"
        },
        "id": "qSou9AMYkQB6",
        "outputId": "f9e724b2-524e-47e8-e4e6-da92988e9201"
      },
      "id": "qSou9AMYkQB6",
      "execution_count": 55,
      "outputs": [
        {
          "output_type": "stream",
          "name": "stdout",
          "text": [
            "11/11 [==============================] - 0s 3ms/step - loss: 9.5877\n",
            "Mean squared error: 9.587747573852539\n"
          ]
        }
      ]
    },
    {
      "cell_type": "code",
      "source": [
        "# Predict the WQI for a new sample\n",
        "new_sample = np.array([[7.5, 8.0, 300, 2.0, 0.5, 100, 2005]])\n",
        "new_sample = scaler.transform(new_sample)\n",
        "new_sample = new_sample.reshape((new_sample.shape[0], new_sample.shape[1], 1))\n",
        "prediction = model.predict(new_sample)\n",
        "print('Predicted WQI:', prediction[0][0])"
      ],
      "metadata": {
        "colab": {
          "base_uri": "https://localhost:8080/"
        },
        "id": "uhMXfb4UkdlH",
        "outputId": "4d9f4836-1465-42ce-e33e-d3604caf9ea7"
      },
      "id": "uhMXfb4UkdlH",
      "execution_count": 56,
      "outputs": [
        {
          "output_type": "stream",
          "name": "stdout",
          "text": [
            "1/1 [==============================] - 0s 134ms/step\n",
            "Predicted WQI: 72.01725\n"
          ]
        }
      ]
    },
    {
      "cell_type": "code",
      "source": [],
      "metadata": {
        "id": "-hkZqOE2khVu"
      },
      "id": "-hkZqOE2khVu",
      "execution_count": null,
      "outputs": []
    }
  ],
  "metadata": {
    "kernelspec": {
      "display_name": "Python 3",
      "language": "python",
      "name": "python3"
    },
    "language_info": {
      "codemirror_mode": {
        "name": "ipython",
        "version": 3
      },
      "file_extension": ".py",
      "mimetype": "text/x-python",
      "name": "python",
      "nbconvert_exporter": "python",
      "pygments_lexer": "ipython3",
      "version": "3.8.8"
    },
    "colab": {
      "provenance": []
    }
  },
  "nbformat": 4,
  "nbformat_minor": 5
}