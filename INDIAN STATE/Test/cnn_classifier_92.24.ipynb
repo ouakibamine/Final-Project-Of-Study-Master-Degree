{
 "cells": [
  {
   "cell_type": "code",
   "execution_count": 1,
   "metadata": {
    "id": "ioTC26YKAGcS"
   },
   "outputs": [],
   "source": [
    "import os\n",
    "import pandas as pd\n",
    "import numpy as np\n",
    "import matplotlib.pyplot as plt\n",
    "import seaborn as sns\n",
    "from sklearn.impute import SimpleImputer\n",
    "from sklearn.neighbors import LocalOutlierFactor\n",
    "from scipy.stats import probplot\n",
    "from scipy.stats import zscore "
   ]
  },
  {
   "cell_type": "code",
   "execution_count": 143,
   "metadata": {
    "id": "oamhuFeMAQON"
   },
   "outputs": [],
   "source": [
    "df=pd.read_csv(\"water_quality_classifier_mean_state.csv\")"
   ]
  },
  {
   "cell_type": "code",
   "execution_count": 325,
   "metadata": {
    "id": "M8iudlVwATEI"
   },
   "outputs": [],
   "source": [
    "import pandas as pd\n",
    "import numpy as np\n",
    "import tensorflow as tf\n",
    "from sklearn.model_selection import train_test_split\n",
    "from sklearn.preprocessing import LabelEncoder\n",
    "from tensorflow.keras.models import Sequential\n",
    "from tensorflow.keras.layers import Dense, Conv1D, MaxPooling1D, Flatten,Dropout\n",
    "from tensorflow.keras.utils import to_categorical\n",
    "\n",
    "# Charger les données\n",
    "data = df"
   ]
  },
  {
   "cell_type": "code",
   "execution_count": 326,
   "metadata": {
    "id": "jMZgLCUpAYcv"
   },
   "outputs": [],
   "source": [
    "cols_to_drop=[\"WQI clf\"]\n",
    "# Diviser les données en caractéristiques et cibles\n",
    "X =  data.drop(cols_to_drop, axis=1)\n",
    "y = data[\"WQI clf\"].values"
   ]
  },
  {
   "cell_type": "code",
   "execution_count": 327,
   "metadata": {
    "id": "f2Q3xFFMAcPL"
   },
   "outputs": [],
   "source": [
    "# Encoder les labels catégoriels\n",
    "label_encoder = LabelEncoder()\n",
    "y = label_encoder.fit_transform(y)"
   ]
  },
  {
   "cell_type": "code",
   "execution_count": 328,
   "metadata": {
    "colab": {
     "base_uri": "https://localhost:8080/"
    },
    "id": "sMmq3udRA7bP",
    "outputId": "694d0293-57da-4d6c-ef74-6eb892eeff79"
   },
   "outputs": [
    {
     "name": "stdout",
     "output_type": "stream",
     "text": [
      "Balancing the data by SMOTE - Oversampling of Minority level\n",
      "\n",
      "Before SMOTE Counter({2: 593, 0: 479, 1: 308, 3: 284, 4: 15})\n",
      "\n",
      "After SMOTE Counter({0: 593, 1: 593, 2: 593, 3: 593, 4: 593})\n"
     ]
    }
   ],
   "source": [
    "from imblearn.over_sampling import SMOTE\n",
    "from collections import Counter\n",
    "print('Balancing the data by SMOTE - Oversampling of Minority level\\n')\n",
    "smt = SMOTE()\n",
    "counter = Counter(y)\n",
    "print('Before SMOTE', counter)\n",
    "X,y = smt.fit_resample(X,y)\n",
    "counter = Counter(y)\n",
    "print('\\nAfter SMOTE', counter)"
   ]
  },
  {
   "cell_type": "code",
   "execution_count": 329,
   "metadata": {
    "id": "S8LGa3hJAfRs"
   },
   "outputs": [],
   "source": [
    "# Diviser les données en ensembles d'entraînement et de test\n",
    "X_train, X_test, y_train, y_test = train_test_split(X, y, test_size=0.2, random_state=42)"
   ]
  },
  {
   "cell_type": "code",
   "execution_count": 330,
   "metadata": {
    "id": "YUOyqx93AicJ"
   },
   "outputs": [],
   "source": [
    "# Redimensionner les données pour les convolutions 1D\n",
    "X_train = X_train.values.reshape(X_train.shape[0], X_train.shape[1], 1)\n",
    "X_test = X_test.values.reshape(X_test.shape[0], X_test.shape[1], 1)"
   ]
  },
  {
   "cell_type": "code",
   "execution_count": 331,
   "metadata": {
    "id": "-k5nTj77Amrg"
   },
   "outputs": [],
   "source": [
    "# Convertir les labels en one-hot encoding\n",
    "y_train = to_categorical(y_train)\n",
    "y_test = to_categorical(y_test)\n",
    "\n",
    "# Créer le modèle CNN\n",
    "model = Sequential()\n",
    "model.add(Conv1D(filters=32, kernel_size=2, activation='relu', input_shape=(X_train.shape[1], 1)))\n",
    "model.add(MaxPooling1D(pool_size=1))\n",
    "model.add(Conv1D(filters=64, kernel_size=2, activation='relu'))\n",
    "model.add(MaxPooling1D(pool_size=1))\n",
    "model.add(Conv1D(filters=128, kernel_size=2, activation='relu'))\n",
    "model.add(MaxPooling1D(pool_size=1))\n",
    "model.add(Conv1D(filters=256, kernel_size=2, activation='relu'))\n",
    "model.add(MaxPooling1D(pool_size=1))\n",
    "model.add(Flatten())\n",
    "model.add(Dense(units=256, activation='relu'))\n",
    "model.add(Dropout(0.5))\n",
    "model.add(Dense(y_train.shape[1], activation=\"softmax\"))\n",
    "\n",
    "# Compiler le modèle\n",
    "model.compile(loss=\"categorical_crossentropy\", optimizer=\"adam\", metrics=[\"accuracy\"])"
   ]
  },
  {
   "cell_type": "code",
   "execution_count": 332,
   "metadata": {
    "colab": {
     "base_uri": "https://localhost:8080/"
    },
    "id": "WfOC2OtDAslL",
    "outputId": "c3de9845-9a14-4e40-e35b-3c3b663a3a40"
   },
   "outputs": [
    {
     "name": "stdout",
     "output_type": "stream",
     "text": [
      "Epoch 1/250\n",
      "75/75 [==============================] - 2s 15ms/step - loss: 17.2356 - accuracy: 0.2618 - val_loss: 3.2890 - val_accuracy: 0.2664\n",
      "Epoch 2/250\n",
      "75/75 [==============================] - 1s 10ms/step - loss: 3.7748 - accuracy: 0.2816 - val_loss: 4.5353 - val_accuracy: 0.2664\n",
      "Epoch 3/250\n",
      "75/75 [==============================] - 1s 11ms/step - loss: 2.2148 - accuracy: 0.3111 - val_loss: 1.4669 - val_accuracy: 0.4132\n",
      "Epoch 4/250\n",
      "75/75 [==============================] - 1s 9ms/step - loss: 1.4429 - accuracy: 0.3853 - val_loss: 1.4432 - val_accuracy: 0.3761\n",
      "Epoch 5/250\n",
      "75/75 [==============================] - 1s 9ms/step - loss: 1.3234 - accuracy: 0.4119 - val_loss: 1.3081 - val_accuracy: 0.4874\n",
      "Epoch 6/250\n",
      "75/75 [==============================] - 1s 10ms/step - loss: 1.2224 - accuracy: 0.4473 - val_loss: 1.2660 - val_accuracy: 0.5548\n",
      "Epoch 7/250\n",
      "75/75 [==============================] - 1s 9ms/step - loss: 1.1694 - accuracy: 0.4840 - val_loss: 1.1712 - val_accuracy: 0.4941\n",
      "Epoch 8/250\n",
      "75/75 [==============================] - 1s 9ms/step - loss: 1.4784 - accuracy: 0.4659 - val_loss: 1.9511 - val_accuracy: 0.4621\n",
      "Epoch 9/250\n",
      "75/75 [==============================] - 1s 9ms/step - loss: 1.3053 - accuracy: 0.4713 - val_loss: 1.3243 - val_accuracy: 0.5379\n",
      "Epoch 10/250\n",
      "75/75 [==============================] - 1s 10ms/step - loss: 1.1776 - accuracy: 0.4937 - val_loss: 1.1450 - val_accuracy: 0.5042\n",
      "Epoch 11/250\n",
      "75/75 [==============================] - 1s 9ms/step - loss: 1.8512 - accuracy: 0.4566 - val_loss: 1.6134 - val_accuracy: 0.4671\n",
      "Epoch 12/250\n",
      "75/75 [==============================] - 1s 9ms/step - loss: 1.3780 - accuracy: 0.4743 - val_loss: 1.4157 - val_accuracy: 0.4384\n",
      "Epoch 13/250\n",
      "75/75 [==============================] - 1s 9ms/step - loss: 1.1475 - accuracy: 0.4928 - val_loss: 1.0788 - val_accuracy: 0.5110\n",
      "Epoch 14/250\n",
      "75/75 [==============================] - 1s 9ms/step - loss: 1.0117 - accuracy: 0.5240 - val_loss: 1.0068 - val_accuracy: 0.5396\n",
      "Epoch 15/250\n",
      "75/75 [==============================] - 1s 9ms/step - loss: 0.9742 - accuracy: 0.5388 - val_loss: 0.9852 - val_accuracy: 0.5514\n",
      "Epoch 16/250\n",
      "75/75 [==============================] - 1s 11ms/step - loss: 0.9414 - accuracy: 0.5523 - val_loss: 0.9382 - val_accuracy: 0.5767\n",
      "Epoch 17/250\n",
      "75/75 [==============================] - 1s 12ms/step - loss: 0.9152 - accuracy: 0.5780 - val_loss: 0.9174 - val_accuracy: 0.5784\n",
      "Epoch 18/250\n",
      "75/75 [==============================] - 1s 12ms/step - loss: 0.9153 - accuracy: 0.5738 - val_loss: 0.9526 - val_accuracy: 0.5616\n",
      "Epoch 19/250\n",
      "75/75 [==============================] - 1s 9ms/step - loss: 0.8998 - accuracy: 0.5873 - val_loss: 0.8985 - val_accuracy: 0.6442\n",
      "Epoch 20/250\n",
      "75/75 [==============================] - 1s 12ms/step - loss: 0.8787 - accuracy: 0.6172 - val_loss: 0.9341 - val_accuracy: 0.6324\n",
      "Epoch 21/250\n",
      "75/75 [==============================] - 1s 10ms/step - loss: 0.9096 - accuracy: 0.6046 - val_loss: 0.9134 - val_accuracy: 0.6745\n",
      "Epoch 22/250\n",
      "75/75 [==============================] - 1s 9ms/step - loss: 0.8552 - accuracy: 0.6619 - val_loss: 1.0681 - val_accuracy: 0.7133\n",
      "Epoch 23/250\n",
      "75/75 [==============================] - 1s 9ms/step - loss: 0.8638 - accuracy: 0.6497 - val_loss: 0.9036 - val_accuracy: 0.6526\n",
      "Epoch 24/250\n",
      "75/75 [==============================] - 1s 9ms/step - loss: 0.8613 - accuracy: 0.6577 - val_loss: 0.8285 - val_accuracy: 0.6880\n",
      "Epoch 25/250\n",
      "75/75 [==============================] - 1s 10ms/step - loss: 0.8179 - accuracy: 0.6716 - val_loss: 0.9235 - val_accuracy: 0.6324\n",
      "Epoch 26/250\n",
      "75/75 [==============================] - 1s 9ms/step - loss: 0.8060 - accuracy: 0.6813 - val_loss: 0.8245 - val_accuracy: 0.6965\n",
      "Epoch 27/250\n",
      "75/75 [==============================] - 1s 9ms/step - loss: 0.8239 - accuracy: 0.6695 - val_loss: 0.7480 - val_accuracy: 0.6981\n",
      "Epoch 28/250\n",
      "75/75 [==============================] - 1s 9ms/step - loss: 0.7929 - accuracy: 0.6927 - val_loss: 0.9532 - val_accuracy: 0.6459\n",
      "Epoch 29/250\n",
      "75/75 [==============================] - 1s 9ms/step - loss: 0.7728 - accuracy: 0.7099 - val_loss: 0.7272 - val_accuracy: 0.7572\n",
      "Epoch 30/250\n",
      "75/75 [==============================] - 1s 9ms/step - loss: 0.8402 - accuracy: 0.6720 - val_loss: 0.8020 - val_accuracy: 0.6813\n",
      "Epoch 31/250\n",
      "75/75 [==============================] - 1s 10ms/step - loss: 0.7425 - accuracy: 0.7091 - val_loss: 0.8213 - val_accuracy: 0.6712\n",
      "Epoch 32/250\n",
      "75/75 [==============================] - 1s 13ms/step - loss: 0.8876 - accuracy: 0.6847 - val_loss: 0.8504 - val_accuracy: 0.6897\n",
      "Epoch 33/250\n",
      "75/75 [==============================] - 1s 12ms/step - loss: 0.7966 - accuracy: 0.7104 - val_loss: 0.7516 - val_accuracy: 0.7538\n",
      "Epoch 34/250\n",
      "75/75 [==============================] - 1s 9ms/step - loss: 0.8940 - accuracy: 0.6518 - val_loss: 1.0085 - val_accuracy: 0.5987\n",
      "Epoch 35/250\n",
      "75/75 [==============================] - 1s 9ms/step - loss: 0.8656 - accuracy: 0.6404 - val_loss: 0.8074 - val_accuracy: 0.7420\n",
      "Epoch 36/250\n",
      "75/75 [==============================] - 1s 9ms/step - loss: 0.7431 - accuracy: 0.7146 - val_loss: 0.7909 - val_accuracy: 0.7133\n",
      "Epoch 37/250\n",
      "75/75 [==============================] - 1s 9ms/step - loss: 0.7002 - accuracy: 0.7395 - val_loss: 0.6569 - val_accuracy: 0.7841\n",
      "Epoch 38/250\n",
      "75/75 [==============================] - 1s 10ms/step - loss: 0.6802 - accuracy: 0.7449 - val_loss: 0.8139 - val_accuracy: 0.6931\n",
      "Epoch 39/250\n",
      "75/75 [==============================] - 1s 9ms/step - loss: 0.8919 - accuracy: 0.6526 - val_loss: 0.8437 - val_accuracy: 0.6661\n",
      "Epoch 40/250\n",
      "75/75 [==============================] - 1s 9ms/step - loss: 0.7492 - accuracy: 0.7125 - val_loss: 0.7045 - val_accuracy: 0.7521\n",
      "Epoch 41/250\n",
      "75/75 [==============================] - 1s 9ms/step - loss: 0.6904 - accuracy: 0.7458 - val_loss: 0.7217 - val_accuracy: 0.7150\n",
      "Epoch 42/250\n",
      "75/75 [==============================] - 1s 9ms/step - loss: 0.6918 - accuracy: 0.7403 - val_loss: 0.6791 - val_accuracy: 0.7437\n",
      "Epoch 43/250\n",
      "75/75 [==============================] - 1s 9ms/step - loss: 0.6455 - accuracy: 0.7601 - val_loss: 0.6283 - val_accuracy: 0.7808\n",
      "Epoch 44/250\n",
      "75/75 [==============================] - 1s 8ms/step - loss: 0.6104 - accuracy: 0.7745 - val_loss: 0.6040 - val_accuracy: 0.7909\n",
      "Epoch 45/250\n",
      "75/75 [==============================] - 1s 10ms/step - loss: 0.6050 - accuracy: 0.7732 - val_loss: 0.6258 - val_accuracy: 0.7993\n",
      "Epoch 46/250\n",
      "75/75 [==============================] - 1s 9ms/step - loss: 0.5871 - accuracy: 0.7951 - val_loss: 0.6303 - val_accuracy: 0.7757\n",
      "Epoch 47/250\n",
      "75/75 [==============================] - 1s 9ms/step - loss: 0.6188 - accuracy: 0.7715 - val_loss: 0.6546 - val_accuracy: 0.7690\n",
      "Epoch 48/250\n",
      "75/75 [==============================] - 1s 10ms/step - loss: 0.5698 - accuracy: 0.7926 - val_loss: 0.5793 - val_accuracy: 0.7976\n",
      "Epoch 49/250\n",
      "75/75 [==============================] - 1s 12ms/step - loss: 0.5622 - accuracy: 0.8010 - val_loss: 0.6364 - val_accuracy: 0.7858\n",
      "Epoch 50/250\n",
      "75/75 [==============================] - 1s 13ms/step - loss: 0.7360 - accuracy: 0.7234 - val_loss: 0.7640 - val_accuracy: 0.6948\n",
      "Epoch 51/250\n",
      "75/75 [==============================] - 1s 9ms/step - loss: 0.6532 - accuracy: 0.7673 - val_loss: 0.5889 - val_accuracy: 0.7875\n",
      "Epoch 52/250\n",
      "75/75 [==============================] - 1s 9ms/step - loss: 0.5526 - accuracy: 0.8023 - val_loss: 0.6313 - val_accuracy: 0.7707\n",
      "Epoch 53/250\n",
      "75/75 [==============================] - 1s 8ms/step - loss: 0.5921 - accuracy: 0.7825 - val_loss: 0.5351 - val_accuracy: 0.8196\n",
      "Epoch 54/250\n",
      "75/75 [==============================] - 1s 9ms/step - loss: 0.5230 - accuracy: 0.8073 - val_loss: 0.5411 - val_accuracy: 0.8111\n",
      "Epoch 55/250\n",
      "75/75 [==============================] - 1s 9ms/step - loss: 0.5260 - accuracy: 0.8107 - val_loss: 0.5724 - val_accuracy: 0.7707\n",
      "Epoch 56/250\n",
      "75/75 [==============================] - 1s 10ms/step - loss: 0.5002 - accuracy: 0.8158 - val_loss: 0.4768 - val_accuracy: 0.8331\n",
      "Epoch 57/250\n",
      "75/75 [==============================] - 1s 9ms/step - loss: 0.8549 - accuracy: 0.6691 - val_loss: 0.8721 - val_accuracy: 0.6509\n",
      "Epoch 58/250\n",
      "75/75 [==============================] - 1s 9ms/step - loss: 0.7537 - accuracy: 0.7040 - val_loss: 0.6559 - val_accuracy: 0.7639\n",
      "Epoch 59/250\n",
      "75/75 [==============================] - 1s 10ms/step - loss: 0.5626 - accuracy: 0.7858 - val_loss: 0.5852 - val_accuracy: 0.7841\n",
      "Epoch 60/250\n",
      "75/75 [==============================] - 1s 9ms/step - loss: 0.5686 - accuracy: 0.7997 - val_loss: 0.6510 - val_accuracy: 0.8061\n",
      "Epoch 61/250\n",
      "75/75 [==============================] - 1s 9ms/step - loss: 0.6109 - accuracy: 0.7770 - val_loss: 0.6124 - val_accuracy: 0.7723\n",
      "Epoch 62/250\n",
      "75/75 [==============================] - 1s 9ms/step - loss: 0.5604 - accuracy: 0.8031 - val_loss: 0.5228 - val_accuracy: 0.8179\n",
      "Epoch 63/250\n",
      "75/75 [==============================] - 1s 9ms/step - loss: 0.7182 - accuracy: 0.7917 - val_loss: 0.5553 - val_accuracy: 0.7943\n",
      "Epoch 64/250\n",
      "75/75 [==============================] - 1s 9ms/step - loss: 0.6511 - accuracy: 0.7589 - val_loss: 0.5835 - val_accuracy: 0.7960\n",
      "Epoch 65/250\n",
      "75/75 [==============================] - 1s 13ms/step - loss: 0.5358 - accuracy: 0.7981 - val_loss: 0.5029 - val_accuracy: 0.8179\n",
      "Epoch 66/250\n",
      "75/75 [==============================] - 1s 13ms/step - loss: 0.4508 - accuracy: 0.8293 - val_loss: 0.5230 - val_accuracy: 0.8246\n",
      "Epoch 67/250\n",
      "75/75 [==============================] - 1s 9ms/step - loss: 0.4877 - accuracy: 0.8132 - val_loss: 0.6093 - val_accuracy: 0.7639\n",
      "Epoch 68/250\n",
      "75/75 [==============================] - 1s 10ms/step - loss: 0.5085 - accuracy: 0.8040 - val_loss: 0.5596 - val_accuracy: 0.7639\n",
      "Epoch 69/250\n",
      "75/75 [==============================] - 1s 10ms/step - loss: 0.4730 - accuracy: 0.8208 - val_loss: 0.4798 - val_accuracy: 0.8111\n",
      "Epoch 70/250\n",
      "75/75 [==============================] - 1s 9ms/step - loss: 0.4306 - accuracy: 0.8390 - val_loss: 0.5813 - val_accuracy: 0.7943\n",
      "Epoch 71/250\n",
      "75/75 [==============================] - 1s 9ms/step - loss: 0.4176 - accuracy: 0.8356 - val_loss: 0.4171 - val_accuracy: 0.8482\n",
      "Epoch 72/250\n",
      "75/75 [==============================] - 1s 9ms/step - loss: 0.4205 - accuracy: 0.8272 - val_loss: 0.4053 - val_accuracy: 0.8482\n",
      "Epoch 73/250\n",
      "75/75 [==============================] - 1s 10ms/step - loss: 0.4384 - accuracy: 0.8326 - val_loss: 0.5346 - val_accuracy: 0.8196\n",
      "Epoch 74/250\n",
      "75/75 [==============================] - 1s 9ms/step - loss: 0.4082 - accuracy: 0.8373 - val_loss: 0.5478 - val_accuracy: 0.8010\n",
      "Epoch 75/250\n",
      "75/75 [==============================] - 1s 11ms/step - loss: 0.4608 - accuracy: 0.8364 - val_loss: 1.6130 - val_accuracy: 0.8179\n",
      "Epoch 76/250\n",
      "75/75 [==============================] - 1s 10ms/step - loss: 0.4681 - accuracy: 0.8331 - val_loss: 0.4716 - val_accuracy: 0.8229\n",
      "Epoch 77/250\n",
      "75/75 [==============================] - 1s 9ms/step - loss: 0.4468 - accuracy: 0.8280 - val_loss: 0.6122 - val_accuracy: 0.8280\n",
      "Epoch 78/250\n",
      "75/75 [==============================] - 1s 9ms/step - loss: 0.4326 - accuracy: 0.8305 - val_loss: 0.5092 - val_accuracy: 0.8347\n",
      "Epoch 79/250\n",
      "75/75 [==============================] - 1s 9ms/step - loss: 0.3818 - accuracy: 0.8541 - val_loss: 0.4917 - val_accuracy: 0.8094\n",
      "Epoch 80/250\n",
      "75/75 [==============================] - 1s 11ms/step - loss: 0.4760 - accuracy: 0.8056 - val_loss: 0.4424 - val_accuracy: 0.8398\n",
      "Epoch 81/250\n",
      "75/75 [==============================] - 1s 13ms/step - loss: 0.3938 - accuracy: 0.8440 - val_loss: 0.6548 - val_accuracy: 0.7521\n",
      "Epoch 82/250\n",
      "75/75 [==============================] - 1s 13ms/step - loss: 0.3692 - accuracy: 0.8520 - val_loss: 0.4163 - val_accuracy: 0.8415\n",
      "Epoch 83/250\n",
      "75/75 [==============================] - 1s 11ms/step - loss: 0.5199 - accuracy: 0.8078 - val_loss: 0.4683 - val_accuracy: 0.8145\n",
      "Epoch 84/250\n",
      "75/75 [==============================] - 1s 9ms/step - loss: 0.4166 - accuracy: 0.8390 - val_loss: 0.4437 - val_accuracy: 0.8229\n",
      "Epoch 85/250\n",
      "75/75 [==============================] - 1s 9ms/step - loss: 0.3557 - accuracy: 0.8630 - val_loss: 0.3904 - val_accuracy: 0.8499\n",
      "Epoch 86/250\n",
      "75/75 [==============================] - 1s 10ms/step - loss: 0.3384 - accuracy: 0.8697 - val_loss: 0.3545 - val_accuracy: 0.8702\n",
      "Epoch 87/250\n",
      "75/75 [==============================] - 1s 10ms/step - loss: 0.3360 - accuracy: 0.8655 - val_loss: 0.4046 - val_accuracy: 0.8398\n",
      "Epoch 88/250\n",
      "75/75 [==============================] - 1s 9ms/step - loss: 0.3123 - accuracy: 0.8769 - val_loss: 0.3813 - val_accuracy: 0.8449\n",
      "Epoch 89/250\n",
      "75/75 [==============================] - 1s 10ms/step - loss: 0.3542 - accuracy: 0.8550 - val_loss: 0.3805 - val_accuracy: 0.8600\n",
      "Epoch 90/250\n",
      "75/75 [==============================] - 1s 9ms/step - loss: 0.3582 - accuracy: 0.8596 - val_loss: 0.4107 - val_accuracy: 0.8499\n",
      "Epoch 91/250\n",
      "75/75 [==============================] - 1s 9ms/step - loss: 0.3536 - accuracy: 0.8596 - val_loss: 0.3994 - val_accuracy: 0.8516\n",
      "Epoch 92/250\n",
      "75/75 [==============================] - 1s 10ms/step - loss: 0.3718 - accuracy: 0.8592 - val_loss: 0.5602 - val_accuracy: 0.7707\n",
      "Epoch 93/250\n",
      "75/75 [==============================] - 1s 9ms/step - loss: 0.3941 - accuracy: 0.8373 - val_loss: 0.4576 - val_accuracy: 0.8297\n",
      "Epoch 94/250\n",
      "75/75 [==============================] - 1s 9ms/step - loss: 0.3616 - accuracy: 0.8562 - val_loss: 0.3744 - val_accuracy: 0.8465\n",
      "Epoch 95/250\n",
      "75/75 [==============================] - 1s 9ms/step - loss: 0.3993 - accuracy: 0.8571 - val_loss: 0.4784 - val_accuracy: 0.8263\n",
      "Epoch 96/250\n",
      "75/75 [==============================] - 1s 10ms/step - loss: 0.3264 - accuracy: 0.8718 - val_loss: 0.4495 - val_accuracy: 0.8364\n",
      "Epoch 97/250\n",
      "75/75 [==============================] - 1s 12ms/step - loss: 0.3190 - accuracy: 0.8756 - val_loss: 0.3968 - val_accuracy: 0.8415\n",
      "Epoch 98/250\n",
      "75/75 [==============================] - 1s 12ms/step - loss: 0.3126 - accuracy: 0.8752 - val_loss: 0.3506 - val_accuracy: 0.8820\n",
      "Epoch 99/250\n",
      "75/75 [==============================] - 1s 9ms/step - loss: 0.2852 - accuracy: 0.8849 - val_loss: 0.3830 - val_accuracy: 0.8499\n",
      "Epoch 100/250\n",
      "75/75 [==============================] - 1s 9ms/step - loss: 0.3027 - accuracy: 0.8782 - val_loss: 0.4326 - val_accuracy: 0.8533\n",
      "Epoch 101/250\n",
      "75/75 [==============================] - 1s 11ms/step - loss: 0.3245 - accuracy: 0.8739 - val_loss: 0.3665 - val_accuracy: 0.8668\n",
      "Epoch 102/250\n",
      "75/75 [==============================] - 1s 10ms/step - loss: 0.4914 - accuracy: 0.8204 - val_loss: 0.3967 - val_accuracy: 0.8482\n",
      "Epoch 103/250\n",
      "75/75 [==============================] - 1s 9ms/step - loss: 0.3626 - accuracy: 0.8613 - val_loss: 0.4818 - val_accuracy: 0.8196\n",
      "Epoch 104/250\n",
      "75/75 [==============================] - 1s 10ms/step - loss: 0.3314 - accuracy: 0.8668 - val_loss: 0.4610 - val_accuracy: 0.8465\n",
      "Epoch 105/250\n",
      "75/75 [==============================] - 1s 9ms/step - loss: 0.3115 - accuracy: 0.8782 - val_loss: 0.3544 - val_accuracy: 0.8718\n",
      "Epoch 106/250\n",
      "75/75 [==============================] - 1s 9ms/step - loss: 0.2980 - accuracy: 0.8811 - val_loss: 0.4117 - val_accuracy: 0.8516\n",
      "Epoch 107/250\n",
      "75/75 [==============================] - 1s 10ms/step - loss: 0.2865 - accuracy: 0.8841 - val_loss: 0.4453 - val_accuracy: 0.8533\n",
      "Epoch 108/250\n",
      "75/75 [==============================] - 1s 9ms/step - loss: 0.2895 - accuracy: 0.8853 - val_loss: 0.3635 - val_accuracy: 0.8567\n",
      "Epoch 109/250\n",
      "75/75 [==============================] - 1s 9ms/step - loss: 0.2781 - accuracy: 0.8879 - val_loss: 0.3694 - val_accuracy: 0.8735\n",
      "Epoch 110/250\n",
      "75/75 [==============================] - 1s 9ms/step - loss: 0.3015 - accuracy: 0.8845 - val_loss: 0.4714 - val_accuracy: 0.8331\n",
      "Epoch 111/250\n",
      "75/75 [==============================] - 1s 9ms/step - loss: 0.3518 - accuracy: 0.8583 - val_loss: 0.4732 - val_accuracy: 0.8314\n",
      "Epoch 112/250\n",
      "75/75 [==============================] - 1s 10ms/step - loss: 0.3634 - accuracy: 0.8575 - val_loss: 0.4792 - val_accuracy: 0.8516\n",
      "Epoch 113/250\n",
      "75/75 [==============================] - 1s 12ms/step - loss: 0.3062 - accuracy: 0.8853 - val_loss: 0.3740 - val_accuracy: 0.8550\n",
      "Epoch 114/250\n",
      "75/75 [==============================] - 1s 11ms/step - loss: 0.3335 - accuracy: 0.8718 - val_loss: 0.4226 - val_accuracy: 0.8449\n",
      "Epoch 115/250\n",
      "75/75 [==============================] - 1s 9ms/step - loss: 0.3092 - accuracy: 0.8748 - val_loss: 0.4718 - val_accuracy: 0.8364\n",
      "Epoch 116/250\n",
      "75/75 [==============================] - 1s 9ms/step - loss: 0.7483 - accuracy: 0.8280 - val_loss: 0.4355 - val_accuracy: 0.8415\n",
      "Epoch 117/250\n",
      "75/75 [==============================] - 1s 9ms/step - loss: 0.3560 - accuracy: 0.8596 - val_loss: 0.3498 - val_accuracy: 0.8600\n",
      "Epoch 118/250\n",
      "75/75 [==============================] - 1s 9ms/step - loss: 0.3032 - accuracy: 0.8815 - val_loss: 0.4098 - val_accuracy: 0.8381\n",
      "Epoch 119/250\n",
      "75/75 [==============================] - 1s 9ms/step - loss: 0.2843 - accuracy: 0.8891 - val_loss: 0.4416 - val_accuracy: 0.8381\n",
      "Epoch 120/250\n",
      "75/75 [==============================] - 1s 9ms/step - loss: 0.3261 - accuracy: 0.8664 - val_loss: 0.4847 - val_accuracy: 0.8314\n",
      "Epoch 121/250\n",
      "75/75 [==============================] - 1s 9ms/step - loss: 0.3197 - accuracy: 0.8744 - val_loss: 0.4815 - val_accuracy: 0.8314\n",
      "Epoch 122/250\n",
      "75/75 [==============================] - 1s 9ms/step - loss: 0.3029 - accuracy: 0.8798 - val_loss: 0.4258 - val_accuracy: 0.8398\n",
      "Epoch 123/250\n",
      "75/75 [==============================] - 1s 9ms/step - loss: 0.3196 - accuracy: 0.8744 - val_loss: 0.3956 - val_accuracy: 0.8516\n",
      "Epoch 124/250\n",
      "75/75 [==============================] - 1s 9ms/step - loss: 0.3139 - accuracy: 0.8744 - val_loss: 0.3330 - val_accuracy: 0.8853\n",
      "Epoch 125/250\n",
      "75/75 [==============================] - 1s 9ms/step - loss: 0.2831 - accuracy: 0.8820 - val_loss: 0.3073 - val_accuracy: 0.8921\n",
      "Epoch 126/250\n",
      "75/75 [==============================] - 1s 9ms/step - loss: 0.2685 - accuracy: 0.8900 - val_loss: 0.3419 - val_accuracy: 0.8820\n",
      "Epoch 127/250\n",
      "75/75 [==============================] - 1s 9ms/step - loss: 0.2425 - accuracy: 0.8992 - val_loss: 0.3729 - val_accuracy: 0.8651\n",
      "Epoch 128/250\n",
      "75/75 [==============================] - 1s 9ms/step - loss: 0.2434 - accuracy: 0.9009 - val_loss: 0.3430 - val_accuracy: 0.8769\n",
      "Epoch 129/250\n",
      "75/75 [==============================] - 1s 13ms/step - loss: 0.2979 - accuracy: 0.8824 - val_loss: 0.3472 - val_accuracy: 0.8718\n",
      "Epoch 130/250\n",
      "75/75 [==============================] - 1s 12ms/step - loss: 0.2508 - accuracy: 0.9035 - val_loss: 0.4370 - val_accuracy: 0.8583\n",
      "Epoch 131/250\n",
      "75/75 [==============================] - 1s 11ms/step - loss: 0.2551 - accuracy: 0.9005 - val_loss: 0.4235 - val_accuracy: 0.8600\n",
      "Epoch 132/250\n",
      "75/75 [==============================] - 1s 10ms/step - loss: 0.3148 - accuracy: 0.8752 - val_loss: 0.3641 - val_accuracy: 0.8702\n",
      "Epoch 133/250\n",
      "75/75 [==============================] - 1s 10ms/step - loss: 0.2495 - accuracy: 0.9056 - val_loss: 0.3045 - val_accuracy: 0.8887\n",
      "Epoch 134/250\n",
      "75/75 [==============================] - 1s 9ms/step - loss: 0.2576 - accuracy: 0.8925 - val_loss: 0.3334 - val_accuracy: 0.8820\n",
      "Epoch 135/250\n",
      "75/75 [==============================] - 1s 10ms/step - loss: 0.3283 - accuracy: 0.8748 - val_loss: 0.3799 - val_accuracy: 0.8550\n",
      "Epoch 136/250\n",
      "75/75 [==============================] - 1s 9ms/step - loss: 0.2387 - accuracy: 0.8984 - val_loss: 0.3422 - val_accuracy: 0.8735\n",
      "Epoch 137/250\n",
      "75/75 [==============================] - 1s 9ms/step - loss: 0.2276 - accuracy: 0.9119 - val_loss: 0.3274 - val_accuracy: 0.8870\n",
      "Epoch 138/250\n",
      "75/75 [==============================] - 1s 10ms/step - loss: 0.2577 - accuracy: 0.8900 - val_loss: 0.4133 - val_accuracy: 0.8533\n",
      "Epoch 139/250\n",
      "75/75 [==============================] - 1s 9ms/step - loss: 0.2283 - accuracy: 0.9081 - val_loss: 0.3696 - val_accuracy: 0.8735\n",
      "Epoch 140/250\n",
      "75/75 [==============================] - 1s 9ms/step - loss: 0.2974 - accuracy: 0.8832 - val_loss: 0.3285 - val_accuracy: 0.8769\n",
      "Epoch 141/250\n",
      "75/75 [==============================] - 1s 10ms/step - loss: 0.2226 - accuracy: 0.9047 - val_loss: 0.3655 - val_accuracy: 0.8685\n",
      "Epoch 142/250\n",
      "75/75 [==============================] - 1s 9ms/step - loss: 0.2427 - accuracy: 0.9001 - val_loss: 0.3032 - val_accuracy: 0.8971\n",
      "Epoch 143/250\n",
      "75/75 [==============================] - 1s 10ms/step - loss: 0.2206 - accuracy: 0.9047 - val_loss: 0.3291 - val_accuracy: 0.8820\n",
      "Epoch 144/250\n",
      "75/75 [==============================] - 1s 10ms/step - loss: 0.2510 - accuracy: 0.9005 - val_loss: 0.3302 - val_accuracy: 0.8921\n",
      "Epoch 145/250\n",
      "75/75 [==============================] - 1s 12ms/step - loss: 0.2678 - accuracy: 0.8963 - val_loss: 0.3955 - val_accuracy: 0.8516\n",
      "Epoch 146/250\n",
      "75/75 [==============================] - 1s 14ms/step - loss: 0.2446 - accuracy: 0.9039 - val_loss: 0.3548 - val_accuracy: 0.8702\n",
      "Epoch 147/250\n",
      "75/75 [==============================] - 1s 11ms/step - loss: 0.2529 - accuracy: 0.9035 - val_loss: 0.3449 - val_accuracy: 0.8887\n",
      "Epoch 148/250\n",
      "75/75 [==============================] - 1s 10ms/step - loss: 0.2179 - accuracy: 0.9153 - val_loss: 0.4191 - val_accuracy: 0.8567\n",
      "Epoch 149/250\n",
      "75/75 [==============================] - 1s 9ms/step - loss: 0.3064 - accuracy: 0.8790 - val_loss: 0.4461 - val_accuracy: 0.8516\n",
      "Epoch 150/250\n",
      "75/75 [==============================] - 1s 9ms/step - loss: 0.2874 - accuracy: 0.8904 - val_loss: 0.3746 - val_accuracy: 0.8634\n",
      "Epoch 151/250\n",
      "75/75 [==============================] - 1s 9ms/step - loss: 0.2678 - accuracy: 0.8971 - val_loss: 0.3643 - val_accuracy: 0.8735\n",
      "Epoch 152/250\n",
      "75/75 [==============================] - 1s 9ms/step - loss: 0.2126 - accuracy: 0.9148 - val_loss: 0.3362 - val_accuracy: 0.8853\n",
      "Epoch 153/250\n",
      "75/75 [==============================] - 1s 10ms/step - loss: 0.1925 - accuracy: 0.9212 - val_loss: 0.9956 - val_accuracy: 0.7943\n",
      "Epoch 154/250\n",
      "75/75 [==============================] - 1s 9ms/step - loss: 0.4684 - accuracy: 0.8432 - val_loss: 1.0304 - val_accuracy: 0.8162\n",
      "Epoch 155/250\n",
      "75/75 [==============================] - 1s 9ms/step - loss: 0.3871 - accuracy: 0.8702 - val_loss: 0.4862 - val_accuracy: 0.8583\n",
      "Epoch 156/250\n",
      "75/75 [==============================] - 1s 10ms/step - loss: 0.3487 - accuracy: 0.8756 - val_loss: 0.4310 - val_accuracy: 0.8735\n",
      "Epoch 157/250\n",
      "75/75 [==============================] - 1s 10ms/step - loss: 0.2533 - accuracy: 0.8954 - val_loss: 0.3151 - val_accuracy: 0.8820\n",
      "Epoch 158/250\n",
      "75/75 [==============================] - 1s 9ms/step - loss: 0.2146 - accuracy: 0.9056 - val_loss: 0.3606 - val_accuracy: 0.8971\n",
      "Epoch 159/250\n",
      "75/75 [==============================] - 1s 9ms/step - loss: 0.3050 - accuracy: 0.8849 - val_loss: 0.5846 - val_accuracy: 0.8061\n",
      "Epoch 160/250\n",
      "75/75 [==============================] - 1s 10ms/step - loss: 0.2672 - accuracy: 0.8912 - val_loss: 0.3475 - val_accuracy: 0.8820\n",
      "Epoch 161/250\n",
      "75/75 [==============================] - 1s 11ms/step - loss: 0.2112 - accuracy: 0.9140 - val_loss: 0.4586 - val_accuracy: 0.8617\n",
      "Epoch 162/250\n",
      "75/75 [==============================] - 1s 13ms/step - loss: 0.2216 - accuracy: 0.9098 - val_loss: 0.3579 - val_accuracy: 0.8803\n",
      "Epoch 163/250\n",
      "75/75 [==============================] - 1s 11ms/step - loss: 0.1942 - accuracy: 0.9203 - val_loss: 0.3750 - val_accuracy: 0.8668\n",
      "Epoch 164/250\n",
      "75/75 [==============================] - 1s 10ms/step - loss: 0.2413 - accuracy: 0.9056 - val_loss: 0.3474 - val_accuracy: 0.8904\n",
      "Epoch 165/250\n",
      "75/75 [==============================] - 1s 10ms/step - loss: 0.3059 - accuracy: 0.8782 - val_loss: 0.4217 - val_accuracy: 0.8449\n",
      "Epoch 166/250\n",
      "75/75 [==============================] - 1s 9ms/step - loss: 0.2187 - accuracy: 0.9136 - val_loss: 0.3258 - val_accuracy: 0.8971\n",
      "Epoch 167/250\n",
      "75/75 [==============================] - 1s 10ms/step - loss: 0.2091 - accuracy: 0.9203 - val_loss: 0.3961 - val_accuracy: 0.8887\n",
      "Epoch 168/250\n",
      "75/75 [==============================] - 1s 9ms/step - loss: 0.2935 - accuracy: 0.8874 - val_loss: 0.4218 - val_accuracy: 0.8600\n",
      "Epoch 169/250\n",
      "75/75 [==============================] - 1s 9ms/step - loss: 0.2408 - accuracy: 0.9022 - val_loss: 0.3363 - val_accuracy: 0.8954\n",
      "Epoch 170/250\n",
      "75/75 [==============================] - 1s 9ms/step - loss: 0.1835 - accuracy: 0.9271 - val_loss: 0.6096 - val_accuracy: 0.8263\n",
      "Epoch 171/250\n",
      "75/75 [==============================] - 1s 10ms/step - loss: 0.3236 - accuracy: 0.8815 - val_loss: 0.3574 - val_accuracy: 0.8870\n",
      "Epoch 172/250\n",
      "75/75 [==============================] - 1s 9ms/step - loss: 0.2031 - accuracy: 0.9123 - val_loss: 0.3046 - val_accuracy: 0.8988\n",
      "Epoch 173/250\n",
      "75/75 [==============================] - 1s 9ms/step - loss: 0.2140 - accuracy: 0.9174 - val_loss: 0.3643 - val_accuracy: 0.8702\n",
      "Epoch 174/250\n",
      "75/75 [==============================] - 1s 9ms/step - loss: 0.2087 - accuracy: 0.9089 - val_loss: 0.3560 - val_accuracy: 0.8836\n",
      "Epoch 175/250\n",
      "75/75 [==============================] - 1s 10ms/step - loss: 0.1779 - accuracy: 0.9279 - val_loss: 0.4190 - val_accuracy: 0.8769\n",
      "Epoch 176/250\n",
      "75/75 [==============================] - 1s 9ms/step - loss: 0.1935 - accuracy: 0.9199 - val_loss: 0.3516 - val_accuracy: 0.8820\n",
      "Epoch 177/250\n",
      "75/75 [==============================] - 1s 11ms/step - loss: 0.1961 - accuracy: 0.9161 - val_loss: 0.3551 - val_accuracy: 0.8803\n",
      "Epoch 178/250\n",
      "75/75 [==============================] - 1s 12ms/step - loss: 0.1918 - accuracy: 0.9174 - val_loss: 0.3324 - val_accuracy: 0.9022\n",
      "Epoch 179/250\n",
      "75/75 [==============================] - 1s 11ms/step - loss: 0.1801 - accuracy: 0.9258 - val_loss: 0.3972 - val_accuracy: 0.8938\n",
      "Epoch 180/250\n",
      "75/75 [==============================] - 1s 10ms/step - loss: 0.1760 - accuracy: 0.9288 - val_loss: 0.3855 - val_accuracy: 0.8904\n",
      "Epoch 181/250\n",
      "75/75 [==============================] - 1s 13ms/step - loss: 0.1960 - accuracy: 0.9140 - val_loss: 0.3810 - val_accuracy: 0.8921\n",
      "Epoch 182/250\n",
      "75/75 [==============================] - 1s 13ms/step - loss: 0.2748 - accuracy: 0.8929 - val_loss: 0.3781 - val_accuracy: 0.8752\n",
      "Epoch 183/250\n",
      "75/75 [==============================] - 1s 10ms/step - loss: 0.2261 - accuracy: 0.9043 - val_loss: 0.4957 - val_accuracy: 0.8685\n",
      "Epoch 184/250\n",
      "75/75 [==============================] - 1s 9ms/step - loss: 0.2668 - accuracy: 0.8976 - val_loss: 0.4392 - val_accuracy: 0.8769\n",
      "Epoch 185/250\n",
      "75/75 [==============================] - 1s 10ms/step - loss: 0.2231 - accuracy: 0.9169 - val_loss: 0.3239 - val_accuracy: 0.8971\n",
      "Epoch 186/250\n",
      "75/75 [==============================] - 1s 10ms/step - loss: 0.2132 - accuracy: 0.9073 - val_loss: 0.3715 - val_accuracy: 0.8921\n",
      "Epoch 187/250\n",
      "75/75 [==============================] - 1s 10ms/step - loss: 0.2062 - accuracy: 0.9169 - val_loss: 0.4107 - val_accuracy: 0.8651\n",
      "Epoch 188/250\n",
      "75/75 [==============================] - 1s 11ms/step - loss: 0.1943 - accuracy: 0.9228 - val_loss: 0.3787 - val_accuracy: 0.8718\n",
      "Epoch 189/250\n",
      "75/75 [==============================] - 1s 9ms/step - loss: 0.2067 - accuracy: 0.9174 - val_loss: 0.4022 - val_accuracy: 0.8786\n",
      "Epoch 190/250\n",
      "75/75 [==============================] - 1s 9ms/step - loss: 0.1760 - accuracy: 0.9296 - val_loss: 0.3870 - val_accuracy: 0.8887\n",
      "Epoch 191/250\n",
      "75/75 [==============================] - 1s 9ms/step - loss: 0.1868 - accuracy: 0.9212 - val_loss: 0.3402 - val_accuracy: 0.9039\n",
      "Epoch 192/250\n",
      "75/75 [==============================] - 1s 12ms/step - loss: 0.1919 - accuracy: 0.9140 - val_loss: 0.4100 - val_accuracy: 0.8904\n",
      "Epoch 193/250\n",
      "75/75 [==============================] - 1s 14ms/step - loss: 0.1721 - accuracy: 0.9283 - val_loss: 0.3866 - val_accuracy: 0.8786\n",
      "Epoch 194/250\n",
      "75/75 [==============================] - 1s 10ms/step - loss: 0.2974 - accuracy: 0.9085 - val_loss: 0.8647 - val_accuracy: 0.8482\n",
      "Epoch 195/250\n",
      "75/75 [==============================] - 1s 9ms/step - loss: 0.3011 - accuracy: 0.8807 - val_loss: 0.3975 - val_accuracy: 0.8769\n",
      "Epoch 196/250\n",
      "75/75 [==============================] - 1s 11ms/step - loss: 0.2015 - accuracy: 0.9203 - val_loss: 0.4574 - val_accuracy: 0.8904\n",
      "Epoch 197/250\n",
      "75/75 [==============================] - 1s 9ms/step - loss: 0.1614 - accuracy: 0.9309 - val_loss: 0.4069 - val_accuracy: 0.9022\n",
      "Epoch 198/250\n",
      "75/75 [==============================] - 1s 9ms/step - loss: 0.1840 - accuracy: 0.9178 - val_loss: 0.4734 - val_accuracy: 0.9039\n",
      "Epoch 199/250\n",
      "75/75 [==============================] - 1s 9ms/step - loss: 0.1906 - accuracy: 0.9207 - val_loss: 0.5898 - val_accuracy: 0.8617\n",
      "Epoch 200/250\n",
      "75/75 [==============================] - 1s 9ms/step - loss: 0.1766 - accuracy: 0.9279 - val_loss: 0.5699 - val_accuracy: 0.8887\n",
      "Epoch 201/250\n",
      "75/75 [==============================] - 1s 9ms/step - loss: 0.2810 - accuracy: 0.9169 - val_loss: 0.8128 - val_accuracy: 0.8769\n",
      "Epoch 202/250\n",
      "75/75 [==============================] - 1s 10ms/step - loss: 0.1914 - accuracy: 0.9224 - val_loss: 0.5157 - val_accuracy: 0.8820\n",
      "Epoch 203/250\n",
      "75/75 [==============================] - 1s 9ms/step - loss: 0.1976 - accuracy: 0.9266 - val_loss: 0.5014 - val_accuracy: 0.8735\n",
      "Epoch 204/250\n",
      "75/75 [==============================] - 1s 11ms/step - loss: 0.1874 - accuracy: 0.9195 - val_loss: 0.3533 - val_accuracy: 0.9039\n",
      "Epoch 205/250\n",
      "75/75 [==============================] - 1s 9ms/step - loss: 0.1519 - accuracy: 0.9393 - val_loss: 0.3887 - val_accuracy: 0.8954\n",
      "Epoch 206/250\n",
      "75/75 [==============================] - 1s 10ms/step - loss: 0.1945 - accuracy: 0.9165 - val_loss: 0.3944 - val_accuracy: 0.8988\n",
      "Epoch 207/250\n",
      "75/75 [==============================] - 1s 9ms/step - loss: 0.1709 - accuracy: 0.9228 - val_loss: 0.4074 - val_accuracy: 0.8971\n",
      "Epoch 208/250\n",
      "75/75 [==============================] - 1s 13ms/step - loss: 0.1488 - accuracy: 0.9334 - val_loss: 0.3425 - val_accuracy: 0.9089\n",
      "Epoch 209/250\n",
      "75/75 [==============================] - 1s 13ms/step - loss: 0.1675 - accuracy: 0.9262 - val_loss: 0.5247 - val_accuracy: 0.8938\n",
      "Epoch 210/250\n",
      "75/75 [==============================] - 1s 9ms/step - loss: 0.3053 - accuracy: 0.8938 - val_loss: 0.3715 - val_accuracy: 0.8718\n",
      "Epoch 211/250\n",
      "75/75 [==============================] - 1s 10ms/step - loss: 0.2592 - accuracy: 0.8908 - val_loss: 0.4303 - val_accuracy: 0.8870\n",
      "Epoch 212/250\n",
      "75/75 [==============================] - 1s 9ms/step - loss: 0.2094 - accuracy: 0.9123 - val_loss: 0.4702 - val_accuracy: 0.8853\n",
      "Epoch 213/250\n",
      "75/75 [==============================] - 1s 9ms/step - loss: 0.1769 - accuracy: 0.9220 - val_loss: 0.4737 - val_accuracy: 0.8954\n",
      "Epoch 214/250\n",
      "75/75 [==============================] - 1s 10ms/step - loss: 0.1760 - accuracy: 0.9233 - val_loss: 0.3910 - val_accuracy: 0.8971\n",
      "Epoch 215/250\n",
      "75/75 [==============================] - 1s 10ms/step - loss: 0.1564 - accuracy: 0.9342 - val_loss: 0.4271 - val_accuracy: 0.8971\n",
      "Epoch 216/250\n",
      "75/75 [==============================] - 1s 10ms/step - loss: 0.1483 - accuracy: 0.9376 - val_loss: 0.5779 - val_accuracy: 0.8567\n",
      "Epoch 217/250\n",
      "75/75 [==============================] - 1s 10ms/step - loss: 0.2095 - accuracy: 0.9153 - val_loss: 0.4808 - val_accuracy: 0.8735\n",
      "Epoch 218/250\n",
      "75/75 [==============================] - 1s 9ms/step - loss: 0.1640 - accuracy: 0.9292 - val_loss: 0.3675 - val_accuracy: 0.8971\n",
      "Epoch 219/250\n",
      "75/75 [==============================] - 1s 11ms/step - loss: 0.1380 - accuracy: 0.9414 - val_loss: 0.4639 - val_accuracy: 0.9039\n",
      "Epoch 220/250\n",
      "75/75 [==============================] - 1s 9ms/step - loss: 0.1640 - accuracy: 0.9359 - val_loss: 0.6750 - val_accuracy: 0.8735\n",
      "Epoch 221/250\n",
      "75/75 [==============================] - 1s 10ms/step - loss: 0.1961 - accuracy: 0.9245 - val_loss: 0.4878 - val_accuracy: 0.8988\n",
      "Epoch 222/250\n",
      "75/75 [==============================] - 1s 10ms/step - loss: 0.1416 - accuracy: 0.9397 - val_loss: 0.4590 - val_accuracy: 0.8887\n",
      "Epoch 223/250\n",
      "75/75 [==============================] - 1s 13ms/step - loss: 0.2098 - accuracy: 0.9140 - val_loss: 0.4325 - val_accuracy: 0.8836\n",
      "Epoch 224/250\n",
      "75/75 [==============================] - 1s 12ms/step - loss: 0.2046 - accuracy: 0.9212 - val_loss: 0.3903 - val_accuracy: 0.8786\n",
      "Epoch 225/250\n",
      "75/75 [==============================] - 1s 11ms/step - loss: 0.1583 - accuracy: 0.9351 - val_loss: 0.4270 - val_accuracy: 0.8938\n",
      "Epoch 226/250\n",
      "75/75 [==============================] - 1s 11ms/step - loss: 0.1494 - accuracy: 0.9397 - val_loss: 0.4413 - val_accuracy: 0.8887\n",
      "Epoch 227/250\n",
      "75/75 [==============================] - 1s 9ms/step - loss: 0.1484 - accuracy: 0.9355 - val_loss: 0.4042 - val_accuracy: 0.8820\n",
      "Epoch 228/250\n",
      "75/75 [==============================] - 1s 10ms/step - loss: 0.1862 - accuracy: 0.9325 - val_loss: 0.6482 - val_accuracy: 0.8432\n",
      "Epoch 229/250\n",
      "75/75 [==============================] - 1s 10ms/step - loss: 0.1513 - accuracy: 0.9342 - val_loss: 0.4365 - val_accuracy: 0.8971\n",
      "Epoch 230/250\n",
      "75/75 [==============================] - 1s 9ms/step - loss: 0.1434 - accuracy: 0.9406 - val_loss: 0.4980 - val_accuracy: 0.8803\n",
      "Epoch 231/250\n",
      "75/75 [==============================] - 1s 9ms/step - loss: 0.1417 - accuracy: 0.9431 - val_loss: 0.3773 - val_accuracy: 0.9022\n",
      "Epoch 232/250\n",
      "75/75 [==============================] - 1s 10ms/step - loss: 0.1419 - accuracy: 0.9431 - val_loss: 0.4613 - val_accuracy: 0.9039\n",
      "Epoch 233/250\n",
      "75/75 [==============================] - 1s 9ms/step - loss: 0.1388 - accuracy: 0.9439 - val_loss: 0.4059 - val_accuracy: 0.8988\n",
      "Epoch 234/250\n",
      "75/75 [==============================] - 1s 10ms/step - loss: 0.2152 - accuracy: 0.9127 - val_loss: 0.3721 - val_accuracy: 0.8954\n",
      "Epoch 235/250\n",
      "75/75 [==============================] - 1s 9ms/step - loss: 0.1669 - accuracy: 0.9372 - val_loss: 0.4244 - val_accuracy: 0.9022\n",
      "Epoch 236/250\n",
      "75/75 [==============================] - 1s 11ms/step - loss: 0.1314 - accuracy: 0.9456 - val_loss: 0.3572 - val_accuracy: 0.9022\n",
      "Epoch 237/250\n",
      "75/75 [==============================] - 1s 9ms/step - loss: 0.1609 - accuracy: 0.9317 - val_loss: 0.5485 - val_accuracy: 0.9039\n",
      "Epoch 238/250\n",
      "75/75 [==============================] - 1s 9ms/step - loss: 0.1472 - accuracy: 0.9376 - val_loss: 0.3695 - val_accuracy: 0.8988\n",
      "Epoch 239/250\n",
      "75/75 [==============================] - 1s 14ms/step - loss: 0.1251 - accuracy: 0.9486 - val_loss: 0.4783 - val_accuracy: 0.8904\n",
      "Epoch 240/250\n",
      "75/75 [==============================] - 1s 13ms/step - loss: 0.1201 - accuracy: 0.9524 - val_loss: 0.5543 - val_accuracy: 0.8550\n",
      "Epoch 241/250\n",
      "75/75 [==============================] - 1s 10ms/step - loss: 0.1477 - accuracy: 0.9380 - val_loss: 0.5586 - val_accuracy: 0.8870\n",
      "Epoch 242/250\n",
      "75/75 [==============================] - 1s 11ms/step - loss: 0.1421 - accuracy: 0.9414 - val_loss: 0.4838 - val_accuracy: 0.8836\n",
      "Epoch 243/250\n",
      "75/75 [==============================] - 1s 10ms/step - loss: 0.1468 - accuracy: 0.9406 - val_loss: 0.4195 - val_accuracy: 0.9039\n",
      "Epoch 244/250\n",
      "75/75 [==============================] - 1s 9ms/step - loss: 0.1708 - accuracy: 0.9296 - val_loss: 0.5240 - val_accuracy: 0.8685\n",
      "Epoch 245/250\n",
      "75/75 [==============================] - 1s 9ms/step - loss: 0.1588 - accuracy: 0.9380 - val_loss: 0.4082 - val_accuracy: 0.9089\n",
      "Epoch 246/250\n",
      "75/75 [==============================] - 1s 9ms/step - loss: 0.1666 - accuracy: 0.9347 - val_loss: 0.3972 - val_accuracy: 0.8988\n",
      "Epoch 247/250\n",
      "75/75 [==============================] - 1s 10ms/step - loss: 0.1828 - accuracy: 0.9237 - val_loss: 0.3571 - val_accuracy: 0.9056\n",
      "Epoch 248/250\n",
      "75/75 [==============================] - 1s 10ms/step - loss: 0.1431 - accuracy: 0.9384 - val_loss: 0.5328 - val_accuracy: 0.8938\n",
      "Epoch 249/250\n",
      "75/75 [==============================] - 1s 10ms/step - loss: 0.1227 - accuracy: 0.9452 - val_loss: 0.5971 - val_accuracy: 0.8870\n",
      "Epoch 250/250\n",
      "75/75 [==============================] - 1s 10ms/step - loss: 0.1441 - accuracy: 0.9414 - val_loss: 0.3862 - val_accuracy: 0.9224\n",
      "[0.26180437207221985, 0.2816188931465149, 0.3111298382282257, 0.38532882928848267, 0.4118886888027191, 0.44730186462402344, 0.4839797616004944, 0.4658516049385071, 0.47133222222328186, 0.49367621541023254, 0.45657673478126526, 0.4742833077907562, 0.49283304810523987, 0.524030327796936, 0.5387858152389526, 0.5522765517234802, 0.5779932737350464, 0.5737773776054382, 0.5872681140899658, 0.6172006726264954, 0.6045531034469604, 0.6618887186050415, 0.6496627330780029, 0.6576728224754333, 0.6715851426124573, 0.6812816262245178, 0.6694772243499756, 0.6926644444465637, 0.7099494338035583, 0.6720067262649536, 0.7091062664985657, 0.6846542954444885, 0.7103710174560547, 0.6517706513404846, 0.6403878331184387, 0.7145868539810181, 0.7394603490829468, 0.744940996170044, 0.6526138186454773, 0.7124789357185364, 0.7457841634750366, 0.7403035163879395, 0.7601180672645569, 0.7744519114494324, 0.7731871604919434, 0.7951096296310425, 0.771500825881958, 0.7925801277160645, 0.8010118007659912, 0.7234401106834412, 0.7672849893569946, 0.8022765517234802, 0.7824620604515076, 0.8073355555534363, 0.8107082843780518, 0.8157672882080078, 0.6690556406974792, 0.7040472030639648, 0.7858347296714783, 0.7997470498085022, 0.7769814729690552, 0.8031197190284729, 0.7917369604110718, 0.7588533163070679, 0.7980607151985168, 0.8292580246925354, 0.8132377862930298, 0.8039628863334656, 0.8208262920379639, 0.8389544486999512, 0.8355817794799805, 0.8271501064300537, 0.8326306939125061, 0.8372681140899658, 0.8364249467849731, 0.8330522775650024, 0.8279932737350464, 0.8305227756500244, 0.8541315197944641, 0.8056492209434509, 0.844013512134552, 0.8520236015319824, 0.8077571392059326, 0.8389544486999512, 0.862984836101532, 0.8697301745414734, 0.86551433801651, 0.8768971562385559, 0.8549746870994568, 0.8596121668815613, 0.8596121668815613, 0.8591905832290649, 0.8372681140899658, 0.8562394380569458, 0.8570826053619385, 0.8718380928039551, 0.8756324052810669, 0.8752108216285706, 0.8849072456359863, 0.8781619071960449, 0.8739460110664368, 0.8204047083854675, 0.8612985014915466, 0.866779088973999, 0.8781619071960449, 0.8811129927635193, 0.8840640783309937, 0.8853288292884827, 0.8878583312034607, 0.88448566198349, 0.8583474159240723, 0.8575041890144348, 0.8853288292884827, 0.8718380928039551, 0.8747891783714294, 0.8279932737350464, 0.8596121668815613, 0.8815345764160156, 0.8891230821609497, 0.8663575053215027, 0.8743675947189331, 0.8798482418060303, 0.8743675947189331, 0.8743675947189331, 0.881956160068512, 0.8899662494659424, 0.8992411494255066, 0.9009274840354919, 0.8823777437210083, 0.90345698595047, 0.9005059003829956, 0.8752108216285706, 0.9055649042129517, 0.8924958109855652, 0.8747891783714294, 0.8983979821205139, 0.9118887186050415, 0.8899662494659424, 0.9080944061279297, 0.883220911026001, 0.904721736907959, 0.9000843167304993, 0.904721736907959, 0.9005059003829956, 0.8962900638580322, 0.9038785696029663, 0.90345698595047, 0.9152613878250122, 0.8790050745010376, 0.8903878331184387, 0.8971332311630249, 0.9148398041725159, 0.9211635589599609, 0.8431703448295593, 0.8701517581939697, 0.8756324052810669, 0.8954468965530396, 0.9055649042129517, 0.8849072456359863, 0.8912310004234314, 0.9139966368675232, 0.9097808003425598, 0.9203203916549683, 0.9055649042129517, 0.8781619071960449, 0.9135750532150269, 0.9203203916549683, 0.8874367475509644, 0.902192234992981, 0.9270657896995544, 0.8815345764160156, 0.9123103022575378, 0.9173693060874939, 0.9089376330375671, 0.9279089570045471, 0.9198988080024719, 0.9161045551300049, 0.9173693060874939, 0.9258010387420654, 0.9287521243095398, 0.9139966368675232, 0.8929173946380615, 0.9043001532554626, 0.8975548148155212, 0.9169477224349976, 0.907251238822937, 0.9169477224349976, 0.9228498935699463, 0.9173693060874939, 0.9295952916145325, 0.9211635589599609, 0.9139966368675232, 0.9283305406570435, 0.9085160493850708, 0.880691409111023, 0.9203203916549683, 0.9308600425720215, 0.9177908897399902, 0.9207419753074646, 0.9279089570045471, 0.9169477224349976, 0.92242830991745, 0.9266442060470581, 0.9194772243499756, 0.9392917156219482, 0.9165261387825012, 0.9228498935699463, 0.9333895444869995, 0.9262226223945618, 0.8937605619430542, 0.8908094167709351, 0.9123103022575378, 0.9220067262649536, 0.9232714772224426, 0.9342327117919922, 0.9376053810119629, 0.9152613878250122, 0.9291737079620361, 0.9413996338844299, 0.9359190464019775, 0.9245362281799316, 0.9397132992744446, 0.9139966368675232, 0.9211635589599609, 0.9350758790969849, 0.9397132992744446, 0.9354974627494812, 0.9325463771820068, 0.9342327117919922, 0.9405564665794373, 0.9430860280990601, 0.9430860280990601, 0.9439291954040527, 0.9127318859100342, 0.9371837973594666, 0.9456155300140381, 0.9317032098770142, 0.9376053810119629, 0.9485666155815125, 0.9523608684539795, 0.9380269646644592, 0.9413996338844299, 0.9405564665794373, 0.9295952916145325, 0.9380269646644592, 0.9346542954444885, 0.923693060874939, 0.9384485483169556, 0.9451939463615417, 0.9413996338844299]\n",
      "[17.235624313354492, 3.7748184204101562, 2.2148118019104004, 1.442869782447815, 1.323386788368225, 1.2224335670471191, 1.1693978309631348, 1.4783693552017212, 1.3052666187286377, 1.1776057481765747, 1.8512169122695923, 1.377968430519104, 1.1474928855895996, 1.0117288827896118, 0.974154531955719, 0.9413755536079407, 0.9152316451072693, 0.9153098464012146, 0.8998489379882812, 0.8786674737930298, 0.9096444845199585, 0.8552210330963135, 0.8637691140174866, 0.8612934350967407, 0.8178863525390625, 0.8060479760169983, 0.8238825798034668, 0.7929040789604187, 0.7728363871574402, 0.8401670455932617, 0.7424895763397217, 0.8876450657844543, 0.7966445684432983, 0.8939869999885559, 0.8655964732170105, 0.7431024312973022, 0.7002360820770264, 0.680209755897522, 0.8919416069984436, 0.749198317527771, 0.6903794407844543, 0.6917556524276733, 0.6454827189445496, 0.6103734374046326, 0.6049928069114685, 0.5870604515075684, 0.6188226342201233, 0.569848895072937, 0.562198281288147, 0.7359621524810791, 0.653217077255249, 0.5526097416877747, 0.5920626521110535, 0.5230426788330078, 0.5259928703308105, 0.5002214908599854, 0.8549085855484009, 0.7536522150039673, 0.562584400177002, 0.568576991558075, 0.6109361052513123, 0.5603741407394409, 0.7182310819625854, 0.6510637998580933, 0.5357838273048401, 0.45083892345428467, 0.4876624047756195, 0.5084901452064514, 0.47302690148353577, 0.430594265460968, 0.4175932705402374, 0.4204834997653961, 0.4384087324142456, 0.40823960304260254, 0.460819810628891, 0.4680582284927368, 0.44677308201789856, 0.4325680434703827, 0.3818435072898865, 0.4759940505027771, 0.39377298951148987, 0.369235098361969, 0.5199416875839233, 0.4166380763053894, 0.3556932508945465, 0.3384157121181488, 0.3359659016132355, 0.3122512698173523, 0.3542316257953644, 0.358194500207901, 0.3536103665828705, 0.3717709183692932, 0.394070029258728, 0.36161938309669495, 0.3992670178413391, 0.3264337182044983, 0.3189750909805298, 0.3125896453857422, 0.2852203845977783, 0.30270493030548096, 0.3244783878326416, 0.49139276146888733, 0.3625585734844208, 0.331356942653656, 0.311531662940979, 0.29797491431236267, 0.28647011518478394, 0.2895224690437317, 0.27810683846473694, 0.30149245262145996, 0.3517737090587616, 0.3634267747402191, 0.30616119503974915, 0.3335477411746979, 0.3091658651828766, 0.748261034488678, 0.3559767007827759, 0.30318325757980347, 0.28425437211990356, 0.3261350393295288, 0.31966811418533325, 0.3029358685016632, 0.3196193277835846, 0.3139266073703766, 0.28312090039253235, 0.2684582769870758, 0.24253292381763458, 0.24343609809875488, 0.29790541529655457, 0.25082728266716003, 0.25510239601135254, 0.3148104250431061, 0.24947886168956757, 0.2576204538345337, 0.32833045721054077, 0.23874878883361816, 0.22761468589305878, 0.2577160894870758, 0.22827011346817017, 0.29735812544822693, 0.22255419194698334, 0.2426571547985077, 0.22056356072425842, 0.250993013381958, 0.2678259015083313, 0.24463948607444763, 0.2528511583805084, 0.2179139107465744, 0.30635330080986023, 0.2873697578907013, 0.2678214907646179, 0.21263910830020905, 0.19252069294452667, 0.4684232473373413, 0.38711732625961304, 0.3486930727958679, 0.25329089164733887, 0.2146041989326477, 0.3049798309803009, 0.2672494053840637, 0.21115176379680634, 0.22156670689582825, 0.19422563910484314, 0.241283118724823, 0.3058542013168335, 0.2186637669801712, 0.20910196006298065, 0.29350772500038147, 0.240846186876297, 0.1834845393896103, 0.32363128662109375, 0.20306982100009918, 0.21395793557167053, 0.20870640873908997, 0.1779373288154602, 0.19348789751529694, 0.19610022008419037, 0.19178032875061035, 0.18006578087806702, 0.17598238587379456, 0.1959998905658722, 0.2748136520385742, 0.22609545290470123, 0.2668180763721466, 0.22307156026363373, 0.21315471827983856, 0.20616044104099274, 0.1942761242389679, 0.20673894882202148, 0.17598111927509308, 0.18677181005477905, 0.19186274707317352, 0.17211787402629852, 0.29739660024642944, 0.3010731339454651, 0.20149767398834229, 0.16139116883277893, 0.18400700390338898, 0.19056937098503113, 0.17658774554729462, 0.28095388412475586, 0.19144155085086823, 0.1976117342710495, 0.18740858137607574, 0.1519116759300232, 0.194514662027359, 0.17089150846004486, 0.14875639975070953, 0.16748854517936707, 0.30533552169799805, 0.2592242956161499, 0.20936034619808197, 0.17688624560832977, 0.17604699730873108, 0.1564359813928604, 0.1483338475227356, 0.2094910740852356, 0.16397547721862793, 0.1380196213722229, 0.16397899389266968, 0.1960688829421997, 0.14163346588611603, 0.20975865423679352, 0.20464706420898438, 0.15834322571754456, 0.1494487076997757, 0.1483767330646515, 0.18618589639663696, 0.1513005495071411, 0.14336009323596954, 0.14169634878635406, 0.14192084968090057, 0.13878346979618073, 0.21516217291355133, 0.16691678762435913, 0.1313839554786682, 0.16093239188194275, 0.14724434912204742, 0.12510685622692108, 0.12009657919406891, 0.14766401052474976, 0.14208517968654633, 0.14677754044532776, 0.17076778411865234, 0.15879911184310913, 0.16661828756332397, 0.18275316059589386, 0.14306126534938812, 0.12265308946371078, 0.1440906524658203]\n"
     ]
    }
   ],
   "source": [
    "# Entraîner le modèle\n",
    "history = model.fit(X_train, y_train, validation_data=(X_test, y_test), epochs=250, batch_size=32)\n",
    "print(history.history['accuracy'])\n",
    "print(history.history['loss'])"
   ]
  },
  {
   "cell_type": "code",
   "execution_count": 333,
   "metadata": {
    "colab": {
     "base_uri": "https://localhost:8080/"
    },
    "id": "UB23EaszAsoh",
    "outputId": "fcf4b8b8-bbb1-4582-eefa-5ca635a37352"
   },
   "outputs": [
    {
     "name": "stdout",
     "output_type": "stream",
     "text": [
      "19/19 [==============================] - 0s 3ms/step - loss: 0.3862 - accuracy: 0.9224\n",
      "Test loss: 0.3861553966999054\n",
      "Test accuracy: 0.92242830991745\n"
     ]
    }
   ],
   "source": [
    "# Évaluer le modèle sur les données de test\n",
    "score = model.evaluate(X_test, y_test)\n",
    "print(\"Test loss:\", score[0])\n",
    "print(\"Test accuracy:\", score[1])"
   ]
  },
  {
   "cell_type": "code",
   "execution_count": 334,
   "metadata": {
    "colab": {
     "base_uri": "https://localhost:8080/",
     "height": 573
    },
    "id": "OLB7MP09Asr1",
    "outputId": "9a43b902-5396-42e8-b4e2-f1018dd355d7"
   },
   "outputs": [
    {
     "data": {
      "image/png": "[encoded data removed]",
      "text/plain": [
       "<Figure size 432x288 with 1 Axes>"
      ]
     },
     "metadata": {
      "needs_background": "light"
     },
     "output_type": "display_data"
    },
    {
     "data": {
      "image/png": "[encoded data removed]",
      "text/plain": [
       "<Figure size 432x288 with 1 Axes>"
      ]
     },
     "metadata": {
      "needs_background": "light"
     },
     "output_type": "display_data"
    }
   ],
   "source": [
    "# Afficher les graphes d'accuracy et loss selon l'epoch\n",
    "import matplotlib.pyplot as plt\n",
    "\n",
    "plt.plot(history.history['accuracy'], label='train')\n",
    "plt.plot(history.history['val_accuracy'], label='validation')\n",
    "plt.title('Accuracy')\n",
    "plt.xlabel('Epoch')\n",
    "plt.ylabel('Accuracy')\n",
    "plt.legend()\n",
    "plt.show()\n",
    "\n",
    "plt.plot(history.history['loss'], label='train')\n",
    "plt.plot(history.history['val_loss'], label='validation')\n",
    "plt.title('Loss')\n",
    "plt.xlabel('Epoch')\n",
    "plt.ylabel('Loss')\n",
    "plt.legend()\n",
    "plt.show()"
   ]
  },
  {
   "cell_type": "code",
   "execution_count": 335,
   "metadata": {
    "id": "TNpVT4InOVua"
   },
   "outputs": [],
   "source": [
    "from sklearn.metrics import classification_report, confusion_matrix"
   ]
  },
  {
   "cell_type": "code",
   "execution_count": 336,
   "metadata": {
    "id": "6vFRqlL5hoLE"
   },
   "outputs": [],
   "source": [
    "model.save('classification_model_4.h5')"
   ]
  },
  {
   "cell_type": "code",
   "execution_count": 337,
   "metadata": {
    "id": "p_FOh9mwYq-k"
   },
   "outputs": [],
   "source": [
    "from tensorflow.keras.models import load_model\n",
    "\n",
    "# Charger le modèle CNN entraîné\n",
    "model = load_model('classification_model_4.h5')"
   ]
  },
  {
   "cell_type": "code",
   "execution_count": 338,
   "metadata": {
    "id": "igUADKfiYrCK"
   },
   "outputs": [],
   "source": [
    "y_pred = model.predict(X_test,batch_size=32, verbose=0)\n",
    "y_pred = np.argmax(y_pred, axis=1)\n",
    "y_true = np.argmax(y_test, axis=1)"
   ]
  },
  {
   "cell_type": "code",
   "execution_count": 339,
   "metadata": {
    "id": "BTKS0hgXcfrb"
   },
   "outputs": [],
   "source": [
    "cm = confusion_matrix(y_true,y_pred)"
   ]
  },
  {
   "cell_type": "code",
   "execution_count": 340,
   "metadata": {
    "colab": {
     "base_uri": "https://localhost:8080/"
    },
    "id": "GBcKjfB-cSBu",
    "outputId": "5ffe5bc1-8371-46d6-a028-7ba39f3eeddc"
   },
   "outputs": [
    {
     "data": {
      "text/plain": [
       "array([[106,   4,  10,   3,   0],\n",
       "       [  3,  96,  11,   0,   0],\n",
       "       [  2,   6, 122,   1,   0],\n",
       "       [  0,   0,   6, 102,   0],\n",
       "       [  0,   0,   0,   0, 121]])"
      ]
     },
     "execution_count": 340,
     "metadata": {},
     "output_type": "execute_result"
    }
   ],
   "source": [
    "cm"
   ]
  },
  {
   "cell_type": "code",
   "execution_count": 341,
   "metadata": {
    "colab": {
     "base_uri": "https://localhost:8080/",
     "height": 280
    },
    "id": "mI4xQ5t-Z2xH",
    "outputId": "e64947a3-a574-40f5-c325-6810f0da67e8"
   },
   "outputs": [
    {
     "data": {
      "image/png": "[encoded data removed]",
      "text/plain": [
       "<Figure size 432x288 with 2 Axes>"
      ]
     },
     "metadata": {
      "needs_background": "light"
     },
     "output_type": "display_data"
    }
   ],
   "source": [
    "from sklearn.metrics import confusion_matrix, ConfusionMatrixDisplay\n",
    "disp = ConfusionMatrixDisplay(confusion_matrix=cm)\n",
    "disp.plot()\n",
    "plt.show()"
   ]
  },
  {
   "cell_type": "code",
   "execution_count": 342,
   "metadata": {
    "colab": {
     "base_uri": "https://localhost:8080/"
    },
    "id": "aqM6U9zoRo72",
    "outputId": "fd8acf7d-3f43-489b-b4f1-3ec3aa8e3829"
   },
   "outputs": [
    {
     "name": "stdout",
     "output_type": "stream",
     "text": [
      "Classification Report\n",
      "              precision    recall  f1-score   support\n",
      "\n",
      "           0       0.95      0.86      0.91       123\n",
      "           1       0.91      0.87      0.89       110\n",
      "           2       0.82      0.93      0.87       131\n",
      "           3       0.96      0.94      0.95       108\n",
      "           4       1.00      1.00      1.00       121\n",
      "\n",
      "    accuracy                           0.92       593\n",
      "   macro avg       0.93      0.92      0.92       593\n",
      "weighted avg       0.93      0.92      0.92       593\n",
      "\n"
     ]
    }
   ],
   "source": [
    "print (\"Classification Report\")\n",
    "print(classification_report(y_true,y_pred))"
   ]
  },
  {
   "cell_type": "code",
   "execution_count": null,
   "metadata": {
    "id": "T6WU5KyneCmN"
   },
   "outputs": [],
   "source": []
  }
 ],
 "metadata": {
  "colab": {
   "provenance": []
  },
  "kernelspec": {
   "display_name": "Python 3",
   "language": "python",
   "name": "python3"
  },
  "language_info": {
   "codemirror_mode": {
    "name": "ipython",
    "version": 3
   },
   "file_extension": ".py",
   "mimetype": "text/x-python",
   "name": "python",
   "nbconvert_exporter": "python",
   "pygments_lexer": "ipython3",
   "version": "3.8.8"
  }
 },
 "nbformat": 4,
 "nbformat_minor": 1
}
