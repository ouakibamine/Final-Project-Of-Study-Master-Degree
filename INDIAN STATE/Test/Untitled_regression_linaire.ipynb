{
  "cells": [
    {
      "cell_type": "code",
      "source": [
        "import pandas as pd\n",
        "import numpy as np\n",
        "import tensorflow as tf\n",
        "from sklearn.model_selection import train_test_split\n",
        "from sklearn.preprocessing import StandardScaler\n",
        "from keras.models import Sequential\n",
        "from keras.layers import Conv1D, MaxPooling1D, Flatten, Dense ,Dropout\n",
        "from keras.optimizers import Adam\n",
        "import time"
      ],
      "metadata": {
        "id": "KrWDSBMjpNI0"
      },
      "id": "KrWDSBMjpNI0",
      "execution_count": 1,
      "outputs": []
    },
    {
      "cell_type": "code",
      "source": [
        "# Load the dataset\n",
        "df = pd.read_csv('water_quality_dataset.csv')"
      ],
      "metadata": {
        "id": "mDEFxTexpNMe"
      },
      "id": "mDEFxTexpNMe",
      "execution_count": 2,
      "outputs": []
    },
    {
      "cell_type": "code",
      "source": [
        "# Split the dataset into input (X) and output (y) variables\n",
        "X = df.iloc[:, :-1].values\n",
        "y = df.iloc[:, -1].values"
      ],
      "metadata": {
        "id": "OqspgCXvpNRV"
      },
      "id": "OqspgCXvpNRV",
      "execution_count": 3,
      "outputs": []
    },
    {
      "cell_type": "code",
      "source": [
        "X.shape"
      ],
      "metadata": {
        "colab": {
          "base_uri": "https://localhost:8080/"
        },
        "id": "cJ9SiSNPpfeV",
        "outputId": "8cacfb25-10e1-41d2-90de-d9fa646c10b7"
      },
      "id": "cJ9SiSNPpfeV",
      "execution_count": 4,
      "outputs": [
        {
          "output_type": "execute_result",
          "data": {
            "text/plain": [
              "(1781, 7)"
            ]
          },
          "metadata": {},
          "execution_count": 4
        }
      ]
    },
    {
      "cell_type": "code",
      "source": [
        "y.shape"
      ],
      "metadata": {
        "colab": {
          "base_uri": "https://localhost:8080/"
        },
        "id": "5hdGoJbWpgb_",
        "outputId": "796b4d0c-d9c0-4809-a436-ba9c697bff8d"
      },
      "id": "5hdGoJbWpgb_",
      "execution_count": 5,
      "outputs": [
        {
          "output_type": "execute_result",
          "data": {
            "text/plain": [
              "(1781,)"
            ]
          },
          "metadata": {},
          "execution_count": 5
        }
      ]
    },
    {
      "cell_type": "code",
      "source": [
        "# Split the dataset into training and testing sets\n",
        "X_train, X_test, y_train, y_test = train_test_split(X, y, test_size=0.2, random_state=42)"
      ],
      "metadata": {
        "id": "aDVS9_XfplRK"
      },
      "id": "aDVS9_XfplRK",
      "execution_count": 6,
      "outputs": []
    },
    {
      "cell_type": "code",
      "source": [
        "X_train.shape"
      ],
      "metadata": {
        "colab": {
          "base_uri": "https://localhost:8080/"
        },
        "id": "TSa-IiXmpn_i",
        "outputId": "f431c574-df7e-4e3a-9fea-c91973f3f2cb"
      },
      "id": "TSa-IiXmpn_i",
      "execution_count": 7,
      "outputs": [
        {
          "output_type": "execute_result",
          "data": {
            "text/plain": [
              "(1424, 7)"
            ]
          },
          "metadata": {},
          "execution_count": 7
        }
      ]
    },
    {
      "cell_type": "code",
      "source": [
        "X_test.shape"
      ],
      "metadata": {
        "colab": {
          "base_uri": "https://localhost:8080/"
        },
        "id": "gdQkXLQcpxFg",
        "outputId": "c3bc0d9d-87ae-47d5-8e1f-7bf85c75782d"
      },
      "id": "gdQkXLQcpxFg",
      "execution_count": 8,
      "outputs": [
        {
          "output_type": "execute_result",
          "data": {
            "text/plain": [
              "(357, 7)"
            ]
          },
          "metadata": {},
          "execution_count": 8
        }
      ]
    },
    {
      "cell_type": "code",
      "source": [
        "y_train.shape"
      ],
      "metadata": {
        "colab": {
          "base_uri": "https://localhost:8080/"
        },
        "id": "CR39lI74pz_f",
        "outputId": "aee85b63-e042-4a14-9877-9429cf235d7b"
      },
      "id": "CR39lI74pz_f",
      "execution_count": 9,
      "outputs": [
        {
          "output_type": "execute_result",
          "data": {
            "text/plain": [
              "(1424,)"
            ]
          },
          "metadata": {},
          "execution_count": 9
        }
      ]
    },
    {
      "cell_type": "code",
      "source": [
        "y_test.shape"
      ],
      "metadata": {
        "colab": {
          "base_uri": "https://localhost:8080/"
        },
        "id": "6FqhCXSDp3RG",
        "outputId": "9f94e972-5490-4033-b3f8-d3c4a4f948e8"
      },
      "id": "6FqhCXSDp3RG",
      "execution_count": 10,
      "outputs": [
        {
          "output_type": "execute_result",
          "data": {
            "text/plain": [
              "(357,)"
            ]
          },
          "metadata": {},
          "execution_count": 10
        }
      ]
    },
    {
      "cell_type": "code",
      "source": [
        "# Standardize the input features\n",
        "scaler = StandardScaler()\n",
        "X_train = scaler.fit_transform(X_train)\n",
        "X_test = scaler.transform(X_test)"
      ],
      "metadata": {
        "id": "K9kOv9VAp5h6"
      },
      "id": "K9kOv9VAp5h6",
      "execution_count": 11,
      "outputs": []
    },
    {
      "cell_type": "code",
      "source": [
        "X_train.shape"
      ],
      "metadata": {
        "colab": {
          "base_uri": "https://localhost:8080/"
        },
        "id": "Rv8710Omp9pG",
        "outputId": "8e3c6213-77fe-4e5e-ff0d-4bbfda438bd2"
      },
      "id": "Rv8710Omp9pG",
      "execution_count": 12,
      "outputs": [
        {
          "output_type": "execute_result",
          "data": {
            "text/plain": [
              "(1424, 7)"
            ]
          },
          "metadata": {},
          "execution_count": 12
        }
      ]
    },
    {
      "cell_type": "code",
      "source": [
        "X_test.shape"
      ],
      "metadata": {
        "colab": {
          "base_uri": "https://localhost:8080/"
        },
        "id": "4aZki30mqBDv",
        "outputId": "c80dbd58-1d26-487a-fef6-cefe39982887"
      },
      "id": "4aZki30mqBDv",
      "execution_count": 13,
      "outputs": [
        {
          "output_type": "execute_result",
          "data": {
            "text/plain": [
              "(357, 7)"
            ]
          },
          "metadata": {},
          "execution_count": 13
        }
      ]
    },
    {
      "cell_type": "code",
      "source": [
        "# Reshape the input features for use with CNN\n",
        "X_train = X_train.reshape((X_train.shape[0], X_train.shape[1], 1))\n",
        "X_test = X_test.reshape((X_test.shape[0], X_test.shape[1], 1))"
      ],
      "metadata": {
        "id": "DracldsIqFxR"
      },
      "id": "DracldsIqFxR",
      "execution_count": 14,
      "outputs": []
    },
    {
      "cell_type": "code",
      "source": [
        "X_train.shape"
      ],
      "metadata": {
        "colab": {
          "base_uri": "https://localhost:8080/"
        },
        "id": "6pM5PQdoqKBj",
        "outputId": "0db96379-765e-4b4f-e5be-3c30c4b5c408"
      },
      "id": "6pM5PQdoqKBj",
      "execution_count": 15,
      "outputs": [
        {
          "output_type": "execute_result",
          "data": {
            "text/plain": [
              "(1424, 7, 1)"
            ]
          },
          "metadata": {},
          "execution_count": 15
        }
      ]
    },
    {
      "cell_type": "code",
      "source": [
        "X_test.shape"
      ],
      "metadata": {
        "colab": {
          "base_uri": "https://localhost:8080/"
        },
        "id": "G2XKcUukqMX8",
        "outputId": "defd2399-cea5-4f0e-fed3-d25b49f95024"
      },
      "id": "G2XKcUukqMX8",
      "execution_count": 16,
      "outputs": [
        {
          "output_type": "execute_result",
          "data": {
            "text/plain": [
              "(357, 7, 1)"
            ]
          },
          "metadata": {},
          "execution_count": 16
        }
      ]
    },
    {
      "cell_type": "code",
      "source": [
        "# Build the CNN model\n",
        "model = Sequential()\n",
        "model.add(Conv1D(filters=32, kernel_size=2, activation='relu', input_shape=(X_train.shape[1], 1)))\n",
        "model.add(MaxPooling1D(pool_size=1))\n",
        "model.add(Conv1D(filters=64, kernel_size=2, activation='relu'))\n",
        "model.add(MaxPooling1D(pool_size=1))\n",
        "model.add(Conv1D(filters=128, kernel_size=2, activation='relu'))\n",
        "model.add(MaxPooling1D(pool_size=1))\n",
        "model.add(Flatten())\n",
        "model.add(Dense(units=128, activation='relu'))\n",
        "model.add(Dense(units=1, activation='linear'))"
      ],
      "metadata": {
        "id": "s7ExyDQYqPrD"
      },
      "id": "s7ExyDQYqPrD",
      "execution_count": 29,
      "outputs": []
    },
    {
      "cell_type": "code",
      "source": [
        "# Compile the model\n",
        "optimizer = Adam(learning_rate=0.001)\n",
        "model.compile(optimizer=optimizer, loss='mean_squared_error')"
      ],
      "metadata": {
        "id": "F8ri2fYsq_cm"
      },
      "id": "F8ri2fYsq_cm",
      "execution_count": 30,
      "outputs": []
    },
    {
      "cell_type": "code",
      "source": [
        "model.summary()"
      ],
      "metadata": {
        "colab": {
          "base_uri": "https://localhost:8080/"
        },
        "id": "dJ3TeUv0xoSQ",
        "outputId": "04c63d72-2f76-45a9-8af0-d7338f6a5914"
      },
      "id": "dJ3TeUv0xoSQ",
      "execution_count": 31,
      "outputs": [
        {
          "output_type": "stream",
          "name": "stdout",
          "text": [
            "Model: \"sequential_6\"\n",
            "_________________________________________________________________\n",
            " Layer (type)                Output Shape              Param #   \n",
            "=================================================================\n",
            " conv1d_15 (Conv1D)          (None, 6, 32)             96        \n",
            "                                                                 \n",
            " max_pooling1d_12 (MaxPoolin  (None, 6, 32)            0         \n",
            " g1D)                                                            \n",
            "                                                                 \n",
            " conv1d_16 (Conv1D)          (None, 5, 64)             4160      \n",
            "                                                                 \n",
            " max_pooling1d_13 (MaxPoolin  (None, 5, 64)            0         \n",
            " g1D)                                                            \n",
            "                                                                 \n",
            " conv1d_17 (Conv1D)          (None, 4, 128)            16512     \n",
            "                                                                 \n",
            " max_pooling1d_14 (MaxPoolin  (None, 4, 128)           0         \n",
            " g1D)                                                            \n",
            "                                                                 \n",
            " flatten_2 (Flatten)         (None, 512)               0         \n",
            "                                                                 \n",
            " dense_4 (Dense)             (None, 128)               65664     \n",
            "                                                                 \n",
            " dense_5 (Dense)             (None, 1)                 129       \n",
            "                                                                 \n",
            "=================================================================\n",
            "Total params: 86,561\n",
            "Trainable params: 86,561\n",
            "Non-trainable params: 0\n",
            "_________________________________________________________________\n"
          ]
        }
      ]
    },
    {
      "cell_type": "code",
      "source": [
        "# Enregistrer les temps de départ\n",
        "step_times = []\n",
        "\n",
        "# Définir un callback pour mesurer les temps de chaque étape\n",
        "class TimingCallback(tf.keras.callbacks.Callback):\n",
        "    def on_train_batch_begin(self, batch, logs=None):\n",
        "        self.start_time = time.time()\n",
        "\n",
        "    def on_train_batch_end(self, batch, logs=None):\n",
        "        step_time = time.time() - self.start_time\n",
        "        step_times.append(step_time)\n",
        "# Train the model\n",
        "model.fit(X_train, y_train, epochs=100, batch_size=32, validation_data=(X_test, y_test),callbacks=[TimingCallback()])\n"
      ],
      "metadata": {
        "colab": {
          "base_uri": "https://localhost:8080/"
        },
        "id": "p6H6Wa7QszKN",
        "outputId": "0a7886f5-6081-4f9d-c369-d4f5ef6688ee"
      },
      "id": "p6H6Wa7QszKN",
      "execution_count": 32,
      "outputs": [
        {
          "output_type": "stream",
          "name": "stdout",
          "text": [
            "Epoch 1/100\n",
            "45/45 [==============================] - 1s 14ms/step - loss: 45363.5469 - val_loss: 39289.4688\n",
            "Epoch 2/100\n",
            "45/45 [==============================] - 0s 7ms/step - loss: 14874.8389 - val_loss: 13738.0293\n",
            "Epoch 3/100\n",
            "45/45 [==============================] - 0s 7ms/step - loss: 7337.4663 - val_loss: 7994.7095\n",
            "Epoch 4/100\n",
            "45/45 [==============================] - 0s 7ms/step - loss: 5288.6899 - val_loss: 4356.9497\n",
            "Epoch 5/100\n",
            "45/45 [==============================] - 0s 6ms/step - loss: 3187.5232 - val_loss: 2798.7195\n",
            "Epoch 6/100\n",
            "45/45 [==============================] - 0s 6ms/step - loss: 1639.0370 - val_loss: 1584.3953\n",
            "Epoch 7/100\n",
            "45/45 [==============================] - 0s 5ms/step - loss: 898.6829 - val_loss: 544.0734\n",
            "Epoch 8/100\n",
            "45/45 [==============================] - 0s 5ms/step - loss: 442.2943 - val_loss: 446.2436\n",
            "Epoch 9/100\n",
            "45/45 [==============================] - 0s 5ms/step - loss: 253.8401 - val_loss: 162.7927\n",
            "Epoch 10/100\n",
            "45/45 [==============================] - 0s 5ms/step - loss: 163.9318 - val_loss: 87.2540\n",
            "Epoch 11/100\n",
            "45/45 [==============================] - 0s 5ms/step - loss: 94.3357 - val_loss: 57.4398\n",
            "Epoch 12/100\n",
            "45/45 [==============================] - 0s 5ms/step - loss: 49.2461 - val_loss: 39.3003\n",
            "Epoch 13/100\n",
            "45/45 [==============================] - 0s 5ms/step - loss: 35.3313 - val_loss: 31.9408\n",
            "Epoch 14/100\n",
            "45/45 [==============================] - 0s 5ms/step - loss: 27.1981 - val_loss: 31.3396\n",
            "Epoch 15/100\n",
            "45/45 [==============================] - 0s 5ms/step - loss: 23.5012 - val_loss: 30.3196\n",
            "Epoch 16/100\n",
            "45/45 [==============================] - 0s 5ms/step - loss: 22.2115 - val_loss: 23.0845\n",
            "Epoch 17/100\n",
            "45/45 [==============================] - 0s 5ms/step - loss: 18.7612 - val_loss: 24.2361\n",
            "Epoch 18/100\n",
            "45/45 [==============================] - 0s 5ms/step - loss: 16.2993 - val_loss: 25.8160\n",
            "Epoch 19/100\n",
            "45/45 [==============================] - 0s 5ms/step - loss: 14.6652 - val_loss: 21.7625\n",
            "Epoch 20/100\n",
            "45/45 [==============================] - 0s 5ms/step - loss: 14.0024 - val_loss: 24.2871\n",
            "Epoch 21/100\n",
            "45/45 [==============================] - 0s 5ms/step - loss: 12.8201 - val_loss: 17.1572\n",
            "Epoch 22/100\n",
            "45/45 [==============================] - 0s 5ms/step - loss: 11.8927 - val_loss: 20.0960\n",
            "Epoch 23/100\n",
            "45/45 [==============================] - 0s 4ms/step - loss: 11.8385 - val_loss: 16.5084\n",
            "Epoch 24/100\n",
            "45/45 [==============================] - 0s 5ms/step - loss: 10.9890 - val_loss: 11.6786\n",
            "Epoch 25/100\n",
            "45/45 [==============================] - 0s 5ms/step - loss: 10.5635 - val_loss: 13.7073\n",
            "Epoch 26/100\n",
            "45/45 [==============================] - 0s 5ms/step - loss: 9.8525 - val_loss: 14.0393\n",
            "Epoch 27/100\n",
            "45/45 [==============================] - 0s 5ms/step - loss: 9.8312 - val_loss: 11.4943\n",
            "Epoch 28/100\n",
            "45/45 [==============================] - 0s 5ms/step - loss: 9.3514 - val_loss: 16.6102\n",
            "Epoch 29/100\n",
            "45/45 [==============================] - 0s 5ms/step - loss: 8.0296 - val_loss: 10.4013\n",
            "Epoch 30/100\n",
            "45/45 [==============================] - 0s 4ms/step - loss: 8.5462 - val_loss: 12.8146\n",
            "Epoch 31/100\n",
            "45/45 [==============================] - 0s 5ms/step - loss: 8.2667 - val_loss: 11.1279\n",
            "Epoch 32/100\n",
            "45/45 [==============================] - 0s 5ms/step - loss: 11.1840 - val_loss: 16.7902\n",
            "Epoch 33/100\n",
            "45/45 [==============================] - 0s 5ms/step - loss: 5.9645 - val_loss: 12.6506\n",
            "Epoch 34/100\n",
            "45/45 [==============================] - 0s 5ms/step - loss: 5.8018 - val_loss: 8.4356\n",
            "Epoch 35/100\n",
            "45/45 [==============================] - 0s 5ms/step - loss: 5.4751 - val_loss: 8.4322\n",
            "Epoch 36/100\n",
            "45/45 [==============================] - 0s 5ms/step - loss: 5.1484 - val_loss: 8.8856\n",
            "Epoch 37/100\n",
            "45/45 [==============================] - 0s 6ms/step - loss: 4.7474 - val_loss: 10.9677\n",
            "Epoch 38/100\n",
            "45/45 [==============================] - 0s 5ms/step - loss: 4.1520 - val_loss: 6.8128\n",
            "Epoch 39/100\n",
            "45/45 [==============================] - 0s 5ms/step - loss: 4.1611 - val_loss: 8.9746\n",
            "Epoch 40/100\n",
            "45/45 [==============================] - 0s 5ms/step - loss: 3.9139 - val_loss: 14.4733\n",
            "Epoch 41/100\n",
            "45/45 [==============================] - 0s 5ms/step - loss: 4.5618 - val_loss: 12.5550\n",
            "Epoch 42/100\n",
            "45/45 [==============================] - 0s 5ms/step - loss: 3.3195 - val_loss: 14.0077\n",
            "Epoch 43/100\n",
            "45/45 [==============================] - 0s 5ms/step - loss: 3.2677 - val_loss: 17.2778\n",
            "Epoch 44/100\n",
            "45/45 [==============================] - 0s 4ms/step - loss: 5.1945 - val_loss: 9.2730\n",
            "Epoch 45/100\n",
            "45/45 [==============================] - 0s 5ms/step - loss: 4.4223 - val_loss: 5.9123\n",
            "Epoch 46/100\n",
            "45/45 [==============================] - 0s 5ms/step - loss: 3.9379 - val_loss: 5.0851\n",
            "Epoch 47/100\n",
            "45/45 [==============================] - 0s 5ms/step - loss: 3.0952 - val_loss: 3.7630\n",
            "Epoch 48/100\n",
            "45/45 [==============================] - 0s 5ms/step - loss: 4.0301 - val_loss: 7.0569\n",
            "Epoch 49/100\n",
            "45/45 [==============================] - 0s 5ms/step - loss: 4.3303 - val_loss: 4.9334\n",
            "Epoch 50/100\n",
            "45/45 [==============================] - 0s 5ms/step - loss: 2.6764 - val_loss: 11.6459\n",
            "Epoch 51/100\n",
            "45/45 [==============================] - 0s 5ms/step - loss: 2.9353 - val_loss: 3.1928\n",
            "Epoch 52/100\n",
            "45/45 [==============================] - 0s 7ms/step - loss: 3.0318 - val_loss: 6.3806\n",
            "Epoch 53/100\n",
            "45/45 [==============================] - 0s 6ms/step - loss: 2.4172 - val_loss: 5.0021\n",
            "Epoch 54/100\n",
            "45/45 [==============================] - 0s 7ms/step - loss: 3.6591 - val_loss: 6.1432\n",
            "Epoch 55/100\n",
            "45/45 [==============================] - 0s 6ms/step - loss: 2.8425 - val_loss: 5.7244\n",
            "Epoch 56/100\n",
            "45/45 [==============================] - 0s 6ms/step - loss: 6.4095 - val_loss: 6.6756\n",
            "Epoch 57/100\n",
            "45/45 [==============================] - 0s 7ms/step - loss: 5.4347 - val_loss: 12.7446\n",
            "Epoch 58/100\n",
            "45/45 [==============================] - 0s 6ms/step - loss: 5.9285 - val_loss: 9.2594\n",
            "Epoch 59/100\n",
            "45/45 [==============================] - 0s 5ms/step - loss: 3.0995 - val_loss: 4.0508\n",
            "Epoch 60/100\n",
            "45/45 [==============================] - 0s 5ms/step - loss: 2.5192 - val_loss: 6.9069\n",
            "Epoch 61/100\n",
            "45/45 [==============================] - 0s 5ms/step - loss: 6.7328 - val_loss: 4.9288\n",
            "Epoch 62/100\n",
            "45/45 [==============================] - 0s 6ms/step - loss: 2.1193 - val_loss: 4.6638\n",
            "Epoch 63/100\n",
            "45/45 [==============================] - 0s 5ms/step - loss: 2.3866 - val_loss: 4.3069\n",
            "Epoch 64/100\n",
            "45/45 [==============================] - 0s 5ms/step - loss: 6.6141 - val_loss: 5.1797\n",
            "Epoch 65/100\n",
            "45/45 [==============================] - 0s 6ms/step - loss: 1.7184 - val_loss: 4.6871\n",
            "Epoch 66/100\n",
            "45/45 [==============================] - 0s 4ms/step - loss: 5.2466 - val_loss: 17.5832\n",
            "Epoch 67/100\n",
            "45/45 [==============================] - 0s 5ms/step - loss: 5.2673 - val_loss: 7.0842\n",
            "Epoch 68/100\n",
            "45/45 [==============================] - 0s 5ms/step - loss: 2.2851 - val_loss: 3.4974\n",
            "Epoch 69/100\n",
            "45/45 [==============================] - 0s 5ms/step - loss: 2.5232 - val_loss: 2.8140\n",
            "Epoch 70/100\n",
            "45/45 [==============================] - 0s 5ms/step - loss: 7.3939 - val_loss: 6.6876\n",
            "Epoch 71/100\n",
            "45/45 [==============================] - 0s 6ms/step - loss: 2.5635 - val_loss: 6.6279\n",
            "Epoch 72/100\n",
            "45/45 [==============================] - 0s 4ms/step - loss: 10.5592 - val_loss: 5.5308\n",
            "Epoch 73/100\n",
            "45/45 [==============================] - 0s 5ms/step - loss: 4.8405 - val_loss: 3.2838\n",
            "Epoch 74/100\n",
            "45/45 [==============================] - 0s 5ms/step - loss: 4.7470 - val_loss: 4.6117\n",
            "Epoch 75/100\n",
            "45/45 [==============================] - 0s 5ms/step - loss: 3.6833 - val_loss: 3.5198\n",
            "Epoch 76/100\n",
            "45/45 [==============================] - 0s 5ms/step - loss: 4.2940 - val_loss: 9.1904\n",
            "Epoch 77/100\n",
            "45/45 [==============================] - 0s 5ms/step - loss: 8.7210 - val_loss: 23.1797\n",
            "Epoch 78/100\n",
            "45/45 [==============================] - 0s 5ms/step - loss: 6.1447 - val_loss: 23.7571\n",
            "Epoch 79/100\n",
            "45/45 [==============================] - 0s 5ms/step - loss: 61.4096 - val_loss: 111.8113\n",
            "Epoch 80/100\n",
            "45/45 [==============================] - 0s 5ms/step - loss: 69.0260 - val_loss: 28.3267\n",
            "Epoch 81/100\n",
            "45/45 [==============================] - 0s 4ms/step - loss: 34.2969 - val_loss: 20.0995\n",
            "Epoch 82/100\n",
            "45/45 [==============================] - 0s 5ms/step - loss: 18.0700 - val_loss: 16.4825\n",
            "Epoch 83/100\n",
            "45/45 [==============================] - 0s 5ms/step - loss: 7.1116 - val_loss: 3.1043\n",
            "Epoch 84/100\n",
            "45/45 [==============================] - 0s 5ms/step - loss: 3.6102 - val_loss: 1.8981\n",
            "Epoch 85/100\n",
            "45/45 [==============================] - 0s 5ms/step - loss: 6.7088 - val_loss: 3.5038\n",
            "Epoch 86/100\n",
            "45/45 [==============================] - 0s 4ms/step - loss: 2.3737 - val_loss: 2.0423\n",
            "Epoch 87/100\n",
            "45/45 [==============================] - 0s 4ms/step - loss: 1.7229 - val_loss: 2.8763\n",
            "Epoch 88/100\n",
            "45/45 [==============================] - 0s 5ms/step - loss: 1.6324 - val_loss: 11.7199\n",
            "Epoch 89/100\n",
            "45/45 [==============================] - 0s 5ms/step - loss: 6.5574 - val_loss: 2.2362\n",
            "Epoch 90/100\n",
            "45/45 [==============================] - 0s 5ms/step - loss: 2.2354 - val_loss: 4.7643\n",
            "Epoch 91/100\n",
            "45/45 [==============================] - 0s 6ms/step - loss: 31.9952 - val_loss: 55.6403\n",
            "Epoch 92/100\n",
            "45/45 [==============================] - 0s 5ms/step - loss: 20.2364 - val_loss: 35.9204\n",
            "Epoch 93/100\n",
            "45/45 [==============================] - 0s 5ms/step - loss: 9.9044 - val_loss: 11.6261\n",
            "Epoch 94/100\n",
            "45/45 [==============================] - 0s 5ms/step - loss: 6.9920 - val_loss: 6.0841\n",
            "Epoch 95/100\n",
            "45/45 [==============================] - 0s 5ms/step - loss: 5.6801 - val_loss: 18.2932\n",
            "Epoch 96/100\n",
            "45/45 [==============================] - 0s 6ms/step - loss: 7.1723 - val_loss: 3.4612\n",
            "Epoch 97/100\n",
            "45/45 [==============================] - 0s 4ms/step - loss: 1.8800 - val_loss: 3.3302\n",
            "Epoch 98/100\n",
            "45/45 [==============================] - 0s 5ms/step - loss: 2.3094 - val_loss: 3.5686\n",
            "Epoch 99/100\n",
            "45/45 [==============================] - 0s 5ms/step - loss: 2.1805 - val_loss: 6.7262\n",
            "Epoch 100/100\n",
            "45/45 [==============================] - 0s 5ms/step - loss: 8.2671 - val_loss: 7.8708\n"
          ]
        },
        {
          "output_type": "execute_result",
          "data": {
            "text/plain": [
              "<keras.callbacks.History at 0x7fb4544c75e0>"
            ]
          },
          "metadata": {},
          "execution_count": 32
        }
      ]
    },
    {
      "cell_type": "code",
      "source": [
        "# Evaluate the model\n",
        "mse = model.evaluate(X_test, y_test)\n",
        "print('Mean squared error:', mse)"
      ],
      "metadata": {
        "colab": {
          "base_uri": "https://localhost:8080/"
        },
        "id": "wTBwVggMs2gb",
        "outputId": "b45fdb90-6131-48ed-ef54-2ab08abc4020"
      },
      "id": "wTBwVggMs2gb",
      "execution_count": 33,
      "outputs": [
        {
          "output_type": "stream",
          "name": "stdout",
          "text": [
            "12/12 [==============================] - 0s 2ms/step - loss: 7.8708\n",
            "Mean squared error: 7.870776653289795\n"
          ]
        }
      ]
    },
    {
      "cell_type": "code",
      "source": [
        "# Predict the WQI for a new sample\n",
        "new_sample = np.array([[7.5, 8.0, 300, 2.0, 0.5, 100, 2005]])\n",
        "new_sample = scaler.transform(new_sample)\n",
        "new_sample = new_sample.reshape((new_sample.shape[0], new_sample.shape[1], 1))\n",
        "prediction = model.predict(new_sample)\n",
        "print('Predicted WQI:', prediction[0][0])"
      ],
      "metadata": {
        "colab": {
          "base_uri": "https://localhost:8080/"
        },
        "id": "YbDiKHzGtO4P",
        "outputId": "0ec509ae-a83f-4a71-f034-088337ee07b6"
      },
      "id": "YbDiKHzGtO4P",
      "execution_count": 34,
      "outputs": [
        {
          "output_type": "stream",
          "name": "stdout",
          "text": [
            "1/1 [==============================] - 0s 97ms/step\n",
            "Predicted WQI: 74.06513\n"
          ]
        }
      ]
    },
    {
      "cell_type": "code",
      "source": [
        "# Créer un graphe pour les temps CPU par epoch\n",
        "import matplotlib.pyplot as plt\n",
        "\n",
        "plt.plot(range(len(step_times)), step_times)\n",
        "plt.xlabel('Étape')\n",
        "plt.ylabel('Temps CPU (secondes)')\n",
        "plt.title('Temps CPU par étape')\n",
        "plt.show()"
      ],
      "metadata": {
        "colab": {
          "base_uri": "https://localhost:8080/",
          "height": 297
        },
        "id": "3dUVb4MFtXCH",
        "outputId": "c91677f2-fe2e-4600-9ea1-0c98a452af4b"
      },
      "id": "3dUVb4MFtXCH",
      "execution_count": 35,
      "outputs": [
        {
          "output_type": "display_data",
          "data": {
            "text/plain": [
              "<Figure size 432x288 with 1 Axes>"
            ],
            "image/png": "[encoded data removed]"
          },
          "metadata": {
            "needs_background": "light"
          }
        }
      ]
    },
    {
      "cell_type": "code",
      "source": [],
      "metadata": {
        "id": "Nd1i8PhoyW6k"
      },
      "id": "Nd1i8PhoyW6k",
      "execution_count": null,
      "outputs": []
    }
  ],
  "metadata": {
    "kernelspec": {
      "display_name": "Python 3",
      "language": "python",
      "name": "python3"
    },
    "language_info": {
      "codemirror_mode": {
        "name": "ipython",
        "version": 3
      },
      "file_extension": ".py",
      "mimetype": "text/x-python",
      "name": "python",
      "nbconvert_exporter": "python",
      "pygments_lexer": "ipython3",
      "version": "3.8.8"
    },
    "colab": {
      "provenance": []
    }
  },
  "nbformat": 4,
  "nbformat_minor": 5
}