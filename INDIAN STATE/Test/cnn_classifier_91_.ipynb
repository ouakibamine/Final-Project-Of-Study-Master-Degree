{
  "nbformat": 4,
  "nbformat_minor": 0,
  "metadata": {
    "colab": {
      "provenance": []
    },
    "kernelspec": {
      "name": "python3",
      "display_name": "Python 3"
    },
    "language_info": {
      "name": "python"
    }
  },
  "cells": [
    {
      "cell_type": "code",
      "execution_count": 1,
      "metadata": {
        "id": "ioTC26YKAGcS"
      },
      "outputs": [],
      "source": [
        "import os\n",
        "import pandas as pd\n",
        "import numpy as np\n",
        "import matplotlib.pyplot as plt\n",
        "import seaborn as sns\n",
        "from sklearn.impute import SimpleImputer\n",
        "from sklearn.neighbors import LocalOutlierFactor\n",
        "from scipy.stats import probplot\n",
        "from scipy.stats import zscore "
      ]
    },
    {
      "cell_type": "code",
      "source": [
        "df=pd.read_csv(\"water_quality_classifier_mean_state.csv\")"
      ],
      "metadata": {
        "id": "oamhuFeMAQON"
      },
      "execution_count": 143,
      "outputs": []
    },
    {
      "cell_type": "code",
      "source": [
        "import pandas as pd\n",
        "import numpy as np\n",
        "import tensorflow as tf\n",
        "from sklearn.model_selection import train_test_split\n",
        "from sklearn.preprocessing import LabelEncoder\n",
        "from tensorflow.keras.models import Sequential\n",
        "from tensorflow.keras.layers import Dense, Conv1D, MaxPooling1D, Flatten,Dropout\n",
        "from tensorflow.keras.utils import to_categorical\n",
        "\n",
        "# Charger les données\n",
        "data = df"
      ],
      "metadata": {
        "id": "M8iudlVwATEI"
      },
      "execution_count": 144,
      "outputs": []
    },
    {
      "cell_type": "code",
      "source": [
        "cols_to_drop=[\"WQI clf\"]\n",
        "# Diviser les données en caractéristiques et cibles\n",
        "X =  data.drop(cols_to_drop, axis=1)\n",
        "y = data[\"WQI clf\"].values"
      ],
      "metadata": {
        "id": "jMZgLCUpAYcv"
      },
      "execution_count": 145,
      "outputs": []
    },
    {
      "cell_type": "code",
      "source": [
        "# Encoder les labels catégoriels\n",
        "label_encoder = LabelEncoder()\n",
        "y = label_encoder.fit_transform(y)"
      ],
      "metadata": {
        "id": "f2Q3xFFMAcPL"
      },
      "execution_count": 146,
      "outputs": []
    },
    {
      "cell_type": "code",
      "source": [
        "from imblearn.over_sampling import SMOTE\n",
        "from collections import Counter\n",
        "print('Balancing the data by SMOTE - Oversampling of Minority level\\n')\n",
        "smt = SMOTE()\n",
        "counter = Counter(y)\n",
        "print('Before SMOTE', counter)\n",
        "X,y = smt.fit_resample(X,y)\n",
        "counter = Counter(y)\n",
        "print('\\nAfter SMOTE', counter)"
      ],
      "metadata": {
        "colab": {
          "base_uri": "https://localhost:8080/"
        },
        "id": "sMmq3udRA7bP",
        "outputId": "fbb22823-e510-428c-f134-e5da5e974837"
      },
      "execution_count": 147,
      "outputs": [
        {
          "output_type": "stream",
          "name": "stdout",
          "text": [
            "Balancing the data by SMOTE - Oversampling of Minority level\n",
            "\n",
            "Before SMOTE Counter({2: 593, 0: 479, 1: 308, 3: 284, 4: 15})\n",
            "\n",
            "After SMOTE Counter({0: 593, 1: 593, 2: 593, 3: 593, 4: 593})\n"
          ]
        }
      ]
    },
    {
      "cell_type": "code",
      "source": [
        "# Diviser les données en ensembles d'entraînement et de test\n",
        "X_train, X_test, y_train, y_test = train_test_split(X, y, test_size=0.2, random_state=42)"
      ],
      "metadata": {
        "id": "S8LGa3hJAfRs"
      },
      "execution_count": 244,
      "outputs": []
    },
    {
      "cell_type": "code",
      "source": [
        "# Redimensionner les données pour les convolutions 1D\n",
        "X_train = X_train.values.reshape(X_train.shape[0], X_train.shape[1], 1)\n",
        "X_test = X_test.values.reshape(X_test.shape[0], X_test.shape[1], 1)"
      ],
      "metadata": {
        "id": "YUOyqx93AicJ"
      },
      "execution_count": 245,
      "outputs": []
    },
    {
      "cell_type": "code",
      "source": [
        "# Convertir les labels en one-hot encoding\n",
        "y_train = to_categorical(y_train)\n",
        "y_test = to_categorical(y_test)\n",
        "\n",
        "# Créer le modèle CNN\n",
        "model = Sequential()\n",
        "model.add(Conv1D(filters=32, kernel_size=2, activation='relu', input_shape=(X_train.shape[1], 1)))\n",
        "model.add(MaxPooling1D(pool_size=1))\n",
        "model.add(Conv1D(filters=64, kernel_size=2, activation='relu'))\n",
        "model.add(MaxPooling1D(pool_size=1))\n",
        "model.add(Conv1D(filters=128, kernel_size=2, activation='relu'))\n",
        "model.add(MaxPooling1D(pool_size=1))\n",
        "model.add(Conv1D(filters=256, kernel_size=2, activation='relu'))\n",
        "model.add(MaxPooling1D(pool_size=1))\n",
        "model.add(Flatten())\n",
        "model.add(Dense(units=256, activation='relu'))\n",
        "model.add(Dropout(0.5))\n",
        "model.add(Dense(y_train.shape[1], activation=\"softmax\"))\n",
        "\n",
        "# Compiler le modèle\n",
        "model.compile(loss=\"categorical_crossentropy\", optimizer=\"adam\", metrics=[\"accuracy\"])"
      ],
      "metadata": {
        "id": "-k5nTj77Amrg"
      },
      "execution_count": 246,
      "outputs": []
    },
    {
      "cell_type": "code",
      "source": [
        "# Entraîner le modèle\n",
        "history = model.fit(X_train, y_train, validation_data=(X_test, y_test), epochs=250, batch_size=32)\n",
        "print(history.history['accuracy'])\n",
        "print(history.history['loss'])"
      ],
      "metadata": {
        "colab": {
          "base_uri": "https://localhost:8080/"
        },
        "id": "WfOC2OtDAslL",
        "outputId": "41a8394e-2f31-400d-a969-fa37a58e34e3"
      },
      "execution_count": 247,
      "outputs": [
        {
          "output_type": "stream",
          "name": "stdout",
          "text": [
            "Epoch 1/250\n",
            "75/75 [==============================] - 2s 11ms/step - loss: 10.9269 - accuracy: 0.2572 - val_loss: 2.7939 - val_accuracy: 0.3086\n",
            "Epoch 2/250\n",
            "75/75 [==============================] - 1s 9ms/step - loss: 2.4342 - accuracy: 0.3124 - val_loss: 1.8572 - val_accuracy: 0.4132\n",
            "Epoch 3/250\n",
            "75/75 [==============================] - 1s 9ms/step - loss: 1.8491 - accuracy: 0.3390 - val_loss: 1.5348 - val_accuracy: 0.3221\n",
            "Epoch 4/250\n",
            "75/75 [==============================] - 1s 9ms/step - loss: 1.5154 - accuracy: 0.3752 - val_loss: 1.3430 - val_accuracy: 0.4047\n",
            "Epoch 5/250\n",
            "75/75 [==============================] - 1s 9ms/step - loss: 1.3124 - accuracy: 0.4401 - val_loss: 1.2942 - val_accuracy: 0.5042\n",
            "Epoch 6/250\n",
            "75/75 [==============================] - 1s 9ms/step - loss: 1.1869 - accuracy: 0.4882 - val_loss: 1.1969 - val_accuracy: 0.4637\n",
            "Epoch 7/250\n",
            "75/75 [==============================] - 1s 12ms/step - loss: 1.1113 - accuracy: 0.5337 - val_loss: 1.1560 - val_accuracy: 0.4840\n",
            "Epoch 8/250\n",
            "75/75 [==============================] - 1s 13ms/step - loss: 1.0737 - accuracy: 0.5443 - val_loss: 1.0712 - val_accuracy: 0.5801\n",
            "Epoch 9/250\n",
            "75/75 [==============================] - 1s 9ms/step - loss: 1.0484 - accuracy: 0.5573 - val_loss: 1.1251 - val_accuracy: 0.5025\n",
            "Epoch 10/250\n",
            "75/75 [==============================] - 1s 9ms/step - loss: 2.1067 - accuracy: 0.4477 - val_loss: 3.1745 - val_accuracy: 0.4182\n",
            "Epoch 11/250\n",
            "75/75 [==============================] - 1s 9ms/step - loss: 2.0284 - accuracy: 0.4089 - val_loss: 1.3176 - val_accuracy: 0.4199\n",
            "Epoch 12/250\n",
            "75/75 [==============================] - 1s 9ms/step - loss: 1.1976 - accuracy: 0.4637 - val_loss: 1.2393 - val_accuracy: 0.4789\n",
            "Epoch 13/250\n",
            "75/75 [==============================] - 1s 9ms/step - loss: 1.0997 - accuracy: 0.5076 - val_loss: 1.1510 - val_accuracy: 0.5093\n",
            "Epoch 14/250\n",
            "75/75 [==============================] - 1s 9ms/step - loss: 1.0572 - accuracy: 0.5219 - val_loss: 1.1189 - val_accuracy: 0.5194\n",
            "Epoch 15/250\n",
            "75/75 [==============================] - 1s 9ms/step - loss: 0.9881 - accuracy: 0.5497 - val_loss: 1.0441 - val_accuracy: 0.5396\n",
            "Epoch 16/250\n",
            "75/75 [==============================] - 1s 9ms/step - loss: 0.9710 - accuracy: 0.5565 - val_loss: 1.0301 - val_accuracy: 0.5194\n",
            "Epoch 17/250\n",
            "75/75 [==============================] - 1s 9ms/step - loss: 0.9341 - accuracy: 0.5738 - val_loss: 0.9418 - val_accuracy: 0.5666\n",
            "Epoch 18/250\n",
            "75/75 [==============================] - 1s 9ms/step - loss: 0.8764 - accuracy: 0.6012 - val_loss: 0.9407 - val_accuracy: 0.5734\n",
            "Epoch 19/250\n",
            "75/75 [==============================] - 1s 9ms/step - loss: 0.8344 - accuracy: 0.6442 - val_loss: 1.3104 - val_accuracy: 0.5885\n",
            "Epoch 20/250\n",
            "75/75 [==============================] - 1s 9ms/step - loss: 1.1095 - accuracy: 0.5337 - val_loss: 1.0070 - val_accuracy: 0.5514\n",
            "Epoch 21/250\n",
            "75/75 [==============================] - 1s 9ms/step - loss: 0.9150 - accuracy: 0.5923 - val_loss: 0.9350 - val_accuracy: 0.6560\n",
            "Epoch 22/250\n",
            "75/75 [==============================] - 1s 9ms/step - loss: 0.8869 - accuracy: 0.6623 - val_loss: 0.9101 - val_accuracy: 0.6695\n",
            "Epoch 23/250\n",
            "75/75 [==============================] - 1s 10ms/step - loss: 0.9196 - accuracy: 0.6370 - val_loss: 0.9219 - val_accuracy: 0.6712\n",
            "Epoch 24/250\n",
            "75/75 [==============================] - 1s 13ms/step - loss: 0.8489 - accuracy: 0.6648 - val_loss: 0.9638 - val_accuracy: 0.7201\n",
            "Epoch 25/250\n",
            "75/75 [==============================] - 1s 16ms/step - loss: 0.9443 - accuracy: 0.6239 - val_loss: 0.9672 - val_accuracy: 0.6341\n",
            "Epoch 26/250\n",
            "75/75 [==============================] - 1s 9ms/step - loss: 0.8289 - accuracy: 0.6750 - val_loss: 0.9282 - val_accuracy: 0.6678\n",
            "Epoch 27/250\n",
            "75/75 [==============================] - 1s 9ms/step - loss: 0.7662 - accuracy: 0.6922 - val_loss: 0.8878 - val_accuracy: 0.5767\n",
            "Epoch 28/250\n",
            "75/75 [==============================] - 1s 9ms/step - loss: 0.7355 - accuracy: 0.7230 - val_loss: 0.7876 - val_accuracy: 0.6172\n",
            "Epoch 29/250\n",
            "75/75 [==============================] - 1s 9ms/step - loss: 0.7833 - accuracy: 0.7024 - val_loss: 0.8035 - val_accuracy: 0.7083\n",
            "Epoch 30/250\n",
            "75/75 [==============================] - 1s 8ms/step - loss: 0.7174 - accuracy: 0.7243 - val_loss: 0.7547 - val_accuracy: 0.7133\n",
            "Epoch 31/250\n",
            "75/75 [==============================] - 1s 9ms/step - loss: 0.8004 - accuracy: 0.6821 - val_loss: 0.8152 - val_accuracy: 0.6897\n",
            "Epoch 32/250\n",
            "75/75 [==============================] - 1s 9ms/step - loss: 0.7626 - accuracy: 0.7062 - val_loss: 0.7102 - val_accuracy: 0.7470\n",
            "Epoch 33/250\n",
            "75/75 [==============================] - 1s 9ms/step - loss: 0.8501 - accuracy: 0.6800 - val_loss: 0.8178 - val_accuracy: 0.6965\n",
            "Epoch 34/250\n",
            "75/75 [==============================] - 1s 9ms/step - loss: 0.7732 - accuracy: 0.6939 - val_loss: 0.7567 - val_accuracy: 0.7386\n",
            "Epoch 35/250\n",
            "75/75 [==============================] - 1s 9ms/step - loss: 0.7371 - accuracy: 0.7175 - val_loss: 0.8546 - val_accuracy: 0.6712\n",
            "Epoch 36/250\n",
            "75/75 [==============================] - 1s 9ms/step - loss: 0.7210 - accuracy: 0.7302 - val_loss: 0.7060 - val_accuracy: 0.7740\n",
            "Epoch 37/250\n",
            "75/75 [==============================] - 1s 9ms/step - loss: 0.7490 - accuracy: 0.7293 - val_loss: 0.6822 - val_accuracy: 0.7572\n",
            "Epoch 38/250\n",
            "75/75 [==============================] - 1s 9ms/step - loss: 0.6741 - accuracy: 0.7525 - val_loss: 0.7133 - val_accuracy: 0.7707\n",
            "Epoch 39/250\n",
            "75/75 [==============================] - 1s 10ms/step - loss: 0.6431 - accuracy: 0.7618 - val_loss: 0.7160 - val_accuracy: 0.7369\n",
            "Epoch 40/250\n",
            "75/75 [==============================] - 1s 12ms/step - loss: 0.6536 - accuracy: 0.7572 - val_loss: 0.7100 - val_accuracy: 0.7774\n",
            "Epoch 41/250\n",
            "75/75 [==============================] - 1s 12ms/step - loss: 0.7462 - accuracy: 0.7213 - val_loss: 0.7905 - val_accuracy: 0.7234\n",
            "Epoch 42/250\n",
            "75/75 [==============================] - 1s 9ms/step - loss: 0.6433 - accuracy: 0.7614 - val_loss: 0.8579 - val_accuracy: 0.6880\n",
            "Epoch 43/250\n",
            "75/75 [==============================] - 1s 9ms/step - loss: 0.7005 - accuracy: 0.7492 - val_loss: 0.8009 - val_accuracy: 0.7218\n",
            "Epoch 44/250\n",
            "75/75 [==============================] - 1s 9ms/step - loss: 0.6524 - accuracy: 0.7711 - val_loss: 0.8265 - val_accuracy: 0.6965\n",
            "Epoch 45/250\n",
            "75/75 [==============================] - 1s 9ms/step - loss: 0.6152 - accuracy: 0.7740 - val_loss: 0.6303 - val_accuracy: 0.7892\n",
            "Epoch 46/250\n",
            "75/75 [==============================] - 1s 8ms/step - loss: 0.6286 - accuracy: 0.7707 - val_loss: 0.6278 - val_accuracy: 0.7622\n",
            "Epoch 47/250\n",
            "75/75 [==============================] - 1s 9ms/step - loss: 0.6018 - accuracy: 0.7850 - val_loss: 0.8608 - val_accuracy: 0.7099\n",
            "Epoch 48/250\n",
            "75/75 [==============================] - 1s 9ms/step - loss: 0.6649 - accuracy: 0.7475 - val_loss: 0.7273 - val_accuracy: 0.7319\n",
            "Epoch 49/250\n",
            "75/75 [==============================] - 1s 13ms/step - loss: 0.6944 - accuracy: 0.7399 - val_loss: 0.6741 - val_accuracy: 0.7605\n",
            "Epoch 50/250\n",
            "75/75 [==============================] - 1s 11ms/step - loss: 0.5855 - accuracy: 0.7854 - val_loss: 0.5831 - val_accuracy: 0.8027\n",
            "Epoch 51/250\n",
            "75/75 [==============================] - 1s 12ms/step - loss: 0.5638 - accuracy: 0.7917 - val_loss: 0.5937 - val_accuracy: 0.7976\n",
            "Epoch 52/250\n",
            "75/75 [==============================] - 1s 9ms/step - loss: 0.5651 - accuracy: 0.7909 - val_loss: 0.5334 - val_accuracy: 0.8297\n",
            "Epoch 53/250\n",
            "75/75 [==============================] - 1s 9ms/step - loss: 0.5492 - accuracy: 0.7985 - val_loss: 0.5942 - val_accuracy: 0.7841\n",
            "Epoch 54/250\n",
            "75/75 [==============================] - 1s 8ms/step - loss: 0.7936 - accuracy: 0.7331 - val_loss: 1.2025 - val_accuracy: 0.5902\n",
            "Epoch 55/250\n",
            "75/75 [==============================] - 1s 12ms/step - loss: 0.7870 - accuracy: 0.6931 - val_loss: 0.7055 - val_accuracy: 0.7454\n",
            "Epoch 56/250\n",
            "75/75 [==============================] - 1s 13ms/step - loss: 0.6435 - accuracy: 0.7643 - val_loss: 0.7412 - val_accuracy: 0.7369\n",
            "Epoch 57/250\n",
            "75/75 [==============================] - 1s 10ms/step - loss: 0.6280 - accuracy: 0.7694 - val_loss: 0.6127 - val_accuracy: 0.7926\n",
            "Epoch 58/250\n",
            "75/75 [==============================] - 1s 9ms/step - loss: 0.5796 - accuracy: 0.7922 - val_loss: 0.5953 - val_accuracy: 0.8044\n",
            "Epoch 59/250\n",
            "75/75 [==============================] - 1s 9ms/step - loss: 0.5069 - accuracy: 0.8162 - val_loss: 0.4944 - val_accuracy: 0.8297\n",
            "Epoch 60/250\n",
            "75/75 [==============================] - 1s 9ms/step - loss: 0.5374 - accuracy: 0.8069 - val_loss: 0.6210 - val_accuracy: 0.7437\n",
            "Epoch 61/250\n",
            "75/75 [==============================] - 1s 9ms/step - loss: 0.5582 - accuracy: 0.7850 - val_loss: 0.5002 - val_accuracy: 0.8229\n",
            "Epoch 62/250\n",
            "75/75 [==============================] - 1s 9ms/step - loss: 0.5004 - accuracy: 0.8170 - val_loss: 0.5630 - val_accuracy: 0.7892\n",
            "Epoch 63/250\n",
            "75/75 [==============================] - 1s 9ms/step - loss: 0.5116 - accuracy: 0.8031 - val_loss: 0.5473 - val_accuracy: 0.7605\n",
            "Epoch 64/250\n",
            "75/75 [==============================] - 1s 9ms/step - loss: 0.4338 - accuracy: 0.8394 - val_loss: 0.4930 - val_accuracy: 0.8094\n",
            "Epoch 65/250\n",
            "75/75 [==============================] - 1s 9ms/step - loss: 0.4633 - accuracy: 0.8191 - val_loss: 0.4108 - val_accuracy: 0.8482\n",
            "Epoch 66/250\n",
            "75/75 [==============================] - 1s 9ms/step - loss: 0.5140 - accuracy: 0.8255 - val_loss: 0.5124 - val_accuracy: 0.7926\n",
            "Epoch 67/250\n",
            "75/75 [==============================] - 1s 9ms/step - loss: 0.4933 - accuracy: 0.8175 - val_loss: 0.4723 - val_accuracy: 0.8297\n",
            "Epoch 68/250\n",
            "75/75 [==============================] - 1s 9ms/step - loss: 0.6486 - accuracy: 0.7694 - val_loss: 0.9446 - val_accuracy: 0.7538\n",
            "Epoch 69/250\n",
            "75/75 [==============================] - 1s 14ms/step - loss: 0.6466 - accuracy: 0.7820 - val_loss: 0.5861 - val_accuracy: 0.7943\n",
            "Epoch 70/250\n",
            "75/75 [==============================] - 1s 18ms/step - loss: 1.1106 - accuracy: 0.7976 - val_loss: 0.9636 - val_accuracy: 0.7083\n",
            "Epoch 71/250\n",
            "75/75 [==============================] - 1s 20ms/step - loss: 0.5981 - accuracy: 0.7875 - val_loss: 0.4827 - val_accuracy: 0.8111\n",
            "Epoch 72/250\n",
            "75/75 [==============================] - 1s 18ms/step - loss: 0.5002 - accuracy: 0.8061 - val_loss: 0.4454 - val_accuracy: 0.8196\n",
            "Epoch 73/250\n",
            "75/75 [==============================] - 1s 9ms/step - loss: 0.4522 - accuracy: 0.8234 - val_loss: 0.4573 - val_accuracy: 0.8246\n",
            "Epoch 74/250\n",
            "75/75 [==============================] - 1s 9ms/step - loss: 0.4934 - accuracy: 0.8145 - val_loss: 0.5790 - val_accuracy: 0.7673\n",
            "Epoch 75/250\n",
            "75/75 [==============================] - 1s 9ms/step - loss: 0.4281 - accuracy: 0.8314 - val_loss: 0.4610 - val_accuracy: 0.8162\n",
            "Epoch 76/250\n",
            "75/75 [==============================] - 1s 9ms/step - loss: 0.4055 - accuracy: 0.8419 - val_loss: 0.3934 - val_accuracy: 0.8499\n",
            "Epoch 77/250\n",
            "75/75 [==============================] - 1s 9ms/step - loss: 0.3956 - accuracy: 0.8512 - val_loss: 0.4733 - val_accuracy: 0.8128\n",
            "Epoch 78/250\n",
            "75/75 [==============================] - 1s 9ms/step - loss: 0.3850 - accuracy: 0.8440 - val_loss: 0.4026 - val_accuracy: 0.8482\n",
            "Epoch 79/250\n",
            "75/75 [==============================] - 1s 9ms/step - loss: 0.4010 - accuracy: 0.8524 - val_loss: 0.4134 - val_accuracy: 0.8246\n",
            "Epoch 80/250\n",
            "75/75 [==============================] - 1s 9ms/step - loss: 0.3791 - accuracy: 0.8579 - val_loss: 0.5210 - val_accuracy: 0.8010\n",
            "Epoch 81/250\n",
            "75/75 [==============================] - 1s 9ms/step - loss: 0.4192 - accuracy: 0.8394 - val_loss: 0.4618 - val_accuracy: 0.8145\n",
            "Epoch 82/250\n",
            "75/75 [==============================] - 1s 9ms/step - loss: 0.3594 - accuracy: 0.8630 - val_loss: 0.3644 - val_accuracy: 0.8583\n",
            "Epoch 83/250\n",
            "75/75 [==============================] - 1s 9ms/step - loss: 0.3635 - accuracy: 0.8613 - val_loss: 0.4325 - val_accuracy: 0.8179\n",
            "Epoch 84/250\n",
            "75/75 [==============================] - 1s 9ms/step - loss: 0.7094 - accuracy: 0.7458 - val_loss: 0.6297 - val_accuracy: 0.7841\n",
            "Epoch 85/250\n",
            "75/75 [==============================] - 1s 9ms/step - loss: 0.5152 - accuracy: 0.8238 - val_loss: 0.5179 - val_accuracy: 0.8162\n",
            "Epoch 86/250\n",
            "75/75 [==============================] - 1s 11ms/step - loss: 0.4557 - accuracy: 0.8305 - val_loss: 0.4723 - val_accuracy: 0.8010\n",
            "Epoch 87/250\n",
            "75/75 [==============================] - 1s 12ms/step - loss: 0.4086 - accuracy: 0.8465 - val_loss: 0.4296 - val_accuracy: 0.8162\n",
            "Epoch 88/250\n",
            "75/75 [==============================] - 1s 10ms/step - loss: 0.3624 - accuracy: 0.8550 - val_loss: 0.3945 - val_accuracy: 0.8297\n",
            "Epoch 89/250\n",
            "75/75 [==============================] - 1s 9ms/step - loss: 0.4909 - accuracy: 0.8263 - val_loss: 0.5421 - val_accuracy: 0.7858\n",
            "Epoch 90/250\n",
            "75/75 [==============================] - 1s 9ms/step - loss: 0.4254 - accuracy: 0.8373 - val_loss: 0.4342 - val_accuracy: 0.8196\n",
            "Epoch 91/250\n",
            "75/75 [==============================] - 1s 9ms/step - loss: 0.3556 - accuracy: 0.8554 - val_loss: 0.4030 - val_accuracy: 0.8499\n",
            "Epoch 92/250\n",
            "75/75 [==============================] - 1s 9ms/step - loss: 0.3577 - accuracy: 0.8579 - val_loss: 0.4069 - val_accuracy: 0.8398\n",
            "Epoch 93/250\n",
            "75/75 [==============================] - 1s 10ms/step - loss: 0.3624 - accuracy: 0.8592 - val_loss: 0.3774 - val_accuracy: 0.8550\n",
            "Epoch 94/250\n",
            "75/75 [==============================] - 1s 9ms/step - loss: 0.3163 - accuracy: 0.8752 - val_loss: 0.8578 - val_accuracy: 0.7319\n",
            "Epoch 95/250\n",
            "75/75 [==============================] - 1s 9ms/step - loss: 0.3793 - accuracy: 0.8558 - val_loss: 0.3996 - val_accuracy: 0.8449\n",
            "Epoch 96/250\n",
            "75/75 [==============================] - 1s 9ms/step - loss: 0.3285 - accuracy: 0.8828 - val_loss: 0.5388 - val_accuracy: 0.8111\n",
            "Epoch 97/250\n",
            "75/75 [==============================] - 1s 9ms/step - loss: 0.4080 - accuracy: 0.8423 - val_loss: 0.3972 - val_accuracy: 0.8449\n",
            "Epoch 98/250\n",
            "75/75 [==============================] - 1s 9ms/step - loss: 0.3256 - accuracy: 0.8752 - val_loss: 0.3940 - val_accuracy: 0.8583\n",
            "Epoch 99/250\n",
            "75/75 [==============================] - 1s 9ms/step - loss: 0.3686 - accuracy: 0.8617 - val_loss: 0.5291 - val_accuracy: 0.7791\n",
            "Epoch 100/250\n",
            "75/75 [==============================] - 1s 9ms/step - loss: 0.3521 - accuracy: 0.8546 - val_loss: 0.4257 - val_accuracy: 0.8314\n",
            "Epoch 101/250\n",
            "75/75 [==============================] - 1s 10ms/step - loss: 0.3098 - accuracy: 0.8744 - val_loss: 0.4159 - val_accuracy: 0.8567\n",
            "Epoch 102/250\n",
            "75/75 [==============================] - 1s 9ms/step - loss: 0.2983 - accuracy: 0.8836 - val_loss: 0.4558 - val_accuracy: 0.8179\n",
            "Epoch 103/250\n",
            "75/75 [==============================] - 1s 12ms/step - loss: 0.2995 - accuracy: 0.8891 - val_loss: 0.3798 - val_accuracy: 0.8651\n",
            "Epoch 104/250\n",
            "75/75 [==============================] - 1s 12ms/step - loss: 0.3699 - accuracy: 0.8567 - val_loss: 0.4846 - val_accuracy: 0.8094\n",
            "Epoch 105/250\n",
            "75/75 [==============================] - 1s 9ms/step - loss: 0.3023 - accuracy: 0.8777 - val_loss: 0.3449 - val_accuracy: 0.8533\n",
            "Epoch 106/250\n",
            "75/75 [==============================] - 1s 9ms/step - loss: 0.3210 - accuracy: 0.8735 - val_loss: 0.3477 - val_accuracy: 0.8836\n",
            "Epoch 107/250\n",
            "75/75 [==============================] - 1s 9ms/step - loss: 0.3072 - accuracy: 0.8836 - val_loss: 0.4049 - val_accuracy: 0.8465\n",
            "Epoch 108/250\n",
            "75/75 [==============================] - 1s 9ms/step - loss: 0.3318 - accuracy: 0.8613 - val_loss: 0.4338 - val_accuracy: 0.8465\n",
            "Epoch 109/250\n",
            "75/75 [==============================] - 1s 9ms/step - loss: 0.3203 - accuracy: 0.8702 - val_loss: 0.3917 - val_accuracy: 0.8465\n",
            "Epoch 110/250\n",
            "75/75 [==============================] - 1s 9ms/step - loss: 0.2935 - accuracy: 0.8862 - val_loss: 0.4306 - val_accuracy: 0.8145\n",
            "Epoch 111/250\n",
            "75/75 [==============================] - 1s 9ms/step - loss: 0.3321 - accuracy: 0.8735 - val_loss: 0.4606 - val_accuracy: 0.8314\n",
            "Epoch 112/250\n",
            "75/75 [==============================] - 1s 9ms/step - loss: 0.3539 - accuracy: 0.8626 - val_loss: 0.3671 - val_accuracy: 0.8617\n",
            "Epoch 113/250\n",
            "75/75 [==============================] - 1s 10ms/step - loss: 0.2822 - accuracy: 0.8891 - val_loss: 0.3423 - val_accuracy: 0.8702\n",
            "Epoch 114/250\n",
            "75/75 [==============================] - 1s 9ms/step - loss: 0.3001 - accuracy: 0.8807 - val_loss: 0.3890 - val_accuracy: 0.8482\n",
            "Epoch 115/250\n",
            "75/75 [==============================] - 1s 9ms/step - loss: 0.2773 - accuracy: 0.8917 - val_loss: 0.3685 - val_accuracy: 0.8499\n",
            "Epoch 116/250\n",
            "75/75 [==============================] - 1s 11ms/step - loss: 0.2811 - accuracy: 0.8917 - val_loss: 0.4343 - val_accuracy: 0.8398\n",
            "Epoch 117/250\n",
            "75/75 [==============================] - 1s 10ms/step - loss: 0.2847 - accuracy: 0.8828 - val_loss: 0.4468 - val_accuracy: 0.8381\n",
            "Epoch 118/250\n",
            "75/75 [==============================] - 1s 9ms/step - loss: 0.3331 - accuracy: 0.8676 - val_loss: 0.3783 - val_accuracy: 0.8550\n",
            "Epoch 119/250\n",
            "75/75 [==============================] - 1s 13ms/step - loss: 0.2587 - accuracy: 0.8997 - val_loss: 0.3894 - val_accuracy: 0.8533\n",
            "Epoch 120/250\n",
            "75/75 [==============================] - 1s 12ms/step - loss: 0.2736 - accuracy: 0.8900 - val_loss: 0.6058 - val_accuracy: 0.7909\n",
            "Epoch 121/250\n",
            "75/75 [==============================] - 1s 10ms/step - loss: 0.2619 - accuracy: 0.8963 - val_loss: 0.3410 - val_accuracy: 0.8651\n",
            "Epoch 122/250\n",
            "75/75 [==============================] - 1s 10ms/step - loss: 0.2744 - accuracy: 0.8967 - val_loss: 0.5283 - val_accuracy: 0.8145\n",
            "Epoch 123/250\n",
            "75/75 [==============================] - 1s 9ms/step - loss: 0.4461 - accuracy: 0.8364 - val_loss: 0.3730 - val_accuracy: 0.8600\n",
            "Epoch 124/250\n",
            "75/75 [==============================] - 1s 9ms/step - loss: 0.2930 - accuracy: 0.8967 - val_loss: 0.3892 - val_accuracy: 0.8415\n",
            "Epoch 125/250\n",
            "75/75 [==============================] - 1s 9ms/step - loss: 0.2978 - accuracy: 0.8858 - val_loss: 0.3347 - val_accuracy: 0.8668\n",
            "Epoch 126/250\n",
            "75/75 [==============================] - 1s 9ms/step - loss: 0.2627 - accuracy: 0.8992 - val_loss: 0.3808 - val_accuracy: 0.8482\n",
            "Epoch 127/250\n",
            "75/75 [==============================] - 1s 9ms/step - loss: 0.3396 - accuracy: 0.8689 - val_loss: 0.3758 - val_accuracy: 0.8567\n",
            "Epoch 128/250\n",
            "75/75 [==============================] - 1s 9ms/step - loss: 0.2664 - accuracy: 0.8976 - val_loss: 0.5217 - val_accuracy: 0.8196\n",
            "Epoch 129/250\n",
            "75/75 [==============================] - 1s 9ms/step - loss: 0.2971 - accuracy: 0.8815 - val_loss: 0.3413 - val_accuracy: 0.8685\n",
            "Epoch 130/250\n",
            "75/75 [==============================] - 1s 9ms/step - loss: 0.2551 - accuracy: 0.8980 - val_loss: 0.3425 - val_accuracy: 0.8600\n",
            "Epoch 131/250\n",
            "75/75 [==============================] - 1s 9ms/step - loss: 0.3046 - accuracy: 0.8794 - val_loss: 0.3352 - val_accuracy: 0.8702\n",
            "Epoch 132/250\n",
            "75/75 [==============================] - 1s 9ms/step - loss: 0.2595 - accuracy: 0.8976 - val_loss: 0.3621 - val_accuracy: 0.8567\n",
            "Epoch 133/250\n",
            "75/75 [==============================] - 1s 9ms/step - loss: 0.2405 - accuracy: 0.9009 - val_loss: 0.3625 - val_accuracy: 0.8651\n",
            "Epoch 134/250\n",
            "75/75 [==============================] - 1s 9ms/step - loss: 0.2697 - accuracy: 0.8942 - val_loss: 0.3819 - val_accuracy: 0.8465\n",
            "Epoch 135/250\n",
            "75/75 [==============================] - 1s 11ms/step - loss: 0.2689 - accuracy: 0.8976 - val_loss: 0.3906 - val_accuracy: 0.8533\n",
            "Epoch 136/250\n",
            "75/75 [==============================] - 1s 13ms/step - loss: 0.2450 - accuracy: 0.8950 - val_loss: 0.3101 - val_accuracy: 0.8702\n",
            "Epoch 137/250\n",
            "75/75 [==============================] - 1s 12ms/step - loss: 0.2408 - accuracy: 0.9047 - val_loss: 0.5798 - val_accuracy: 0.8027\n",
            "Epoch 138/250\n",
            "75/75 [==============================] - 1s 9ms/step - loss: 0.2882 - accuracy: 0.8870 - val_loss: 0.4764 - val_accuracy: 0.8179\n",
            "Epoch 139/250\n",
            "75/75 [==============================] - 1s 8ms/step - loss: 0.3116 - accuracy: 0.8761 - val_loss: 0.3438 - val_accuracy: 0.8651\n",
            "Epoch 140/250\n",
            "75/75 [==============================] - 1s 10ms/step - loss: 0.2473 - accuracy: 0.9001 - val_loss: 0.3261 - val_accuracy: 0.8752\n",
            "Epoch 141/250\n",
            "75/75 [==============================] - 1s 10ms/step - loss: 0.2706 - accuracy: 0.8959 - val_loss: 0.4184 - val_accuracy: 0.8516\n",
            "Epoch 142/250\n",
            "75/75 [==============================] - 1s 9ms/step - loss: 0.2914 - accuracy: 0.8832 - val_loss: 0.3784 - val_accuracy: 0.8702\n",
            "Epoch 143/250\n",
            "75/75 [==============================] - 1s 10ms/step - loss: 0.2496 - accuracy: 0.8954 - val_loss: 0.3226 - val_accuracy: 0.8820\n",
            "Epoch 144/250\n",
            "75/75 [==============================] - 1s 10ms/step - loss: 0.2333 - accuracy: 0.9068 - val_loss: 0.3601 - val_accuracy: 0.8702\n",
            "Epoch 145/250\n",
            "75/75 [==============================] - 1s 10ms/step - loss: 0.2247 - accuracy: 0.9123 - val_loss: 0.3396 - val_accuracy: 0.8803\n",
            "Epoch 146/250\n",
            "75/75 [==============================] - 1s 9ms/step - loss: 0.2773 - accuracy: 0.9132 - val_loss: 0.5438 - val_accuracy: 0.8196\n",
            "Epoch 147/250\n",
            "75/75 [==============================] - 1s 10ms/step - loss: 0.3116 - accuracy: 0.8811 - val_loss: 0.3148 - val_accuracy: 0.8853\n",
            "Epoch 148/250\n",
            "75/75 [==============================] - 1s 9ms/step - loss: 0.2475 - accuracy: 0.9064 - val_loss: 0.3781 - val_accuracy: 0.8567\n",
            "Epoch 149/250\n",
            "75/75 [==============================] - 1s 9ms/step - loss: 0.2178 - accuracy: 0.9140 - val_loss: 0.4392 - val_accuracy: 0.8449\n",
            "Epoch 150/250\n",
            "75/75 [==============================] - 1s 10ms/step - loss: 0.2984 - accuracy: 0.8845 - val_loss: 0.3897 - val_accuracy: 0.8499\n",
            "Epoch 151/250\n",
            "75/75 [==============================] - 1s 10ms/step - loss: 0.2194 - accuracy: 0.9127 - val_loss: 0.3551 - val_accuracy: 0.8634\n",
            "Epoch 152/250\n",
            "75/75 [==============================] - 1s 13ms/step - loss: 0.2241 - accuracy: 0.9098 - val_loss: 0.3608 - val_accuracy: 0.8550\n",
            "Epoch 153/250\n",
            "75/75 [==============================] - 1s 12ms/step - loss: 0.2247 - accuracy: 0.9140 - val_loss: 0.3206 - val_accuracy: 0.8718\n",
            "Epoch 154/250\n",
            "75/75 [==============================] - 1s 9ms/step - loss: 0.2321 - accuracy: 0.9026 - val_loss: 0.3072 - val_accuracy: 0.8820\n",
            "Epoch 155/250\n",
            "75/75 [==============================] - 1s 10ms/step - loss: 0.2366 - accuracy: 0.9064 - val_loss: 0.5732 - val_accuracy: 0.8179\n",
            "Epoch 156/250\n",
            "75/75 [==============================] - 1s 9ms/step - loss: 0.2402 - accuracy: 0.9039 - val_loss: 0.4260 - val_accuracy: 0.8668\n",
            "Epoch 157/250\n",
            "75/75 [==============================] - 1s 9ms/step - loss: 0.2496 - accuracy: 0.9013 - val_loss: 0.3477 - val_accuracy: 0.8718\n",
            "Epoch 158/250\n",
            "75/75 [==============================] - 1s 9ms/step - loss: 0.2250 - accuracy: 0.9119 - val_loss: 0.3462 - val_accuracy: 0.8820\n",
            "Epoch 159/250\n",
            "75/75 [==============================] - 1s 9ms/step - loss: 0.2184 - accuracy: 0.9102 - val_loss: 0.3729 - val_accuracy: 0.8685\n",
            "Epoch 160/250\n",
            "75/75 [==============================] - 1s 9ms/step - loss: 0.2780 - accuracy: 0.8891 - val_loss: 0.3099 - val_accuracy: 0.8786\n",
            "Epoch 161/250\n",
            "75/75 [==============================] - 1s 9ms/step - loss: 0.1950 - accuracy: 0.9262 - val_loss: 0.4681 - val_accuracy: 0.8600\n",
            "Epoch 162/250\n",
            "75/75 [==============================] - 1s 9ms/step - loss: 0.2094 - accuracy: 0.9106 - val_loss: 0.3449 - val_accuracy: 0.8752\n",
            "Epoch 163/250\n",
            "75/75 [==============================] - 1s 10ms/step - loss: 0.1967 - accuracy: 0.9182 - val_loss: 0.3722 - val_accuracy: 0.8685\n",
            "Epoch 164/250\n",
            "75/75 [==============================] - 1s 10ms/step - loss: 0.2227 - accuracy: 0.9098 - val_loss: 0.4331 - val_accuracy: 0.8718\n",
            "Epoch 165/250\n",
            "75/75 [==============================] - 1s 10ms/step - loss: 0.1945 - accuracy: 0.9228 - val_loss: 0.4264 - val_accuracy: 0.8600\n",
            "Epoch 166/250\n",
            "75/75 [==============================] - 1s 9ms/step - loss: 0.2145 - accuracy: 0.9081 - val_loss: 0.5080 - val_accuracy: 0.8061\n",
            "Epoch 167/250\n",
            "75/75 [==============================] - 1s 10ms/step - loss: 0.2409 - accuracy: 0.9106 - val_loss: 0.3165 - val_accuracy: 0.8971\n",
            "Epoch 168/250\n",
            "75/75 [==============================] - 1s 13ms/step - loss: 0.2138 - accuracy: 0.9123 - val_loss: 0.3548 - val_accuracy: 0.8803\n",
            "Epoch 169/250\n",
            "75/75 [==============================] - 1s 12ms/step - loss: 0.3016 - accuracy: 0.8933 - val_loss: 0.3689 - val_accuracy: 0.8921\n",
            "Epoch 170/250\n",
            "75/75 [==============================] - 1s 9ms/step - loss: 0.2612 - accuracy: 0.8967 - val_loss: 0.2886 - val_accuracy: 0.9005\n",
            "Epoch 171/250\n",
            "75/75 [==============================] - 1s 9ms/step - loss: 0.1855 - accuracy: 0.9258 - val_loss: 0.3585 - val_accuracy: 0.8904\n",
            "Epoch 172/250\n",
            "75/75 [==============================] - 1s 9ms/step - loss: 0.2071 - accuracy: 0.9178 - val_loss: 0.3705 - val_accuracy: 0.8651\n",
            "Epoch 173/250\n",
            "75/75 [==============================] - 1s 10ms/step - loss: 0.1779 - accuracy: 0.9296 - val_loss: 0.3823 - val_accuracy: 0.8904\n",
            "Epoch 174/250\n",
            "75/75 [==============================] - 1s 9ms/step - loss: 0.1819 - accuracy: 0.9262 - val_loss: 0.4214 - val_accuracy: 0.8718\n",
            "Epoch 175/250\n",
            "75/75 [==============================] - 1s 8ms/step - loss: 0.1966 - accuracy: 0.9203 - val_loss: 0.3542 - val_accuracy: 0.8752\n",
            "Epoch 176/250\n",
            "75/75 [==============================] - 1s 9ms/step - loss: 0.1945 - accuracy: 0.9195 - val_loss: 0.3258 - val_accuracy: 0.8820\n",
            "Epoch 177/250\n",
            "75/75 [==============================] - 1s 9ms/step - loss: 0.1994 - accuracy: 0.9207 - val_loss: 0.4084 - val_accuracy: 0.8735\n",
            "Epoch 178/250\n",
            "75/75 [==============================] - 1s 9ms/step - loss: 0.1705 - accuracy: 0.9334 - val_loss: 0.3916 - val_accuracy: 0.8820\n",
            "Epoch 179/250\n",
            "75/75 [==============================] - 1s 10ms/step - loss: 0.1893 - accuracy: 0.9224 - val_loss: 0.3306 - val_accuracy: 0.8853\n",
            "Epoch 180/250\n",
            "75/75 [==============================] - 1s 9ms/step - loss: 0.2580 - accuracy: 0.9005 - val_loss: 0.4304 - val_accuracy: 0.8449\n",
            "Epoch 181/250\n",
            "75/75 [==============================] - 1s 9ms/step - loss: 0.2321 - accuracy: 0.9089 - val_loss: 0.3646 - val_accuracy: 0.8836\n",
            "Epoch 182/250\n",
            "75/75 [==============================] - 1s 9ms/step - loss: 0.1861 - accuracy: 0.9207 - val_loss: 0.3670 - val_accuracy: 0.8870\n",
            "Epoch 183/250\n",
            "75/75 [==============================] - 1s 9ms/step - loss: 0.1755 - accuracy: 0.9304 - val_loss: 0.3034 - val_accuracy: 0.8971\n",
            "Epoch 184/250\n",
            "75/75 [==============================] - 1s 13ms/step - loss: 0.1576 - accuracy: 0.9355 - val_loss: 0.2953 - val_accuracy: 0.9106\n",
            "Epoch 185/250\n",
            "75/75 [==============================] - 1s 14ms/step - loss: 0.1465 - accuracy: 0.9376 - val_loss: 0.4052 - val_accuracy: 0.8752\n",
            "Epoch 186/250\n",
            "75/75 [==============================] - 1s 9ms/step - loss: 0.1732 - accuracy: 0.9355 - val_loss: 0.4301 - val_accuracy: 0.8836\n",
            "Epoch 187/250\n",
            "75/75 [==============================] - 1s 9ms/step - loss: 0.1790 - accuracy: 0.9300 - val_loss: 0.3186 - val_accuracy: 0.8954\n",
            "Epoch 188/250\n",
            "75/75 [==============================] - 1s 10ms/step - loss: 0.1933 - accuracy: 0.9288 - val_loss: 0.5821 - val_accuracy: 0.8415\n",
            "Epoch 189/250\n",
            "75/75 [==============================] - 1s 9ms/step - loss: 0.2148 - accuracy: 0.9220 - val_loss: 0.2978 - val_accuracy: 0.9140\n",
            "Epoch 190/250\n",
            "75/75 [==============================] - 1s 9ms/step - loss: 0.1703 - accuracy: 0.9266 - val_loss: 0.4373 - val_accuracy: 0.8803\n",
            "Epoch 191/250\n",
            "75/75 [==============================] - 1s 9ms/step - loss: 0.1839 - accuracy: 0.9325 - val_loss: 0.3548 - val_accuracy: 0.8853\n",
            "Epoch 192/250\n",
            "75/75 [==============================] - 1s 9ms/step - loss: 0.1419 - accuracy: 0.9456 - val_loss: 0.4087 - val_accuracy: 0.8820\n",
            "Epoch 193/250\n",
            "75/75 [==============================] - 1s 8ms/step - loss: 0.1807 - accuracy: 0.9292 - val_loss: 0.3508 - val_accuracy: 0.8971\n",
            "Epoch 194/250\n",
            "75/75 [==============================] - 1s 9ms/step - loss: 0.1760 - accuracy: 0.9309 - val_loss: 0.3230 - val_accuracy: 0.9005\n",
            "Epoch 195/250\n",
            "75/75 [==============================] - 1s 10ms/step - loss: 0.1874 - accuracy: 0.9258 - val_loss: 0.6548 - val_accuracy: 0.8887\n",
            "Epoch 196/250\n",
            "75/75 [==============================] - 1s 9ms/step - loss: 0.1789 - accuracy: 0.9359 - val_loss: 0.4289 - val_accuracy: 0.8718\n",
            "Epoch 197/250\n",
            "75/75 [==============================] - 1s 9ms/step - loss: 0.1546 - accuracy: 0.9414 - val_loss: 0.3759 - val_accuracy: 0.8938\n",
            "Epoch 198/250\n",
            "75/75 [==============================] - 1s 9ms/step - loss: 0.1808 - accuracy: 0.9313 - val_loss: 0.3490 - val_accuracy: 0.8887\n",
            "Epoch 199/250\n",
            "75/75 [==============================] - 1s 9ms/step - loss: 0.2390 - accuracy: 0.9094 - val_loss: 0.4301 - val_accuracy: 0.8803\n",
            "Epoch 200/250\n",
            "75/75 [==============================] - 1s 11ms/step - loss: 0.2023 - accuracy: 0.9266 - val_loss: 0.3411 - val_accuracy: 0.8971\n",
            "Epoch 201/250\n",
            "75/75 [==============================] - 1s 13ms/step - loss: 0.1547 - accuracy: 0.9325 - val_loss: 0.3320 - val_accuracy: 0.8988\n",
            "Epoch 202/250\n",
            "75/75 [==============================] - 1s 10ms/step - loss: 0.1520 - accuracy: 0.9410 - val_loss: 0.3215 - val_accuracy: 0.8938\n",
            "Epoch 203/250\n",
            "75/75 [==============================] - 1s 10ms/step - loss: 0.1551 - accuracy: 0.9414 - val_loss: 0.3464 - val_accuracy: 0.8904\n",
            "Epoch 204/250\n",
            "75/75 [==============================] - 1s 9ms/step - loss: 0.1381 - accuracy: 0.9439 - val_loss: 0.3844 - val_accuracy: 0.8870\n",
            "Epoch 205/250\n",
            "75/75 [==============================] - 1s 9ms/step - loss: 0.1500 - accuracy: 0.9452 - val_loss: 0.3473 - val_accuracy: 0.8752\n",
            "Epoch 206/250\n",
            "75/75 [==============================] - 1s 10ms/step - loss: 0.1313 - accuracy: 0.9473 - val_loss: 0.4450 - val_accuracy: 0.8803\n",
            "Epoch 207/250\n",
            "75/75 [==============================] - 1s 10ms/step - loss: 0.1462 - accuracy: 0.9460 - val_loss: 0.3501 - val_accuracy: 0.9022\n",
            "Epoch 208/250\n",
            "75/75 [==============================] - 1s 10ms/step - loss: 0.7954 - accuracy: 0.9418 - val_loss: 1.8506 - val_accuracy: 0.7251\n",
            "Epoch 209/250\n",
            "75/75 [==============================] - 1s 9ms/step - loss: 0.6986 - accuracy: 0.7947 - val_loss: 0.5188 - val_accuracy: 0.8162\n",
            "Epoch 210/250\n",
            "75/75 [==============================] - 1s 9ms/step - loss: 0.4075 - accuracy: 0.8583 - val_loss: 0.4609 - val_accuracy: 0.8651\n",
            "Epoch 211/250\n",
            "75/75 [==============================] - 1s 9ms/step - loss: 0.3980 - accuracy: 0.8655 - val_loss: 0.4046 - val_accuracy: 0.8516\n",
            "Epoch 212/250\n",
            "75/75 [==============================] - 1s 9ms/step - loss: 0.2963 - accuracy: 0.8870 - val_loss: 0.4030 - val_accuracy: 0.8702\n",
            "Epoch 213/250\n",
            "75/75 [==============================] - 1s 9ms/step - loss: 0.2692 - accuracy: 0.8938 - val_loss: 0.3476 - val_accuracy: 0.8820\n",
            "Epoch 214/250\n",
            "75/75 [==============================] - 1s 9ms/step - loss: 0.2223 - accuracy: 0.9060 - val_loss: 0.3864 - val_accuracy: 0.8718\n",
            "Epoch 215/250\n",
            "75/75 [==============================] - 1s 9ms/step - loss: 0.2216 - accuracy: 0.9085 - val_loss: 0.5488 - val_accuracy: 0.8381\n",
            "Epoch 216/250\n",
            "75/75 [==============================] - 1s 11ms/step - loss: 0.2091 - accuracy: 0.9191 - val_loss: 0.4053 - val_accuracy: 0.8836\n",
            "Epoch 217/250\n",
            "75/75 [==============================] - 1s 12ms/step - loss: 0.2704 - accuracy: 0.9039 - val_loss: 0.5450 - val_accuracy: 0.8229\n",
            "Epoch 218/250\n",
            "75/75 [==============================] - 1s 12ms/step - loss: 0.2156 - accuracy: 0.9148 - val_loss: 0.3262 - val_accuracy: 0.8971\n",
            "Epoch 219/250\n",
            "75/75 [==============================] - 1s 10ms/step - loss: 0.1755 - accuracy: 0.9271 - val_loss: 0.3778 - val_accuracy: 0.8718\n",
            "Epoch 220/250\n",
            "75/75 [==============================] - 1s 9ms/step - loss: 0.1731 - accuracy: 0.9304 - val_loss: 0.3316 - val_accuracy: 0.9005\n",
            "Epoch 221/250\n",
            "75/75 [==============================] - 1s 9ms/step - loss: 0.1636 - accuracy: 0.9317 - val_loss: 0.3753 - val_accuracy: 0.8938\n",
            "Epoch 222/250\n",
            "75/75 [==============================] - 1s 9ms/step - loss: 0.1638 - accuracy: 0.9393 - val_loss: 0.3014 - val_accuracy: 0.9123\n",
            "Epoch 223/250\n",
            "75/75 [==============================] - 1s 9ms/step - loss: 0.1698 - accuracy: 0.9334 - val_loss: 0.3344 - val_accuracy: 0.8954\n",
            "Epoch 224/250\n",
            "75/75 [==============================] - 1s 10ms/step - loss: 0.1727 - accuracy: 0.9342 - val_loss: 0.3115 - val_accuracy: 0.8988\n",
            "Epoch 225/250\n",
            "75/75 [==============================] - 1s 10ms/step - loss: 0.1397 - accuracy: 0.9465 - val_loss: 0.3828 - val_accuracy: 0.8904\n",
            "Epoch 226/250\n",
            "75/75 [==============================] - 1s 9ms/step - loss: 0.1292 - accuracy: 0.9507 - val_loss: 0.3303 - val_accuracy: 0.9157\n",
            "Epoch 227/250\n",
            "75/75 [==============================] - 1s 9ms/step - loss: 0.1717 - accuracy: 0.9359 - val_loss: 0.4501 - val_accuracy: 0.8567\n",
            "Epoch 228/250\n",
            "75/75 [==============================] - 1s 9ms/step - loss: 0.2022 - accuracy: 0.9237 - val_loss: 0.3755 - val_accuracy: 0.8820\n",
            "Epoch 229/250\n",
            "75/75 [==============================] - 1s 9ms/step - loss: 0.1447 - accuracy: 0.9444 - val_loss: 0.3572 - val_accuracy: 0.8921\n",
            "Epoch 230/250\n",
            "75/75 [==============================] - 1s 10ms/step - loss: 0.1143 - accuracy: 0.9562 - val_loss: 0.4012 - val_accuracy: 0.8904\n",
            "Epoch 231/250\n",
            "75/75 [==============================] - 1s 9ms/step - loss: 0.1312 - accuracy: 0.9519 - val_loss: 0.3707 - val_accuracy: 0.9022\n",
            "Epoch 232/250\n",
            "75/75 [==============================] - 1s 12ms/step - loss: 0.1243 - accuracy: 0.9566 - val_loss: 0.4283 - val_accuracy: 0.8954\n",
            "Epoch 233/250\n",
            "75/75 [==============================] - 1s 13ms/step - loss: 0.1305 - accuracy: 0.9507 - val_loss: 0.3516 - val_accuracy: 0.9022\n",
            "Epoch 234/250\n",
            "75/75 [==============================] - 1s 12ms/step - loss: 0.1348 - accuracy: 0.9469 - val_loss: 0.3901 - val_accuracy: 0.9005\n",
            "Epoch 235/250\n",
            "75/75 [==============================] - 1s 9ms/step - loss: 0.1281 - accuracy: 0.9465 - val_loss: 0.3837 - val_accuracy: 0.9089\n",
            "Epoch 236/250\n",
            "75/75 [==============================] - 1s 10ms/step - loss: 0.1439 - accuracy: 0.9452 - val_loss: 0.4318 - val_accuracy: 0.8735\n",
            "Epoch 237/250\n",
            "75/75 [==============================] - 1s 9ms/step - loss: 0.1648 - accuracy: 0.9338 - val_loss: 0.5053 - val_accuracy: 0.8634\n",
            "Epoch 238/250\n",
            "75/75 [==============================] - 1s 9ms/step - loss: 0.1214 - accuracy: 0.9494 - val_loss: 0.3715 - val_accuracy: 0.9140\n",
            "Epoch 239/250\n",
            "75/75 [==============================] - 1s 9ms/step - loss: 0.1061 - accuracy: 0.9654 - val_loss: 0.4100 - val_accuracy: 0.9123\n",
            "Epoch 240/250\n",
            "75/75 [==============================] - 1s 9ms/step - loss: 0.2319 - accuracy: 0.9153 - val_loss: 0.3891 - val_accuracy: 0.8954\n",
            "Epoch 241/250\n",
            "75/75 [==============================] - 1s 9ms/step - loss: 0.1490 - accuracy: 0.9410 - val_loss: 0.4523 - val_accuracy: 0.8482\n",
            "Epoch 242/250\n",
            "75/75 [==============================] - 1s 9ms/step - loss: 0.3452 - accuracy: 0.9372 - val_loss: 0.5935 - val_accuracy: 0.8685\n",
            "Epoch 243/250\n",
            "75/75 [==============================] - 1s 10ms/step - loss: 0.2070 - accuracy: 0.9283 - val_loss: 1.0500 - val_accuracy: 0.8870\n",
            "Epoch 244/250\n",
            "75/75 [==============================] - 1s 10ms/step - loss: 0.2456 - accuracy: 0.9250 - val_loss: 0.3474 - val_accuracy: 0.9056\n",
            "Epoch 245/250\n",
            "75/75 [==============================] - 1s 10ms/step - loss: 0.1340 - accuracy: 0.9490 - val_loss: 0.4188 - val_accuracy: 0.8786\n",
            "Epoch 246/250\n",
            "75/75 [==============================] - 1s 10ms/step - loss: 0.1285 - accuracy: 0.9511 - val_loss: 0.3916 - val_accuracy: 0.9056\n",
            "Epoch 247/250\n",
            "75/75 [==============================] - 1s 9ms/step - loss: 0.1277 - accuracy: 0.9549 - val_loss: 0.4909 - val_accuracy: 0.9073\n",
            "Epoch 248/250\n",
            "75/75 [==============================] - 1s 10ms/step - loss: 0.1436 - accuracy: 0.9511 - val_loss: 0.3496 - val_accuracy: 0.9089\n",
            "Epoch 249/250\n",
            "75/75 [==============================] - 1s 13ms/step - loss: 0.0991 - accuracy: 0.9625 - val_loss: 0.3519 - val_accuracy: 0.9157\n",
            "Epoch 250/250\n",
            "75/75 [==============================] - 1s 12ms/step - loss: 0.1079 - accuracy: 0.9608 - val_loss: 0.3538 - val_accuracy: 0.9123\n",
            "[0.25716695189476013, 0.3123945891857147, 0.33895447850227356, 0.37521079182624817, 0.4401349127292633, 0.48819562792778015, 0.5337268114089966, 0.5442664623260498, 0.5573355555534363, 0.4477234482765198, 0.40893760323524475, 0.4637436866760254, 0.5075885057449341, 0.5219224095344543, 0.5497470498085022, 0.5564923882484436, 0.5737773776054382, 0.6011804342269897, 0.6441821455955505, 0.5337268114089966, 0.5923271775245667, 0.6623103022575378, 0.637015163898468, 0.6648398041725159, 0.6239460110664368, 0.674957811832428, 0.6922428607940674, 0.7230185270309448, 0.7023608684539795, 0.7242832779884338, 0.6821247935295105, 0.7061551213264465, 0.6800168752670288, 0.6939291954040527, 0.7175379395484924, 0.7301855087280273, 0.7293423414230347, 0.752529501914978, 0.7618044018745422, 0.7571669220924377, 0.7213321924209595, 0.7613828182220459, 0.7491568326950073, 0.7710792422294617, 0.774030327796936, 0.7706576585769653, 0.7849915623664856, 0.747470498085022, 0.7398819327354431, 0.7854131460189819, 0.7917369604110718, 0.7908937335014343, 0.7984822988510132, 0.7331365942955017, 0.6930860280990601, 0.7643339037895203, 0.7693929076194763, 0.7921585440635681, 0.8161888718605042, 0.8069139719009399, 0.7849915623664856, 0.8170320391654968, 0.8031197190284729, 0.8393760323524475, 0.8191399574279785, 0.8254637718200684, 0.8174536228179932, 0.7693929076194763, 0.7820404767990112, 0.7976391315460205, 0.7875210642814636, 0.8060708045959473, 0.8233557939529419, 0.8145025372505188, 0.8313659429550171, 0.8419055938720703, 0.8511804342269897, 0.844013512134552, 0.8524451851844788, 0.8579257726669312, 0.8393760323524475, 0.862984836101532, 0.8612985014915466, 0.7457841634750366, 0.8237773776054382, 0.8305227756500244, 0.84654301404953, 0.8549746870994568, 0.826306939125061, 0.8372681140899658, 0.8553962707519531, 0.8579257726669312, 0.8591905832290649, 0.8752108216285706, 0.8558178544044495, 0.8827993273735046, 0.8423271775245667, 0.8752108216285706, 0.861720085144043, 0.8545531034469604, 0.8743675947189331, 0.8836424946784973, 0.8891230821609497, 0.8566610217094421, 0.8777403235435486, 0.8735244274139404, 0.8836424946784973, 0.8612985014915466, 0.8701517581939697, 0.8861719965934753, 0.8735244274139404, 0.8625632524490356, 0.8891230821609497, 0.880691409111023, 0.8916525840759277, 0.8916525840759277, 0.8827993273735046, 0.8676222562789917, 0.8996627330780029, 0.8899662494659424, 0.8962900638580322, 0.8967116475105286, 0.8364249467849731, 0.8967116475105286, 0.885750412940979, 0.8992411494255066, 0.8688870072364807, 0.8975548148155212, 0.8815345764160156, 0.8979763984680176, 0.8794266581535339, 0.8975548148155212, 0.9009274840354919, 0.8941821455955505, 0.8975548148155212, 0.8950253129005432, 0.904721736907959, 0.887015163898468, 0.8760539889335632, 0.9000843167304993, 0.8958684802055359, 0.883220911026001, 0.8954468965530396, 0.9068296551704407, 0.9123103022575378, 0.9131534695625305, 0.8811129927635193, 0.9064080715179443, 0.9139966368675232, 0.88448566198349, 0.9127318859100342, 0.9097808003425598, 0.9139966368675232, 0.9026138186454773, 0.9064080715179443, 0.9038785696029663, 0.9013490676879883, 0.9118887186050415, 0.9102023839950562, 0.8891230821609497, 0.9262226223945618, 0.9106239676475525, 0.9182124733924866, 0.9097808003425598, 0.9228498935699463, 0.9080944061279297, 0.9106239676475525, 0.9123103022575378, 0.8933389782905579, 0.8967116475105286, 0.9258010387420654, 0.9177908897399902, 0.9295952916145325, 0.9262226223945618, 0.9203203916549683, 0.9194772243499756, 0.9207419753074646, 0.9333895444869995, 0.92242830991745, 0.9005059003829956, 0.9089376330375671, 0.9207419753074646, 0.9304384589195251, 0.9354974627494812, 0.9376053810119629, 0.9354974627494812, 0.9300168752670288, 0.9287521243095398, 0.9220067262649536, 0.9266442060470581, 0.9325463771820068, 0.9456155300140381, 0.9291737079620361, 0.9308600425720215, 0.9258010387420654, 0.9359190464019775, 0.9413996338844299, 0.9312816262245178, 0.9093592166900635, 0.9266442060470581, 0.9325463771820068, 0.9409780502319336, 0.9413996338844299, 0.9439291954040527, 0.9451939463615417, 0.9473018646240234, 0.9460371136665344, 0.941821277141571, 0.7946880459785461, 0.8583474159240723, 0.86551433801651, 0.887015163898468, 0.8937605619430542, 0.905986487865448, 0.9085160493850708, 0.9190556406974792, 0.9038785696029663, 0.9148398041725159, 0.9270657896995544, 0.9304384589195251, 0.9317032098770142, 0.9392917156219482, 0.9333895444869995, 0.9342327117919922, 0.9464586973190308, 0.9506745338439941, 0.9359190464019775, 0.923693060874939, 0.9443507790565491, 0.9561551213264465, 0.9519392848014832, 0.9565767049789429, 0.9506745338439941, 0.9468802809715271, 0.9464586973190308, 0.9451939463615417, 0.9338111281394958, 0.9494097828865051, 0.9654300212860107, 0.9152613878250122, 0.9409780502319336, 0.9371837973594666, 0.9283305406570435, 0.924957811832428, 0.9489881992340088, 0.9510961174964905, 0.9548903703689575, 0.9510961174964905, 0.9624789357185364, 0.960792601108551]\n",
            "[10.926900863647461, 2.434248447418213, 1.8491162061691284, 1.5153570175170898, 1.3124197721481323, 1.1868520975112915, 1.1113179922103882, 1.0737208127975464, 1.0483741760253906, 2.1066784858703613, 2.0283823013305664, 1.1976498365402222, 1.0997220277786255, 1.0571917295455933, 0.9880519509315491, 0.9710426926612854, 0.9340512752532959, 0.8764268755912781, 0.8343862295150757, 1.1095408201217651, 0.9149814248085022, 0.8869393467903137, 0.9195566773414612, 0.8489387035369873, 0.9443131685256958, 0.8289229273796082, 0.7661747932434082, 0.7355483770370483, 0.7833433747291565, 0.7174282073974609, 0.8004400730133057, 0.7626291513442993, 0.8500509858131409, 0.7732416987419128, 0.7370586395263672, 0.7209728360176086, 0.7489693760871887, 0.6741136312484741, 0.6430914402008057, 0.6535980105400085, 0.7461827993392944, 0.6432790160179138, 0.7004526853561401, 0.6523592472076416, 0.6151574850082397, 0.6286128759384155, 0.6018480658531189, 0.6649121046066284, 0.6943885087966919, 0.5854730606079102, 0.5638354420661926, 0.5651150941848755, 0.5492426156997681, 0.7935873866081238, 0.786959707736969, 0.6435060501098633, 0.6279588937759399, 0.5795979499816895, 0.506854236125946, 0.5374212265014648, 0.5581927299499512, 0.5003906488418579, 0.5115677714347839, 0.43382492661476135, 0.46334853768348694, 0.5140058398246765, 0.4933391511440277, 0.6486097574234009, 0.6466478705406189, 1.110633134841919, 0.5980637073516846, 0.5002492070198059, 0.45221930742263794, 0.4933716654777527, 0.4281165897846222, 0.4055214822292328, 0.39561885595321655, 0.38495904207229614, 0.40100404620170593, 0.37914252281188965, 0.41922542452812195, 0.3593669831752777, 0.3634595274925232, 0.7094481587409973, 0.51520174741745, 0.4556954801082611, 0.4085802733898163, 0.36238327622413635, 0.4909059703350067, 0.42537370324134827, 0.3555988669395447, 0.3576505482196808, 0.36238932609558105, 0.3163354694843292, 0.37932729721069336, 0.3284505307674408, 0.40801167488098145, 0.325613409280777, 0.3686341941356659, 0.352058470249176, 0.30982986092567444, 0.29829585552215576, 0.2994512617588043, 0.3698784410953522, 0.30225682258605957, 0.32103851437568665, 0.3071991801261902, 0.331836074590683, 0.32028087973594666, 0.2935321033000946, 0.3320622742176056, 0.35394230484962463, 0.28224053978919983, 0.3000716269016266, 0.2773483395576477, 0.28111711144447327, 0.28466519713401794, 0.33309438824653625, 0.2587098181247711, 0.273567795753479, 0.26186996698379517, 0.27436161041259766, 0.4461187720298767, 0.29298126697540283, 0.2978481948375702, 0.2627134323120117, 0.339556485414505, 0.26639479398727417, 0.29712241888046265, 0.25510144233703613, 0.30461281538009644, 0.2594733238220215, 0.24045397341251373, 0.26973530650138855, 0.2688724398612976, 0.2449837625026703, 0.24080494046211243, 0.28823548555374146, 0.3115600049495697, 0.24729830026626587, 0.2705698609352112, 0.29141685366630554, 0.24964305758476257, 0.23334646224975586, 0.22473618388175964, 0.27733364701271057, 0.3116319477558136, 0.247490793466568, 0.21777215600013733, 0.29839441180229187, 0.2194041758775711, 0.2240889072418213, 0.2246973216533661, 0.23209021985530853, 0.23663443326950073, 0.24021680653095245, 0.24959547817707062, 0.22498464584350586, 0.21840906143188477, 0.27802354097366333, 0.19496409595012665, 0.2094293236732483, 0.19669553637504578, 0.22267872095108032, 0.1945091187953949, 0.21451051533222198, 0.240888774394989, 0.21376679837703705, 0.301626980304718, 0.2611832320690155, 0.18549157679080963, 0.20709362626075745, 0.17786023020744324, 0.18189027905464172, 0.19662369787693024, 0.1945333182811737, 0.19944292306900024, 0.17053388059139252, 0.1893252581357956, 0.2579987645149231, 0.2320668250322342, 0.1860600709915161, 0.17553919553756714, 0.15762485563755035, 0.14645184576511383, 0.17315718531608582, 0.17904116213321686, 0.19327843189239502, 0.21482835710048676, 0.17030322551727295, 0.18391187489032745, 0.14187510311603546, 0.1807311624288559, 0.17595818638801575, 0.18744996190071106, 0.1788903921842575, 0.15459077060222626, 0.1808304786682129, 0.23898237943649292, 0.20226068794727325, 0.1547277718782425, 0.15197022259235382, 0.1551467776298523, 0.13805657625198364, 0.15002045035362244, 0.13131575286388397, 0.14615659415721893, 0.795421838760376, 0.6986009478569031, 0.40752628445625305, 0.39796024560928345, 0.29628637433052063, 0.269226998090744, 0.2222953885793686, 0.22164742648601532, 0.20913077890872955, 0.2703970968723297, 0.21561434864997864, 0.17552004754543304, 0.173056498169899, 0.16362133622169495, 0.16384562849998474, 0.1698397397994995, 0.1726830154657364, 0.13972944021224976, 0.1291751116514206, 0.17173777520656586, 0.20220541954040527, 0.14471924304962158, 0.11425676941871643, 0.1312449872493744, 0.12431004643440247, 0.13050751388072968, 0.1347561627626419, 0.12809017300605774, 0.14386777579784393, 0.16481152176856995, 0.12141688913106918, 0.10613587498664856, 0.2319076508283615, 0.14902500808238983, 0.3451671004295349, 0.20697146654129028, 0.24563074111938477, 0.13404914736747742, 0.12850910425186157, 0.12774749100208282, 0.1435614824295044, 0.09911397844552994, 0.10785402357578278]\n"
          ]
        }
      ]
    },
    {
      "cell_type": "code",
      "source": [
        "# Évaluer le modèle sur les données de test\n",
        "score = model.evaluate(X_test, y_test)\n",
        "print(\"Test loss:\", score[0])\n",
        "print(\"Test accuracy:\", score[1])"
      ],
      "metadata": {
        "colab": {
          "base_uri": "https://localhost:8080/"
        },
        "id": "UB23EaszAsoh",
        "outputId": "478c0c63-02c6-4d8c-d652-b115a5a2e308"
      },
      "execution_count": 248,
      "outputs": [
        {
          "output_type": "stream",
          "name": "stdout",
          "text": [
            "19/19 [==============================] - 0s 5ms/step - loss: 0.3538 - accuracy: 0.9123\n",
            "Test loss: 0.3537527918815613\n",
            "Test accuracy: 0.9123103022575378\n"
          ]
        }
      ]
    },
    {
      "cell_type": "code",
      "source": [
        "# Afficher les graphes d'accuracy et loss selon l'epoch\n",
        "import matplotlib.pyplot as plt\n",
        "\n",
        "plt.plot(history.history['accuracy'], label='train')\n",
        "plt.plot(history.history['val_accuracy'], label='validation')\n",
        "plt.title('Accuracy')\n",
        "plt.xlabel('Epoch')\n",
        "plt.ylabel('Accuracy')\n",
        "plt.legend()\n",
        "plt.show()\n",
        "\n",
        "plt.plot(history.history['loss'], label='train')\n",
        "plt.plot(history.history['val_loss'], label='validation')\n",
        "plt.title('Loss')\n",
        "plt.xlabel('Epoch')\n",
        "plt.ylabel('Loss')\n",
        "plt.legend()\n",
        "plt.show()"
      ],
      "metadata": {
        "colab": {
          "base_uri": "https://localhost:8080/",
          "height": 573
        },
        "id": "OLB7MP09Asr1",
        "outputId": "68f701ac-7a73-4e86-8a66-aa01ab5b1946"
      },
      "execution_count": 249,
      "outputs": [
        {
          "output_type": "display_data",
          "data": {
            "text/plain": [
              "<Figure size 432x288 with 1 Axes>"
            ],
            "image/png": "[encoded data removed]"
          },
          "metadata": {
            "needs_background": "light"
          }
        },
        {
          "output_type": "display_data",
          "data": {
            "text/plain": [
              "<Figure size 432x288 with 1 Axes>"
            ],
            "image/png": "[encoded data removed]"
          },
          "metadata": {
            "needs_background": "light"
          }
        }
      ]
    },
    {
      "cell_type": "code",
      "source": [
        "from sklearn.metrics import classification_report, confusion_matrix"
      ],
      "metadata": {
        "id": "TNpVT4InOVua"
      },
      "execution_count": 251,
      "outputs": []
    },
    {
      "cell_type": "code",
      "source": [
        "model.save('classification_model_3.h5')"
      ],
      "metadata": {
        "id": "6vFRqlL5hoLE"
      },
      "execution_count": 250,
      "outputs": []
    },
    {
      "cell_type": "code",
      "source": [
        "from tensorflow.keras.models import load_model\n",
        "\n",
        "# Charger le modèle CNN entraîné\n",
        "model = load_model('classification_model_3.h5')"
      ],
      "metadata": {
        "id": "p_FOh9mwYq-k"
      },
      "execution_count": 252,
      "outputs": []
    },
    {
      "cell_type": "code",
      "source": [
        "y_pred = model.predict(X_test,batch_size=32, verbose=0)\n",
        "y_pred = np.argmax(y_pred, axis=1)\n",
        "y_true = np.argmax(y_test, axis=1)"
      ],
      "metadata": {
        "id": "igUADKfiYrCK"
      },
      "execution_count": 253,
      "outputs": []
    },
    {
      "cell_type": "code",
      "source": [
        "cm = confusion_matrix(y_true,y_pred)"
      ],
      "metadata": {
        "id": "BTKS0hgXcfrb"
      },
      "execution_count": 254,
      "outputs": []
    },
    {
      "cell_type": "code",
      "source": [
        "cm"
      ],
      "metadata": {
        "colab": {
          "base_uri": "https://localhost:8080/"
        },
        "id": "GBcKjfB-cSBu",
        "outputId": "961b7549-f1c1-4b96-8746-751116bc07fb"
      },
      "execution_count": 255,
      "outputs": [
        {
          "output_type": "execute_result",
          "data": {
            "text/plain": [
              "array([[103,   9,   8,   3,   0],\n",
              "       [  2, 105,   3,   0,   0],\n",
              "       [  3,   9, 114,   5,   0],\n",
              "       [  0,   0,  10,  98,   0],\n",
              "       [  0,   0,   0,   0, 121]])"
            ]
          },
          "metadata": {},
          "execution_count": 255
        }
      ]
    },
    {
      "cell_type": "code",
      "source": [
        "from sklearn.metrics import confusion_matrix, ConfusionMatrixDisplay\n",
        "disp = ConfusionMatrixDisplay(confusion_matrix=cm)\n",
        "disp.plot()\n",
        "plt.show()"
      ],
      "metadata": {
        "colab": {
          "base_uri": "https://localhost:8080/",
          "height": 282
        },
        "id": "mI4xQ5t-Z2xH",
        "outputId": "0797cc92-57a2-4f85-f783-daf1fba021b7"
      },
      "execution_count": 256,
      "outputs": [
        {
          "output_type": "display_data",
          "data": {
            "text/plain": [
              "<Figure size 432x288 with 2 Axes>"
            ],
            "image/png": "[encoded data removed]"
          },
          "metadata": {
            "needs_background": "light"
          }
        }
      ]
    },
    {
      "cell_type": "code",
      "source": [
        "print (\"Classification Report\")\n",
        "print(classification_report(y_true,y_pred))"
      ],
      "metadata": {
        "colab": {
          "base_uri": "https://localhost:8080/"
        },
        "id": "aqM6U9zoRo72",
        "outputId": "2bf85533-22db-43cd-af86-1f1d0be0a34d"
      },
      "execution_count": 257,
      "outputs": [
        {
          "output_type": "stream",
          "name": "stdout",
          "text": [
            "Classification Report\n",
            "              precision    recall  f1-score   support\n",
            "\n",
            "           0       0.95      0.84      0.89       123\n",
            "           1       0.85      0.95      0.90       110\n",
            "           2       0.84      0.87      0.86       131\n",
            "           3       0.92      0.91      0.92       108\n",
            "           4       1.00      1.00      1.00       121\n",
            "\n",
            "    accuracy                           0.91       593\n",
            "   macro avg       0.92      0.91      0.91       593\n",
            "weighted avg       0.92      0.91      0.91       593\n",
            "\n"
          ]
        }
      ]
    },
    {
      "cell_type": "code",
      "source": [],
      "metadata": {
        "id": "T6WU5KyneCmN"
      },
      "execution_count": null,
      "outputs": []
    }
  ]
}