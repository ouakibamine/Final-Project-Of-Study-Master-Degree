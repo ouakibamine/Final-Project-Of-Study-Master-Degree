{
 "cells": [
  {
   "cell_type": "code",
   "execution_count": 78,
   "metadata": {
    "id": "ioTC26YKAGcS"
   },
   "outputs": [],
   "source": [
    "import os\n",
    "import pandas as pd\n",
    "import numpy as np\n",
    "import matplotlib.pyplot as plt\n",
    "import seaborn as sns\n",
    "from sklearn.impute import SimpleImputer\n",
    "from sklearn.neighbors import LocalOutlierFactor\n",
    "from scipy.stats import probplot\n",
    "from scipy.stats import zscore "
   ]
  },
  {
   "cell_type": "code",
   "execution_count": 79,
   "metadata": {
    "id": "oamhuFeMAQON"
   },
   "outputs": [],
   "source": [
    "df=pd.read_csv(\"water_quality_classifier_mean_state.csv\")"
   ]
  },
  {
   "cell_type": "code",
   "execution_count": 105,
   "metadata": {
    "id": "M8iudlVwATEI"
   },
   "outputs": [],
   "source": [
    "import pandas as pd\n",
    "import numpy as np\n",
    "import tensorflow as tf\n",
    "from sklearn.model_selection import train_test_split\n",
    "from sklearn.preprocessing import LabelEncoder\n",
    "from tensorflow.keras.models import Sequential\n",
    "from tensorflow.keras.layers import Dense, Conv1D, MaxPooling1D, Flatten,Dropout\n",
    "from tensorflow.keras.utils import to_categorical\n",
    "\n",
    "# Charger les données\n",
    "data = df"
   ]
  },
  {
   "cell_type": "code",
   "execution_count": 106,
   "metadata": {
    "id": "jMZgLCUpAYcv"
   },
   "outputs": [],
   "source": [
    "\n",
    "cols_to_drop=[\"WQI clf\"]\n",
    "# Diviser les données en caractéristiques et cibles\n",
    "X =  data.drop(cols_to_drop, axis=1)\n",
    "y = data[\"WQI clf\"].values"
   ]
  },
  {
   "cell_type": "code",
   "execution_count": 107,
   "metadata": {
    "id": "f2Q3xFFMAcPL"
   },
   "outputs": [],
   "source": [
    "# Encoder les labels catégoriels\n",
    "label_encoder = LabelEncoder()\n",
    "y = label_encoder.fit_transform(y)"
   ]
  },
  {
   "cell_type": "code",
   "execution_count": 108,
   "metadata": {
    "colab": {
     "base_uri": "https://localhost:8080/"
    },
    "id": "sMmq3udRA7bP",
    "outputId": "eab2ed1c-fd70-44e6-e72d-854d30deeb30"
   },
   "outputs": [
    {
     "name": "stdout",
     "output_type": "stream",
     "text": [
      "Balancing the data by SMOTE - Oversampling of Minority level\n",
      "\n",
      "Before SMOTE Counter({2: 593, 0: 479, 1: 308, 3: 284, 4: 15})\n",
      "\n",
      "After SMOTE Counter({0: 593, 1: 593, 2: 593, 3: 593, 4: 593})\n"
     ]
    }
   ],
   "source": [
    "from imblearn.over_sampling import SMOTE\n",
    "from collections import Counter\n",
    "print('Balancing the data by SMOTE - Oversampling of Minority level\\n')\n",
    "smt = SMOTE()\n",
    "counter = Counter(y)\n",
    "print('Before SMOTE', counter)\n",
    "X,y = smt.fit_resample(X,y)\n",
    "counter = Counter(y)\n",
    "print('\\nAfter SMOTE', counter)"
   ]
  },
  {
   "cell_type": "code",
   "execution_count": 109,
   "metadata": {
    "id": "S8LGa3hJAfRs"
   },
   "outputs": [],
   "source": [
    "# Diviser les données en ensembles d'entraînement et de test\n",
    "X_train, X_test, y_train, y_test = train_test_split(X, y, test_size=0.2, random_state=42)"
   ]
  },
  {
   "cell_type": "code",
   "execution_count": 110,
   "metadata": {
    "id": "YUOyqx93AicJ"
   },
   "outputs": [],
   "source": [
    "# Redimensionner les données pour les convolutions 1D\n",
    "X_train = X_train.values.reshape(X_train.shape[0], X_train.shape[1], 1)\n",
    "X_test = X_test.values.reshape(X_test.shape[0], X_test.shape[1], 1)"
   ]
  },
  {
   "cell_type": "code",
   "execution_count": 111,
   "metadata": {
    "id": "-k5nTj77Amrg"
   },
   "outputs": [],
   "source": [
    "# Convertir les labels en one-hot encoding\n",
    "y_train = to_categorical(y_train)\n",
    "y_test = to_categorical(y_test)\n",
    "\n",
    "# Créer le modèle CNN\n",
    "model = Sequential()\n",
    "model.add(Conv1D(filters=32, kernel_size=2, activation='relu', input_shape=(X_train.shape[1], 1)))\n",
    "model.add(MaxPooling1D(pool_size=1))\n",
    "model.add(Conv1D(filters=64, kernel_size=2, activation='relu'))\n",
    "model.add(MaxPooling1D(pool_size=1))\n",
    "model.add(Conv1D(filters=128, kernel_size=2, activation='relu'))\n",
    "model.add(MaxPooling1D(pool_size=1))\n",
    "model.add(Conv1D(filters=256, kernel_size=2, activation='relu'))\n",
    "model.add(MaxPooling1D(pool_size=1))\n",
    "model.add(Flatten())\n",
    "model.add(Dense(units=256, activation='relu'))\n",
    "model.add(Dropout(0.2))\n",
    "model.add(Dense(y_train.shape[1], activation=\"softmax\"))\n",
    "\n",
    "# Compiler le modèle\n",
    "model.compile(loss=\"categorical_crossentropy\", optimizer=\"adam\", metrics=[\"accuracy\"])"
   ]
  },
  {
   "cell_type": "code",
   "execution_count": 112,
   "metadata": {
    "colab": {
     "base_uri": "https://localhost:8080/"
    },
    "id": "WfOC2OtDAslL",
    "outputId": "4e78e70a-969f-4a24-f424-3ebaadf48121"
   },
   "outputs": [
    {
     "name": "stdout",
     "output_type": "stream",
     "text": [
      "Epoch 1/100\n",
      "38/38 [==============================] - 2s 20ms/step - loss: 29.8107 - accuracy: 0.2605 - val_loss: 3.9627 - val_accuracy: 0.2901\n",
      "Epoch 2/100\n",
      "38/38 [==============================] - 1s 14ms/step - loss: 5.7526 - accuracy: 0.2605 - val_loss: 3.8313 - val_accuracy: 0.2766\n",
      "Epoch 3/100\n",
      "38/38 [==============================] - 1s 14ms/step - loss: 2.9828 - accuracy: 0.3035 - val_loss: 3.6552 - val_accuracy: 0.2563\n",
      "Epoch 4/100\n",
      "38/38 [==============================] - 1s 14ms/step - loss: 3.1929 - accuracy: 0.3069 - val_loss: 3.9907 - val_accuracy: 0.3339\n",
      "Epoch 5/100\n",
      "38/38 [==============================] - 1s 14ms/step - loss: 2.3871 - accuracy: 0.3529 - val_loss: 1.9249 - val_accuracy: 0.3423\n",
      "Epoch 6/100\n",
      "38/38 [==============================] - 1s 14ms/step - loss: 2.4402 - accuracy: 0.3554 - val_loss: 1.8325 - val_accuracy: 0.3659\n",
      "Epoch 7/100\n",
      "38/38 [==============================] - 0s 13ms/step - loss: 1.6948 - accuracy: 0.4026 - val_loss: 1.5798 - val_accuracy: 0.3879\n",
      "Epoch 8/100\n",
      "38/38 [==============================] - 1s 13ms/step - loss: 1.4111 - accuracy: 0.4384 - val_loss: 1.3059 - val_accuracy: 0.4637\n",
      "Epoch 9/100\n",
      "38/38 [==============================] - 0s 13ms/step - loss: 1.2207 - accuracy: 0.4996 - val_loss: 1.2345 - val_accuracy: 0.5093\n",
      "Epoch 10/100\n",
      "38/38 [==============================] - 1s 14ms/step - loss: 1.1429 - accuracy: 0.5211 - val_loss: 1.2072 - val_accuracy: 0.4266\n",
      "Epoch 11/100\n",
      "38/38 [==============================] - 0s 13ms/step - loss: 1.0774 - accuracy: 0.5413 - val_loss: 1.3372 - val_accuracy: 0.4469\n",
      "Epoch 12/100\n",
      "38/38 [==============================] - 1s 14ms/step - loss: 1.0590 - accuracy: 0.5468 - val_loss: 1.1038 - val_accuracy: 0.4992\n",
      "Epoch 13/100\n",
      "38/38 [==============================] - 0s 13ms/step - loss: 1.0234 - accuracy: 0.5818 - val_loss: 1.4813 - val_accuracy: 0.4924\n",
      "Epoch 14/100\n",
      "38/38 [==============================] - 0s 13ms/step - loss: 1.3399 - accuracy: 0.5240 - val_loss: 1.4585 - val_accuracy: 0.5548\n",
      "Epoch 15/100\n",
      "38/38 [==============================] - 1s 13ms/step - loss: 1.0759 - accuracy: 0.5814 - val_loss: 1.1589 - val_accuracy: 0.5818\n",
      "Epoch 16/100\n",
      "38/38 [==============================] - 1s 19ms/step - loss: 1.0120 - accuracy: 0.6083 - val_loss: 1.2410 - val_accuracy: 0.5599\n",
      "Epoch 17/100\n",
      "38/38 [==============================] - 1s 22ms/step - loss: 0.9739 - accuracy: 0.6176 - val_loss: 1.1678 - val_accuracy: 0.4553\n",
      "Epoch 18/100\n",
      "38/38 [==============================] - 1s 20ms/step - loss: 0.9265 - accuracy: 0.6303 - val_loss: 0.9693 - val_accuracy: 0.6543\n",
      "Epoch 19/100\n",
      "38/38 [==============================] - 1s 21ms/step - loss: 0.8778 - accuracy: 0.6640 - val_loss: 1.0282 - val_accuracy: 0.5261\n",
      "Epoch 20/100\n",
      "38/38 [==============================] - 1s 15ms/step - loss: 0.9707 - accuracy: 0.6450 - val_loss: 1.1106 - val_accuracy: 0.6088\n",
      "Epoch 21/100\n",
      "38/38 [==============================] - 1s 15ms/step - loss: 0.9260 - accuracy: 0.6358 - val_loss: 0.9668 - val_accuracy: 0.6543\n",
      "Epoch 22/100\n",
      "38/38 [==============================] - 1s 14ms/step - loss: 0.8641 - accuracy: 0.6653 - val_loss: 0.9088 - val_accuracy: 0.6796\n",
      "Epoch 23/100\n",
      "38/38 [==============================] - 1s 14ms/step - loss: 0.8132 - accuracy: 0.6855 - val_loss: 0.8888 - val_accuracy: 0.6847\n",
      "Epoch 24/100\n",
      "38/38 [==============================] - 1s 14ms/step - loss: 0.7797 - accuracy: 0.6960 - val_loss: 0.8379 - val_accuracy: 0.7386\n",
      "Epoch 25/100\n",
      "38/38 [==============================] - 1s 15ms/step - loss: 0.7682 - accuracy: 0.7255 - val_loss: 0.8349 - val_accuracy: 0.7099\n",
      "Epoch 26/100\n",
      "38/38 [==============================] - 1s 13ms/step - loss: 0.7713 - accuracy: 0.7125 - val_loss: 0.7957 - val_accuracy: 0.7470\n",
      "Epoch 27/100\n",
      "38/38 [==============================] - 1s 15ms/step - loss: 1.0526 - accuracy: 0.5915 - val_loss: 1.0767 - val_accuracy: 0.5953\n",
      "Epoch 28/100\n",
      "38/38 [==============================] - 1s 15ms/step - loss: 0.8516 - accuracy: 0.6665 - val_loss: 0.9630 - val_accuracy: 0.5666\n",
      "Epoch 29/100\n",
      "38/38 [==============================] - 1s 14ms/step - loss: 0.7826 - accuracy: 0.7057 - val_loss: 0.8474 - val_accuracy: 0.6745\n",
      "Epoch 30/100\n",
      "38/38 [==============================] - 0s 13ms/step - loss: 0.7551 - accuracy: 0.7095 - val_loss: 0.8383 - val_accuracy: 0.6965\n",
      "Epoch 31/100\n",
      "38/38 [==============================] - 1s 14ms/step - loss: 0.7055 - accuracy: 0.7348 - val_loss: 0.7480 - val_accuracy: 0.7386\n",
      "Epoch 32/100\n",
      "38/38 [==============================] - 1s 14ms/step - loss: 0.6972 - accuracy: 0.7390 - val_loss: 0.7658 - val_accuracy: 0.7268\n",
      "Epoch 33/100\n",
      "38/38 [==============================] - 0s 13ms/step - loss: 0.6687 - accuracy: 0.7572 - val_loss: 0.9681 - val_accuracy: 0.7234\n",
      "Epoch 34/100\n",
      "38/38 [==============================] - 1s 14ms/step - loss: 0.7023 - accuracy: 0.7361 - val_loss: 0.7764 - val_accuracy: 0.7336\n",
      "Epoch 35/100\n",
      "38/38 [==============================] - 1s 14ms/step - loss: 0.7138 - accuracy: 0.7272 - val_loss: 0.8598 - val_accuracy: 0.7049\n",
      "Epoch 36/100\n",
      "38/38 [==============================] - 1s 13ms/step - loss: 0.6669 - accuracy: 0.7584 - val_loss: 0.7881 - val_accuracy: 0.7049\n",
      "Epoch 37/100\n",
      "38/38 [==============================] - 1s 14ms/step - loss: 0.6416 - accuracy: 0.7614 - val_loss: 0.6997 - val_accuracy: 0.7690\n",
      "Epoch 38/100\n",
      "38/38 [==============================] - 1s 20ms/step - loss: 0.6554 - accuracy: 0.7601 - val_loss: 0.6974 - val_accuracy: 0.7538\n",
      "Epoch 39/100\n",
      "38/38 [==============================] - 1s 20ms/step - loss: 0.6328 - accuracy: 0.7656 - val_loss: 0.7045 - val_accuracy: 0.7470\n",
      "Epoch 40/100\n",
      "38/38 [==============================] - 1s 22ms/step - loss: 0.6087 - accuracy: 0.7896 - val_loss: 0.6667 - val_accuracy: 0.7757\n",
      "Epoch 41/100\n",
      "38/38 [==============================] - 1s 19ms/step - loss: 0.6234 - accuracy: 0.7702 - val_loss: 0.6235 - val_accuracy: 0.7841\n",
      "Epoch 42/100\n",
      "38/38 [==============================] - 1s 14ms/step - loss: 0.6033 - accuracy: 0.7875 - val_loss: 0.6915 - val_accuracy: 0.7572\n",
      "Epoch 43/100\n",
      "38/38 [==============================] - 1s 14ms/step - loss: 0.6080 - accuracy: 0.7795 - val_loss: 0.6306 - val_accuracy: 0.7757\n",
      "Epoch 44/100\n",
      "38/38 [==============================] - 0s 13ms/step - loss: 0.5634 - accuracy: 0.7867 - val_loss: 0.6206 - val_accuracy: 0.7943\n",
      "Epoch 45/100\n",
      "38/38 [==============================] - 1s 13ms/step - loss: 0.6293 - accuracy: 0.7559 - val_loss: 0.7745 - val_accuracy: 0.7116\n",
      "Epoch 46/100\n",
      "38/38 [==============================] - 0s 13ms/step - loss: 0.5971 - accuracy: 0.7871 - val_loss: 0.6576 - val_accuracy: 0.7808\n",
      "Epoch 47/100\n",
      "38/38 [==============================] - 1s 14ms/step - loss: 0.5825 - accuracy: 0.7875 - val_loss: 0.6215 - val_accuracy: 0.7791\n",
      "Epoch 48/100\n",
      "38/38 [==============================] - 0s 12ms/step - loss: 0.5705 - accuracy: 0.7989 - val_loss: 0.6400 - val_accuracy: 0.7858\n",
      "Epoch 49/100\n",
      "38/38 [==============================] - 0s 13ms/step - loss: 0.5712 - accuracy: 0.7960 - val_loss: 0.9042 - val_accuracy: 0.6931\n",
      "Epoch 50/100\n",
      "38/38 [==============================] - 0s 13ms/step - loss: 0.6081 - accuracy: 0.7829 - val_loss: 0.7153 - val_accuracy: 0.7369\n",
      "Epoch 51/100\n",
      "38/38 [==============================] - 1s 14ms/step - loss: 0.5556 - accuracy: 0.8002 - val_loss: 0.7165 - val_accuracy: 0.7369\n",
      "Epoch 52/100\n",
      "38/38 [==============================] - 0s 13ms/step - loss: 0.5932 - accuracy: 0.7782 - val_loss: 0.6382 - val_accuracy: 0.7808\n",
      "Epoch 53/100\n",
      "38/38 [==============================] - 1s 14ms/step - loss: 0.5468 - accuracy: 0.7951 - val_loss: 0.7512 - val_accuracy: 0.7521\n",
      "Epoch 54/100\n",
      "38/38 [==============================] - 1s 13ms/step - loss: 0.9462 - accuracy: 0.6197 - val_loss: 0.8782 - val_accuracy: 0.7470\n",
      "Epoch 55/100\n",
      "38/38 [==============================] - 0s 13ms/step - loss: 0.7628 - accuracy: 0.7268 - val_loss: 0.6761 - val_accuracy: 0.7487\n",
      "Epoch 56/100\n",
      "38/38 [==============================] - 0s 13ms/step - loss: 0.5835 - accuracy: 0.7799 - val_loss: 0.7334 - val_accuracy: 0.7369\n",
      "Epoch 57/100\n",
      "38/38 [==============================] - 1s 14ms/step - loss: 0.6637 - accuracy: 0.7496 - val_loss: 0.6985 - val_accuracy: 0.7369\n",
      "Epoch 58/100\n",
      "38/38 [==============================] - 1s 13ms/step - loss: 0.5901 - accuracy: 0.7702 - val_loss: 0.6279 - val_accuracy: 0.7437\n",
      "Epoch 59/100\n",
      "38/38 [==============================] - 1s 14ms/step - loss: 0.5460 - accuracy: 0.7938 - val_loss: 0.5783 - val_accuracy: 0.7487\n",
      "Epoch 60/100\n",
      "38/38 [==============================] - 0s 13ms/step - loss: 0.5612 - accuracy: 0.7976 - val_loss: 0.6952 - val_accuracy: 0.7841\n",
      "Epoch 61/100\n",
      "38/38 [==============================] - 1s 21ms/step - loss: 0.5354 - accuracy: 0.7955 - val_loss: 0.6026 - val_accuracy: 0.7740\n",
      "Epoch 62/100\n",
      "38/38 [==============================] - 1s 22ms/step - loss: 0.5536 - accuracy: 0.7993 - val_loss: 0.6304 - val_accuracy: 0.7943\n",
      "Epoch 63/100\n",
      "38/38 [==============================] - 1s 22ms/step - loss: 0.5291 - accuracy: 0.8086 - val_loss: 0.8268 - val_accuracy: 0.6948\n",
      "Epoch 64/100\n",
      "38/38 [==============================] - 1s 15ms/step - loss: 0.6899 - accuracy: 0.7365 - val_loss: 0.7513 - val_accuracy: 0.7150\n",
      "Epoch 65/100\n",
      "38/38 [==============================] - 1s 14ms/step - loss: 0.5475 - accuracy: 0.7985 - val_loss: 0.6228 - val_accuracy: 0.7690\n",
      "Epoch 66/100\n",
      "38/38 [==============================] - 1s 14ms/step - loss: 0.5957 - accuracy: 0.7707 - val_loss: 0.5641 - val_accuracy: 0.8027\n",
      "Epoch 67/100\n",
      "38/38 [==============================] - 0s 13ms/step - loss: 0.6254 - accuracy: 0.7631 - val_loss: 0.8662 - val_accuracy: 0.6998\n",
      "Epoch 68/100\n",
      "38/38 [==============================] - 0s 13ms/step - loss: 0.6393 - accuracy: 0.7563 - val_loss: 0.6510 - val_accuracy: 0.7707\n",
      "Epoch 69/100\n",
      "38/38 [==============================] - 1s 14ms/step - loss: 0.5075 - accuracy: 0.8099 - val_loss: 0.5580 - val_accuracy: 0.8044\n",
      "Epoch 70/100\n",
      "38/38 [==============================] - 1s 13ms/step - loss: 0.4973 - accuracy: 0.8149 - val_loss: 0.6757 - val_accuracy: 0.7555\n",
      "Epoch 71/100\n",
      "38/38 [==============================] - 1s 13ms/step - loss: 0.5071 - accuracy: 0.8166 - val_loss: 0.5766 - val_accuracy: 0.7875\n",
      "Epoch 72/100\n",
      "38/38 [==============================] - 1s 13ms/step - loss: 0.4818 - accuracy: 0.8162 - val_loss: 0.5485 - val_accuracy: 0.8111\n",
      "Epoch 73/100\n",
      "38/38 [==============================] - 0s 13ms/step - loss: 0.4716 - accuracy: 0.8263 - val_loss: 0.5872 - val_accuracy: 0.7808\n",
      "Epoch 74/100\n",
      "38/38 [==============================] - 1s 13ms/step - loss: 0.4930 - accuracy: 0.8242 - val_loss: 0.5704 - val_accuracy: 0.7858\n",
      "Epoch 75/100\n",
      "38/38 [==============================] - 1s 14ms/step - loss: 0.4851 - accuracy: 0.8124 - val_loss: 0.6138 - val_accuracy: 0.7740\n",
      "Epoch 76/100\n",
      "38/38 [==============================] - 0s 13ms/step - loss: 0.4595 - accuracy: 0.8309 - val_loss: 0.5149 - val_accuracy: 0.8162\n",
      "Epoch 77/100\n",
      "38/38 [==============================] - 1s 15ms/step - loss: 0.4904 - accuracy: 0.8141 - val_loss: 0.5965 - val_accuracy: 0.7521\n",
      "Epoch 78/100\n",
      "38/38 [==============================] - 0s 13ms/step - loss: 0.4771 - accuracy: 0.8200 - val_loss: 0.5188 - val_accuracy: 0.8246\n",
      "Epoch 79/100\n",
      "38/38 [==============================] - 1s 14ms/step - loss: 0.4996 - accuracy: 0.8107 - val_loss: 0.5297 - val_accuracy: 0.8162\n",
      "Epoch 80/100\n",
      "38/38 [==============================] - 1s 14ms/step - loss: 0.4564 - accuracy: 0.8356 - val_loss: 0.5683 - val_accuracy: 0.7976\n",
      "Epoch 81/100\n",
      "38/38 [==============================] - 1s 13ms/step - loss: 0.4911 - accuracy: 0.8170 - val_loss: 0.5345 - val_accuracy: 0.8078\n",
      "Epoch 82/100\n",
      "38/38 [==============================] - 1s 13ms/step - loss: 0.4439 - accuracy: 0.8402 - val_loss: 0.6422 - val_accuracy: 0.8027\n",
      "Epoch 83/100\n",
      "38/38 [==============================] - 1s 17ms/step - loss: 0.4640 - accuracy: 0.8238 - val_loss: 0.7809 - val_accuracy: 0.7201\n",
      "Epoch 84/100\n",
      "38/38 [==============================] - 1s 21ms/step - loss: 0.4484 - accuracy: 0.8284 - val_loss: 0.4928 - val_accuracy: 0.8179\n",
      "Epoch 85/100\n",
      "38/38 [==============================] - 1s 21ms/step - loss: 0.4307 - accuracy: 0.8339 - val_loss: 0.9401 - val_accuracy: 0.7201\n",
      "Epoch 86/100\n",
      "38/38 [==============================] - 1s 22ms/step - loss: 0.4694 - accuracy: 0.8217 - val_loss: 0.4910 - val_accuracy: 0.8196\n",
      "Epoch 87/100\n",
      "38/38 [==============================] - 1s 14ms/step - loss: 0.4104 - accuracy: 0.8335 - val_loss: 0.4860 - val_accuracy: 0.8179\n",
      "Epoch 88/100\n",
      "38/38 [==============================] - 1s 14ms/step - loss: 0.4189 - accuracy: 0.8347 - val_loss: 0.7376 - val_accuracy: 0.7673\n",
      "Epoch 89/100\n",
      "38/38 [==============================] - 0s 13ms/step - loss: 0.5998 - accuracy: 0.7702 - val_loss: 0.6564 - val_accuracy: 0.7437\n",
      "Epoch 90/100\n",
      "38/38 [==============================] - 0s 13ms/step - loss: 0.4276 - accuracy: 0.8297 - val_loss: 0.5282 - val_accuracy: 0.8061\n",
      "Epoch 91/100\n",
      "38/38 [==============================] - 1s 14ms/step - loss: 0.4026 - accuracy: 0.8352 - val_loss: 0.7285 - val_accuracy: 0.7167\n",
      "Epoch 92/100\n",
      "38/38 [==============================] - 1s 14ms/step - loss: 0.4041 - accuracy: 0.8381 - val_loss: 0.4487 - val_accuracy: 0.8111\n",
      "Epoch 93/100\n",
      "38/38 [==============================] - 1s 14ms/step - loss: 0.4286 - accuracy: 0.8234 - val_loss: 0.4682 - val_accuracy: 0.8128\n",
      "Epoch 94/100\n",
      "38/38 [==============================] - 1s 15ms/step - loss: 0.4255 - accuracy: 0.8301 - val_loss: 0.5211 - val_accuracy: 0.7858\n",
      "Epoch 95/100\n",
      "38/38 [==============================] - 1s 13ms/step - loss: 0.4118 - accuracy: 0.8305 - val_loss: 0.5470 - val_accuracy: 0.7943\n",
      "Epoch 96/100\n",
      "38/38 [==============================] - 0s 13ms/step - loss: 0.3677 - accuracy: 0.8487 - val_loss: 0.4292 - val_accuracy: 0.8381\n",
      "Epoch 97/100\n",
      "38/38 [==============================] - 1s 15ms/step - loss: 0.3643 - accuracy: 0.8520 - val_loss: 0.4333 - val_accuracy: 0.8449\n",
      "Epoch 98/100\n",
      "38/38 [==============================] - 1s 14ms/step - loss: 0.3944 - accuracy: 0.8385 - val_loss: 0.6343 - val_accuracy: 0.7605\n",
      "Epoch 99/100\n",
      "38/38 [==============================] - 0s 13ms/step - loss: 0.5224 - accuracy: 0.7837 - val_loss: 0.5639 - val_accuracy: 0.7993\n",
      "Epoch 100/100\n",
      "38/38 [==============================] - 0s 13ms/step - loss: 0.3739 - accuracy: 0.8520 - val_loss: 0.4761 - val_accuracy: 0.8128\n",
      "[0.26053962111473083, 0.26053962111473083, 0.30354130268096924, 0.30691400170326233, 0.3528667688369751, 0.3553963005542755, 0.4026138186454773, 0.43844857811927795, 0.49957841634750366, 0.5210792422294617, 0.5413153171539307, 0.5467959642410278, 0.5817875266075134, 0.524030327796936, 0.5813659429550171, 0.6083474159240723, 0.6176222562789917, 0.6302698254585266, 0.6639966368675232, 0.6450253129005432, 0.635750412940979, 0.6652613878250122, 0.6854974627494812, 0.6960371136665344, 0.7255480885505676, 0.7124789357185364, 0.5914839506149292, 0.6665261387825012, 0.7057335376739502, 0.709527850151062, 0.7348229289054871, 0.7390387654304504, 0.7571669220924377, 0.7360876798629761, 0.727234423160553, 0.7584317326545715, 0.7613828182220459, 0.7601180672645569, 0.7655986547470093, 0.7896289825439453, 0.770236074924469, 0.7875210642814636, 0.7795109748840332, 0.786677896976471, 0.7559021711349487, 0.7870994806289673, 0.7875210642814636, 0.7989038825035095, 0.7959527969360352, 0.7828836441040039, 0.8001686334609985, 0.7782462239265442, 0.7951096296310425, 0.6197301745414734, 0.7268128395080566, 0.7799325585365295, 0.7495784163475037, 0.770236074924469, 0.7938448786735535, 0.7976391315460205, 0.7955312132835388, 0.7993254661560059, 0.8086003661155701, 0.7365092635154724, 0.7984822988510132, 0.7706576585769653, 0.7630691528320312, 0.7563237547874451, 0.8098651170730591, 0.8149241209030151, 0.8166104555130005, 0.8161888718605042, 0.826306939125061, 0.8241989612579346, 0.8123946189880371, 0.8309443593025208, 0.8140809535980225, 0.8199831247329712, 0.8107082843780518, 0.8355817794799805, 0.8170320391654968, 0.8402191996574402, 0.8237773776054382, 0.8284148573875427, 0.8338954448699951, 0.8216694593429565, 0.8334738612174988, 0.8347386121749878, 0.770236074924469, 0.8296796083450317, 0.8351601958274841, 0.8381112813949585, 0.8233557939529419, 0.8301011919975281, 0.8305227756500244, 0.8486509323120117, 0.8520236015319824, 0.8385328650474548, 0.7837268114089966, 0.8520236015319824]\n",
      "[29.810697555541992, 5.7525954246521, 2.982781171798706, 3.1928513050079346, 2.3870997428894043, 2.440173387527466, 1.6948412656784058, 1.411054015159607, 1.2206751108169556, 1.1429028511047363, 1.0774427652359009, 1.0590417385101318, 1.0234239101409912, 1.3398972749710083, 1.075875997543335, 1.0119506120681763, 0.9739446043968201, 0.9265440106391907, 0.8778086304664612, 0.9707401990890503, 0.9259790778160095, 0.864142656326294, 0.8131921291351318, 0.7797156572341919, 0.7682418823242188, 0.771344780921936, 1.0525554418563843, 0.8515572547912598, 0.7826016545295715, 0.7550700902938843, 0.7055473327636719, 0.6971561312675476, 0.6687489151954651, 0.7023227214813232, 0.7137695550918579, 0.6668970584869385, 0.6416292786598206, 0.6553572416305542, 0.6328350901603699, 0.6087305545806885, 0.6234322190284729, 0.603323221206665, 0.608020544052124, 0.5633925199508667, 0.6293070316314697, 0.5970561504364014, 0.5824899077415466, 0.5704781413078308, 0.5711751580238342, 0.6080682277679443, 0.5556026101112366, 0.5932426452636719, 0.5468292236328125, 0.9461689591407776, 0.7627941370010376, 0.5834998488426208, 0.6637378334999084, 0.5900965929031372, 0.5459968447685242, 0.5611985325813293, 0.5353947877883911, 0.5535501837730408, 0.5291181206703186, 0.6898728013038635, 0.5474676489830017, 0.5957260131835938, 0.6253581047058105, 0.6392776966094971, 0.507478654384613, 0.4973207414150238, 0.5071245431900024, 0.4817826449871063, 0.4715622067451477, 0.4930192828178406, 0.48507753014564514, 0.45950081944465637, 0.49035319685935974, 0.47706368565559387, 0.49957960844039917, 0.45643916726112366, 0.4910552203655243, 0.44393324851989746, 0.4639953374862671, 0.44838401675224304, 0.43068721890449524, 0.46937352418899536, 0.41041284799575806, 0.41892126202583313, 0.5997806191444397, 0.42764779925346375, 0.4025745987892151, 0.4040791392326355, 0.42863255739212036, 0.4255293011665344, 0.41183897852897644, 0.3677235245704651, 0.3642648160457611, 0.3943859934806824, 0.5223783850669861, 0.3738505244255066]\n"
     ]
    }
   ],
   "source": [
    "# Entraîner le modèle\n",
    "history = model.fit(X_train, y_train, validation_data=(X_test, y_test), epochs=100, batch_size=64)\n",
    "print(history.history['accuracy'])\n",
    "print(history.history['loss'])"
   ]
  },
  {
   "cell_type": "code",
   "execution_count": 113,
   "metadata": {
    "colab": {
     "base_uri": "https://localhost:8080/"
    },
    "id": "UB23EaszAsoh",
    "outputId": "ec5ee5d5-a6a1-4e7d-cb83-e3cafcc0a6d8"
   },
   "outputs": [
    {
     "name": "stdout",
     "output_type": "stream",
     "text": [
      "19/19 [==============================] - 0s 5ms/step - loss: 0.4761 - accuracy: 0.8128\n",
      "Test loss: 0.476144015789032\n",
      "Test accuracy: 0.8128162026405334\n"
     ]
    }
   ],
   "source": [
    "# Évaluer le modèle sur les données de test\n",
    "score = model.evaluate(X_test, y_test)\n",
    "print(\"Test loss:\", score[0])\n",
    "print(\"Test accuracy:\", score[1])"
   ]
  },
  {
   "cell_type": "code",
   "execution_count": 114,
   "metadata": {
    "colab": {
     "base_uri": "https://localhost:8080/",
     "height": 573
    },
    "id": "OLB7MP09Asr1",
    "outputId": "637a433b-ae28-4455-b0ea-4c45e40900c7"
   },
   "outputs": [
    {
     "data": {
      "image/png": "[encoded data removed]",
      "text/plain": [
       "<Figure size 432x288 with 1 Axes>"
      ]
     },
     "metadata": {
      "needs_background": "light"
     },
     "output_type": "display_data"
    },
    {
     "data": {
      "image/png": "[encoded data removed]",
      "text/plain": [
       "<Figure size 432x288 with 1 Axes>"
      ]
     },
     "metadata": {
      "needs_background": "light"
     },
     "output_type": "display_data"
    }
   ],
   "source": [
    "# Afficher les graphes d'accuracy et loss selon l'epoch\n",
    "import matplotlib.pyplot as plt\n",
    "\n",
    "plt.plot(history.history['accuracy'], label='train')\n",
    "plt.plot(history.history['val_accuracy'], label='validation')\n",
    "plt.title('Accuracy')\n",
    "plt.xlabel('Epoch')\n",
    "plt.ylabel('Accuracy')\n",
    "plt.legend()\n",
    "plt.show()\n",
    "\n",
    "plt.plot(history.history['loss'], label='train')\n",
    "plt.plot(history.history['val_loss'], label='validation')\n",
    "plt.title('Loss')\n",
    "plt.xlabel('Epoch')\n",
    "plt.ylabel('Loss')\n",
    "plt.legend()\n",
    "plt.show()"
   ]
  },
  {
   "cell_type": "code",
   "execution_count": null,
   "metadata": {
    "id": "5672DeVuAsvF"
   },
   "outputs": [],
   "source": []
  }
 ],
 "metadata": {
  "colab": {
   "provenance": []
  },
  "kernelspec": {
   "display_name": "Python 3",
   "language": "python",
   "name": "python3"
  },
  "language_info": {
   "codemirror_mode": {
    "name": "ipython",
    "version": 3
   },
   "file_extension": ".py",
   "mimetype": "text/x-python",
   "name": "python",
   "nbconvert_exporter": "python",
   "pygments_lexer": "ipython3",
   "version": "3.8.8"
  }
 },
 "nbformat": 4,
 "nbformat_minor": 1
}
